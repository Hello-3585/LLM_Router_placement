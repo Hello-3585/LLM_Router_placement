{
 "cells": [
  {
   "cell_type": "code",
   "execution_count": 2,
   "metadata": {
    "_cell_guid": "b1076dfc-b9ad-4769-8c92-a6c4dae69d19",
    "_uuid": "8f2839f25d086af736a60e9eeb907d3b93b6e0e5",
    "execution": {
     "iopub.execute_input": "2024-11-22T13:47:39.380805Z",
     "iopub.status.busy": "2024-11-22T13:47:39.379720Z",
     "iopub.status.idle": "2024-11-22T13:47:39.708300Z",
     "shell.execute_reply": "2024-11-22T13:47:39.707388Z",
     "shell.execute_reply.started": "2024-11-22T13:47:39.380745Z"
    },
    "trusted": true
   },
   "outputs": [
    {
     "name": "stdout",
     "output_type": "stream",
     "text": [
      "/kaggle/input/router-placement-llm/Defaults.txt\n",
      "/kaggle/input/router-placement-llm/Information.txt\n",
      "/kaggle/input/router-placement-llm/Environment/Office.txt\n",
      "/kaggle/input/router-placement-llm/Environment/Banquet.txt\n",
      "/kaggle/input/router-placement-llm/Environment/House.txt\n",
      "/kaggle/input/router-placement-llm/Environment/Warehouse.txt\n",
      "/kaggle/input/router-placement-llm/Environment/Hospital.txt\n",
      "/kaggle/input/router-placement-llm/Dataset_json/Parsed_User_Requests_KHM.json\n",
      "/kaggle/input/router-placement-llm/Dataset_json/Parsed_User_Requests_KM.json\n",
      "/kaggle/input/router-placement-llm/Dataset_json/Parsed_User_Requests_WKHM.json\n",
      "/kaggle/input/router-placement-llm/Dataset_json/Parsed_User_Requests_KC.json\n",
      "/kaggle/input/router-placement-llm/Dataset_json/Parsed_User_Requests_CKM.json\n",
      "/kaggle/input/router-placement-llm/Routers/Nokia-7750.txt\n",
      "/kaggle/input/router-placement-llm/Routers/Cisco-XR-1234.txt\n",
      "/kaggle/input/router-placement-llm/Routers/Huawei-NE-40.txt\n",
      "/kaggle/input/router-placement-llm/Routers/Juniper-MX-240.txt\n",
      "/kaggle/input/router-placement-llm/Routers/Cisco-ASR-900.txt\n"
     ]
    }
   ],
   "source": [
    "import numpy as np # linear algebra\n",
    "import pandas as pd # data processing, CSV file I/O (e.g. pd.read_csv)y\n",
    "import random\n",
    "import json\n",
    "import os\n",
    "for dirname, _, filenames in os.walk('/kaggle/input'):\n",
    "    for filename in filenames:\n",
    "        print(os.path.join(dirname, filename))"
   ]
  },
  {
   "cell_type": "code",
   "execution_count": 3,
   "metadata": {
    "execution": {
     "iopub.execute_input": "2024-11-22T13:47:39.710854Z",
     "iopub.status.busy": "2024-11-22T13:47:39.710084Z",
     "iopub.status.idle": "2024-11-22T13:47:39.741622Z",
     "shell.execute_reply": "2024-11-22T13:47:39.740604Z",
     "shell.execute_reply.started": "2024-11-22T13:47:39.710806Z"
    },
    "trusted": true
   },
   "outputs": [],
   "source": [
    "\n",
    "# Path to the Dataset_json folder in the Kaggle dataset\n",
    "dataset_json_path = \"/kaggle/input/router-placement-llm/Dataset_json\"\n",
    "dataset_list = []\n",
    "\n",
    "# Iterate through files in the Dataset_json folder\n",
    "for file_name in os.listdir(dataset_json_path):\n",
    "    file_path = os.path.join(dataset_json_path, file_name)\n",
    "    \n",
    "    # Check if the file is a JSON file\n",
    "    if file_name.endswith(\".json\"):\n",
    "        try:\n",
    "            # Read and load JSON content\n",
    "            with open(file_path, 'r') as file:\n",
    "                data = json.load(file)\n",
    "                dataset_list.append(data)\n",
    "        except Exception as e:\n",
    "            print(f\"Error reading {file_name}: {e}\")\n",
    "\n",
    "# # Print the list or process it further\n",
    "# print(dataset_list)\n"
   ]
  },
  {
   "cell_type": "code",
   "execution_count": 4,
   "metadata": {
    "execution": {
     "iopub.execute_input": "2024-11-22T13:47:39.743065Z",
     "iopub.status.busy": "2024-11-22T13:47:39.742711Z",
     "iopub.status.idle": "2024-11-22T13:47:39.765770Z",
     "shell.execute_reply": "2024-11-22T13:47:39.764979Z",
     "shell.execute_reply.started": "2024-11-22T13:47:39.743034Z"
    },
    "trusted": true
   },
   "outputs": [],
   "source": [
    "# Path to the Dataset_json folder in the Kaggle dataset\n",
    "dataset_json_path = \"/kaggle/input/router-placement-llm/Environment\"\n",
    "environment_list = []\n",
    "\n",
    "# Iterate through files in the Dataset_json folder\n",
    "for file_name in os.listdir(dataset_json_path):\n",
    "    file_path = os.path.join(dataset_json_path, file_name)\n",
    "    \n",
    "    with open(file_path, 'r') as file:\n",
    "        data = file.read()\n",
    "    file.close()\n",
    "    environment_list.append(data)"
   ]
  },
  {
   "cell_type": "code",
   "execution_count": 5,
   "metadata": {
    "execution": {
     "iopub.execute_input": "2024-11-22T13:47:39.767591Z",
     "iopub.status.busy": "2024-11-22T13:47:39.767341Z",
     "iopub.status.idle": "2024-11-22T13:47:39.788350Z",
     "shell.execute_reply": "2024-11-22T13:47:39.787613Z",
     "shell.execute_reply.started": "2024-11-22T13:47:39.767567Z"
    },
    "trusted": true
   },
   "outputs": [],
   "source": [
    "# Path to the Dataset_json folder in the Kaggle dataset\n",
    "dataset_json_path = \"/kaggle/input/router-placement-llm/Routers\"\n",
    "router_list = []\n",
    "\n",
    "# Iterate through files in the Dataset_json folder\n",
    "for file_name in os.listdir(dataset_json_path):\n",
    "    file_path = os.path.join(dataset_json_path, file_name)\n",
    "    \n",
    "    with open(file_path, 'r') as file:\n",
    "        data = file.read()\n",
    "    file.close()\n",
    "    router_list.append(data)"
   ]
  },
  {
   "cell_type": "code",
   "execution_count": 6,
   "metadata": {
    "execution": {
     "iopub.execute_input": "2024-11-22T13:47:39.789554Z",
     "iopub.status.busy": "2024-11-22T13:47:39.789292Z",
     "iopub.status.idle": "2024-11-22T13:47:39.795290Z",
     "shell.execute_reply": "2024-11-22T13:47:39.794528Z",
     "shell.execute_reply.started": "2024-11-22T13:47:39.789530Z"
    },
    "trusted": true
   },
   "outputs": [],
   "source": [
    "with open(\"/kaggle/input/router-placement-llm/Defaults.txt\",'r') as file:\n",
    "    defaults=file.read()"
   ]
  },
  {
   "cell_type": "code",
   "execution_count": 7,
   "metadata": {
    "execution": {
     "iopub.execute_input": "2024-11-22T13:47:39.796425Z",
     "iopub.status.busy": "2024-11-22T13:47:39.796174Z",
     "iopub.status.idle": "2024-11-22T13:47:39.802642Z",
     "shell.execute_reply": "2024-11-22T13:47:39.801856Z",
     "shell.execute_reply.started": "2024-11-22T13:47:39.796381Z"
    },
    "trusted": true
   },
   "outputs": [
    {
     "name": "stdout",
     "output_type": "stream",
     "text": [
      "# Default Parameter Values for Indoor Wireless Communication Modeling  \n",
      "\n",
      "This document outlines the default parameter values to be used for indoor wireless communication simulations. These parameters are optimized for typical indoor environments and device configurations.  \n",
      "\n",
      "---\n",
      "\n",
      "### Default Parameter Values  \n",
      "\n",
      "| **Parameter**               | **Default Value**             |  \n",
      "|-----------------------------|-------------------------------|  \n",
      "| **X User Distribution**     | Uniform                      |  \n",
      "| **Y User Distribution**     | Uniform                      |  \n",
      "| **Height**                  | \\( 3.0 \\, \\text{m} \\)        |  \n",
      "| **Path Loss Parameter \\( K \\)** | \\( 0.005 \\, \\text{dB} \\)  |  \n",
      "| **Path Loss Exponent \\( \\alpha \\)** | \\( 3.0 \\)             |  \n",
      "| **Device Name**             | Cisco ASR-900                |  \n",
      "| **User Equipment Height**   | \\( 1.0 \\, \\text{m} \\)        |  \n",
      "\n",
      "---\n",
      "\n",
      "### Parameter Details  \n",
      "\n",
      "1. **User Distribution**:  \n",
      "   - **Along the Edge**: Refers to **exponential distribution along the X-axis** and **uniform distribution along the Y-axis**. This is typical for hospital or similar layouts.  \n",
      "   - **Center**: Refers to **Gaussian distribution along both the X and Y axes**, commonly seen in banquet halls or event spaces.  \n",
      "   - **Spread Evenly**: Refers to **uniform distribution along both the X and Y axes**, typical for office environments.  \n",
      "   - **Along One Corner**: Refers to **exponential distribution along both the X and Y axes**, representing scenarios with user density concentrated in one corner.  \n",
      "   - **Along Opposite Corners**: Refers to **bi-exponential distribution along both the X and Y axes**, with user density peaks at two opposite corners of the environment.  \n",
      "   - **Along Adjacent Corners**: Refers to **exponential distribution along the X-axis** and **bi-exponential distribution along the Y-axis**, representing a concentration of users in two adjacent corners.  \n",
      "\n",
      "2. **Height**:  \n",
      "   - Default height of the indoor space is \\( 3.0 \\, \\text{m} \\), typical of residential or small office environments.  \n",
      "\n",
      "3. **Path Loss Parameters**:  \n",
      "   - \\( K \\) (Path Loss Constant): \\( 0.005 \\, \\text{dB} \\), minimal constant attenuation for short distances.  \n",
      "   - \\( \\alpha \\) (Path Loss Exponent): \\( 3.0 \\), suitable for moderately obstructed indoor environments.  \n",
      "\n",
      "4. **Device Name**:  \n",
      "   - The default Access Point (AP) or router is the **Cisco ASR-900**, a reliable and commonly used device for indoor setups.  \n",
      "\n",
      "5. **User Equipment Height**:  \n",
      "   - Height of user devices (e.g., phones, laptops) is assumed to be \\( 1.0 \\, \\text{m} \\), representing hand-held or table-level usage.  \n",
      "\n",
      "---\n",
      "\n",
      "### Notes for Use  \n",
      "\n",
      "- The above values serve as **baseline defaults** and may be adjusted based on specific environmental characteristics or device configurations.  \n",
      "- For environments other than **House**, additional tuning of parameters like \\( K \\), \\( \\alpha \\), and distribution types may be necessary.\n",
      "\n",
      "---\n",
      "\n",
      "**End of Document**  \n",
      "\n"
     ]
    }
   ],
   "source": [
    "print(defaults)"
   ]
  },
  {
   "cell_type": "code",
   "execution_count": 8,
   "metadata": {
    "execution": {
     "iopub.execute_input": "2024-11-22T13:47:39.804032Z",
     "iopub.status.busy": "2024-11-22T13:47:39.803815Z",
     "iopub.status.idle": "2024-11-22T13:47:39.815521Z",
     "shell.execute_reply": "2024-11-22T13:47:39.814831Z",
     "shell.execute_reply.started": "2024-11-22T13:47:39.804009Z"
    },
    "trusted": true
   },
   "outputs": [],
   "source": [
    "with open(\"/kaggle/input/router-placement-llm/Information.txt\",'r') as file:\n",
    "    information= json.load(file)"
   ]
  },
  {
   "cell_type": "code",
   "execution_count": 9,
   "metadata": {
    "execution": {
     "iopub.execute_input": "2024-11-22T13:47:39.816786Z",
     "iopub.status.busy": "2024-11-22T13:47:39.816460Z",
     "iopub.status.idle": "2024-11-22T13:47:39.825807Z",
     "shell.execute_reply": "2024-11-22T13:47:39.825044Z",
     "shell.execute_reply.started": "2024-11-22T13:47:39.816749Z"
    },
    "trusted": true
   },
   "outputs": [
    {
     "name": "stdout",
     "output_type": "stream",
     "text": [
      "{'environments': [{'name': 'Hospital', 'K': 0.015, 'alpha': 3.0, 'user_distribution': 'Along the Edge'}, {'name': 'House', 'K': 0.02, 'alpha': 2.8, 'user_distribution': 'Gaussian Distribution'}, {'name': 'Office', 'K': 0.03, 'alpha': 2.5, 'user_distribution': 'Spread Evenly'}, {'name': 'Warehouse', 'K': 0.03, 'alpha': 3.2, 'user_distribution': 'Uniform Distribution'}, {'name': 'Banquet Hall', 'K': 0.02, 'alpha': 2.8, 'user_distribution': 'Concentrated in the Center'}], 'routers': [{'model': 'Huawei NE40E', 'transmission_power_2.4GHz': 22, 'carrier_frequency_band': '2400–2483.5 MHz'}, {'model': 'Juniper MX240', 'transmission_power_2.4GHz': 24, 'carrier_frequency_band': '2378–2457.1 MHz'}, {'model': 'Nokia 7750', 'transmission_power_2.4GHz': 20, 'carrier_frequency_band': '2200 MHz–2500 MHz'}, {'model': 'Cisco ASR-900', 'transmission_power_2.4GHz': 23, 'carrier_frequency_band': '2350–2450 MHz'}, {'model': 'Cisco XR-1234', 'transmission_power_2.4GHz': 20, 'carrier_frequency_band': '2301–2483.5 MHz'}], 'defaults': [{'X_User_Distribution': 'Uniform', 'Y_User_Distribution': 'Uniform', 'Height': 3.0, 'Path_Loss_Parameter_K': 0.005, 'Path_Loss_Exponent_alpha': 3.0, 'Device_Name': 'Cisco ASR-900', 'User_Equipment_Height': 1.0}]}\n"
     ]
    }
   ],
   "source": [
    "print(information)"
   ]
  },
  {
   "cell_type": "code",
   "execution_count": 10,
   "metadata": {
    "execution": {
     "iopub.execute_input": "2024-11-22T13:47:39.826879Z",
     "iopub.status.busy": "2024-11-22T13:47:39.826675Z",
     "iopub.status.idle": "2024-11-22T13:48:06.610367Z",
     "shell.execute_reply": "2024-11-22T13:48:06.609436Z",
     "shell.execute_reply.started": "2024-11-22T13:47:39.826858Z"
    },
    "trusted": true
   },
   "outputs": [
    {
     "name": "stdout",
     "output_type": "stream",
     "text": [
      "Requirement already satisfied: torch in /opt/conda/lib/python3.10/site-packages (2.4.0)\n",
      "Requirement already satisfied: transformers in /opt/conda/lib/python3.10/site-packages (4.45.1)\n",
      "Collecting transformer_lens\n",
      "  Downloading transformer_lens-2.9.1-py3-none-any.whl.metadata (12 kB)\n",
      "Requirement already satisfied: filelock in /opt/conda/lib/python3.10/site-packages (from torch) (3.15.1)\n",
      "Requirement already satisfied: typing-extensions>=4.8.0 in /opt/conda/lib/python3.10/site-packages (from torch) (4.12.2)\n",
      "Requirement already satisfied: sympy in /opt/conda/lib/python3.10/site-packages (from torch) (1.13.3)\n",
      "Requirement already satisfied: networkx in /opt/conda/lib/python3.10/site-packages (from torch) (3.3)\n",
      "Requirement already satisfied: jinja2 in /opt/conda/lib/python3.10/site-packages (from torch) (3.1.4)\n",
      "Requirement already satisfied: fsspec in /opt/conda/lib/python3.10/site-packages (from torch) (2024.6.1)\n",
      "Requirement already satisfied: huggingface-hub<1.0,>=0.23.2 in /opt/conda/lib/python3.10/site-packages (from transformers) (0.25.1)\n",
      "Requirement already satisfied: numpy>=1.17 in /opt/conda/lib/python3.10/site-packages (from transformers) (1.26.4)\n",
      "Requirement already satisfied: packaging>=20.0 in /opt/conda/lib/python3.10/site-packages (from transformers) (21.3)\n",
      "Requirement already satisfied: pyyaml>=5.1 in /opt/conda/lib/python3.10/site-packages (from transformers) (6.0.2)\n",
      "Requirement already satisfied: regex!=2019.12.17 in /opt/conda/lib/python3.10/site-packages (from transformers) (2024.5.15)\n",
      "Requirement already satisfied: requests in /opt/conda/lib/python3.10/site-packages (from transformers) (2.32.3)\n",
      "Requirement already satisfied: safetensors>=0.4.1 in /opt/conda/lib/python3.10/site-packages (from transformers) (0.4.5)\n",
      "Requirement already satisfied: tokenizers<0.21,>=0.20 in /opt/conda/lib/python3.10/site-packages (from transformers) (0.20.0)\n",
      "Requirement already satisfied: tqdm>=4.27 in /opt/conda/lib/python3.10/site-packages (from transformers) (4.66.4)\n",
      "Requirement already satisfied: accelerate>=0.23.0 in /opt/conda/lib/python3.10/site-packages (from transformer_lens) (0.34.2)\n",
      "Collecting beartype<0.15.0,>=0.14.1 (from transformer_lens)\n",
      "  Downloading beartype-0.14.1-py3-none-any.whl.metadata (28 kB)\n",
      "Collecting better-abc<0.0.4,>=0.0.3 (from transformer_lens)\n",
      "  Downloading better_abc-0.0.3-py3-none-any.whl.metadata (1.4 kB)\n",
      "Requirement already satisfied: datasets>=2.7.1 in /opt/conda/lib/python3.10/site-packages (from transformer_lens) (3.0.1)\n",
      "Collecting einops>=0.6.0 (from transformer_lens)\n",
      "  Downloading einops-0.8.0-py3-none-any.whl.metadata (12 kB)\n",
      "Collecting fancy-einsum>=0.0.3 (from transformer_lens)\n",
      "  Downloading fancy_einsum-0.0.3-py3-none-any.whl.metadata (1.2 kB)\n",
      "Collecting jaxtyping>=0.2.11 (from transformer_lens)\n",
      "  Downloading jaxtyping-0.2.36-py3-none-any.whl.metadata (6.5 kB)\n",
      "Requirement already satisfied: pandas>=1.1.5 in /opt/conda/lib/python3.10/site-packages (from transformer_lens) (2.2.2)\n",
      "Requirement already satisfied: rich>=12.6.0 in /opt/conda/lib/python3.10/site-packages (from transformer_lens) (13.7.1)\n",
      "Requirement already satisfied: sentencepiece in /opt/conda/lib/python3.10/site-packages (from transformer_lens) (0.2.0)\n",
      "Requirement already satisfied: typeguard<5.0,>=4.2 in /opt/conda/lib/python3.10/site-packages (from transformer_lens) (4.3.0)\n",
      "Requirement already satisfied: wandb>=0.13.5 in /opt/conda/lib/python3.10/site-packages (from transformer_lens) (0.18.3)\n",
      "Requirement already satisfied: psutil in /opt/conda/lib/python3.10/site-packages (from accelerate>=0.23.0->transformer_lens) (5.9.3)\n",
      "Requirement already satisfied: pyarrow>=15.0.0 in /opt/conda/lib/python3.10/site-packages (from datasets>=2.7.1->transformer_lens) (16.1.0)\n",
      "Requirement already satisfied: dill<0.3.9,>=0.3.0 in /opt/conda/lib/python3.10/site-packages (from datasets>=2.7.1->transformer_lens) (0.3.8)\n",
      "Requirement already satisfied: xxhash in /opt/conda/lib/python3.10/site-packages (from datasets>=2.7.1->transformer_lens) (3.4.1)\n",
      "Requirement already satisfied: multiprocess in /opt/conda/lib/python3.10/site-packages (from datasets>=2.7.1->transformer_lens) (0.70.16)\n",
      "Requirement already satisfied: aiohttp in /opt/conda/lib/python3.10/site-packages (from datasets>=2.7.1->transformer_lens) (3.9.5)\n",
      "Requirement already satisfied: pyparsing!=3.0.5,>=2.0.2 in /opt/conda/lib/python3.10/site-packages (from packaging>=20.0->transformers) (3.1.2)\n",
      "Requirement already satisfied: python-dateutil>=2.8.2 in /opt/conda/lib/python3.10/site-packages (from pandas>=1.1.5->transformer_lens) (2.9.0.post0)\n",
      "Requirement already satisfied: pytz>=2020.1 in /opt/conda/lib/python3.10/site-packages (from pandas>=1.1.5->transformer_lens) (2024.1)\n",
      "Requirement already satisfied: tzdata>=2022.7 in /opt/conda/lib/python3.10/site-packages (from pandas>=1.1.5->transformer_lens) (2024.1)\n",
      "Requirement already satisfied: charset-normalizer<4,>=2 in /opt/conda/lib/python3.10/site-packages (from requests->transformers) (3.3.2)\n",
      "Requirement already satisfied: idna<4,>=2.5 in /opt/conda/lib/python3.10/site-packages (from requests->transformers) (3.7)\n",
      "Requirement already satisfied: urllib3<3,>=1.21.1 in /opt/conda/lib/python3.10/site-packages (from requests->transformers) (1.26.18)\n",
      "Requirement already satisfied: certifi>=2017.4.17 in /opt/conda/lib/python3.10/site-packages (from requests->transformers) (2024.8.30)\n",
      "Requirement already satisfied: markdown-it-py>=2.2.0 in /opt/conda/lib/python3.10/site-packages (from rich>=12.6.0->transformer_lens) (3.0.0)\n",
      "Requirement already satisfied: pygments<3.0.0,>=2.13.0 in /opt/conda/lib/python3.10/site-packages (from rich>=12.6.0->transformer_lens) (2.18.0)\n",
      "Requirement already satisfied: click!=8.0.0,>=7.1 in /opt/conda/lib/python3.10/site-packages (from wandb>=0.13.5->transformer_lens) (8.1.7)\n",
      "Requirement already satisfied: docker-pycreds>=0.4.0 in /opt/conda/lib/python3.10/site-packages (from wandb>=0.13.5->transformer_lens) (0.4.0)\n",
      "Requirement already satisfied: gitpython!=3.1.29,>=1.0.0 in /opt/conda/lib/python3.10/site-packages (from wandb>=0.13.5->transformer_lens) (3.1.43)\n",
      "Requirement already satisfied: platformdirs in /opt/conda/lib/python3.10/site-packages (from wandb>=0.13.5->transformer_lens) (3.11.0)\n",
      "Requirement already satisfied: protobuf!=4.21.0,!=5.28.0,<6,>=3.19.0 in /opt/conda/lib/python3.10/site-packages (from wandb>=0.13.5->transformer_lens) (3.20.3)\n",
      "Requirement already satisfied: sentry-sdk>=1.0.0 in /opt/conda/lib/python3.10/site-packages (from wandb>=0.13.5->transformer_lens) (2.15.0)\n",
      "Requirement already satisfied: setproctitle in /opt/conda/lib/python3.10/site-packages (from wandb>=0.13.5->transformer_lens) (1.3.3)\n",
      "Requirement already satisfied: setuptools in /opt/conda/lib/python3.10/site-packages (from wandb>=0.13.5->transformer_lens) (70.0.0)\n",
      "Requirement already satisfied: MarkupSafe>=2.0 in /opt/conda/lib/python3.10/site-packages (from jinja2->torch) (2.1.5)\n",
      "Requirement already satisfied: mpmath<1.4,>=1.1.0 in /opt/conda/lib/python3.10/site-packages (from sympy->torch) (1.3.0)\n",
      "Requirement already satisfied: six>=1.4.0 in /opt/conda/lib/python3.10/site-packages (from docker-pycreds>=0.4.0->wandb>=0.13.5->transformer_lens) (1.16.0)\n",
      "Requirement already satisfied: aiosignal>=1.1.2 in /opt/conda/lib/python3.10/site-packages (from aiohttp->datasets>=2.7.1->transformer_lens) (1.3.1)\n",
      "Requirement already satisfied: attrs>=17.3.0 in /opt/conda/lib/python3.10/site-packages (from aiohttp->datasets>=2.7.1->transformer_lens) (23.2.0)\n",
      "Requirement already satisfied: frozenlist>=1.1.1 in /opt/conda/lib/python3.10/site-packages (from aiohttp->datasets>=2.7.1->transformer_lens) (1.4.1)\n",
      "Requirement already satisfied: multidict<7.0,>=4.5 in /opt/conda/lib/python3.10/site-packages (from aiohttp->datasets>=2.7.1->transformer_lens) (6.0.5)\n",
      "Requirement already satisfied: yarl<2.0,>=1.0 in /opt/conda/lib/python3.10/site-packages (from aiohttp->datasets>=2.7.1->transformer_lens) (1.9.4)\n",
      "Requirement already satisfied: async-timeout<5.0,>=4.0 in /opt/conda/lib/python3.10/site-packages (from aiohttp->datasets>=2.7.1->transformer_lens) (4.0.3)\n",
      "Requirement already satisfied: gitdb<5,>=4.0.1 in /opt/conda/lib/python3.10/site-packages (from gitpython!=3.1.29,>=1.0.0->wandb>=0.13.5->transformer_lens) (4.0.11)\n",
      "Requirement already satisfied: mdurl~=0.1 in /opt/conda/lib/python3.10/site-packages (from markdown-it-py>=2.2.0->rich>=12.6.0->transformer_lens) (0.1.2)\n",
      "Requirement already satisfied: smmap<6,>=3.0.1 in /opt/conda/lib/python3.10/site-packages (from gitdb<5,>=4.0.1->gitpython!=3.1.29,>=1.0.0->wandb>=0.13.5->transformer_lens) (5.0.1)\n",
      "Downloading transformer_lens-2.9.1-py3-none-any.whl (176 kB)\n",
      "\u001b[2K   \u001b[90m━━━━━━━━━━━━━━━━━━━━━━━━━━━━━━━━━━━━━━━━\u001b[0m \u001b[32m176.9/176.9 kB\u001b[0m \u001b[31m10.6 MB/s\u001b[0m eta \u001b[36m0:00:00\u001b[0m\n",
      "\u001b[?25hDownloading beartype-0.14.1-py3-none-any.whl (739 kB)\n",
      "\u001b[2K   \u001b[90m━━━━━━━━━━━━━━━━━━━━━━━━━━━━━━━━━━━━━━━━\u001b[0m \u001b[32m739.7/739.7 kB\u001b[0m \u001b[31m39.2 MB/s\u001b[0m eta \u001b[36m0:00:00\u001b[0m\n",
      "\u001b[?25hDownloading better_abc-0.0.3-py3-none-any.whl (3.5 kB)\n",
      "Downloading einops-0.8.0-py3-none-any.whl (43 kB)\n",
      "\u001b[2K   \u001b[90m━━━━━━━━━━━━━━━━━━━━━━━━━━━━━━━━━━━━━━━━\u001b[0m \u001b[32m43.2/43.2 kB\u001b[0m \u001b[31m2.6 MB/s\u001b[0m eta \u001b[36m0:00:00\u001b[0m\n",
      "\u001b[?25hDownloading fancy_einsum-0.0.3-py3-none-any.whl (6.2 kB)\n",
      "Downloading jaxtyping-0.2.36-py3-none-any.whl (55 kB)\n",
      "\u001b[2K   \u001b[90m━━━━━━━━━━━━━━━━━━━━━━━━━━━━━━━━━━━━━━━━\u001b[0m \u001b[32m55.8/55.8 kB\u001b[0m \u001b[31m3.7 MB/s\u001b[0m eta \u001b[36m0:00:00\u001b[0m\n",
      "\u001b[?25hInstalling collected packages: better-abc, jaxtyping, fancy-einsum, einops, beartype, transformer_lens\n",
      "Successfully installed beartype-0.14.1 better-abc-0.0.3 einops-0.8.0 fancy-einsum-0.0.3 jaxtyping-0.2.36 transformer_lens-2.9.1\n",
      "Looking in indexes: https://pypi.org/simple/\n",
      "Collecting bitsandbytes\n",
      "  Downloading bitsandbytes-0.44.1-py3-none-manylinux_2_24_x86_64.whl.metadata (3.5 kB)\n",
      "Requirement already satisfied: torch in /opt/conda/lib/python3.10/site-packages (from bitsandbytes) (2.4.0)\n",
      "Requirement already satisfied: numpy in /opt/conda/lib/python3.10/site-packages (from bitsandbytes) (1.26.4)\n",
      "Requirement already satisfied: filelock in /opt/conda/lib/python3.10/site-packages (from torch->bitsandbytes) (3.15.1)\n",
      "Requirement already satisfied: typing-extensions>=4.8.0 in /opt/conda/lib/python3.10/site-packages (from torch->bitsandbytes) (4.12.2)\n",
      "Requirement already satisfied: sympy in /opt/conda/lib/python3.10/site-packages (from torch->bitsandbytes) (1.13.3)\n",
      "Requirement already satisfied: networkx in /opt/conda/lib/python3.10/site-packages (from torch->bitsandbytes) (3.3)\n",
      "Requirement already satisfied: jinja2 in /opt/conda/lib/python3.10/site-packages (from torch->bitsandbytes) (3.1.4)\n",
      "Requirement already satisfied: fsspec in /opt/conda/lib/python3.10/site-packages (from torch->bitsandbytes) (2024.6.1)\n",
      "Requirement already satisfied: MarkupSafe>=2.0 in /opt/conda/lib/python3.10/site-packages (from jinja2->torch->bitsandbytes) (2.1.5)\n",
      "Requirement already satisfied: mpmath<1.4,>=1.1.0 in /opt/conda/lib/python3.10/site-packages (from sympy->torch->bitsandbytes) (1.3.0)\n",
      "Downloading bitsandbytes-0.44.1-py3-none-manylinux_2_24_x86_64.whl (122.4 MB)\n",
      "\u001b[2K   \u001b[90m━━━━━━━━━━━━━━━━━━━━━━━━━━━━━━━━━━━━━━━━\u001b[0m \u001b[32m122.4/122.4 MB\u001b[0m \u001b[31m14.2 MB/s\u001b[0m eta \u001b[36m0:00:00\u001b[0m00:01\u001b[0m00:01\u001b[0m\n",
      "\u001b[?25hInstalling collected packages: bitsandbytes\n",
      "Successfully installed bitsandbytes-0.44.1\n"
     ]
    }
   ],
   "source": [
    "!pip install torch transformers transformer_lens \n",
    "!pip install -i https://pypi.org/simple/ bitsandbytes\n",
    "\n",
    "import torch\n",
    "from transformers import AutoTokenizer, AutoModelForCausalLM, BitsAndBytesConfig"
   ]
  },
  {
   "cell_type": "code",
   "execution_count": null,
   "metadata": {
    "execution": {
     "iopub.execute_input": "2024-11-22T13:48:06.614835Z",
     "iopub.status.busy": "2024-11-22T13:48:06.614169Z",
     "iopub.status.idle": "2024-11-22T13:48:06.618642Z",
     "shell.execute_reply": "2024-11-22T13:48:06.617741Z",
     "shell.execute_reply.started": "2024-11-22T13:48:06.614805Z"
    },
    "trusted": true
   },
   "outputs": [],
   "source": [
    "HF_token =\"<token>\""
   ]
  },
  {
   "cell_type": "code",
   "execution_count": 12,
   "metadata": {
    "execution": {
     "iopub.execute_input": "2024-11-22T13:48:06.620095Z",
     "iopub.status.busy": "2024-11-22T13:48:06.619754Z",
     "iopub.status.idle": "2024-11-22T13:48:19.589929Z",
     "shell.execute_reply": "2024-11-22T13:48:19.588821Z",
     "shell.execute_reply.started": "2024-11-22T13:48:06.620058Z"
    },
    "trusted": true
   },
   "outputs": [
    {
     "name": "stdout",
     "output_type": "stream",
     "text": [
      "Requirement already satisfied: jupyterlab in /opt/conda/lib/python3.10/site-packages (4.2.5)\n",
      "Collecting jupyterlab\n",
      "  Downloading jupyterlab-4.3.1-py3-none-any.whl.metadata (16 kB)\n",
      "Requirement already satisfied: ipywidgets in /opt/conda/lib/python3.10/site-packages (7.7.1)\n",
      "Collecting ipywidgets\n",
      "  Downloading ipywidgets-8.1.5-py3-none-any.whl.metadata (2.3 kB)\n",
      "Requirement already satisfied: jupyterlab-widgets in /opt/conda/lib/python3.10/site-packages (3.0.11)\n",
      "Collecting jupyterlab-widgets\n",
      "  Downloading jupyterlab_widgets-3.0.13-py3-none-any.whl.metadata (4.1 kB)\n",
      "Requirement already satisfied: async-lru>=1.0.0 in /opt/conda/lib/python3.10/site-packages (from jupyterlab) (2.0.4)\n",
      "Requirement already satisfied: httpx>=0.25.0 in /opt/conda/lib/python3.10/site-packages (from jupyterlab) (0.27.0)\n",
      "Requirement already satisfied: ipykernel>=6.5.0 in /opt/conda/lib/python3.10/site-packages (from jupyterlab) (6.29.4)\n",
      "Requirement already satisfied: jinja2>=3.0.3 in /opt/conda/lib/python3.10/site-packages (from jupyterlab) (3.1.4)\n",
      "Requirement already satisfied: jupyter-core in /opt/conda/lib/python3.10/site-packages (from jupyterlab) (5.7.2)\n",
      "Collecting jupyter-lsp>=2.0.0 (from jupyterlab)\n",
      "  Downloading jupyter_lsp-2.2.5-py3-none-any.whl.metadata (1.8 kB)\n",
      "Requirement already satisfied: jupyter-server<3,>=2.4.0 in /opt/conda/lib/python3.10/site-packages (from jupyterlab) (2.12.5)\n",
      "Requirement already satisfied: jupyterlab-server<3,>=2.27.1 in /opt/conda/lib/python3.10/site-packages (from jupyterlab) (2.27.2)\n",
      "Requirement already satisfied: notebook-shim>=0.2 in /opt/conda/lib/python3.10/site-packages (from jupyterlab) (0.2.4)\n",
      "Requirement already satisfied: packaging in /opt/conda/lib/python3.10/site-packages (from jupyterlab) (21.3)\n",
      "Requirement already satisfied: setuptools>=40.1.0 in /opt/conda/lib/python3.10/site-packages (from jupyterlab) (70.0.0)\n",
      "Requirement already satisfied: tomli>=1.2.2 in /opt/conda/lib/python3.10/site-packages (from jupyterlab) (2.0.1)\n",
      "Requirement already satisfied: tornado>=6.2.0 in /opt/conda/lib/python3.10/site-packages (from jupyterlab) (6.4.1)\n",
      "Requirement already satisfied: traitlets in /opt/conda/lib/python3.10/site-packages (from jupyterlab) (5.14.3)\n",
      "Requirement already satisfied: comm>=0.1.3 in /opt/conda/lib/python3.10/site-packages (from ipywidgets) (0.2.2)\n",
      "Requirement already satisfied: ipython>=6.1.0 in /opt/conda/lib/python3.10/site-packages (from ipywidgets) (8.21.0)\n",
      "Collecting widgetsnbextension~=4.0.12 (from ipywidgets)\n",
      "  Downloading widgetsnbextension-4.0.13-py3-none-any.whl.metadata (1.6 kB)\n",
      "Requirement already satisfied: typing-extensions>=4.0.0 in /opt/conda/lib/python3.10/site-packages (from async-lru>=1.0.0->jupyterlab) (4.12.2)\n",
      "Requirement already satisfied: anyio in /opt/conda/lib/python3.10/site-packages (from httpx>=0.25.0->jupyterlab) (4.4.0)\n",
      "Requirement already satisfied: certifi in /opt/conda/lib/python3.10/site-packages (from httpx>=0.25.0->jupyterlab) (2024.8.30)\n",
      "Requirement already satisfied: httpcore==1.* in /opt/conda/lib/python3.10/site-packages (from httpx>=0.25.0->jupyterlab) (1.0.5)\n",
      "Requirement already satisfied: idna in /opt/conda/lib/python3.10/site-packages (from httpx>=0.25.0->jupyterlab) (3.7)\n",
      "Requirement already satisfied: sniffio in /opt/conda/lib/python3.10/site-packages (from httpx>=0.25.0->jupyterlab) (1.3.1)\n",
      "Requirement already satisfied: h11<0.15,>=0.13 in /opt/conda/lib/python3.10/site-packages (from httpcore==1.*->httpx>=0.25.0->jupyterlab) (0.14.0)\n",
      "Requirement already satisfied: debugpy>=1.6.5 in /opt/conda/lib/python3.10/site-packages (from ipykernel>=6.5.0->jupyterlab) (1.8.1)\n",
      "Requirement already satisfied: jupyter-client>=6.1.12 in /opt/conda/lib/python3.10/site-packages (from ipykernel>=6.5.0->jupyterlab) (7.4.9)\n",
      "Requirement already satisfied: matplotlib-inline>=0.1 in /opt/conda/lib/python3.10/site-packages (from ipykernel>=6.5.0->jupyterlab) (0.1.7)\n",
      "Requirement already satisfied: nest-asyncio in /opt/conda/lib/python3.10/site-packages (from ipykernel>=6.5.0->jupyterlab) (1.6.0)\n",
      "Requirement already satisfied: psutil in /opt/conda/lib/python3.10/site-packages (from ipykernel>=6.5.0->jupyterlab) (5.9.3)\n",
      "Requirement already satisfied: pyzmq>=24 in /opt/conda/lib/python3.10/site-packages (from ipykernel>=6.5.0->jupyterlab) (26.0.3)\n",
      "Requirement already satisfied: decorator in /opt/conda/lib/python3.10/site-packages (from ipython>=6.1.0->ipywidgets) (5.1.1)\n",
      "Requirement already satisfied: jedi>=0.16 in /opt/conda/lib/python3.10/site-packages (from ipython>=6.1.0->ipywidgets) (0.19.1)\n",
      "Requirement already satisfied: prompt-toolkit<3.1.0,>=3.0.41 in /opt/conda/lib/python3.10/site-packages (from ipython>=6.1.0->ipywidgets) (3.0.47)\n",
      "Requirement already satisfied: pygments>=2.4.0 in /opt/conda/lib/python3.10/site-packages (from ipython>=6.1.0->ipywidgets) (2.18.0)\n",
      "Requirement already satisfied: stack-data in /opt/conda/lib/python3.10/site-packages (from ipython>=6.1.0->ipywidgets) (0.6.2)\n",
      "Requirement already satisfied: exceptiongroup in /opt/conda/lib/python3.10/site-packages (from ipython>=6.1.0->ipywidgets) (1.2.0)\n",
      "Requirement already satisfied: pexpect>4.3 in /opt/conda/lib/python3.10/site-packages (from ipython>=6.1.0->ipywidgets) (4.9.0)\n",
      "Requirement already satisfied: MarkupSafe>=2.0 in /opt/conda/lib/python3.10/site-packages (from jinja2>=3.0.3->jupyterlab) (2.1.5)\n",
      "Requirement already satisfied: platformdirs>=2.5 in /opt/conda/lib/python3.10/site-packages (from jupyter-core->jupyterlab) (3.11.0)\n",
      "Requirement already satisfied: argon2-cffi in /opt/conda/lib/python3.10/site-packages (from jupyter-server<3,>=2.4.0->jupyterlab) (23.1.0)\n",
      "Requirement already satisfied: jupyter-events>=0.9.0 in /opt/conda/lib/python3.10/site-packages (from jupyter-server<3,>=2.4.0->jupyterlab) (0.10.0)\n",
      "Requirement already satisfied: jupyter-server-terminals in /opt/conda/lib/python3.10/site-packages (from jupyter-server<3,>=2.4.0->jupyterlab) (0.5.3)\n",
      "Requirement already satisfied: nbconvert>=6.4.4 in /opt/conda/lib/python3.10/site-packages (from jupyter-server<3,>=2.4.0->jupyterlab) (6.4.5)\n",
      "Requirement already satisfied: nbformat>=5.3.0 in /opt/conda/lib/python3.10/site-packages (from jupyter-server<3,>=2.4.0->jupyterlab) (5.10.4)\n",
      "Requirement already satisfied: overrides in /opt/conda/lib/python3.10/site-packages (from jupyter-server<3,>=2.4.0->jupyterlab) (7.7.0)\n",
      "Requirement already satisfied: prometheus-client in /opt/conda/lib/python3.10/site-packages (from jupyter-server<3,>=2.4.0->jupyterlab) (0.20.0)\n",
      "Requirement already satisfied: send2trash>=1.8.2 in /opt/conda/lib/python3.10/site-packages (from jupyter-server<3,>=2.4.0->jupyterlab) (1.8.3)\n",
      "Requirement already satisfied: terminado>=0.8.3 in /opt/conda/lib/python3.10/site-packages (from jupyter-server<3,>=2.4.0->jupyterlab) (0.18.1)\n",
      "Requirement already satisfied: websocket-client in /opt/conda/lib/python3.10/site-packages (from jupyter-server<3,>=2.4.0->jupyterlab) (1.8.0)\n",
      "Requirement already satisfied: babel>=2.10 in /opt/conda/lib/python3.10/site-packages (from jupyterlab-server<3,>=2.27.1->jupyterlab) (2.15.0)\n",
      "Requirement already satisfied: json5>=0.9.0 in /opt/conda/lib/python3.10/site-packages (from jupyterlab-server<3,>=2.27.1->jupyterlab) (0.9.25)\n",
      "Requirement already satisfied: jsonschema>=4.18.0 in /opt/conda/lib/python3.10/site-packages (from jupyterlab-server<3,>=2.27.1->jupyterlab) (4.22.0)\n",
      "Requirement already satisfied: requests>=2.31 in /opt/conda/lib/python3.10/site-packages (from jupyterlab-server<3,>=2.27.1->jupyterlab) (2.32.3)\n",
      "Requirement already satisfied: pyparsing!=3.0.5,>=2.0.2 in /opt/conda/lib/python3.10/site-packages (from packaging->jupyterlab) (3.1.2)\n",
      "Requirement already satisfied: parso<0.9.0,>=0.8.3 in /opt/conda/lib/python3.10/site-packages (from jedi>=0.16->ipython>=6.1.0->ipywidgets) (0.8.4)\n",
      "Requirement already satisfied: attrs>=22.2.0 in /opt/conda/lib/python3.10/site-packages (from jsonschema>=4.18.0->jupyterlab-server<3,>=2.27.1->jupyterlab) (23.2.0)\n",
      "Requirement already satisfied: jsonschema-specifications>=2023.03.6 in /opt/conda/lib/python3.10/site-packages (from jsonschema>=4.18.0->jupyterlab-server<3,>=2.27.1->jupyterlab) (2023.12.1)\n",
      "Requirement already satisfied: referencing>=0.28.4 in /opt/conda/lib/python3.10/site-packages (from jsonschema>=4.18.0->jupyterlab-server<3,>=2.27.1->jupyterlab) (0.35.1)\n",
      "Requirement already satisfied: rpds-py>=0.7.1 in /opt/conda/lib/python3.10/site-packages (from jsonschema>=4.18.0->jupyterlab-server<3,>=2.27.1->jupyterlab) (0.18.1)\n",
      "Requirement already satisfied: entrypoints in /opt/conda/lib/python3.10/site-packages (from jupyter-client>=6.1.12->ipykernel>=6.5.0->jupyterlab) (0.4)\n",
      "Requirement already satisfied: python-dateutil>=2.8.2 in /opt/conda/lib/python3.10/site-packages (from jupyter-client>=6.1.12->ipykernel>=6.5.0->jupyterlab) (2.9.0.post0)\n",
      "Requirement already satisfied: python-json-logger>=2.0.4 in /opt/conda/lib/python3.10/site-packages (from jupyter-events>=0.9.0->jupyter-server<3,>=2.4.0->jupyterlab) (2.0.7)\n",
      "Requirement already satisfied: pyyaml>=5.3 in /opt/conda/lib/python3.10/site-packages (from jupyter-events>=0.9.0->jupyter-server<3,>=2.4.0->jupyterlab) (6.0.2)\n",
      "Requirement already satisfied: rfc3339-validator in /opt/conda/lib/python3.10/site-packages (from jupyter-events>=0.9.0->jupyter-server<3,>=2.4.0->jupyterlab) (0.1.4)\n",
      "Requirement already satisfied: rfc3986-validator>=0.1.1 in /opt/conda/lib/python3.10/site-packages (from jupyter-events>=0.9.0->jupyter-server<3,>=2.4.0->jupyterlab) (0.1.1)\n",
      "Requirement already satisfied: mistune<2,>=0.8.1 in /opt/conda/lib/python3.10/site-packages (from nbconvert>=6.4.4->jupyter-server<3,>=2.4.0->jupyterlab) (0.8.4)\n",
      "Requirement already satisfied: jupyterlab-pygments in /opt/conda/lib/python3.10/site-packages (from nbconvert>=6.4.4->jupyter-server<3,>=2.4.0->jupyterlab) (0.3.0)\n",
      "Requirement already satisfied: bleach in /opt/conda/lib/python3.10/site-packages (from nbconvert>=6.4.4->jupyter-server<3,>=2.4.0->jupyterlab) (6.1.0)\n",
      "Requirement already satisfied: pandocfilters>=1.4.1 in /opt/conda/lib/python3.10/site-packages (from nbconvert>=6.4.4->jupyter-server<3,>=2.4.0->jupyterlab) (1.5.0)\n",
      "Requirement already satisfied: testpath in /opt/conda/lib/python3.10/site-packages (from nbconvert>=6.4.4->jupyter-server<3,>=2.4.0->jupyterlab) (0.6.0)\n",
      "Requirement already satisfied: defusedxml in /opt/conda/lib/python3.10/site-packages (from nbconvert>=6.4.4->jupyter-server<3,>=2.4.0->jupyterlab) (0.7.1)\n",
      "Requirement already satisfied: beautifulsoup4 in /opt/conda/lib/python3.10/site-packages (from nbconvert>=6.4.4->jupyter-server<3,>=2.4.0->jupyterlab) (4.12.3)\n",
      "Requirement already satisfied: nbclient<0.6.0,>=0.5.0 in /opt/conda/lib/python3.10/site-packages (from nbconvert>=6.4.4->jupyter-server<3,>=2.4.0->jupyterlab) (0.5.13)\n",
      "Requirement already satisfied: fastjsonschema>=2.15 in /opt/conda/lib/python3.10/site-packages (from nbformat>=5.3.0->jupyter-server<3,>=2.4.0->jupyterlab) (2.19.1)\n",
      "Requirement already satisfied: ptyprocess>=0.5 in /opt/conda/lib/python3.10/site-packages (from pexpect>4.3->ipython>=6.1.0->ipywidgets) (0.7.0)\n",
      "Requirement already satisfied: wcwidth in /opt/conda/lib/python3.10/site-packages (from prompt-toolkit<3.1.0,>=3.0.41->ipython>=6.1.0->ipywidgets) (0.2.13)\n",
      "Requirement already satisfied: charset-normalizer<4,>=2 in /opt/conda/lib/python3.10/site-packages (from requests>=2.31->jupyterlab-server<3,>=2.27.1->jupyterlab) (3.3.2)\n",
      "Requirement already satisfied: urllib3<3,>=1.21.1 in /opt/conda/lib/python3.10/site-packages (from requests>=2.31->jupyterlab-server<3,>=2.27.1->jupyterlab) (1.26.18)\n",
      "Requirement already satisfied: argon2-cffi-bindings in /opt/conda/lib/python3.10/site-packages (from argon2-cffi->jupyter-server<3,>=2.4.0->jupyterlab) (21.2.0)\n",
      "Requirement already satisfied: executing>=1.2.0 in /opt/conda/lib/python3.10/site-packages (from stack-data->ipython>=6.1.0->ipywidgets) (2.0.1)\n",
      "Requirement already satisfied: asttokens>=2.1.0 in /opt/conda/lib/python3.10/site-packages (from stack-data->ipython>=6.1.0->ipywidgets) (2.4.1)\n",
      "Requirement already satisfied: pure-eval in /opt/conda/lib/python3.10/site-packages (from stack-data->ipython>=6.1.0->ipywidgets) (0.2.2)\n",
      "Requirement already satisfied: six>=1.12.0 in /opt/conda/lib/python3.10/site-packages (from asttokens>=2.1.0->stack-data->ipython>=6.1.0->ipywidgets) (1.16.0)\n",
      "Requirement already satisfied: fqdn in /opt/conda/lib/python3.10/site-packages (from jsonschema[format-nongpl]>=4.18.0->jupyter-events>=0.9.0->jupyter-server<3,>=2.4.0->jupyterlab) (1.5.1)\n",
      "Requirement already satisfied: isoduration in /opt/conda/lib/python3.10/site-packages (from jsonschema[format-nongpl]>=4.18.0->jupyter-events>=0.9.0->jupyter-server<3,>=2.4.0->jupyterlab) (20.11.0)\n",
      "Requirement already satisfied: jsonpointer>1.13 in /opt/conda/lib/python3.10/site-packages (from jsonschema[format-nongpl]>=4.18.0->jupyter-events>=0.9.0->jupyter-server<3,>=2.4.0->jupyterlab) (2.4)\n",
      "Requirement already satisfied: uri-template in /opt/conda/lib/python3.10/site-packages (from jsonschema[format-nongpl]>=4.18.0->jupyter-events>=0.9.0->jupyter-server<3,>=2.4.0->jupyterlab) (1.3.0)\n",
      "Requirement already satisfied: webcolors>=1.11 in /opt/conda/lib/python3.10/site-packages (from jsonschema[format-nongpl]>=4.18.0->jupyter-events>=0.9.0->jupyter-server<3,>=2.4.0->jupyterlab) (24.6.0)\n",
      "Requirement already satisfied: cffi>=1.0.1 in /opt/conda/lib/python3.10/site-packages (from argon2-cffi-bindings->argon2-cffi->jupyter-server<3,>=2.4.0->jupyterlab) (1.16.0)\n",
      "Requirement already satisfied: soupsieve>1.2 in /opt/conda/lib/python3.10/site-packages (from beautifulsoup4->nbconvert>=6.4.4->jupyter-server<3,>=2.4.0->jupyterlab) (2.5)\n",
      "Requirement already satisfied: webencodings in /opt/conda/lib/python3.10/site-packages (from bleach->nbconvert>=6.4.4->jupyter-server<3,>=2.4.0->jupyterlab) (0.5.1)\n",
      "Requirement already satisfied: pycparser in /opt/conda/lib/python3.10/site-packages (from cffi>=1.0.1->argon2-cffi-bindings->argon2-cffi->jupyter-server<3,>=2.4.0->jupyterlab) (2.22)\n",
      "Requirement already satisfied: arrow>=0.15.0 in /opt/conda/lib/python3.10/site-packages (from isoduration->jsonschema[format-nongpl]>=4.18.0->jupyter-events>=0.9.0->jupyter-server<3,>=2.4.0->jupyterlab) (1.3.0)\n",
      "Requirement already satisfied: types-python-dateutil>=2.8.10 in /opt/conda/lib/python3.10/site-packages (from arrow>=0.15.0->isoduration->jsonschema[format-nongpl]>=4.18.0->jupyter-events>=0.9.0->jupyter-server<3,>=2.4.0->jupyterlab) (2.9.0.20240316)\n",
      "Downloading jupyterlab-4.3.1-py3-none-any.whl (11.7 MB)\n",
      "\u001b[2K   \u001b[90m━━━━━━━━━━━━━━━━━━━━━━━━━━━━━━━━━━━━━━━━\u001b[0m \u001b[32m11.7/11.7 MB\u001b[0m \u001b[31m96.2 MB/s\u001b[0m eta \u001b[36m0:00:00\u001b[0m:00:01\u001b[0m00:01\u001b[0m\n",
      "\u001b[?25hDownloading ipywidgets-8.1.5-py3-none-any.whl (139 kB)\n",
      "\u001b[2K   \u001b[90m━━━━━━━━━━━━━━━━━━━━━━━━━━━━━━━━━━━━━━━━\u001b[0m \u001b[32m139.8/139.8 kB\u001b[0m \u001b[31m7.9 MB/s\u001b[0m eta \u001b[36m0:00:00\u001b[0m\n",
      "\u001b[?25hDownloading jupyterlab_widgets-3.0.13-py3-none-any.whl (214 kB)\n",
      "\u001b[2K   \u001b[90m━━━━━━━━━━━━━━━━━━━━━━━━━━━━━━━━━━━━━━━━\u001b[0m \u001b[32m214.4/214.4 kB\u001b[0m \u001b[31m16.1 MB/s\u001b[0m eta \u001b[36m0:00:00\u001b[0m\n",
      "\u001b[?25hDownloading jupyter_lsp-2.2.5-py3-none-any.whl (69 kB)\n",
      "\u001b[2K   \u001b[90m━━━━━━━━━━━━━━━━━━━━━━━━━━━━━━━━━━━━━━━━\u001b[0m \u001b[32m69.1/69.1 kB\u001b[0m \u001b[31m4.9 MB/s\u001b[0m eta \u001b[36m0:00:00\u001b[0m\n",
      "\u001b[?25hDownloading widgetsnbextension-4.0.13-py3-none-any.whl (2.3 MB)\n",
      "\u001b[2K   \u001b[90m━━━━━━━━━━━━━━━━━━━━━━━━━━━━━━━━━━━━━━━━\u001b[0m \u001b[32m2.3/2.3 MB\u001b[0m \u001b[31m74.0 MB/s\u001b[0m eta \u001b[36m0:00:00\u001b[0m\n",
      "\u001b[?25hInstalling collected packages: widgetsnbextension, jupyterlab-widgets, ipywidgets, jupyter-lsp, jupyterlab\n",
      "  Attempting uninstall: widgetsnbextension\n",
      "    Found existing installation: widgetsnbextension 3.6.9\n",
      "    Uninstalling widgetsnbextension-3.6.9:\n",
      "      Successfully uninstalled widgetsnbextension-3.6.9\n",
      "  Attempting uninstall: jupyterlab-widgets\n",
      "    Found existing installation: jupyterlab_widgets 3.0.11\n",
      "    Uninstalling jupyterlab_widgets-3.0.11:\n",
      "      Successfully uninstalled jupyterlab_widgets-3.0.11\n",
      "  Attempting uninstall: ipywidgets\n",
      "    Found existing installation: ipywidgets 7.7.1\n",
      "    Uninstalling ipywidgets-7.7.1:\n",
      "      Successfully uninstalled ipywidgets-7.7.1\n",
      "  Attempting uninstall: jupyter-lsp\n",
      "    Found existing installation: jupyter-lsp 1.5.1\n",
      "    Uninstalling jupyter-lsp-1.5.1:\n",
      "      Successfully uninstalled jupyter-lsp-1.5.1\n",
      "  Attempting uninstall: jupyterlab\n",
      "    Found existing installation: jupyterlab 4.2.5\n",
      "    Uninstalling jupyterlab-4.2.5:\n",
      "      Successfully uninstalled jupyterlab-4.2.5\n",
      "\u001b[31mERROR: pip's dependency resolver does not currently take into account all the packages that are installed. This behaviour is the source of the following dependency conflicts.\n",
      "beatrix-jupyterlab 2024.66.154055 requires jupyterlab~=3.6.0, but you have jupyterlab 4.3.1 which is incompatible.\n",
      "bigframes 0.22.0 requires google-cloud-bigquery[bqstorage,pandas]>=3.10.0, but you have google-cloud-bigquery 2.34.4 which is incompatible.\n",
      "bigframes 0.22.0 requires google-cloud-storage>=2.0.0, but you have google-cloud-storage 1.44.0 which is incompatible.\n",
      "bigframes 0.22.0 requires pandas<2.1.4,>=1.5.0, but you have pandas 2.2.2 which is incompatible.\n",
      "dataproc-jupyter-plugin 0.1.79 requires pydantic~=1.10.0, but you have pydantic 2.9.2 which is incompatible.\u001b[0m\u001b[31m\n",
      "\u001b[0mSuccessfully installed ipywidgets-8.1.5 jupyter-lsp-2.2.5 jupyterlab-4.3.1 jupyterlab-widgets-3.0.13 widgetsnbextension-4.0.13\n",
      "Note: you may need to restart the kernel to use updated packages.\n"
     ]
    }
   ],
   "source": [
    "pip install -U jupyterlab ipywidgets jupyterlab-widgets;"
   ]
  },
  {
   "cell_type": "code",
   "execution_count": 13,
   "metadata": {
    "execution": {
     "iopub.execute_input": "2024-11-22T13:48:19.591607Z",
     "iopub.status.busy": "2024-11-22T13:48:19.591290Z",
     "iopub.status.idle": "2024-11-22T13:48:22.170724Z",
     "shell.execute_reply": "2024-11-22T13:48:22.169671Z",
     "shell.execute_reply.started": "2024-11-22T13:48:19.591579Z"
    },
    "trusted": true
   },
   "outputs": [
    {
     "data": {
      "application/vnd.jupyter.widget-view+json": {
       "model_id": "2f83b6416a034c6f9c557fabb14fe4c8",
       "version_major": 2,
       "version_minor": 0
      },
      "text/plain": [
       "tokenizer_config.json:   0%|          | 0.00/55.4k [00:00<?, ?B/s]"
      ]
     },
     "metadata": {},
     "output_type": "display_data"
    },
    {
     "data": {
      "application/vnd.jupyter.widget-view+json": {
       "model_id": "038f26ef349c4bcbb77883d4b551dc77",
       "version_major": 2,
       "version_minor": 0
      },
      "text/plain": [
       "tokenizer.json:   0%|          | 0.00/9.09M [00:00<?, ?B/s]"
      ]
     },
     "metadata": {},
     "output_type": "display_data"
    },
    {
     "data": {
      "application/vnd.jupyter.widget-view+json": {
       "model_id": "7d18871c67524349ad4d91dc28a05d69",
       "version_major": 2,
       "version_minor": 0
      },
      "text/plain": [
       "special_tokens_map.json:   0%|          | 0.00/296 [00:00<?, ?B/s]"
      ]
     },
     "metadata": {},
     "output_type": "display_data"
    }
   ],
   "source": [
    "use_8bit = True\n",
    "\n",
    "bnb_config = BitsAndBytesConfig(\n",
    "    load_in_8bit=use_8bit,\n",
    "    llm_int8_threshold=6.0,\n",
    "    llm_int8_has_fp16_weight=False,\n",
    ")\n",
    "\n",
    "# Load the Llama 3 8B model and tokenizer\n",
    "model_name = \"meta-llama/Meta-Llama-3.1-8B-Instruct\"  \n",
    "tokenizer = AutoTokenizer.from_pretrained(model_name, token=HF_token)\n",
    "tokenizer.pad_token = tokenizer.eos_token"
   ]
  },
  {
   "cell_type": "code",
   "execution_count": 14,
   "metadata": {
    "execution": {
     "iopub.execute_input": "2024-11-22T13:48:22.172310Z",
     "iopub.status.busy": "2024-11-22T13:48:22.172034Z",
     "iopub.status.idle": "2024-11-22T13:55:33.396844Z",
     "shell.execute_reply": "2024-11-22T13:55:33.395960Z",
     "shell.execute_reply.started": "2024-11-22T13:48:22.172283Z"
    },
    "trusted": true
   },
   "outputs": [
    {
     "data": {
      "application/vnd.jupyter.widget-view+json": {
       "model_id": "4cdbf8e852f64d0b9a5e418f2237be1b",
       "version_major": 2,
       "version_minor": 0
      },
      "text/plain": [
       "config.json:   0%|          | 0.00/855 [00:00<?, ?B/s]"
      ]
     },
     "metadata": {},
     "output_type": "display_data"
    },
    {
     "data": {
      "application/vnd.jupyter.widget-view+json": {
       "model_id": "c2c41b6b64b0445e8197883026340920",
       "version_major": 2,
       "version_minor": 0
      },
      "text/plain": [
       "model.safetensors.index.json:   0%|          | 0.00/23.9k [00:00<?, ?B/s]"
      ]
     },
     "metadata": {},
     "output_type": "display_data"
    },
    {
     "data": {
      "application/vnd.jupyter.widget-view+json": {
       "model_id": "2bfc137b3efe45c7bfa35cfacdf8ed7e",
       "version_major": 2,
       "version_minor": 0
      },
      "text/plain": [
       "Downloading shards:   0%|          | 0/4 [00:00<?, ?it/s]"
      ]
     },
     "metadata": {},
     "output_type": "display_data"
    },
    {
     "data": {
      "application/vnd.jupyter.widget-view+json": {
       "model_id": "6f4ff9e8fae34ea794f66a518a5673ce",
       "version_major": 2,
       "version_minor": 0
      },
      "text/plain": [
       "model-00001-of-00004.safetensors:   0%|          | 0.00/4.98G [00:00<?, ?B/s]"
      ]
     },
     "metadata": {},
     "output_type": "display_data"
    },
    {
     "data": {
      "application/vnd.jupyter.widget-view+json": {
       "model_id": "89066e25411843be937dc765c75424fb",
       "version_major": 2,
       "version_minor": 0
      },
      "text/plain": [
       "model-00002-of-00004.safetensors:   0%|          | 0.00/5.00G [00:00<?, ?B/s]"
      ]
     },
     "metadata": {},
     "output_type": "display_data"
    },
    {
     "data": {
      "application/vnd.jupyter.widget-view+json": {
       "model_id": "560f2d560cc64405a63bb1c6ddf1aae9",
       "version_major": 2,
       "version_minor": 0
      },
      "text/plain": [
       "model-00003-of-00004.safetensors:   0%|          | 0.00/4.92G [00:00<?, ?B/s]"
      ]
     },
     "metadata": {},
     "output_type": "display_data"
    },
    {
     "data": {
      "application/vnd.jupyter.widget-view+json": {
       "model_id": "851ccd0c3fbb4a03af0fd7cae3ae65f2",
       "version_major": 2,
       "version_minor": 0
      },
      "text/plain": [
       "model-00004-of-00004.safetensors:   0%|          | 0.00/1.17G [00:00<?, ?B/s]"
      ]
     },
     "metadata": {},
     "output_type": "display_data"
    },
    {
     "data": {
      "application/vnd.jupyter.widget-view+json": {
       "model_id": "f4343cb2e69d4828855020cf9468f8a7",
       "version_major": 2,
       "version_minor": 0
      },
      "text/plain": [
       "Loading checkpoint shards:   0%|          | 0/4 [00:00<?, ?it/s]"
      ]
     },
     "metadata": {},
     "output_type": "display_data"
    },
    {
     "data": {
      "application/vnd.jupyter.widget-view+json": {
       "model_id": "31ac740ba741496994333c3729148641",
       "version_major": 2,
       "version_minor": 0
      },
      "text/plain": [
       "generation_config.json:   0%|          | 0.00/184 [00:00<?, ?B/s]"
      ]
     },
     "metadata": {},
     "output_type": "display_data"
    }
   ],
   "source": [
    "llama_model = AutoModelForCausalLM.from_pretrained(model_name,\n",
    "                                                   quantization_config=bnb_config,\n",
    "                                                   device_map=\"auto\",\n",
    "                                                   token=HF_token)"
   ]
  },
  {
   "cell_type": "code",
   "execution_count": 15,
   "metadata": {
    "execution": {
     "iopub.execute_input": "2024-11-22T13:55:33.398634Z",
     "iopub.status.busy": "2024-11-22T13:55:33.398087Z",
     "iopub.status.idle": "2024-11-22T13:55:33.403113Z",
     "shell.execute_reply": "2024-11-22T13:55:33.402193Z",
     "shell.execute_reply.started": "2024-11-22T13:55:33.398591Z"
    },
    "trusted": true
   },
   "outputs": [],
   "source": [
    "# del llama_model\n",
    "# import gc\n",
    "# import torch\n",
    "\n",
    "# # Assuming `obj` is the object consuming GPU memory\n",
    "# obj = None\n",
    "\n",
    "# # Collect garbage\n",
    "# gc.collect()\n",
    "\n",
    "# # Empty PyTorch cache\n",
    "# torch.cuda.empty_cache()"
   ]
  },
  {
   "cell_type": "code",
   "execution_count": 16,
   "metadata": {
    "execution": {
     "iopub.execute_input": "2024-11-22T13:55:33.404540Z",
     "iopub.status.busy": "2024-11-22T13:55:33.404261Z",
     "iopub.status.idle": "2024-11-22T13:55:33.417046Z",
     "shell.execute_reply": "2024-11-22T13:55:33.416283Z",
     "shell.execute_reply.started": "2024-11-22T13:55:33.404513Z"
    },
    "trusted": true
   },
   "outputs": [],
   "source": [
    "system={\"role\": \"system\", \n",
    "    \"content\": \n",
    "\"\"\"\n",
    "You need to provide a jsonised output containing the following sections extracted from the query:\n",
    "{\n",
    "\"Parsed_Parameters\": {\n",
    "                \"X_dimension\": <float>,\n",
    "                \"Y_dimension\": <float>,\n",
    "                \"Number_of_Users\": <int>,\n",
    "                \"Number_of_Routers\": <int>,\n",
    "                \"X_User_Distribution\": <string>,\n",
    "                \"Y_User_Distribution\": <string>,\n",
    "                \"Height\": <float>,\n",
    "                \"K\": <float>,\n",
    "                \"Alpha\": <float>,\n",
    "                \"Transmit_Power\": <float>,\n",
    "                \"User Equipment Height\":<float>\n",
    "            }\n",
    "}\n",
    "\n",
    "Example of what your output should look like:\n",
    "{\n",
    "  \"Parsed_Parameters\": {\n",
    "    \"X_dimension\": 30.0,\n",
    "    \"Y_dimension\": 40.0,\n",
    "    \"Number_of_Users\": 100,\n",
    "    \"Number_of_Routers\": 6,\n",
    "    \"X_User_Distribution\": \"Exponential\",\n",
    "    \"Y_User_Distribution\": \"Exponential\",\n",
    "    \"Height\": 4.0,\n",
    "    \"K\": 15.0,\n",
    "    \"Alpha\": 0.005,\n",
    "    \"Transmit_Power\": 19,\n",
    "    \"User Equipment Height\": 1.0\n",
    "  }\n",
    "}\n",
    "\n",
    "Any information missing in the user request must be retreived from router specification files or environment files in the context files provided.\n",
    "\n",
    "X and Y Distribution must be one of Uniform, Gaussian, Exponential, Bi-Exponential\n",
    "\n",
    "Only provide the output parsed json without any reasoning or any other statements.\n",
    "\n",
    "Extract only the parameters mentioned in the example output.\n",
    "\"\"\"\n",
    "}"
   ]
  },
  {
   "cell_type": "code",
   "execution_count": 19,
   "metadata": {
    "execution": {
     "iopub.execute_input": "2024-11-22T13:55:33.444262Z",
     "iopub.status.busy": "2024-11-22T13:55:33.443955Z",
     "iopub.status.idle": "2024-11-22T13:55:33.454211Z",
     "shell.execute_reply": "2024-11-22T13:55:33.453536Z",
     "shell.execute_reply.started": "2024-11-22T13:55:33.444223Z"
    },
    "trusted": true
   },
   "outputs": [],
   "source": [
    "context='CONTEXT: \\n'\n",
    "for f in environment_list:\n",
    "    context=context+f\n",
    "for f in router_list:\n",
    "    context=context+f\n",
    "context=context+defaults"
   ]
  },
  {
   "cell_type": "code",
   "execution_count": 20,
   "metadata": {
    "execution": {
     "iopub.execute_input": "2024-11-22T13:55:33.455693Z",
     "iopub.status.busy": "2024-11-22T13:55:33.455445Z",
     "iopub.status.idle": "2024-11-22T13:55:33.464635Z",
     "shell.execute_reply": "2024-11-22T13:55:33.463863Z",
     "shell.execute_reply.started": "2024-11-22T13:55:33.455671Z"
    },
    "trusted": true
   },
   "outputs": [
    {
     "name": "stdout",
     "output_type": "stream",
     "text": [
      "Can you optimize the placement of 8 routers in a 50m x 20m office with 180 users to reduce power degradation? The users are concentrated near one corner and the device is a Cisco ASR-900.\n"
     ]
    }
   ],
   "source": [
    "print(dataset_list[0][\"2\"][11][\"Original_Request\"])"
   ]
  },
  {
   "cell_type": "code",
   "execution_count": 21,
   "metadata": {
    "execution": {
     "iopub.execute_input": "2024-11-22T13:55:33.465711Z",
     "iopub.status.busy": "2024-11-22T13:55:33.465447Z",
     "iopub.status.idle": "2024-11-22T13:57:21.009890Z",
     "shell.execute_reply": "2024-11-22T13:57:21.008717Z",
     "shell.execute_reply.started": "2024-11-22T13:55:33.465688Z"
    },
    "trusted": true
   },
   "outputs": [
    {
     "name": "stderr",
     "output_type": "stream",
     "text": [
      "The attention mask and the pad token id were not set. As a consequence, you may observe unexpected behavior. Please pass your input's `attention_mask` to obtain reliable results.\n",
      "Setting `pad_token_id` to `eos_token_id`:None for open-end generation.\n",
      "The attention mask is not set and cannot be inferred from input because pad token is same as eos token. As a consequence, you may observe unexpected behavior. Please pass your input's `attention_mask` to obtain reliable results.\n",
      "Starting from v4.46, the `logits` model output will have the same type as the model (except at train time, where it will always be FP32)\n"
     ]
    }
   ],
   "source": [
    "request=dataset_list[0][\"2\"][11][\"Original_Request\"]\n",
    "message=[system,\n",
    "    {\"role\":\"user\",\"content\":context+\"\\n User Request: \\n \" + request}]\n",
    "input_ids = tokenizer.apply_chat_template(message, return_tensors=\"pt\",padding=True, truncation=True,).to(llama_model.device)\n",
    "with torch.no_grad():\n",
    "     output = llama_model.generate(input_ids, max_length=input_ids.shape[1]+500, num_return_sequences=1, temperature=0.1);\n",
    "input_length = input_ids.shape[1] \n",
    "clean_prompt=output[0][input_length+3:];\n",
    "answer=tokenizer.decode(clean_prompt, skip_special_tokens=True);\n"
   ]
  },
  {
   "cell_type": "code",
   "execution_count": 22,
   "metadata": {
    "execution": {
     "iopub.execute_input": "2024-11-22T13:57:21.012103Z",
     "iopub.status.busy": "2024-11-22T13:57:21.011400Z",
     "iopub.status.idle": "2024-11-22T13:57:21.018134Z",
     "shell.execute_reply": "2024-11-22T13:57:21.016864Z",
     "shell.execute_reply.started": "2024-11-22T13:57:21.012061Z"
    },
    "trusted": true
   },
   "outputs": [
    {
     "name": "stdout",
     "output_type": "stream",
     "text": [
      "\n",
      "\n",
      "{\n",
      "  \"Parsed_Parameters\": {\n",
      "    \"X_dimension\": 50.0,\n",
      "    \"Y_dimension\": 20.0,\n",
      "    \"Number_of_Users\": 180,\n",
      "    \"Number_of_Routers\": 8,\n",
      "    \"X_User_Distribution\": \"Along One Corner\",\n",
      "    \"Y_User_Distribution\": \"Uniform\",\n",
      "    \"Height\": 3.0,\n",
      "    \"K\": 0.005,\n",
      "    \"Alpha\": 3.0,\n",
      "    \"Transmit_Power\": 19,\n",
      "    \"User_Equipment_Height\": 1.0\n",
      "  }\n",
      "}\n"
     ]
    }
   ],
   "source": [
    "print(answer)"
   ]
  },
  {
   "cell_type": "code",
   "execution_count": 23,
   "metadata": {
    "execution": {
     "iopub.execute_input": "2024-11-22T13:57:21.019771Z",
     "iopub.status.busy": "2024-11-22T13:57:21.019413Z",
     "iopub.status.idle": "2024-11-22T13:57:21.029395Z",
     "shell.execute_reply": "2024-11-22T13:57:21.028507Z",
     "shell.execute_reply.started": "2024-11-22T13:57:21.019741Z"
    },
    "trusted": true
   },
   "outputs": [],
   "source": [
    "json_answers=[]"
   ]
  },
  {
   "cell_type": "code",
   "execution_count": 58,
   "metadata": {
    "execution": {
     "iopub.execute_input": "2024-11-22T20:01:20.361207Z",
     "iopub.status.busy": "2024-11-22T20:01:20.360888Z",
     "iopub.status.idle": "2024-11-22T20:01:20.775425Z",
     "shell.execute_reply": "2024-11-22T20:01:20.774453Z",
     "shell.execute_reply.started": "2024-11-22T20:01:20.361174Z"
    },
    "trusted": true
   },
   "outputs": [],
   "source": [
    "import gc\n",
    "# Collect garbage\n",
    "gc.collect()\n",
    "\n",
    "# Empty PyTorch cache\n",
    "torch.cuda.empty_cache()"
   ]
  },
  {
   "cell_type": "code",
   "execution_count": 49,
   "metadata": {
    "collapsed": true,
    "execution": {
     "iopub.execute_input": "2024-11-22T18:59:25.294575Z",
     "iopub.status.busy": "2024-11-22T18:59:25.294168Z",
     "iopub.status.idle": "2024-11-22T19:48:30.824426Z",
     "shell.execute_reply": "2024-11-22T19:48:30.823589Z",
     "shell.execute_reply.started": "2024-11-22T18:59:25.294540Z"
    },
    "jupyter": {
     "outputs_hidden": true
    },
    "trusted": true
   },
   "outputs": [
    {
     "name": "stderr",
     "output_type": "stream",
     "text": [
      "The attention mask and the pad token id were not set. As a consequence, you may observe unexpected behavior. Please pass your input's `attention_mask` to obtain reliable results.\n",
      "Setting `pad_token_id` to `eos_token_id`:None for open-end generation.\n"
     ]
    },
    {
     "name": "stdout",
     "output_type": "stream",
     "text": [
      "Class 4\n",
      "Type 0\n"
     ]
    },
    {
     "name": "stderr",
     "output_type": "stream",
     "text": [
      "The attention mask and the pad token id were not set. As a consequence, you may observe unexpected behavior. Please pass your input's `attention_mask` to obtain reliable results.\n",
      "Setting `pad_token_id` to `eos_token_id`:None for open-end generation.\n"
     ]
    },
    {
     "name": "stdout",
     "output_type": "stream",
     "text": [
      "31 :\n",
      "\n",
      "\n",
      "{\n",
      "  \"Parsed_Parameters\": {\n",
      "    \"X_dimension\": 40.0,\n",
      "    \"Y_dimension\": 30.0,\n",
      "    \"Number_of_Users\": 120,\n",
      "    \"Number_of_Routers\": 5,\n",
      "    \"X_User_Distribution\": \"Uniform\",\n",
      "    \"Y_User_Distribution\": \"Uniform\",\n",
      "    \"Height\": 4.0,\n",
      "    \"K\": 0.02,\n",
      "    \"Alpha\": 2.5,\n",
      "    \"Transmit_Power\": 20,\n",
      "    \"User_Equipment_Height\": 1.0\n",
      "  }\n",
      "}\n",
      ",\n"
     ]
    },
    {
     "name": "stderr",
     "output_type": "stream",
     "text": [
      "The attention mask and the pad token id were not set. As a consequence, you may observe unexpected behavior. Please pass your input's `attention_mask` to obtain reliable results.\n",
      "Setting `pad_token_id` to `eos_token_id`:None for open-end generation.\n"
     ]
    },
    {
     "name": "stdout",
     "output_type": "stream",
     "text": [
      "32 :\n",
      "\n",
      "\n",
      "{\n",
      "  \"Parsed_Parameters\": {\n",
      "    \"X_dimension\": 30.0,\n",
      "    \"Y_dimension\": 20.0,\n",
      "    \"Number_of_Users\": 100,\n",
      "    \"Number_of_Routers\": 10,\n",
      "    \"X_User_Distribution\": \"Bi-Exponential\",\n",
      "    \"Y_User_Distribution\": \"Bi-Exponential\",\n",
      "    \"Height\": 3.0,\n",
      "    \"K\": 0.005,\n",
      "    \"Alpha\": 3.5,\n",
      "    \"Transmit_Power\": 15.0,\n",
      "    \"User_Equipment_Height\": 1.0\n",
      "  }\n",
      "}\n",
      ",\n"
     ]
    },
    {
     "name": "stderr",
     "output_type": "stream",
     "text": [
      "The attention mask and the pad token id were not set. As a consequence, you may observe unexpected behavior. Please pass your input's `attention_mask` to obtain reliable results.\n",
      "Setting `pad_token_id` to `eos_token_id`:None for open-end generation.\n"
     ]
    },
    {
     "name": "stdout",
     "output_type": "stream",
     "text": [
      "33 :\n",
      "\n",
      "\n",
      "{\n",
      "  \"Parsed_Parameters\": {\n",
      "    \"X_dimension\": 45.0,\n",
      "    \"Y_dimension\": 25.0,\n",
      "    \"Number_of_Users\": 180,\n",
      "    \"Number_of_Routers\": 6,\n",
      "    \"X_User_Distribution\": \"Gaussian\",\n",
      "    \"Y_User_Distribution\": \"Gaussian\",\n",
      "    \"Height\": 5.0,\n",
      "    \"K\": 0.03,\n",
      "    \"Alpha\": 2.2,\n",
      "    \"Transmit_Power\": 28,\n",
      "    \"User_Equipment_Height\": 1.5\n",
      "  }\n",
      "}\n",
      ",\n"
     ]
    },
    {
     "name": "stderr",
     "output_type": "stream",
     "text": [
      "The attention mask and the pad token id were not set. As a consequence, you may observe unexpected behavior. Please pass your input's `attention_mask` to obtain reliable results.\n",
      "Setting `pad_token_id` to `eos_token_id`:None for open-end generation.\n"
     ]
    },
    {
     "name": "stdout",
     "output_type": "stream",
     "text": [
      "34 :\n",
      "\n",
      "\n",
      "{\n",
      "  \"Parsed_Parameters\": {\n",
      "    \"X_dimension\": 20.0,\n",
      "    \"Y_dimension\": 15.0,\n",
      "    \"Number_of_Users\": 50,\n",
      "    \"Number_of_Routers\": 4,\n",
      "    \"X_User_Distribution\": \"Exponential\",\n",
      "    \"Y_User_Distribution\": \"Uniform\",\n",
      "    \"Height\": 3.0,\n",
      "    \"K\": 0.01,\n",
      "    \"Alpha\": 3.8,\n",
      "    \"Transmit_Power\": 12,\n",
      "    \"User_Equipment_Height\": 1.0\n",
      "  }\n",
      "}\n",
      ",\n"
     ]
    },
    {
     "name": "stderr",
     "output_type": "stream",
     "text": [
      "The attention mask and the pad token id were not set. As a consequence, you may observe unexpected behavior. Please pass your input's `attention_mask` to obtain reliable results.\n",
      "Setting `pad_token_id` to `eos_token_id`:None for open-end generation.\n"
     ]
    },
    {
     "name": "stdout",
     "output_type": "stream",
     "text": [
      "35 :\n",
      "\n",
      "\n",
      "{\n",
      "  \"Parsed_Parameters\": {\n",
      "    \"X_dimension\": 50.0,\n",
      "    \"Y_dimension\": 40.0,\n",
      "    \"Number_of_Users\": 200,\n",
      "    \"Number_of_Routers\": 9,\n",
      "    \"X_User_Distribution\": \"Bi-Exponential\",\n",
      "    \"Y_User_Distribution\": \"Bi-Exponential\",\n",
      "    \"Height\": 6.0,\n",
      "    \"K\": 0.04,\n",
      "    \"Alpha\": 2.8,\n",
      "    \"Transmit_Power\": 25,\n",
      "    \"User_Equipment_Height\": 1.0\n",
      "  }\n",
      "}\n",
      ",\n"
     ]
    },
    {
     "name": "stderr",
     "output_type": "stream",
     "text": [
      "The attention mask and the pad token id were not set. As a consequence, you may observe unexpected behavior. Please pass your input's `attention_mask` to obtain reliable results.\n",
      "Setting `pad_token_id` to `eos_token_id`:None for open-end generation.\n"
     ]
    },
    {
     "name": "stdout",
     "output_type": "stream",
     "text": [
      "36 :\n",
      "\n",
      "\n",
      "{\n",
      "  \"Parsed_Parameters\": {\n",
      "    \"X_dimension\": 55.0,\n",
      "    \"Y_dimension\": 30.0,\n",
      "    \"Number_of_Users\": 150,\n",
      "    \"Number_of_Routers\": 7,\n",
      "    \"X_User_Distribution\": \"Gaussian\",\n",
      "    \"Y_User_Distribution\": \"Exponential\",\n",
      "    \"Height\": 5.0,\n",
      "    \"K\": 0.02,\n",
      "    \"Alpha\": 3.2,\n",
      "    \"Transmit_Power\": 22.0,\n",
      "    \"User_Equipment_Height\": 1.0\n",
      "  }\n",
      "}\n",
      ",\n"
     ]
    },
    {
     "name": "stderr",
     "output_type": "stream",
     "text": [
      "The attention mask and the pad token id were not set. As a consequence, you may observe unexpected behavior. Please pass your input's `attention_mask` to obtain reliable results.\n",
      "Setting `pad_token_id` to `eos_token_id`:None for open-end generation.\n"
     ]
    },
    {
     "name": "stdout",
     "output_type": "stream",
     "text": [
      "37 :\n",
      "\n",
      "\n",
      "{\n",
      "  \"Parsed_Parameters\": {\n",
      "    \"X_dimension\": 35.0,\n",
      "    \"Y_dimension\": 25.0,\n",
      "    \"Number_of_Users\": 120,\n",
      "    \"Number_of_Routers\": 8,\n",
      "    \"X_User_Distribution\": \"Uniform\",\n",
      "    \"Y_User_Distribution\": \"Uniform\",\n",
      "    \"Height\": 4.0,\n",
      "    \"K\": 0.01,\n",
      "    \"Alpha\": 2.5,\n",
      "    \"Transmit_Power\": 18.0,\n",
      "    \"User_Equipment_Height\": 1.0\n",
      "  }\n",
      "}\n",
      ",\n"
     ]
    },
    {
     "name": "stderr",
     "output_type": "stream",
     "text": [
      "The attention mask and the pad token id were not set. As a consequence, you may observe unexpected behavior. Please pass your input's `attention_mask` to obtain reliable results.\n",
      "Setting `pad_token_id` to `eos_token_id`:None for open-end generation.\n"
     ]
    },
    {
     "name": "stdout",
     "output_type": "stream",
     "text": [
      "38 :\n",
      "\n",
      "\n",
      "{\n",
      "  \"Parsed_Parameters\": {\n",
      "    \"X_dimension\": 25.0,\n",
      "    \"Y_dimension\": 20.0,\n",
      "    \"Number_of_Users\": 80,\n",
      "    \"Number_of_Routers\": 5,\n",
      "    \"X_User_Distribution\": \"Bi-Exponential\",\n",
      "    \"Y_User_Distribution\": \"Bi-Exponential\",\n",
      "    \"Height\": 3.0,\n",
      "    \"K\": 0.005,\n",
      "    \"Alpha\": 3.5,\n",
      "    \"Transmit_Power\": 20,\n",
      "    \"User_Equipment_Height\": 1.0\n",
      "  }\n",
      "}\n",
      ",\n"
     ]
    },
    {
     "name": "stderr",
     "output_type": "stream",
     "text": [
      "The attention mask and the pad token id were not set. As a consequence, you may observe unexpected behavior. Please pass your input's `attention_mask` to obtain reliable results.\n",
      "Setting `pad_token_id` to `eos_token_id`:None for open-end generation.\n"
     ]
    },
    {
     "name": "stdout",
     "output_type": "stream",
     "text": [
      "39 :\n",
      "\n",
      "\n",
      "{\n",
      "  \"Parsed_Parameters\": {\n",
      "    \"X_dimension\": 40.0,\n",
      "    \"Y_dimension\": 30.0,\n",
      "    \"Number_of_Users\": 180,\n",
      "    \"Number_of_Routers\": 6,\n",
      "    \"X_User_Distribution\": \"Gaussian\",\n",
      "    \"Y_User_Distribution\": \"Gaussian\",\n",
      "    \"Height\": 5.0,\n",
      "    \"K\": 0.03,\n",
      "    \"Alpha\": 2.8,\n",
      "    \"Transmit_Power\": 25,\n",
      "    \"User_Equipment_Height\": 1.0\n",
      "  }\n",
      "}\n",
      ",\n"
     ]
    },
    {
     "name": "stderr",
     "output_type": "stream",
     "text": [
      "The attention mask and the pad token id were not set. As a consequence, you may observe unexpected behavior. Please pass your input's `attention_mask` to obtain reliable results.\n",
      "Setting `pad_token_id` to `eos_token_id`:None for open-end generation.\n"
     ]
    },
    {
     "name": "stdout",
     "output_type": "stream",
     "text": [
      "40 :\n",
      "\n",
      "\n",
      "{\n",
      "  \"Parsed_Parameters\": {\n",
      "    \"X_dimension\": 30.0,\n",
      "    \"Y_dimension\": 25.0,\n",
      "    \"Number_of_Users\": 60,\n",
      "    \"Number_of_Routers\": 4,\n",
      "    \"X_User_Distribution\": \"Exponential\",\n",
      "    \"Y_User_Distribution\": \"Uniform\",\n",
      "    \"Height\": 4.0,\n",
      "    \"K\": 0.02,\n",
      "    \"Alpha\": 3.2,\n",
      "    \"Transmit_Power\": 15,\n",
      "    \"User_Equipment_Height\": 1.0\n",
      "  }\n",
      "}\n",
      ",\n",
      "Type 1\n"
     ]
    },
    {
     "name": "stderr",
     "output_type": "stream",
     "text": [
      "The attention mask and the pad token id were not set. As a consequence, you may observe unexpected behavior. Please pass your input's `attention_mask` to obtain reliable results.\n",
      "Setting `pad_token_id` to `eos_token_id`:None for open-end generation.\n"
     ]
    },
    {
     "name": "stdout",
     "output_type": "stream",
     "text": [
      "41 :\n",
      "\n",
      "\n",
      "{\n",
      "  \"Parsed_Parameters\": {\n",
      "    \"X_dimension\": 20.0,\n",
      "    \"Y_dimension\": 50.0,\n",
      "    \"Number_of_Users\": 180,\n",
      "    \"Number_of_Routers\": 6,\n",
      "    \"X_User_Distribution\": \"Uniform\",\n",
      "    \"Y_User_Distribution\": \"Uniform\",\n",
      "    \"Height\": 4.0,\n",
      "    \"K\": 0.02,\n",
      "    \"Alpha\": 2.8,\n",
      "    \"Transmit_Power\": 19,\n",
      "    \"User_Equipment_Height\": 1.0\n",
      "  }\n",
      "}\n",
      ",\n"
     ]
    },
    {
     "name": "stderr",
     "output_type": "stream",
     "text": [
      "The attention mask and the pad token id were not set. As a consequence, you may observe unexpected behavior. Please pass your input's `attention_mask` to obtain reliable results.\n",
      "Setting `pad_token_id` to `eos_token_id`:None for open-end generation.\n"
     ]
    },
    {
     "name": "stdout",
     "output_type": "stream",
     "text": [
      "42 :\n",
      "\n",
      "\n",
      "{\n",
      "  \"Parsed_Parameters\": {\n",
      "    \"X_dimension\": 30.0,\n",
      "    \"Y_dimension\": 40.0,\n",
      "    \"Number_of_Users\": 100,\n",
      "    \"Number_of_Routers\": 5,\n",
      "    \"X_User_Distribution\": \"Uniform\",\n",
      "    \"Y_User_Distribution\": \"Uniform\",\n",
      "    \"Height\": 4.0,\n",
      "    \"K\": 0.03,\n",
      "    \"Alpha\": 2.8,\n",
      "    \"Transmit_Power\": 22,\n",
      "    \"User_Equipment_Height\": 1.0,\n",
      "    \"Router_Model\": \"Huawei NE40E\"\n",
      "  }\n",
      "}\n",
      ",\n"
     ]
    },
    {
     "name": "stderr",
     "output_type": "stream",
     "text": [
      "The attention mask and the pad token id were not set. As a consequence, you may observe unexpected behavior. Please pass your input's `attention_mask` to obtain reliable results.\n",
      "Setting `pad_token_id` to `eos_token_id`:None for open-end generation.\n"
     ]
    },
    {
     "name": "stdout",
     "output_type": "stream",
     "text": [
      "43 :\n",
      "\n",
      "\n",
      "{\n",
      "  \"Parsed_Parameters\": {\n",
      "    \"X_dimension\": 45.0,\n",
      "    \"Y_dimension\": 60.0,\n",
      "    \"Number_of_Users\": 200,\n",
      "    \"Number_of_Routers\": 9,\n",
      "    \"X_User_Distribution\": \"Uniform\",\n",
      "    \"Y_User_Distribution\": \"Uniform\",\n",
      "    \"Height\": 5.0,\n",
      "    \"K\": 0.02,\n",
      "    \"Alpha\": 3.2,\n",
      "    \"Transmit_Power\": 20,\n",
      "    \"User_Equipment_Height\": 1.5\n",
      "  }\n",
      "}\n",
      ",\n"
     ]
    },
    {
     "name": "stderr",
     "output_type": "stream",
     "text": [
      "The attention mask and the pad token id were not set. As a consequence, you may observe unexpected behavior. Please pass your input's `attention_mask` to obtain reliable results.\n",
      "Setting `pad_token_id` to `eos_token_id`:None for open-end generation.\n"
     ]
    },
    {
     "name": "stdout",
     "output_type": "stream",
     "text": [
      "44 :\n",
      "\n",
      "\n",
      "{\n",
      "  \"Parsed_Parameters\": {\n",
      "    \"X_dimension\": 15.0,\n",
      "    \"Y_dimension\": 25.0,\n",
      "    \"Number_of_Users\": 40,\n",
      "    \"Number_of_Routers\": 3,\n",
      "    \"X_User_Distribution\": \"Gaussian\",\n",
      "    \"Y_User_Distribution\": \"Gaussian\",\n",
      "    \"Height\": 3.0,\n",
      "    \"K\": 0.02,\n",
      "    \"Alpha\": 2.8,\n",
      "    \"Transmit_Power\": 20,\n",
      "    \"User_Equipment_Height\": 1.0,\n",
      "    \"Router_Model\": \"Nokia 7750\",\n",
      "    \"Distribution_Type\": \"Gaussian\"\n",
      "  }\n",
      "}\n",
      ",\n"
     ]
    },
    {
     "name": "stderr",
     "output_type": "stream",
     "text": [
      "The attention mask and the pad token id were not set. As a consequence, you may observe unexpected behavior. Please pass your input's `attention_mask` to obtain reliable results.\n",
      "Setting `pad_token_id` to `eos_token_id`:None for open-end generation.\n"
     ]
    },
    {
     "name": "stdout",
     "output_type": "stream",
     "text": [
      "45 :\n",
      "\n",
      "\n",
      "{\n",
      "  \"Parsed_Parameters\": {\n",
      "    \"X_dimension\": 20.0,\n",
      "    \"Y_dimension\": 30.0,\n",
      "    \"Number_of_Users\": 80,\n",
      "    \"Number_of_Routers\": 6,\n",
      "    \"X_User_Distribution\": \"Gaussian\",\n",
      "    \"Y_User_Distribution\": \"Gaussian\",\n",
      "    \"Height\": 3.0,\n",
      "    \"K\": 0.005,\n",
      "    \"Alpha\": 3.0,\n",
      "    \"Transmit_Power\": 19,\n",
      "    \"User_Equipment_Height\": 1.0\n",
      "  }\n",
      "}\n",
      ",\n"
     ]
    },
    {
     "name": "stderr",
     "output_type": "stream",
     "text": [
      "The attention mask and the pad token id were not set. As a consequence, you may observe unexpected behavior. Please pass your input's `attention_mask` to obtain reliable results.\n",
      "Setting `pad_token_id` to `eos_token_id`:None for open-end generation.\n"
     ]
    },
    {
     "name": "stdout",
     "output_type": "stream",
     "text": [
      "46 :\n",
      "\n",
      "\n",
      "{\n",
      "  \"Parsed_Parameters\": {\n",
      "    \"X_dimension\": 25.0,\n",
      "    \"Y_dimension\": 40.0,\n",
      "    \"Number_of_Users\": 150,\n",
      "    \"Number_of_Routers\": 8,\n",
      "    \"X_User_Distribution\": \"Uniform\",\n",
      "    \"Y_User_Distribution\": \"Uniform\",\n",
      "    \"Height\": 5.0,\n",
      "    \"K\": 0.005,\n",
      "    \"Alpha\": 3.0,\n",
      "    \"Transmit_Power\": 23,\n",
      "    \"User_Equipment_Height\": 1.0\n",
      "  }\n",
      "}\n",
      ",\n"
     ]
    },
    {
     "name": "stderr",
     "output_type": "stream",
     "text": [
      "The attention mask and the pad token id were not set. As a consequence, you may observe unexpected behavior. Please pass your input's `attention_mask` to obtain reliable results.\n",
      "Setting `pad_token_id` to `eos_token_id`:None for open-end generation.\n"
     ]
    },
    {
     "name": "stdout",
     "output_type": "stream",
     "text": [
      "47 :\n",
      "\n",
      "\n",
      "{\n",
      "  \"Parsed_Parameters\": {\n",
      "    \"X_dimension\": 20.0,\n",
      "    \"Y_dimension\": 10.0,\n",
      "    \"Number_of_Users\": 50,\n",
      "    \"Number_of_Routers\": 4,\n",
      "    \"X_User_Distribution\": \"Uniform\",\n",
      "    \"Y_User_Distribution\": \"Uniform\",\n",
      "    \"Height\": 3.0,\n",
      "    \"K\": 0.01,\n",
      "    \"Alpha\": 2.5,\n",
      "    \"Transmit_Power\": 19,\n",
      "    \"User_Equipment_Height\": 1.0\n",
      "  }\n",
      "}\n",
      ",\n"
     ]
    },
    {
     "name": "stderr",
     "output_type": "stream",
     "text": [
      "The attention mask and the pad token id were not set. As a consequence, you may observe unexpected behavior. Please pass your input's `attention_mask` to obtain reliable results.\n",
      "Setting `pad_token_id` to `eos_token_id`:None for open-end generation.\n"
     ]
    },
    {
     "name": "stdout",
     "output_type": "stream",
     "text": [
      "48 :\n",
      "\n",
      "\n",
      "{\n",
      "  \"Parsed_Parameters\": {\n",
      "    \"X_dimension\": 40.0,\n",
      "    \"Y_dimension\": 50.0,\n",
      "    \"Number_of_Users\": 180,\n",
      "    \"Number_of_Routers\": 6,\n",
      "    \"X_User_Distribution\": \"Uniform\",\n",
      "    \"Y_User_Distribution\": \"Uniform\",\n",
      "    \"Height\": 5.0,\n",
      "    \"K\": 0.03,\n",
      "    \"Alpha\": 3.2,\n",
      "    \"Transmit_Power\": 25.0,\n",
      "    \"User_Equipment_Height\": 1.5\n",
      "  }\n",
      "}\n",
      ",\n"
     ]
    },
    {
     "name": "stderr",
     "output_type": "stream",
     "text": [
      "The attention mask and the pad token id were not set. As a consequence, you may observe unexpected behavior. Please pass your input's `attention_mask` to obtain reliable results.\n",
      "Setting `pad_token_id` to `eos_token_id`:None for open-end generation.\n"
     ]
    },
    {
     "name": "stdout",
     "output_type": "stream",
     "text": [
      "49 :\n",
      "\n",
      "\n",
      "{\n",
      "  \"Parsed_Parameters\": {\n",
      "    \"X_dimension\": 30.0,\n",
      "    \"Y_dimension\": 40.0,\n",
      "    \"Number_of_Users\": 120,\n",
      "    \"Number_of_Routers\": 7,\n",
      "    \"X_User_Distribution\": \"Bi-Exponential\",\n",
      "    \"Y_User_Distribution\": \"Bi-Exponential\",\n",
      "    \"Height\": 3.0,\n",
      "    \"K\": 0.005,\n",
      "    \"Alpha\": 3.0,\n",
      "    \"Transmit_Power\": 19,\n",
      "    \"User_Equipment_Height\": 1.0\n",
      "  }\n",
      "}\n",
      ",\n"
     ]
    },
    {
     "name": "stderr",
     "output_type": "stream",
     "text": [
      "The attention mask and the pad token id were not set. As a consequence, you may observe unexpected behavior. Please pass your input's `attention_mask` to obtain reliable results.\n",
      "Setting `pad_token_id` to `eos_token_id`:None for open-end generation.\n"
     ]
    },
    {
     "name": "stdout",
     "output_type": "stream",
     "text": [
      "50 :\n",
      "\n",
      "\n",
      "{\n",
      "  \"Parsed_Parameters\": {\n",
      "    \"X_dimension\": 20.0,\n",
      "    \"Y_dimension\": 30.0,\n",
      "    \"Number_of_Users\": 90,\n",
      "    \"Number_of_Routers\": 5,\n",
      "    \"X_User_Distribution\": \"Uniform\",\n",
      "    \"Y_User_Distribution\": \"Uniform\",\n",
      "    \"Height\": 4.0,\n",
      "    \"K\": 0.005,\n",
      "    \"Alpha\": 3.5,\n",
      "    \"Transmit_Power\": 19,\n",
      "    \"User_Equipment_Height\": 1.0\n",
      "  }\n",
      "}\n",
      ",\n",
      "Type 2\n"
     ]
    },
    {
     "name": "stderr",
     "output_type": "stream",
     "text": [
      "The attention mask and the pad token id were not set. As a consequence, you may observe unexpected behavior. Please pass your input's `attention_mask` to obtain reliable results.\n",
      "Setting `pad_token_id` to `eos_token_id`:None for open-end generation.\n"
     ]
    },
    {
     "name": "stdout",
     "output_type": "stream",
     "text": [
      "51 :\n",
      "\n",
      "\n",
      "{\n",
      "  \"Parsed_Parameters\": {\n",
      "    \"X_dimension\": 25.0,\n",
      "    \"Y_dimension\": 40.0,\n",
      "    \"Number_of_Users\": 140,\n",
      "    \"Number_of_Routers\": 8,\n",
      "    \"X_User_Distribution\": \"Uniform\",\n",
      "    \"Y_User_Distribution\": \"Uniform\",\n",
      "    \"Height\": 3.0,\n",
      "    \"K\": 0.005,\n",
      "    \"Alpha\": 3.0,\n",
      "    \"Transmit_Power\": 19,\n",
      "    \"User_Equipment_Height\": 1.0\n",
      "  }\n",
      "}\n",
      ",\n"
     ]
    },
    {
     "name": "stderr",
     "output_type": "stream",
     "text": [
      "The attention mask and the pad token id were not set. As a consequence, you may observe unexpected behavior. Please pass your input's `attention_mask` to obtain reliable results.\n",
      "Setting `pad_token_id` to `eos_token_id`:None for open-end generation.\n"
     ]
    },
    {
     "name": "stdout",
     "output_type": "stream",
     "text": [
      "52 :\n",
      "\n",
      "\n",
      "{\n",
      "  \"Parsed_Parameters\": {\n",
      "    \"X_dimension\": 30.0,\n",
      "    \"Y_dimension\": 50.0,\n",
      "    \"Number_of_Users\": 160,\n",
      "    \"Number_of_Routers\": 6,\n",
      "    \"X_User_Distribution\": \"Uniform\",\n",
      "    \"Y_User_Distribution\": \"Uniform\",\n",
      "    \"Height\": 5.0,\n",
      "    \"K\": 0.03,\n",
      "    \"Alpha\": 3.2,\n",
      "    \"Transmit_Power\": 20,\n",
      "    \"User_Equipment_Height\": 1.5\n",
      "  }\n",
      "}\n",
      ",\n"
     ]
    },
    {
     "name": "stderr",
     "output_type": "stream",
     "text": [
      "The attention mask and the pad token id were not set. As a consequence, you may observe unexpected behavior. Please pass your input's `attention_mask` to obtain reliable results.\n",
      "Setting `pad_token_id` to `eos_token_id`:None for open-end generation.\n"
     ]
    },
    {
     "name": "stdout",
     "output_type": "stream",
     "text": [
      "53 :\n",
      "\n",
      "\n",
      "{\n",
      "  \"Parsed_Parameters\": {\n",
      "    \"X_dimension\": 15.0,\n",
      "    \"Y_dimension\": 25.0,\n",
      "    \"Number_of_Users\": 50,\n",
      "    \"Number_of_Routers\": 4,\n",
      "    \"X_User_Distribution\": \"Gaussian\",\n",
      "    \"Y_User_Distribution\": \"Gaussian\",\n",
      "    \"Height\": 4.0,\n",
      "    \"K\": 0.02,\n",
      "    \"Alpha\": 2.8,\n",
      "    \"Transmit_Power\": 19,\n",
      "    \"User_Equipment_Height\": 1.0\n",
      "  }\n",
      "}\n",
      ",\n"
     ]
    },
    {
     "name": "stderr",
     "output_type": "stream",
     "text": [
      "The attention mask and the pad token id were not set. As a consequence, you may observe unexpected behavior. Please pass your input's `attention_mask` to obtain reliable results.\n",
      "Setting `pad_token_id` to `eos_token_id`:None for open-end generation.\n"
     ]
    },
    {
     "name": "stdout",
     "output_type": "stream",
     "text": [
      "54 :\n",
      "\n",
      "\n",
      "{\n",
      "  \"Parsed_Parameters\": {\n",
      "    \"X_dimension\": 45.0,\n",
      "    \"Y_dimension\": 60.0,\n",
      "    \"Number_of_Users\": 200,\n",
      "    \"Number_of_Routers\": 9,\n",
      "    \"X_User_Distribution\": \"Gaussian\",\n",
      "    \"Y_User_Distribution\": \"Gaussian\",\n",
      "    \"Height\": 4.0,\n",
      "    \"K\": 0.02,\n",
      "    \"Alpha\": 2.8,\n",
      "    \"Transmit_Power\": 19,\n",
      "    \"User_Equipment_Height\": 1.0\n",
      "  }\n",
      "}\n",
      ",\n"
     ]
    },
    {
     "name": "stderr",
     "output_type": "stream",
     "text": [
      "The attention mask and the pad token id were not set. As a consequence, you may observe unexpected behavior. Please pass your input's `attention_mask` to obtain reliable results.\n",
      "Setting `pad_token_id` to `eos_token_id`:None for open-end generation.\n"
     ]
    },
    {
     "name": "stdout",
     "output_type": "stream",
     "text": [
      "55 :\n",
      "\n",
      "\n",
      "{\n",
      "  \"Parsed_Parameters\": {\n",
      "    \"X_dimension\": 35.0,\n",
      "    \"Y_dimension\": 50.0,\n",
      "    \"Number_of_Users\": 150,\n",
      "    \"Number_of_Routers\": 7,\n",
      "    \"X_User_Distribution\": \"Uniform\",\n",
      "    \"Y_User_Distribution\": \"Uniform\",\n",
      "    \"Height\": 3.0,\n",
      "    \"K\": 0.005,\n",
      "    \"Alpha\": 3.0,\n",
      "    \"Transmit_Power\": 19,\n",
      "    \"User_Equipment_Height\": 1.0\n",
      "  }\n",
      "}\n",
      ",\n"
     ]
    },
    {
     "name": "stderr",
     "output_type": "stream",
     "text": [
      "The attention mask and the pad token id were not set. As a consequence, you may observe unexpected behavior. Please pass your input's `attention_mask` to obtain reliable results.\n",
      "Setting `pad_token_id` to `eos_token_id`:None for open-end generation.\n"
     ]
    },
    {
     "name": "stdout",
     "output_type": "stream",
     "text": [
      "56 :\n",
      "\n",
      "\n",
      "{\n",
      "  \"Parsed_Parameters\": {\n",
      "    \"X_dimension\": 20.0,\n",
      "    \"Y_dimension\": 30.0,\n",
      "    \"Number_of_Users\": 80,\n",
      "    \"Number_of_Routers\": 5,\n",
      "    \"X_User_Distribution\": \"Uniform\",\n",
      "    \"Y_User_Distribution\": \"Uniform\",\n",
      "    \"Height\": 3.0,\n",
      "    \"K\": 0.005,\n",
      "    \"Alpha\": 3.0,\n",
      "    \"Transmit_Power\": 23,\n",
      "    \"User_Equipment_Height\": 1.0\n",
      "  }\n",
      "}\n",
      ",\n"
     ]
    },
    {
     "name": "stderr",
     "output_type": "stream",
     "text": [
      "The attention mask and the pad token id were not set. As a consequence, you may observe unexpected behavior. Please pass your input's `attention_mask` to obtain reliable results.\n",
      "Setting `pad_token_id` to `eos_token_id`:None for open-end generation.\n"
     ]
    },
    {
     "name": "stdout",
     "output_type": "stream",
     "text": [
      "57 :\n",
      "\n",
      "\n",
      "{\n",
      "  \"Parsed_Parameters\": {\n",
      "    \"X_dimension\": 10.0,\n",
      "    \"Y_dimension\": 20.0,\n",
      "    \"Number_of_Users\": 40,\n",
      "    \"Number_of_Routers\": 3,\n",
      "    \"X_User_Distribution\": \"Uniform\",\n",
      "    \"Y_User_Distribution\": \"Uniform\",\n",
      "    \"Height\": 3.0,\n",
      "    \"K\": 0.005,\n",
      "    \"Alpha\": 3.0,\n",
      "    \"Transmit_Power\": 19,\n",
      "    \"User_Equipment_Height\": 1.0\n",
      "  }\n",
      "}\n",
      ",\n"
     ]
    },
    {
     "name": "stderr",
     "output_type": "stream",
     "text": [
      "The attention mask and the pad token id were not set. As a consequence, you may observe unexpected behavior. Please pass your input's `attention_mask` to obtain reliable results.\n",
      "Setting `pad_token_id` to `eos_token_id`:None for open-end generation.\n"
     ]
    },
    {
     "name": "stdout",
     "output_type": "stream",
     "text": [
      "58 :\n",
      "\n",
      "\n",
      "{\n",
      "  \"Parsed_Parameters\": {\n",
      "    \"X_dimension\": 40.0,\n",
      "    \"Y_dimension\": 60.0,\n",
      "    \"Number_of_Users\": 180,\n",
      "    \"Number_of_Routers\": 8,\n",
      "    \"X_User_Distribution\": \"Uniform\",\n",
      "    \"Y_User_Distribution\": \"Uniform\",\n",
      "    \"Height\": 5.0,\n",
      "    \"K\": 0.03,\n",
      "    \"Alpha\": 3.2,\n",
      "    \"Transmit_Power\": 20,\n",
      "    \"User_Equipment_Height\": 1.5\n",
      "  }\n",
      "}\n",
      ",\n"
     ]
    },
    {
     "name": "stderr",
     "output_type": "stream",
     "text": [
      "The attention mask and the pad token id were not set. As a consequence, you may observe unexpected behavior. Please pass your input's `attention_mask` to obtain reliable results.\n",
      "Setting `pad_token_id` to `eos_token_id`:None for open-end generation.\n"
     ]
    },
    {
     "name": "stdout",
     "output_type": "stream",
     "text": [
      "59 :\n",
      "\n",
      "\n",
      "{\n",
      "  \"Parsed_Parameters\": {\n",
      "    \"X_dimension\": 25.0,\n",
      "    \"Y_dimension\": 40.0,\n",
      "    \"Number_of_Users\": 120,\n",
      "    \"Number_of_Routers\": 6,\n",
      "    \"X_User_Distribution\": \"Uniform\",\n",
      "    \"Y_User_Distribution\": \"Uniform\",\n",
      "    \"Height\": 3.0,\n",
      "    \"K\": 0.005,\n",
      "    \"Alpha\": 3.0,\n",
      "    \"Transmit_Power\": 19,\n",
      "    \"User_Equipment_Height\": 1.0\n",
      "  }\n",
      "}\n",
      ",\n",
      "60 :\n",
      "\n",
      "\n",
      "{\n",
      "  \"Parsed_Parameters\": {\n",
      "    \"X_dimension\": 20.0,\n",
      "    \"Y_dimension\": 30.0,\n",
      "    \"Number_of_Users\": 90,\n",
      "    \"Number_of_Routers\": 5,\n",
      "    \"X_User_Distribution\": \"Uniform\",\n",
      "    \"Y_User_Distribution\": \"Uniform\",\n",
      "    \"Height\": 3.0,\n",
      "    \"K\": 0.005,\n",
      "    \"Alpha\": 3.0,\n",
      "    \"Transmit_Power\": 19,\n",
      "    \"User_Equipment_Height\": 1.0\n",
      "  }\n",
      "}\n",
      ",\n"
     ]
    }
   ],
   "source": [
    "for cls in range(0,5):\n",
    "    print(\"Class\",cls)\n",
    "    for typ in range(3):\n",
    "        print(\"Type\",typ)\n",
    "        for ins in range(10):\n",
    "            count+=1\n",
    "            request=dataset_list[cls][str(typ)][ins][\"Original_Request\"]\n",
    "            message=[system,\n",
    "                {\"role\":\"user\",\"content\":context+\"\\n User Request: \\n \" + request}]\n",
    "            input_ids = tokenizer.apply_chat_template(message, return_tensors=\"pt\",padding=True, truncation=True,).to(llama_model.device)\n",
    "            with torch.no_grad():\n",
    "                 output = llama_model.generate(input_ids, max_length=input_ids.shape[1]+500, num_return_sequences=1, temperature=0.1);\n",
    "            input_length = input_ids.shape[1] \n",
    "            clean_prompt=output[0][input_length+3:];\n",
    "            answer=tokenizer.decode(clean_prompt, skip_special_tokens=True);\n",
    "            print(count,\":\")\n",
    "            print(answer)\n",
    "            print(\",\")\n",
    "            new_answers.append(answer)"
   ]
  },
  {
   "cell_type": "code",
   "execution_count": 60,
   "metadata": {
    "execution": {
     "iopub.execute_input": "2024-11-22T20:01:41.222819Z",
     "iopub.status.busy": "2024-11-22T20:01:41.222038Z",
     "iopub.status.idle": "2024-11-22T20:01:41.227322Z",
     "shell.execute_reply": "2024-11-22T20:01:41.226241Z",
     "shell.execute_reply.started": "2024-11-22T20:01:41.222784Z"
    },
    "trusted": true
   },
   "outputs": [],
   "source": [
    "system2={\"role\": \"system\", \n",
    "    \"content\": \n",
    "\"\"\"\n",
    "You need to provide a jsonised output containing the following sections extracted from the query:\n",
    "{\n",
    "\"Parsed_Parameters\": {\n",
    "                \"X_dimension\": <float>,\n",
    "                \"Y_dimension\": <float>,\n",
    "                \"Number_of_Users\": <int>,\n",
    "                \"Number_of_Routers\": <int>,\n",
    "                \"X_User_Distribution\": <string>,\n",
    "                \"Y_User_Distribution\": <string>,\n",
    "                \"Height\": <float>,\n",
    "                \"K\": <float>,\n",
    "                \"Alpha\": <float>,\n",
    "                \"Transmit_Power\": <float>,\n",
    "                \"User Equipment Height\":<float>\n",
    "            }\n",
    "}\n",
    "\n",
    "Example of what your output should look like:\n",
    "{\n",
    "  \"Parsed_Parameters\": {\n",
    "    \"X_dimension\": 30.0,\n",
    "    \"Y_dimension\": 40.0,\n",
    "    \"Number_of_Users\": 100,\n",
    "    \"Number_of_Routers\": 6,\n",
    "    \"X_User_Distribution\": \"Exponential\",\n",
    "    \"Y_User_Distribution\": \"Exponential\",\n",
    "    \"Height\": 4.0,\n",
    "    \"K\": 15.0,\n",
    "    \"Alpha\": 0.005,\n",
    "    \"Transmit_Power\": 19,\n",
    "    \"User Equipment Height\": 1.0\n",
    "  }\n",
    "}\n",
    "\n",
    "X and Y Distribution must be one of Uniform, Gaussian, Exponential, Bi-Exponential\n",
    "\n",
    "Only provide the output parsed json without any reasoning or any other statements.\n",
    "\n",
    "Extract only the parameters mentioned in the example output.\n",
    "\"\"\"\n",
    "}"
   ]
  },
  {
   "cell_type": "code",
   "execution_count": 66,
   "metadata": {
    "execution": {
     "iopub.execute_input": "2024-11-22T20:05:14.202597Z",
     "iopub.status.busy": "2024-11-22T20:05:14.202215Z",
     "iopub.status.idle": "2024-11-22T20:05:14.206935Z",
     "shell.execute_reply": "2024-11-22T20:05:14.205949Z",
     "shell.execute_reply.started": "2024-11-22T20:05:14.202564Z"
    },
    "trusted": true
   },
   "outputs": [],
   "source": [
    "no_context=[]"
   ]
  },
  {
   "cell_type": "code",
   "execution_count": 67,
   "metadata": {
    "execution": {
     "iopub.execute_input": "2024-11-22T20:05:14.922082Z",
     "iopub.status.busy": "2024-11-22T20:05:14.921808Z",
     "iopub.status.idle": "2024-11-22T20:05:14.925954Z",
     "shell.execute_reply": "2024-11-22T20:05:14.925131Z",
     "shell.execute_reply.started": "2024-11-22T20:05:14.922055Z"
    },
    "trusted": true
   },
   "outputs": [],
   "source": [
    "count=0"
   ]
  },
  {
   "cell_type": "code",
   "execution_count": 68,
   "metadata": {
    "execution": {
     "iopub.execute_input": "2024-11-22T20:05:15.420655Z",
     "iopub.status.busy": "2024-11-22T20:05:15.420375Z",
     "iopub.status.idle": "2024-11-22T20:05:15.424226Z",
     "shell.execute_reply": "2024-11-22T20:05:15.423413Z",
     "shell.execute_reply.started": "2024-11-22T20:05:15.420630Z"
    },
    "trusted": true
   },
   "outputs": [],
   "source": [
    "import time"
   ]
  },
  {
   "cell_type": "code",
   "execution_count": 69,
   "metadata": {
    "execution": {
     "iopub.execute_input": "2024-11-22T20:05:16.381412Z",
     "iopub.status.busy": "2024-11-22T20:05:16.381126Z",
     "iopub.status.idle": "2024-11-22T21:31:54.327258Z",
     "shell.execute_reply": "2024-11-22T21:31:54.326426Z",
     "shell.execute_reply.started": "2024-11-22T20:05:16.381386Z"
    },
    "trusted": true
   },
   "outputs": [
    {
     "name": "stderr",
     "output_type": "stream",
     "text": [
      "The attention mask and the pad token id were not set. As a consequence, you may observe unexpected behavior. Please pass your input's `attention_mask` to obtain reliable results.\n",
      "Setting `pad_token_id` to `eos_token_id`:None for open-end generation.\n"
     ]
    },
    {
     "name": "stdout",
     "output_type": "stream",
     "text": [
      "Class 0\n",
      "Type 0\n"
     ]
    },
    {
     "name": "stderr",
     "output_type": "stream",
     "text": [
      "The attention mask and the pad token id were not set. As a consequence, you may observe unexpected behavior. Please pass your input's `attention_mask` to obtain reliable results.\n",
      "Setting `pad_token_id` to `eos_token_id`:None for open-end generation.\n"
     ]
    },
    {
     "name": "stdout",
     "output_type": "stream",
     "text": [
      "1 :\n",
      "\n",
      "\n",
      "{\n",
      "  \"Parsed_Parameters\": {\n",
      "    \"X_dimension\": 30.0,\n",
      "    \"Y_dimension\": 40.0,\n",
      "    \"Number_of_Users\": 100,\n",
      "    \"Number_of_Routers\": 6,\n",
      "    \"X_User_Distribution\": \"Exponential\",\n",
      "    \"Y_User_Distribution\": \"Exponential\",\n",
      "    \"Height\": 4.0,\n",
      "    \"K\": 0.005,\n",
      "    \"Alpha\": 2.0,\n",
      "    \"Transmit_Power\": 15,\n",
      "    \"User_Equipment_Height\": 1.0\n",
      "  }\n",
      "}\n",
      ",\n",
      "34.83257341384888\n"
     ]
    },
    {
     "name": "stderr",
     "output_type": "stream",
     "text": [
      "The attention mask and the pad token id were not set. As a consequence, you may observe unexpected behavior. Please pass your input's `attention_mask` to obtain reliable results.\n",
      "Setting `pad_token_id` to `eos_token_id`:None for open-end generation.\n"
     ]
    },
    {
     "name": "stdout",
     "output_type": "stream",
     "text": [
      "2 :\n",
      "\n",
      "\n",
      "{\n",
      "  \"Parsed_Parameters\": {\n",
      "    \"X_dimension\": 50.0,\n",
      "    \"Y_dimension\": 40.0,\n",
      "    \"Number_of_Users\": 80,\n",
      "    \"Number_of_Routers\": 4,\n",
      "    \"X_User_Distribution\": \"Uniform\",\n",
      "    \"Y_User_Distribution\": \"Uniform\",\n",
      "    \"Height\": 5.0,\n",
      "    \"K\": 0.03,\n",
      "    \"Alpha\": 3.5,\n",
      "    \"Transmit_Power\": 20,\n",
      "    \"User_Equipment_Height\": 1.7\n",
      "  }\n",
      "}\n",
      ",\n",
      "34.20948147773743\n"
     ]
    },
    {
     "name": "stderr",
     "output_type": "stream",
     "text": [
      "The attention mask and the pad token id were not set. As a consequence, you may observe unexpected behavior. Please pass your input's `attention_mask` to obtain reliable results.\n",
      "Setting `pad_token_id` to `eos_token_id`:None for open-end generation.\n"
     ]
    },
    {
     "name": "stdout",
     "output_type": "stream",
     "text": [
      "3 :\n",
      "\n",
      "\n",
      "{\n",
      "  \"Parsed_Parameters\": {\n",
      "    \"X_dimension\": 45.0,\n",
      "    \"Y_dimension\": 35.0,\n",
      "    \"Number_of_Users\": 150,\n",
      "    \"Number_of_Routers\": 9,\n",
      "    \"X_User_Distribution\": \"Bi-Exponential\",\n",
      "    \"Y_User_Distribution\": \"Bi-Exponential\",\n",
      "    \"Height\": 6.0,\n",
      "    \"K\": 0.02,\n",
      "    \"Alpha\": 2.5,\n",
      "    \"Transmit_Power\": 25,\n",
      "    \"User_Equipment_Height\": 1.0\n",
      "  }\n",
      "}\n",
      ",\n",
      "35.86925005912781\n"
     ]
    },
    {
     "name": "stderr",
     "output_type": "stream",
     "text": [
      "The attention mask and the pad token id were not set. As a consequence, you may observe unexpected behavior. Please pass your input's `attention_mask` to obtain reliable results.\n",
      "Setting `pad_token_id` to `eos_token_id`:None for open-end generation.\n"
     ]
    },
    {
     "name": "stdout",
     "output_type": "stream",
     "text": [
      "4 :\n",
      "\n",
      "\n",
      "{\n",
      "  \"Parsed_Parameters\": {\n",
      "    \"X_dimension\": 20.0,\n",
      "    \"Y_dimension\": 15.0,\n",
      "    \"Number_of_Users\": 50,\n",
      "    \"Number_of_Routers\": 3,\n",
      "    \"X_User_Distribution\": \"Gaussian\",\n",
      "    \"Y_User_Distribution\": \"Gaussian\",\n",
      "    \"Height\": 3.0,\n",
      "    \"K\": 0.01,\n",
      "    \"Alpha\": 2.0,\n",
      "    \"Transmit_Power\": 10,\n",
      "    \"User_Equipment_Height\": 1.5\n",
      "  }\n",
      "}\n",
      ",\n",
      "34.862465620040894\n"
     ]
    },
    {
     "name": "stderr",
     "output_type": "stream",
     "text": [
      "The attention mask and the pad token id were not set. As a consequence, you may observe unexpected behavior. Please pass your input's `attention_mask` to obtain reliable results.\n",
      "Setting `pad_token_id` to `eos_token_id`:None for open-end generation.\n"
     ]
    },
    {
     "name": "stdout",
     "output_type": "stream",
     "text": [
      "5 :\n",
      "\n",
      "\n",
      "{\n",
      "  \"Parsed_Parameters\": {\n",
      "    \"X_dimension\": 30.0,\n",
      "    \"Y_dimension\": 40.0,\n",
      "    \"Number_of_Users\": 120,\n",
      "    \"Number_of_Routers\": 7,\n",
      "    \"X_User_Distribution\": \"Uniform\",\n",
      "    \"Y_User_Distribution\": \"Uniform\",\n",
      "    \"Height\": 4.0,\n",
      "    \"K\": 0.005,\n",
      "    \"Alpha\": 2.5,\n",
      "    \"Transmit_Power\": 20,\n",
      "    \"User_Equipment_Height\": 4.0\n",
      "  }\n",
      "}\n",
      ",\n",
      "34.30412220954895\n"
     ]
    },
    {
     "name": "stderr",
     "output_type": "stream",
     "text": [
      "The attention mask and the pad token id were not set. As a consequence, you may observe unexpected behavior. Please pass your input's `attention_mask` to obtain reliable results.\n",
      "Setting `pad_token_id` to `eos_token_id`:None for open-end generation.\n"
     ]
    },
    {
     "name": "stdout",
     "output_type": "stream",
     "text": [
      "6 :\n",
      "\n",
      "\n",
      "{\n",
      "  \"Parsed_Parameters\": {\n",
      "    \"X_dimension\": 55.0,\n",
      "    \"Y_dimension\": 45.0,\n",
      "    \"Number_of_Users\": 200,\n",
      "    \"Number_of_Routers\": 10,\n",
      "    \"X_User_Distribution\": \"Exponential\",\n",
      "    \"Y_User_Distribution\": \"Exponential\",\n",
      "    \"Height\": 6.0,\n",
      "    \"K\": 0.03,\n",
      "    \"Alpha\": 3.0,\n",
      "    \"Transmit_Power\": 30.0,\n",
      "    \"User Equipment Height\": 1.0\n",
      "  }\n",
      "}\n",
      ",\n",
      "35.09516525268555\n"
     ]
    },
    {
     "name": "stderr",
     "output_type": "stream",
     "text": [
      "The attention mask and the pad token id were not set. As a consequence, you may observe unexpected behavior. Please pass your input's `attention_mask` to obtain reliable results.\n",
      "Setting `pad_token_id` to `eos_token_id`:None for open-end generation.\n"
     ]
    },
    {
     "name": "stdout",
     "output_type": "stream",
     "text": [
      "7 :\n",
      "\n",
      "\n",
      "{\n",
      "  \"Parsed_Parameters\": {\n",
      "    \"X_dimension\": 50.0,\n",
      "    \"Y_dimension\": 40.0,\n",
      "    \"Number_of_Users\": 180,\n",
      "    \"Number_of_Routers\": 8,\n",
      "    \"X_User_Distribution\": \"Bi-Exponential\",\n",
      "    \"Y_User_Distribution\": \"Bi-Exponential\",\n",
      "    \"Height\": 5.0,\n",
      "    \"K\": 0.02,\n",
      "    \"Alpha\": 2.5,\n",
      "    \"Transmit_Power\": 25,\n",
      "    \"User_Equipment_Height\": 1.0\n",
      "  }\n",
      "}\n",
      ",\n",
      "35.884602785110474\n"
     ]
    },
    {
     "name": "stderr",
     "output_type": "stream",
     "text": [
      "The attention mask and the pad token id were not set. As a consequence, you may observe unexpected behavior. Please pass your input's `attention_mask` to obtain reliable results.\n",
      "Setting `pad_token_id` to `eos_token_id`:None for open-end generation.\n"
     ]
    },
    {
     "name": "stdout",
     "output_type": "stream",
     "text": [
      "8 :\n",
      "\n",
      "\n",
      "{\n",
      "  \"Parsed_Parameters\": {\n",
      "    \"X_dimension\": 45.0,\n",
      "    \"Y_dimension\": 35.0,\n",
      "    \"Number_of_Users\": 100,\n",
      "    \"Number_of_Routers\": 6,\n",
      "    \"X_User_Distribution\": \"Gaussian\",\n",
      "    \"Y_User_Distribution\": \"Gaussian\",\n",
      "    \"Height\": 5.0,\n",
      "    \"K\": 0.01,\n",
      "    \"Alpha\": 2.0,\n",
      "    \"Transmit_Power\": 20,\n",
      "    \"User_Equipment_Height\": 5.0\n",
      "  }\n",
      "}\n",
      ",\n",
      "34.87789607048035\n"
     ]
    },
    {
     "name": "stderr",
     "output_type": "stream",
     "text": [
      "The attention mask and the pad token id were not set. As a consequence, you may observe unexpected behavior. Please pass your input's `attention_mask` to obtain reliable results.\n",
      "Setting `pad_token_id` to `eos_token_id`:None for open-end generation.\n"
     ]
    },
    {
     "name": "stdout",
     "output_type": "stream",
     "text": [
      "9 :\n",
      "\n",
      "\n",
      "{\n",
      "  \"Parsed_Parameters\": {\n",
      "    \"X_dimension\": 35.0,\n",
      "    \"Y_dimension\": 25.0,\n",
      "    \"Number_of_Users\": 80,\n",
      "    \"Number_of_Routers\": 5,\n",
      "    \"X_User_Distribution\": \"Uniform\",\n",
      "    \"Y_User_Distribution\": \"Uniform\",\n",
      "    \"Height\": 4.0,\n",
      "    \"K\": 0.005,\n",
      "    \"Alpha\": 2.0,\n",
      "    \"Transmit_Power\": 15,\n",
      "    \"User_Equipment_Height\": 1.0\n",
      "  }\n",
      "}\n",
      ",\n",
      "34.30552101135254\n"
     ]
    },
    {
     "name": "stderr",
     "output_type": "stream",
     "text": [
      "The attention mask and the pad token id were not set. As a consequence, you may observe unexpected behavior. Please pass your input's `attention_mask` to obtain reliable results.\n",
      "Setting `pad_token_id` to `eos_token_id`:None for open-end generation.\n"
     ]
    },
    {
     "name": "stdout",
     "output_type": "stream",
     "text": [
      "10 :\n",
      "\n",
      "\n",
      "{\n",
      "  \"Parsed_Parameters\": {\n",
      "    \"X_dimension\": 25.0,\n",
      "    \"Y_dimension\": 20.0,\n",
      "    \"Number_of_Users\": 60,\n",
      "    \"Number_of_Routers\": 4,\n",
      "    \"X_User_Distribution\": \"Exponential\",\n",
      "    \"Y_User_Distribution\": \"Exponential\",\n",
      "    \"Height\": 3.0,\n",
      "    \"K\": 0.02,\n",
      "    \"Alpha\": 2.5,\n",
      "    \"Transmit_Power\": 15,\n",
      "    \"User_Equipment_Height\": 3.0\n",
      "  }\n",
      "}\n",
      ",\n",
      "34.85759472846985\n",
      "Type 1\n"
     ]
    },
    {
     "name": "stderr",
     "output_type": "stream",
     "text": [
      "The attention mask and the pad token id were not set. As a consequence, you may observe unexpected behavior. Please pass your input's `attention_mask` to obtain reliable results.\n",
      "Setting `pad_token_id` to `eos_token_id`:None for open-end generation.\n"
     ]
    },
    {
     "name": "stdout",
     "output_type": "stream",
     "text": [
      "11 :\n",
      "\n",
      "\n",
      "{\n",
      "  \"Parsed_Parameters\": {\n",
      "    \"X_dimension\": 20.0,\n",
      "    \"Y_dimension\": 30.0,\n",
      "    \"Number_of_Users\": 50,\n",
      "    \"Number_of_Routers\": 3,\n",
      "    \"X_User_Distribution\": \"Uniform\",\n",
      "    \"Y_User_Distribution\": \"Uniform\",\n",
      "    \"Height\": 3.0,\n",
      "    \"K\": 0.0,\n",
      "    \"Alpha\": 0.0,\n",
      "    \"Transmit_Power\": 20,\n",
      "    \"User_Equipment_Height\": 0.0\n",
      "  }\n",
      "}\n",
      ",\n",
      "34.128236293792725\n"
     ]
    },
    {
     "name": "stderr",
     "output_type": "stream",
     "text": [
      "The attention mask and the pad token id were not set. As a consequence, you may observe unexpected behavior. Please pass your input's `attention_mask` to obtain reliable results.\n",
      "Setting `pad_token_id` to `eos_token_id`:None for open-end generation.\n"
     ]
    },
    {
     "name": "stdout",
     "output_type": "stream",
     "text": [
      "12 :\n",
      "\n",
      "\n",
      "{\n",
      "  \"Parsed_Parameters\": {\n",
      "    \"X_dimension\": 50.0,\n",
      "    \"Y_dimension\": 60.0,\n",
      "    \"Number_of_Users\": 200,\n",
      "    \"Number_of_Routers\": 8,\n",
      "    \"X_User_Distribution\": \"Uniform\",\n",
      "    \"Y_User_Distribution\": \"Uniform\",\n",
      "    \"Height\": 4.0,\n",
      "    \"K\": 15.0,\n",
      "    \"Alpha\": 0.005,\n",
      "    \"Transmit_Power\": 19,\n",
      "    \"User_Equipment_Height\": 1.0\n",
      "  }\n",
      "}\n",
      ",\n",
      "34.11754298210144\n"
     ]
    },
    {
     "name": "stderr",
     "output_type": "stream",
     "text": [
      "The attention mask and the pad token id were not set. As a consequence, you may observe unexpected behavior. Please pass your input's `attention_mask` to obtain reliable results.\n",
      "Setting `pad_token_id` to `eos_token_id`:None for open-end generation.\n"
     ]
    },
    {
     "name": "stdout",
     "output_type": "stream",
     "text": [
      "13 :\n",
      "\n",
      "\n",
      "{\n",
      "  \"Parsed_Parameters\": {\n",
      "    \"X_dimension\": 15.0,\n",
      "    \"Y_dimension\": 45.0,\n",
      "    \"Number_of_Users\": 120,\n",
      "    \"Number_of_Routers\": 4,\n",
      "    \"X_User_Distribution\": \"Gaussian\",\n",
      "    \"Y_User_Distribution\": \"Uniform\",\n",
      "    \"Height\": 4.0,\n",
      "    \"K\": 15.0,\n",
      "    \"Alpha\": 0.005,\n",
      "    \"Transmit_Power\": 19,\n",
      "    \"User_Equipment_Height\": 1.0\n",
      "  }\n",
      "}\n",
      ",\n",
      "34.4580819606781\n"
     ]
    },
    {
     "name": "stderr",
     "output_type": "stream",
     "text": [
      "The attention mask and the pad token id were not set. As a consequence, you may observe unexpected behavior. Please pass your input's `attention_mask` to obtain reliable results.\n",
      "Setting `pad_token_id` to `eos_token_id`:None for open-end generation.\n"
     ]
    },
    {
     "name": "stdout",
     "output_type": "stream",
     "text": [
      "14 :\n",
      "\n",
      "\n",
      "{\n",
      "  \"Parsed_Parameters\": {\n",
      "    \"X_dimension\": 30.0,\n",
      "    \"Y_dimension\": 40.0,\n",
      "    \"Number_of_Users\": 100,\n",
      "    \"Number_of_Routers\": 5,\n",
      "    \"X_User_Distribution\": \"Uniform\",\n",
      "    \"Y_User_Distribution\": \"Uniform\",\n",
      "    \"Height\": 5.0,\n",
      "    \"K\": 0.01,\n",
      "    \"Alpha\": 0.0,\n",
      "    \"Transmit_Power\": 0,\n",
      "    \"User Equipment Height\": 0.0\n",
      "  }\n",
      "}\n",
      ",\n",
      "33.8981409072876\n"
     ]
    },
    {
     "name": "stderr",
     "output_type": "stream",
     "text": [
      "The attention mask and the pad token id were not set. As a consequence, you may observe unexpected behavior. Please pass your input's `attention_mask` to obtain reliable results.\n",
      "Setting `pad_token_id` to `eos_token_id`:None for open-end generation.\n"
     ]
    },
    {
     "name": "stdout",
     "output_type": "stream",
     "text": [
      "15 :\n",
      "\n",
      "\n",
      "{\n",
      "  \"Parsed_Parameters\": {\n",
      "    \"X_dimension\": 25.0,\n",
      "    \"Y_dimension\": 40.0,\n",
      "    \"Number_of_Users\": 80,\n",
      "    \"Number_of_Routers\": 4,\n",
      "    \"X_User_Distribution\": \"Bi-Exponential\",\n",
      "    \"Y_User_Distribution\": \"Bi-Exponential\",\n",
      "    \"Height\": 2.5,\n",
      "    \"K\": 10.0,\n",
      "    \"Alpha\": 0.01,\n",
      "    \"Transmit_Power\": 20,\n",
      "    \"User_Equipment_Height\": 1.5\n",
      "  }\n",
      "}\n",
      ",\n",
      "35.795676708221436\n"
     ]
    },
    {
     "name": "stderr",
     "output_type": "stream",
     "text": [
      "The attention mask and the pad token id were not set. As a consequence, you may observe unexpected behavior. Please pass your input's `attention_mask` to obtain reliable results.\n",
      "Setting `pad_token_id` to `eos_token_id`:None for open-end generation.\n"
     ]
    },
    {
     "name": "stdout",
     "output_type": "stream",
     "text": [
      "16 :\n",
      "\n",
      "\n",
      "{\n",
      "  \"Parsed_Parameters\": {\n",
      "    \"X_dimension\": 20.0,\n",
      "    \"Y_dimension\": 10.0,\n",
      "    \"Number_of_Users\": 20,\n",
      "    \"Number_of_Routers\": 2,\n",
      "    \"X_User_Distribution\": \"Uniform\",\n",
      "    \"Y_User_Distribution\": \"Uniform\",\n",
      "    \"Height\": 1.0,\n",
      "    \"K\": 0.0,\n",
      "    \"Alpha\": 3.0,\n",
      "    \"Transmit_Power\": 15,\n",
      "    \"User Equipment Height\": 1.0\n",
      "  }\n",
      "}\n",
      ",\n",
      "33.828614711761475\n"
     ]
    },
    {
     "name": "stderr",
     "output_type": "stream",
     "text": [
      "The attention mask and the pad token id were not set. As a consequence, you may observe unexpected behavior. Please pass your input's `attention_mask` to obtain reliable results.\n",
      "Setting `pad_token_id` to `eos_token_id`:None for open-end generation.\n"
     ]
    },
    {
     "name": "stdout",
     "output_type": "stream",
     "text": [
      "17 :\n",
      "\n",
      "\n",
      "{\n",
      "  \"Parsed_Parameters\": {\n",
      "    \"X_dimension\": 40.0,\n",
      "    \"Y_dimension\": 50.0,\n",
      "    \"Number_of_Users\": 180,\n",
      "    \"Number_of_Routers\": 6,\n",
      "    \"X_User_Distribution\": \"Uniform\",\n",
      "    \"Y_User_Distribution\": \"Uniform\",\n",
      "    \"Height\": 4.0,\n",
      "    \"K\": 15.0,\n",
      "    \"Alpha\": 0.005,\n",
      "    \"Transmit_Power\": 19,\n",
      "    \"User_Equipment_Height\": 1.0\n",
      "  }\n",
      "}\n",
      ",\n",
      "34.14008975028992\n"
     ]
    },
    {
     "name": "stderr",
     "output_type": "stream",
     "text": [
      "The attention mask and the pad token id were not set. As a consequence, you may observe unexpected behavior. Please pass your input's `attention_mask` to obtain reliable results.\n",
      "Setting `pad_token_id` to `eos_token_id`:None for open-end generation.\n"
     ]
    },
    {
     "name": "stdout",
     "output_type": "stream",
     "text": [
      "18 :\n",
      "\n",
      "\n",
      "{\n",
      "  \"Parsed_Parameters\": {\n",
      "    \"X_dimension\": 55.0,\n",
      "    \"Y_dimension\": 60.0,\n",
      "    \"Number_of_Users\": 200,\n",
      "    \"Number_of_Routers\": 9,\n",
      "    \"X_User_Distribution\": \"Gaussian\",\n",
      "    \"Y_User_Distribution\": \"Uniform\",\n",
      "    \"Height\": 6.0,\n",
      "    \"K\": 0.0,\n",
      "    \"Alpha\": 0.0,\n",
      "    \"Transmit_Power\": 0.0,\n",
      "    \"User_Equipment_Height\": 0.0\n",
      "  }\n",
      "}\n",
      ",\n",
      "35.05456757545471\n"
     ]
    },
    {
     "name": "stderr",
     "output_type": "stream",
     "text": [
      "The attention mask and the pad token id were not set. As a consequence, you may observe unexpected behavior. Please pass your input's `attention_mask` to obtain reliable results.\n",
      "Setting `pad_token_id` to `eos_token_id`:None for open-end generation.\n"
     ]
    },
    {
     "name": "stdout",
     "output_type": "stream",
     "text": [
      "19 :\n",
      "\n",
      "\n",
      "{\n",
      "  \"Parsed_Parameters\": {\n",
      "    \"X_dimension\": 20.0,\n",
      "    \"Y_dimension\": 30.0,\n",
      "    \"Number_of_Users\": 60,\n",
      "    \"Number_of_Routers\": 4,\n",
      "    \"X_User_Distribution\": \"Uniform\",\n",
      "    \"Y_User_Distribution\": \"Uniform\",\n",
      "    \"Height\": 2.5,\n",
      "    \"K\": 0.005,\n",
      "    \"Alpha\": 2.5,\n",
      "    \"Transmit_Power\": 20,\n",
      "    \"User_Equipment_Height\": 1.5\n",
      "  }\n",
      "}\n",
      ",\n",
      "34.25308084487915\n"
     ]
    },
    {
     "name": "stderr",
     "output_type": "stream",
     "text": [
      "The attention mask and the pad token id were not set. As a consequence, you may observe unexpected behavior. Please pass your input's `attention_mask` to obtain reliable results.\n",
      "Setting `pad_token_id` to `eos_token_id`:None for open-end generation.\n"
     ]
    },
    {
     "name": "stdout",
     "output_type": "stream",
     "text": [
      "20 :\n",
      "\n",
      "\n",
      "{\n",
      "  \"Parsed_Parameters\": {\n",
      "    \"X_dimension\": 30.0,\n",
      "    \"Y_dimension\": 45.0,\n",
      "    \"Number_of_Users\": 120,\n",
      "    \"Number_of_Routers\": 5,\n",
      "    \"X_User_Distribution\": \"Uniform\",\n",
      "    \"Y_User_Distribution\": \"Uniform\",\n",
      "    \"Height\": 4.0,\n",
      "    \"K\": 15.0,\n",
      "    \"Alpha\": 0.005,\n",
      "    \"Transmit_Power\": 25.0,\n",
      "    \"User Equipment Height\": 1.0\n",
      "  }\n",
      "}\n",
      ",\n",
      "34.410775661468506\n",
      "Type 2\n"
     ]
    },
    {
     "name": "stderr",
     "output_type": "stream",
     "text": [
      "The attention mask and the pad token id were not set. As a consequence, you may observe unexpected behavior. Please pass your input's `attention_mask` to obtain reliable results.\n",
      "Setting `pad_token_id` to `eos_token_id`:None for open-end generation.\n"
     ]
    },
    {
     "name": "stdout",
     "output_type": "stream",
     "text": [
      "21 :\n",
      "\n",
      "\n",
      "{\n",
      "  \"Parsed_Parameters\": {\n",
      "    \"X_dimension\": 25.0,\n",
      "    \"Y_dimension\": 35.0,\n",
      "    \"Number_of_Users\": 120,\n",
      "    \"Number_of_Routers\": 4,\n",
      "    \"X_User_Distribution\": \"Uniform\",\n",
      "    \"Y_User_Distribution\": \"Uniform\",\n",
      "    \"Height\": 0.0,\n",
      "    \"K\": 0.0,\n",
      "    \"Alpha\": 0.0,\n",
      "    \"Transmit_Power\": 0.0,\n",
      "    \"User_Equipment_Height\": 0.0\n",
      "  }\n",
      "}\n",
      ",\n",
      "34.611560344696045\n"
     ]
    },
    {
     "name": "stderr",
     "output_type": "stream",
     "text": [
      "The attention mask and the pad token id were not set. As a consequence, you may observe unexpected behavior. Please pass your input's `attention_mask` to obtain reliable results.\n",
      "Setting `pad_token_id` to `eos_token_id`:None for open-end generation.\n"
     ]
    },
    {
     "name": "stdout",
     "output_type": "stream",
     "text": [
      "22 :\n",
      "\n",
      "\n",
      "{\n",
      "  \"Parsed_Parameters\": {\n",
      "    \"X_dimension\": 50.0,\n",
      "    \"Y_dimension\": 20.0,\n",
      "    \"Number_of_Users\": 180,\n",
      "    \"Number_of_Routers\": 8,\n",
      "    \"X_User_Distribution\": \"Exponential\",\n",
      "    \"Y_User_Distribution\": \"Exponential\",\n",
      "    \"Height\": 4.0,\n",
      "    \"K\": 15.0,\n",
      "    \"Alpha\": 0.005,\n",
      "    \"Transmit_Power\": 19,\n",
      "    \"User_Equipment_Height\": 1.5\n",
      "  }\n",
      "}\n",
      ",\n",
      "34.58199596405029\n"
     ]
    },
    {
     "name": "stderr",
     "output_type": "stream",
     "text": [
      "The attention mask and the pad token id were not set. As a consequence, you may observe unexpected behavior. Please pass your input's `attention_mask` to obtain reliable results.\n",
      "Setting `pad_token_id` to `eos_token_id`:None for open-end generation.\n"
     ]
    },
    {
     "name": "stdout",
     "output_type": "stream",
     "text": [
      "23 :\n",
      "\n",
      "\n",
      "{\n",
      "  \"Parsed_Parameters\": {\n",
      "    \"X_dimension\": 15.0,\n",
      "    \"Y_dimension\": 25.0,\n",
      "    \"Number_of_Users\": 50,\n",
      "    \"Number_of_Routers\": 3,\n",
      "    \"X_User_Distribution\": \"Uniform\",\n",
      "    \"Y_User_Distribution\": \"Uniform\",\n",
      "    \"Height\": 4.0,\n",
      "    \"K\": 15.0,\n",
      "    \"Alpha\": 0.005,\n",
      "    \"Transmit_Power\": 19,\n",
      "    \"User Equipment Height\": 1.0\n",
      "  }\n",
      "}\n",
      ",\n",
      "33.81132888793945\n"
     ]
    },
    {
     "name": "stderr",
     "output_type": "stream",
     "text": [
      "The attention mask and the pad token id were not set. As a consequence, you may observe unexpected behavior. Please pass your input's `attention_mask` to obtain reliable results.\n",
      "Setting `pad_token_id` to `eos_token_id`:None for open-end generation.\n"
     ]
    },
    {
     "name": "stdout",
     "output_type": "stream",
     "text": [
      "24 :\n",
      "\n",
      "\n",
      "{\n",
      "  \"Parsed_Parameters\": {\n",
      "    \"X_dimension\": 30.0,\n",
      "    \"Y_dimension\": 40.0,\n",
      "    \"Number_of_Users\": 100,\n",
      "    \"Number_of_Routers\": 5,\n",
      "    \"X_User_Distribution\": \"Uniform\",\n",
      "    \"Y_User_Distribution\": \"Uniform\",\n",
      "    \"Height\": 1.0,\n",
      "    \"K\": 0.0,\n",
      "    \"Alpha\": 0.0,\n",
      "    \"Transmit_Power\": 0.0,\n",
      "    \"User_Equipment_Height\": 1.0\n",
      "  }\n",
      "}\n",
      ",\n",
      "34.52202224731445\n"
     ]
    },
    {
     "name": "stderr",
     "output_type": "stream",
     "text": [
      "The attention mask and the pad token id were not set. As a consequence, you may observe unexpected behavior. Please pass your input's `attention_mask` to obtain reliable results.\n",
      "Setting `pad_token_id` to `eos_token_id`:None for open-end generation.\n"
     ]
    },
    {
     "name": "stdout",
     "output_type": "stream",
     "text": [
      "25 :\n",
      "\n",
      "\n",
      "{\n",
      "  \"Parsed_Parameters\": {\n",
      "    \"X_dimension\": 45.0,\n",
      "    \"Y_dimension\": 25.0,\n",
      "    \"Number_of_Users\": 160,\n",
      "    \"Number_of_Routers\": 6,\n",
      "    \"X_User_Distribution\": \"Gaussian\",\n",
      "    \"Y_User_Distribution\": \"Gaussian\",\n",
      "    \"Height\": 4.0,\n",
      "    \"K\": 15.0,\n",
      "    \"Alpha\": 0.005,\n",
      "    \"Transmit_Power\": 19,\n",
      "    \"User Equipment Height\": 1.0\n",
      "  }\n",
      "}\n",
      ",\n",
      "34.38897752761841\n"
     ]
    },
    {
     "name": "stderr",
     "output_type": "stream",
     "text": [
      "The attention mask and the pad token id were not set. As a consequence, you may observe unexpected behavior. Please pass your input's `attention_mask` to obtain reliable results.\n",
      "Setting `pad_token_id` to `eos_token_id`:None for open-end generation.\n"
     ]
    },
    {
     "name": "stdout",
     "output_type": "stream",
     "text": [
      "26 :\n",
      "\n",
      "\n",
      "{\n",
      "  \"Parsed_Parameters\": {\n",
      "    \"X_dimension\": 55.0,\n",
      "    \"Y_dimension\": 30.0,\n",
      "    \"Number_of_Users\": 200,\n",
      "    \"Number_of_Routers\": 9,\n",
      "    \"X_User_Distribution\": \"Exponential\",\n",
      "    \"Y_User_Distribution\": \"Uniform\",\n",
      "    \"Height\": 2.5,\n",
      "    \"K\": 0.0,\n",
      "    \"Alpha\": 0.0,\n",
      "    \"Transmit_Power\": 0.0,\n",
      "    \"User_Equipment_Height\": 1.5\n",
      "  }\n",
      "}\n",
      ",\n",
      "34.845967054367065\n"
     ]
    },
    {
     "name": "stderr",
     "output_type": "stream",
     "text": [
      "The attention mask and the pad token id were not set. As a consequence, you may observe unexpected behavior. Please pass your input's `attention_mask` to obtain reliable results.\n",
      "Setting `pad_token_id` to `eos_token_id`:None for open-end generation.\n"
     ]
    },
    {
     "name": "stdout",
     "output_type": "stream",
     "text": [
      "27 :\n",
      "\n",
      "\n",
      "{\n",
      "  \"Parsed_Parameters\": {\n",
      "    \"X_dimension\": 20.0,\n",
      "    \"Y_dimension\": 40.0,\n",
      "    \"Number_of_Users\": 80,\n",
      "    \"Number_of_Routers\": 4,\n",
      "    \"X_User_Distribution\": \"Bi-Exponential\",\n",
      "    \"Y_User_Distribution\": \"Bi-Exponential\",\n",
      "    \"Height\": 4.0,\n",
      "    \"K\": 15.0,\n",
      "    \"Alpha\": 0.005,\n",
      "    \"Transmit_Power\": 19,\n",
      "    \"User_Equipment_Height\": 1.5\n",
      "  }\n",
      "}\n",
      ",\n",
      "35.69298243522644\n"
     ]
    },
    {
     "name": "stderr",
     "output_type": "stream",
     "text": [
      "The attention mask and the pad token id were not set. As a consequence, you may observe unexpected behavior. Please pass your input's `attention_mask` to obtain reliable results.\n",
      "Setting `pad_token_id` to `eos_token_id`:None for open-end generation.\n"
     ]
    },
    {
     "name": "stdout",
     "output_type": "stream",
     "text": [
      "28 :\n",
      "\n",
      "\n",
      "{\n",
      "  \"Parsed_Parameters\": {\n",
      "    \"X_dimension\": 35.0,\n",
      "    \"Y_dimension\": 25.0,\n",
      "    \"Number_of_Users\": 140,\n",
      "    \"Number_of_Routers\": 7,\n",
      "    \"X_User_Distribution\": \"Uniform\",\n",
      "    \"Y_User_Distribution\": \"Uniform\",\n",
      "    \"Height\": 0.0,\n",
      "    \"K\": 0.0,\n",
      "    \"Alpha\": 0.0,\n",
      "    \"Transmit_Power\": 0.0,\n",
      "    \"User_Equipment_Height\": 0.0\n",
      "  }\n",
      "}\n",
      ",\n",
      "34.5251362323761\n"
     ]
    },
    {
     "name": "stderr",
     "output_type": "stream",
     "text": [
      "The attention mask and the pad token id were not set. As a consequence, you may observe unexpected behavior. Please pass your input's `attention_mask` to obtain reliable results.\n",
      "Setting `pad_token_id` to `eos_token_id`:None for open-end generation.\n"
     ]
    },
    {
     "name": "stdout",
     "output_type": "stream",
     "text": [
      "29 :\n",
      "\n",
      "\n",
      "{\n",
      "  \"Parsed_Parameters\": {\n",
      "    \"X_dimension\": 30.0,\n",
      "    \"Y_dimension\": 40.0,\n",
      "    \"Number_of_Users\": 110,\n",
      "    \"Number_of_Routers\": 5,\n",
      "    \"X_User_Distribution\": \"Bi-Exponential\",\n",
      "    \"Y_User_Distribution\": \"Bi-Exponential\",\n",
      "    \"Height\": 0.0,\n",
      "    \"K\": 0.0,\n",
      "    \"Alpha\": 0.0,\n",
      "    \"Transmit_Power\": 0.0,\n",
      "    \"User_Equipment_Height\": 0.0\n",
      "  }\n",
      "}\n",
      ",\n",
      "36.150721073150635\n"
     ]
    },
    {
     "name": "stderr",
     "output_type": "stream",
     "text": [
      "The attention mask and the pad token id were not set. As a consequence, you may observe unexpected behavior. Please pass your input's `attention_mask` to obtain reliable results.\n",
      "Setting `pad_token_id` to `eos_token_id`:None for open-end generation.\n"
     ]
    },
    {
     "name": "stdout",
     "output_type": "stream",
     "text": [
      "30 :\n",
      "\n",
      "\n",
      "{\n",
      "  \"Parsed_Parameters\": {\n",
      "    \"X_dimension\": 40.0,\n",
      "    \"Y_dimension\": 20.0,\n",
      "    \"Number_of_Users\": 130,\n",
      "    \"Number_of_Routers\": 6,\n",
      "    \"X_User_Distribution\": \"Uniform\",\n",
      "    \"Y_User_Distribution\": \"Uniform\",\n",
      "    \"Height\": 2.5,\n",
      "    \"K\": 10.0,\n",
      "    \"Alpha\": 0.01,\n",
      "    \"Transmit_Power\": 20,\n",
      "    \"User_Equipment_Height\": 1.5\n",
      "  }\n",
      "}\n",
      ",\n",
      "34.130287170410156\n",
      "Class 1\n",
      "Type 0\n"
     ]
    },
    {
     "name": "stderr",
     "output_type": "stream",
     "text": [
      "The attention mask and the pad token id were not set. As a consequence, you may observe unexpected behavior. Please pass your input's `attention_mask` to obtain reliable results.\n",
      "Setting `pad_token_id` to `eos_token_id`:None for open-end generation.\n"
     ]
    },
    {
     "name": "stdout",
     "output_type": "stream",
     "text": [
      "31 :\n",
      "\n",
      "\n",
      "{\n",
      "  \"Parsed_Parameters\": {\n",
      "    \"X_dimension\": 50.0,\n",
      "    \"Y_dimension\": 20.0,\n",
      "    \"Number_of_Users\": 150,\n",
      "    \"Number_of_Routers\": 8,\n",
      "    \"X_User_Distribution\": \"Gaussian\",\n",
      "    \"Y_User_Distribution\": \"Exponential\",\n",
      "    \"Height\": 5.0,\n",
      "    \"K\": 0.01,\n",
      "    \"Alpha\": 3.0,\n",
      "    \"Transmit_Power\": 25,\n",
      "    \"User_Equipment_Height\": 5.0\n",
      "  }\n",
      "}\n",
      ",\n",
      "34.812323808670044\n"
     ]
    },
    {
     "name": "stderr",
     "output_type": "stream",
     "text": [
      "The attention mask and the pad token id were not set. As a consequence, you may observe unexpected behavior. Please pass your input's `attention_mask` to obtain reliable results.\n",
      "Setting `pad_token_id` to `eos_token_id`:None for open-end generation.\n"
     ]
    },
    {
     "name": "stdout",
     "output_type": "stream",
     "text": [
      "32 :\n",
      "\n",
      "\n",
      "{\n",
      "  \"Parsed_Parameters\": {\n",
      "    \"X_dimension\": 15.0,\n",
      "    \"Y_dimension\": 40.0,\n",
      "    \"Number_of_Users\": 80,\n",
      "    \"Number_of_Routers\": 4,\n",
      "    \"X_User_Distribution\": \"Uniform\",\n",
      "    \"Y_User_Distribution\": \"Bi-Exponential\",\n",
      "    \"Height\": 3.0,\n",
      "    \"K\": 0.005,\n",
      "    \"Alpha\": 2.5,\n",
      "    \"Transmit_Power\": 20,\n",
      "    \"User_Equipment_Height\": 3.0\n",
      "  }\n",
      "}\n",
      ",\n",
      "34.96619987487793\n"
     ]
    },
    {
     "name": "stderr",
     "output_type": "stream",
     "text": [
      "The attention mask and the pad token id were not set. As a consequence, you may observe unexpected behavior. Please pass your input's `attention_mask` to obtain reliable results.\n",
      "Setting `pad_token_id` to `eos_token_id`:None for open-end generation.\n"
     ]
    },
    {
     "name": "stdout",
     "output_type": "stream",
     "text": [
      "33 :\n",
      "\n",
      "\n",
      "{\n",
      "  \"Parsed_Parameters\": {\n",
      "    \"X_dimension\": 60.0,\n",
      "    \"Y_dimension\": 25.0,\n",
      "    \"Number_of_Users\": 100,\n",
      "    \"Number_of_Routers\": 5,\n",
      "    \"X_User_Distribution\": \"Exponential\",\n",
      "    \"Y_User_Distribution\": \"Exponential\",\n",
      "    \"Height\": 6.0,\n",
      "    \"K\": 0.03,\n",
      "    \"Alpha\": 3.5,\n",
      "    \"Transmit_Power\": 28,\n",
      "    \"User_Equipment_Height\": 6.0\n",
      "  }\n",
      "}\n",
      ",\n",
      "34.86895298957825\n"
     ]
    },
    {
     "name": "stderr",
     "output_type": "stream",
     "text": [
      "The attention mask and the pad token id were not set. As a consequence, you may observe unexpected behavior. Please pass your input's `attention_mask` to obtain reliable results.\n",
      "Setting `pad_token_id` to `eos_token_id`:None for open-end generation.\n"
     ]
    },
    {
     "name": "stdout",
     "output_type": "stream",
     "text": [
      "34 :\n",
      "\n",
      "\n",
      "{\n",
      "  \"Parsed_Parameters\": {\n",
      "    \"X_dimension\": 30.0,\n",
      "    \"Y_dimension\": 10.0,\n",
      "    \"Number_of_Users\": 50,\n",
      "    \"Number_of_Routers\": 3,\n",
      "    \"X_User_Distribution\": \"Uniform\",\n",
      "    \"Y_User_Distribution\": \"Uniform\",\n",
      "    \"Height\": 4.0,\n",
      "    \"K\": 0.02,\n",
      "    \"Alpha\": 2.2,\n",
      "    \"Transmit_Power\": 22,\n",
      "    \"User_Equipment_Height\": 1.0\n",
      "  }\n",
      "}\n",
      ",\n",
      "34.20147371292114\n"
     ]
    },
    {
     "name": "stderr",
     "output_type": "stream",
     "text": [
      "The attention mask and the pad token id were not set. As a consequence, you may observe unexpected behavior. Please pass your input's `attention_mask` to obtain reliable results.\n",
      "Setting `pad_token_id` to `eos_token_id`:None for open-end generation.\n"
     ]
    },
    {
     "name": "stdout",
     "output_type": "stream",
     "text": [
      "35 :\n",
      "\n",
      "\n",
      "{\n",
      "  \"Parsed_Parameters\": {\n",
      "    \"X_dimension\": 45.0,\n",
      "    \"Y_dimension\": 20.0,\n",
      "    \"Number_of_Users\": 120,\n",
      "    \"Number_of_Routers\": 6,\n",
      "    \"X_User_Distribution\": \"Bi-Exponential\",\n",
      "    \"Y_User_Distribution\": \"Gaussian\",\n",
      "    \"Height\": 5.0,\n",
      "    \"K\": 0.01,\n",
      "    \"Alpha\": 3.0,\n",
      "    \"Transmit_Power\": 25,\n",
      "    \"User_Equipment_Height\": 5.0\n",
      "  }\n",
      "}\n",
      ",\n",
      "35.40428018569946\n"
     ]
    },
    {
     "name": "stderr",
     "output_type": "stream",
     "text": [
      "The attention mask and the pad token id were not set. As a consequence, you may observe unexpected behavior. Please pass your input's `attention_mask` to obtain reliable results.\n",
      "Setting `pad_token_id` to `eos_token_id`:None for open-end generation.\n"
     ]
    },
    {
     "name": "stdout",
     "output_type": "stream",
     "text": [
      "36 :\n",
      "\n",
      "\n",
      "{\n",
      "  \"Parsed_Parameters\": {\n",
      "    \"X_dimension\": 55.0,\n",
      "    \"Y_dimension\": 25.0,\n",
      "    \"Number_of_Users\": 180,\n",
      "    \"Number_of_Routers\": 9,\n",
      "    \"X_User_Distribution\": \"Uniform\",\n",
      "    \"Y_User_Distribution\": \"Uniform\",\n",
      "    \"Height\": 4.0,\n",
      "    \"K\": 0.04,\n",
      "    \"Alpha\": 3.2,\n",
      "    \"Transmit_Power\": 29,\n",
      "    \"User_Equipment_Height\": 4.0\n",
      "  }\n",
      "}\n",
      ",\n",
      "34.28557324409485\n"
     ]
    },
    {
     "name": "stderr",
     "output_type": "stream",
     "text": [
      "The attention mask and the pad token id were not set. As a consequence, you may observe unexpected behavior. Please pass your input's `attention_mask` to obtain reliable results.\n",
      "Setting `pad_token_id` to `eos_token_id`:None for open-end generation.\n"
     ]
    },
    {
     "name": "stdout",
     "output_type": "stream",
     "text": [
      "37 :\n",
      "\n",
      "\n",
      "{\n",
      "  \"Parsed_Parameters\": {\n",
      "    \"X_dimension\": 20.0,\n",
      "    \"Y_dimension\": 10.0,\n",
      "    \"Number_of_Users\": 40,\n",
      "    \"Number_of_Routers\": 2,\n",
      "    \"X_User_Distribution\": \"Exponential\",\n",
      "    \"Y_User_Distribution\": \"Uniform\",\n",
      "    \"Height\": 3.0,\n",
      "    \"K\": 0.005,\n",
      "    \"Alpha\": 2.0,\n",
      "    \"Transmit_Power\": 100,\n",
      "    \"User_Equipment_Height\": 1.0\n",
      "  }\n",
      "}\n",
      ",\n",
      "34.58362054824829\n"
     ]
    },
    {
     "name": "stderr",
     "output_type": "stream",
     "text": [
      "The attention mask and the pad token id were not set. As a consequence, you may observe unexpected behavior. Please pass your input's `attention_mask` to obtain reliable results.\n",
      "Setting `pad_token_id` to `eos_token_id`:None for open-end generation.\n"
     ]
    },
    {
     "name": "stdout",
     "output_type": "stream",
     "text": [
      "38 :\n",
      "\n",
      "\n",
      "{\n",
      "  \"Parsed_Parameters\": {\n",
      "    \"X_dimension\": 50.0,\n",
      "    \"Y_dimension\": 20.0,\n",
      "    \"Number_of_Users\": 150,\n",
      "    \"Number_of_Routers\": 7,\n",
      "    \"X_User_Distribution\": \"Gaussian\",\n",
      "    \"Y_User_Distribution\": \"Gaussian\",\n",
      "    \"Height\": 5.0,\n",
      "    \"K\": 0.02,\n",
      "    \"Alpha\": 2.8,\n",
      "    \"Transmit_Power\": 27,\n",
      "    \"User_Equipment_Height\": 1.0\n",
      "  }\n",
      "}\n",
      ",\n",
      "34.85405135154724\n"
     ]
    },
    {
     "name": "stderr",
     "output_type": "stream",
     "text": [
      "The attention mask and the pad token id were not set. As a consequence, you may observe unexpected behavior. Please pass your input's `attention_mask` to obtain reliable results.\n",
      "Setting `pad_token_id` to `eos_token_id`:None for open-end generation.\n"
     ]
    },
    {
     "name": "stdout",
     "output_type": "stream",
     "text": [
      "39 :\n",
      "\n",
      "\n",
      "{\n",
      "  \"Parsed_Parameters\": {\n",
      "    \"X_dimension\": 35.0,\n",
      "    \"Y_dimension\": 15.0,\n",
      "    \"Number_of_Users\": 90,\n",
      "    \"Number_of_Routers\": 5,\n",
      "    \"X_User_Distribution\": \"Bi-Exponential\",\n",
      "    \"Y_User_Distribution\": \"Bi-Exponential\",\n",
      "    \"Height\": 4.0,\n",
      "    \"K\": 0.01,\n",
      "    \"Alpha\": 2.5,\n",
      "    \"Transmit_Power\": 24,\n",
      "    \"User_Equipment_Height\": 1.0\n",
      "  }\n",
      "}\n",
      ",\n",
      "36.027496337890625\n"
     ]
    },
    {
     "name": "stderr",
     "output_type": "stream",
     "text": [
      "The attention mask and the pad token id were not set. As a consequence, you may observe unexpected behavior. Please pass your input's `attention_mask` to obtain reliable results.\n",
      "Setting `pad_token_id` to `eos_token_id`:None for open-end generation.\n"
     ]
    },
    {
     "name": "stdout",
     "output_type": "stream",
     "text": [
      "40 :\n",
      "\n",
      "\n",
      "{\n",
      "  \"Parsed_Parameters\": {\n",
      "    \"X_dimension\": 20.0,\n",
      "    \"Y_dimension\": 40.0,\n",
      "    \"Number_of_Users\": 120,\n",
      "    \"Number_of_Routers\": 6,\n",
      "    \"X_User_Distribution\": \"Uniform\",\n",
      "    \"Y_User_Distribution\": \"Exponential\",\n",
      "    \"Height\": 6.0,\n",
      "    \"K\": 0.03,\n",
      "    \"Alpha\": 3.0,\n",
      "    \"Transmit_Power\": 26,\n",
      "    \"User_Equipment_Height\": 1.0\n",
      "  }\n",
      "}\n",
      ",\n",
      "34.524983406066895\n",
      "Type 1\n"
     ]
    },
    {
     "name": "stderr",
     "output_type": "stream",
     "text": [
      "The attention mask and the pad token id were not set. As a consequence, you may observe unexpected behavior. Please pass your input's `attention_mask` to obtain reliable results.\n",
      "Setting `pad_token_id` to `eos_token_id`:None for open-end generation.\n"
     ]
    },
    {
     "name": "stdout",
     "output_type": "stream",
     "text": [
      "41 :\n",
      "\n",
      "\n",
      "{\n",
      "  \"Parsed_Parameters\": {\n",
      "    \"X_dimension\": 25.0,\n",
      "    \"Y_dimension\": 40.0,\n",
      "    \"Number_of_Users\": 150,\n",
      "    \"Number_of_Routers\": 8,\n",
      "    \"X_User_Distribution\": \"Uniform\",\n",
      "    \"Y_User_Distribution\": \"Uniform\",\n",
      "    \"Height\": 1.0,\n",
      "    \"K\": 0.0,\n",
      "    \"Alpha\": 0.0,\n",
      "    \"Transmit_Power\": 0.0,\n",
      "    \"User Equipment Height\": 1.0\n",
      "  }\n",
      "}\n",
      ",\n",
      "34.3818244934082\n"
     ]
    },
    {
     "name": "stderr",
     "output_type": "stream",
     "text": [
      "The attention mask and the pad token id were not set. As a consequence, you may observe unexpected behavior. Please pass your input's `attention_mask` to obtain reliable results.\n",
      "Setting `pad_token_id` to `eos_token_id`:None for open-end generation.\n"
     ]
    },
    {
     "name": "stdout",
     "output_type": "stream",
     "text": [
      "42 :\n",
      "\n",
      "\n",
      "{\n",
      "  \"Parsed_Parameters\": {\n",
      "    \"X_dimension\": 15.0,\n",
      "    \"Y_dimension\": 30.0,\n",
      "    \"Number_of_Users\": 60,\n",
      "    \"Number_of_Routers\": 4,\n",
      "    \"X_User_Distribution\": \"Uniform\",\n",
      "    \"Y_User_Distribution\": \"Uniform\",\n",
      "    \"Height\": 0.0,\n",
      "    \"K\": 0.0,\n",
      "    \"Alpha\": 0.0,\n",
      "    \"Transmit_Power\": 0.0,\n",
      "    \"User_Equipment_Height\": 0.0\n",
      "  }\n",
      "}\n",
      ",\n",
      "34.60573196411133\n"
     ]
    },
    {
     "name": "stderr",
     "output_type": "stream",
     "text": [
      "The attention mask and the pad token id were not set. As a consequence, you may observe unexpected behavior. Please pass your input's `attention_mask` to obtain reliable results.\n",
      "Setting `pad_token_id` to `eos_token_id`:None for open-end generation.\n"
     ]
    },
    {
     "name": "stdout",
     "output_type": "stream",
     "text": [
      "43 :\n",
      "\n",
      "\n",
      "{\n",
      "  \"Parsed_Parameters\": {\n",
      "    \"X_dimension\": 50.0,\n",
      "    \"Y_dimension\": 25.0,\n",
      "    \"Number_of_Users\": 120,\n",
      "    \"Number_of_Routers\": 7,\n",
      "    \"X_User_Distribution\": \"Uniform\",\n",
      "    \"Y_User_Distribution\": \"Uniform\",\n",
      "    \"Height\": 2.0,\n",
      "    \"K\": 0.0,\n",
      "    \"Alpha\": 2.8,\n",
      "    \"Transmit_Power\": 0,\n",
      "    \"User_Equipment_Height\": 1.0\n",
      "  }\n",
      "}\n",
      ",\n",
      "34.190693855285645\n"
     ]
    },
    {
     "name": "stderr",
     "output_type": "stream",
     "text": [
      "The attention mask and the pad token id were not set. As a consequence, you may observe unexpected behavior. Please pass your input's `attention_mask` to obtain reliable results.\n",
      "Setting `pad_token_id` to `eos_token_id`:None for open-end generation.\n"
     ]
    },
    {
     "name": "stdout",
     "output_type": "stream",
     "text": [
      "44 :\n",
      "\n",
      "\n",
      "{\n",
      "  \"Parsed_Parameters\": {\n",
      "    \"X_dimension\": 100.0,\n",
      "    \"Y_dimension\": 100.0,\n",
      "    \"Number_of_Users\": 100,\n",
      "    \"Number_of_Routers\": 5,\n",
      "    \"X_User_Distribution\": \"Uniform\",\n",
      "    \"Y_User_Distribution\": \"Uniform\",\n",
      "    \"Height\": 2.0,\n",
      "    \"K\": 20.0,\n",
      "    \"Alpha\": 0.0,\n",
      "    \"Transmit_Power\": 20,\n",
      "    \"User_Equipment_Height\": 1.5\n",
      "  }\n",
      "}\n",
      ",\n",
      "34.15172266960144\n"
     ]
    },
    {
     "name": "stderr",
     "output_type": "stream",
     "text": [
      "The attention mask and the pad token id were not set. As a consequence, you may observe unexpected behavior. Please pass your input's `attention_mask` to obtain reliable results.\n",
      "Setting `pad_token_id` to `eos_token_id`:None for open-end generation.\n"
     ]
    },
    {
     "name": "stdout",
     "output_type": "stream",
     "text": [
      "45 :\n",
      "\n",
      "\n",
      "{\n",
      "  \"Parsed_Parameters\": {\n",
      "    \"X_dimension\": 10.0,\n",
      "    \"Y_dimension\": 20.0,\n",
      "    \"Number_of_Users\": 40,\n",
      "    \"Number_of_Routers\": 3,\n",
      "    \"X_User_Distribution\": \"Uniform\",\n",
      "    \"Y_User_Distribution\": \"Uniform\",\n",
      "    \"Height\": 0.0,\n",
      "    \"K\": 0.0,\n",
      "    \"Alpha\": 0.0,\n",
      "    \"Transmit_Power\": 0,\n",
      "    \"User_Equipment_Height\": 0.0\n",
      "  }\n",
      "}\n",
      ",\n",
      "34.07802772521973\n"
     ]
    },
    {
     "name": "stderr",
     "output_type": "stream",
     "text": [
      "The attention mask and the pad token id were not set. As a consequence, you may observe unexpected behavior. Please pass your input's `attention_mask` to obtain reliable results.\n",
      "Setting `pad_token_id` to `eos_token_id`:None for open-end generation.\n"
     ]
    },
    {
     "name": "stdout",
     "output_type": "stream",
     "text": [
      "46 :\n",
      "\n",
      "\n",
      "{\n",
      "  \"Parsed_Parameters\": {\n",
      "    \"X_dimension\": 30.0,\n",
      "    \"Y_dimension\": 40.0,\n",
      "    \"Number_of_Users\": 150,\n",
      "    \"Number_of_Routers\": 6,\n",
      "    \"X_User_Distribution\": \"Uniform\",\n",
      "    \"Y_User_Distribution\": \"Uniform\",\n",
      "    \"Height\": 4.0,\n",
      "    \"K\": 15.0,\n",
      "    \"Alpha\": 0.0025,\n",
      "    \"Transmit_Power\": 19,\n",
      "    \"User_Equipment_Height\": 1.0\n",
      "  }\n",
      "}\n",
      ",\n",
      "34.52642345428467\n"
     ]
    },
    {
     "name": "stderr",
     "output_type": "stream",
     "text": [
      "The attention mask and the pad token id were not set. As a consequence, you may observe unexpected behavior. Please pass your input's `attention_mask` to obtain reliable results.\n",
      "Setting `pad_token_id` to `eos_token_id`:None for open-end generation.\n"
     ]
    },
    {
     "name": "stdout",
     "output_type": "stream",
     "text": [
      "47 :\n",
      "\n",
      "\n",
      "{\n",
      "  \"Parsed_Parameters\": {\n",
      "    \"X_dimension\": 60.0,\n",
      "    \"Y_dimension\": 40.0,\n",
      "    \"Number_of_Users\": 200,\n",
      "    \"Number_of_Routers\": 9,\n",
      "    \"X_User_Distribution\": \"Uniform\",\n",
      "    \"Y_User_Distribution\": \"Uniform\",\n",
      "    \"Height\": 0.0,\n",
      "    \"K\": 0.0,\n",
      "    \"Alpha\": 0.0,\n",
      "    \"Transmit_Power\": 0,\n",
      "    \"User_Equipment_Height\": 0.0\n",
      "  }\n",
      "}\n",
      ",\n",
      "33.91278839111328\n"
     ]
    },
    {
     "name": "stderr",
     "output_type": "stream",
     "text": [
      "The attention mask and the pad token id were not set. As a consequence, you may observe unexpected behavior. Please pass your input's `attention_mask` to obtain reliable results.\n",
      "Setting `pad_token_id` to `eos_token_id`:None for open-end generation.\n"
     ]
    },
    {
     "name": "stdout",
     "output_type": "stream",
     "text": [
      "48 :\n",
      "\n",
      "\n",
      "{\n",
      "  \"Parsed_Parameters\": {\n",
      "    \"X_dimension\": 50.0,\n",
      "    \"Y_dimension\": 30.0,\n",
      "    \"Number_of_Users\": 180,\n",
      "    \"Number_of_Routers\": 8,\n",
      "    \"X_User_Distribution\": \"Uniform\",\n",
      "    \"Y_User_Distribution\": \"Uniform\",\n",
      "    \"Height\": 2.0,\n",
      "    \"K\": 0.0,\n",
      "    \"Alpha\": 0.0,\n",
      "    \"Transmit_Power\": 0.0,\n",
      "    \"User_Equipment_Height\": 1.5\n",
      "  }\n",
      "}\n",
      ",\n",
      "34.63120913505554\n"
     ]
    },
    {
     "name": "stderr",
     "output_type": "stream",
     "text": [
      "The attention mask and the pad token id were not set. As a consequence, you may observe unexpected behavior. Please pass your input's `attention_mask` to obtain reliable results.\n",
      "Setting `pad_token_id` to `eos_token_id`:None for open-end generation.\n"
     ]
    },
    {
     "name": "stdout",
     "output_type": "stream",
     "text": [
      "49 :\n",
      "\n",
      "\n",
      "{\n",
      "  \"Parsed_Parameters\": {\n",
      "    \"X_dimension\": 25.0,\n",
      "    \"Y_dimension\": 20.0,\n",
      "    \"Number_of_Users\": 80,\n",
      "    \"Number_of_Routers\": 5,\n",
      "    \"X_User_Distribution\": \"Uniform\",\n",
      "    \"Y_User_Distribution\": \"Uniform\",\n",
      "    \"Height\": 2.0,\n",
      "    \"K\": 0.0,\n",
      "    \"Alpha\": 2.2,\n",
      "    \"Transmit_Power\": 19,\n",
      "    \"User_Equipment_Height\": 1.5\n",
      "  }\n",
      "}\n",
      ",\n",
      "34.1252064704895\n"
     ]
    },
    {
     "name": "stderr",
     "output_type": "stream",
     "text": [
      "The attention mask and the pad token id were not set. As a consequence, you may observe unexpected behavior. Please pass your input's `attention_mask` to obtain reliable results.\n",
      "Setting `pad_token_id` to `eos_token_id`:None for open-end generation.\n"
     ]
    },
    {
     "name": "stdout",
     "output_type": "stream",
     "text": [
      "50 :\n",
      "\n",
      "\n",
      "{\n",
      "  \"Parsed_Parameters\": {\n",
      "    \"X_dimension\": 15.0,\n",
      "    \"Y_dimension\": 20.0,\n",
      "    \"Number_of_Users\": 50,\n",
      "    \"Number_of_Routers\": 4,\n",
      "    \"X_User_Distribution\": \"Uniform\",\n",
      "    \"Y_User_Distribution\": \"Uniform\",\n",
      "    \"Height\": 0.0,\n",
      "    \"K\": 0.0,\n",
      "    \"Alpha\": 0.0,\n",
      "    \"Transmit_Power\": 0,\n",
      "    \"User Equipment Height\": 0.0\n",
      "  }\n",
      "}\n",
      ",\n",
      "33.74297332763672\n",
      "Type 2\n"
     ]
    },
    {
     "name": "stderr",
     "output_type": "stream",
     "text": [
      "The attention mask and the pad token id were not set. As a consequence, you may observe unexpected behavior. Please pass your input's `attention_mask` to obtain reliable results.\n",
      "Setting `pad_token_id` to `eos_token_id`:None for open-end generation.\n"
     ]
    },
    {
     "name": "stdout",
     "output_type": "stream",
     "text": [
      "51 :\n",
      "\n",
      "\n",
      "{\n",
      "  \"Parsed_Parameters\": {\n",
      "    \"X_dimension\": 25.0,\n",
      "    \"Y_dimension\": 40.0,\n",
      "    \"Number_of_Users\": 120,\n",
      "    \"Number_of_Routers\": 5,\n",
      "    \"X_User_Distribution\": \"Uniform\",\n",
      "    \"Y_User_Distribution\": \"Uniform\",\n",
      "    \"Height\": 1.0,\n",
      "    \"K\": 0.0,\n",
      "    \"Alpha\": 0.0,\n",
      "    \"Transmit_Power\": 22.0,\n",
      "    \"User_Equipment_Height\": 1.0\n",
      "  }\n",
      "}\n",
      ",\n",
      "34.61914610862732\n"
     ]
    },
    {
     "name": "stderr",
     "output_type": "stream",
     "text": [
      "The attention mask and the pad token id were not set. As a consequence, you may observe unexpected behavior. Please pass your input's `attention_mask` to obtain reliable results.\n",
      "Setting `pad_token_id` to `eos_token_id`:None for open-end generation.\n"
     ]
    },
    {
     "name": "stdout",
     "output_type": "stream",
     "text": [
      "52 :\n",
      "\n",
      "\n",
      "{\n",
      "  \"Parsed_Parameters\": {\n",
      "    \"X_dimension\": 50.0,\n",
      "    \"Y_dimension\": 30.0,\n",
      "    \"Number_of_Users\": 200,\n",
      "    \"Number_of_Routers\": 8,\n",
      "    \"X_User_Distribution\": \"Uniform\",\n",
      "    \"Y_User_Distribution\": \"Uniform\",\n",
      "    \"Height\": 4.0,\n",
      "    \"K\": 15.0,\n",
      "    \"Alpha\": 0.005,\n",
      "    \"Transmit_Power\": 19,\n",
      "    \"User_Equipment_Height\": 1.0\n",
      "  }\n",
      "}\n",
      ",\n",
      "34.12810754776001\n"
     ]
    },
    {
     "name": "stderr",
     "output_type": "stream",
     "text": [
      "The attention mask and the pad token id were not set. As a consequence, you may observe unexpected behavior. Please pass your input's `attention_mask` to obtain reliable results.\n",
      "Setting `pad_token_id` to `eos_token_id`:None for open-end generation.\n"
     ]
    },
    {
     "name": "stdout",
     "output_type": "stream",
     "text": [
      "53 :\n",
      "\n",
      "\n",
      "{\n",
      "  \"Parsed_Parameters\": {\n",
      "    \"X_dimension\": 30.0,\n",
      "    \"Y_dimension\": 20.0,\n",
      "    \"Number_of_Users\": 80,\n",
      "    \"Number_of_Routers\": 4,\n",
      "    \"X_User_Distribution\": \"Uniform\",\n",
      "    \"Y_User_Distribution\": \"Uniform\",\n",
      "    \"Height\": 2.0,\n",
      "    \"K\": 0.0,\n",
      "    \"Alpha\": 2.8,\n",
      "    \"Transmit_Power\": 0.0,\n",
      "    \"User Equipment Height\": 0.0\n",
      "  }\n",
      "}\n",
      ",\n",
      "34.541146755218506\n"
     ]
    },
    {
     "name": "stderr",
     "output_type": "stream",
     "text": [
      "The attention mask and the pad token id were not set. As a consequence, you may observe unexpected behavior. Please pass your input's `attention_mask` to obtain reliable results.\n",
      "Setting `pad_token_id` to `eos_token_id`:None for open-end generation.\n"
     ]
    },
    {
     "name": "stdout",
     "output_type": "stream",
     "text": [
      "54 :\n",
      "\n",
      "\n",
      "{\n",
      "  \"Parsed_Parameters\": {\n",
      "    \"X_dimension\": 35.0,\n",
      "    \"Y_dimension\": 25.0,\n",
      "    \"Number_of_Users\": 150,\n",
      "    \"Number_of_Routers\": 6,\n",
      "    \"X_User_Distribution\": \"Uniform\",\n",
      "    \"Y_User_Distribution\": \"Uniform\",\n",
      "    \"Height\": 4.0,\n",
      "    \"K\": 15.0,\n",
      "    \"Alpha\": 0.005,\n",
      "    \"Transmit_Power\": 19,\n",
      "    \"User_Equipment_Height\": 1.5\n",
      "  }\n",
      "}\n",
      ",\n",
      "34.07347750663757\n"
     ]
    },
    {
     "name": "stderr",
     "output_type": "stream",
     "text": [
      "The attention mask and the pad token id were not set. As a consequence, you may observe unexpected behavior. Please pass your input's `attention_mask` to obtain reliable results.\n",
      "Setting `pad_token_id` to `eos_token_id`:None for open-end generation.\n"
     ]
    },
    {
     "name": "stdout",
     "output_type": "stream",
     "text": [
      "55 :\n",
      "\n",
      "\n",
      "{\n",
      "  \"Parsed_Parameters\": {\n",
      "    \"X_dimension\": 20.0,\n",
      "    \"Y_dimension\": 40.0,\n",
      "    \"Number_of_Users\": 100,\n",
      "    \"Number_of_Routers\": 5,\n",
      "    \"X_User_Distribution\": \"Uniform\",\n",
      "    \"Y_User_Distribution\": \"Uniform\",\n",
      "    \"Height\": 4.0,\n",
      "    \"K\": 0.0,\n",
      "    \"Alpha\": 0.0,\n",
      "    \"Transmit_Power\": 24.0,\n",
      "    \"User Equipment Height\": 1.5\n",
      "  }\n",
      "}\n",
      ",\n",
      "34.438345432281494\n"
     ]
    },
    {
     "name": "stderr",
     "output_type": "stream",
     "text": [
      "The attention mask and the pad token id were not set. As a consequence, you may observe unexpected behavior. Please pass your input's `attention_mask` to obtain reliable results.\n",
      "Setting `pad_token_id` to `eos_token_id`:None for open-end generation.\n"
     ]
    },
    {
     "name": "stdout",
     "output_type": "stream",
     "text": [
      "56 :\n",
      "\n",
      "\n",
      "{\n",
      "  \"Parsed_Parameters\": {\n",
      "    \"X_dimension\": 60.0,\n",
      "    \"Y_dimension\": 40.0,\n",
      "    \"Number_of_Users\": 250,\n",
      "    \"Number_of_Routers\": 9,\n",
      "    \"X_User_Distribution\": \"Uniform\",\n",
      "    \"Y_User_Distribution\": \"Uniform\",\n",
      "    \"Height\": 4.0,\n",
      "    \"K\": 15.0,\n",
      "    \"Alpha\": 0.005,\n",
      "    \"Transmit_Power\": 19,\n",
      "    \"User_Equipment_Height\": 1.0\n",
      "  }\n",
      "}\n",
      ",\n",
      "34.080647230148315\n"
     ]
    },
    {
     "name": "stderr",
     "output_type": "stream",
     "text": [
      "The attention mask and the pad token id were not set. As a consequence, you may observe unexpected behavior. Please pass your input's `attention_mask` to obtain reliable results.\n",
      "Setting `pad_token_id` to `eos_token_id`:None for open-end generation.\n"
     ]
    },
    {
     "name": "stdout",
     "output_type": "stream",
     "text": [
      "57 :\n",
      "\n",
      "\n",
      "{\n",
      "  \"Parsed_Parameters\": {\n",
      "    \"X_dimension\": 25.0,\n",
      "    \"Y_dimension\": 20.0,\n",
      "    \"Number_of_Users\": 60,\n",
      "    \"Number_of_Routers\": 3,\n",
      "    \"X_User_Distribution\": \"Uniform\",\n",
      "    \"Y_User_Distribution\": \"Uniform\",\n",
      "    \"Height\": 0.0,\n",
      "    \"K\": 0.0,\n",
      "    \"Alpha\": 0.0,\n",
      "    \"Transmit_Power\": 0,\n",
      "    \"User_Equipment_Height\": 0.0\n",
      "  }\n",
      "}\n",
      ",\n",
      "34.168291091918945\n"
     ]
    },
    {
     "name": "stderr",
     "output_type": "stream",
     "text": [
      "The attention mask and the pad token id were not set. As a consequence, you may observe unexpected behavior. Please pass your input's `attention_mask` to obtain reliable results.\n",
      "Setting `pad_token_id` to `eos_token_id`:None for open-end generation.\n"
     ]
    },
    {
     "name": "stdout",
     "output_type": "stream",
     "text": [
      "58 :\n",
      "\n",
      "\n",
      "{\n",
      "  \"Parsed_Parameters\": {\n",
      "    \"X_dimension\": 45.0,\n",
      "    \"Y_dimension\": 30.0,\n",
      "    \"Number_of_Users\": 180,\n",
      "    \"Number_of_Routers\": 7,\n",
      "    \"X_User_Distribution\": \"Uniform\",\n",
      "    \"Y_User_Distribution\": \"Uniform\",\n",
      "    \"Height\": 4.0,\n",
      "    \"K\": 15.0,\n",
      "    \"Alpha\": 0.005,\n",
      "    \"Transmit_Power\": 19,\n",
      "    \"User_Equipment_Height\": 1.0\n",
      "  }\n",
      "}\n",
      ",\n",
      "34.17642068862915\n"
     ]
    },
    {
     "name": "stderr",
     "output_type": "stream",
     "text": [
      "The attention mask and the pad token id were not set. As a consequence, you may observe unexpected behavior. Please pass your input's `attention_mask` to obtain reliable results.\n",
      "Setting `pad_token_id` to `eos_token_id`:None for open-end generation.\n"
     ]
    },
    {
     "name": "stdout",
     "output_type": "stream",
     "text": [
      "59 :\n",
      "\n",
      "\n",
      "{\n",
      "  \"Parsed_Parameters\": {\n",
      "    \"X_dimension\": 30.0,\n",
      "    \"Y_dimension\": 25.0,\n",
      "    \"Number_of_Users\": 120,\n",
      "    \"Number_of_Routers\": 5,\n",
      "    \"X_User_Distribution\": \"Exponential\",\n",
      "    \"Y_User_Distribution\": \"Exponential\",\n",
      "    \"Height\": 1.0,\n",
      "    \"K\": 0.0,\n",
      "    \"Alpha\": 0.0,\n",
      "    \"Transmit_Power\": 0,\n",
      "    \"User Equipment Height\": 1.0\n",
      "  }\n",
      "}\n",
      ",\n",
      "34.37595224380493\n"
     ]
    },
    {
     "name": "stderr",
     "output_type": "stream",
     "text": [
      "The attention mask and the pad token id were not set. As a consequence, you may observe unexpected behavior. Please pass your input's `attention_mask` to obtain reliable results.\n",
      "Setting `pad_token_id` to `eos_token_id`:None for open-end generation.\n"
     ]
    },
    {
     "name": "stdout",
     "output_type": "stream",
     "text": [
      "60 :\n",
      "\n",
      "\n",
      "{\n",
      "  \"Parsed_Parameters\": {\n",
      "    \"X_dimension\": 50.0,\n",
      "    \"Y_dimension\": 40.0,\n",
      "    \"Number_of_Users\": 200,\n",
      "    \"Number_of_Routers\": 8,\n",
      "    \"X_User_Distribution\": \"Uniform\",\n",
      "    \"Y_User_Distribution\": \"Uniform\",\n",
      "    \"Height\": 4.0,\n",
      "    \"K\": 0.0,\n",
      "    \"Alpha\": 0.0,\n",
      "    \"Transmit_Power\": 26.0,\n",
      "    \"User_Equipment_Height\": 1.0\n",
      "  }\n",
      "}\n",
      ",\n",
      "34.73286247253418\n",
      "Class 2\n",
      "Type 0\n"
     ]
    },
    {
     "name": "stderr",
     "output_type": "stream",
     "text": [
      "The attention mask and the pad token id were not set. As a consequence, you may observe unexpected behavior. Please pass your input's `attention_mask` to obtain reliable results.\n",
      "Setting `pad_token_id` to `eos_token_id`:None for open-end generation.\n"
     ]
    },
    {
     "name": "stdout",
     "output_type": "stream",
     "text": [
      "61 :\n",
      "\n",
      "\n",
      "{\n",
      "  \"Parsed_Parameters\": {\n",
      "    \"X_dimension\": 50.0,\n",
      "    \"Y_dimension\": 20.0,\n",
      "    \"Number_of_Users\": 150,\n",
      "    \"Number_of_Routers\": 8,\n",
      "    \"X_User_Distribution\": \"Uniform\",\n",
      "    \"Y_User_Distribution\": \"Uniform\",\n",
      "    \"Height\": 5.0,\n",
      "    \"K\": 0.02,\n",
      "    \"Alpha\": 3.0,\n",
      "    \"Transmit_Power\": 20,\n",
      "    \"User_Equipment_Height\": 1.0\n",
      "  }\n",
      "}\n",
      ",\n",
      "34.29468393325806\n"
     ]
    },
    {
     "name": "stderr",
     "output_type": "stream",
     "text": [
      "The attention mask and the pad token id were not set. As a consequence, you may observe unexpected behavior. Please pass your input's `attention_mask` to obtain reliable results.\n",
      "Setting `pad_token_id` to `eos_token_id`:None for open-end generation.\n"
     ]
    },
    {
     "name": "stdout",
     "output_type": "stream",
     "text": [
      "62 :\n",
      "\n",
      "\n",
      "{\n",
      "  \"Parsed_Parameters\": {\n",
      "    \"X_dimension\": 30.0,\n",
      "    \"Y_dimension\": 20.0,\n",
      "    \"Number_of_Users\": 80,\n",
      "    \"Number_of_Routers\": 5,\n",
      "    \"X_User_Distribution\": \"Gaussian\",\n",
      "    \"Y_User_Distribution\": \"Gaussian\",\n",
      "    \"Height\": 3.0,\n",
      "    \"K\": 0.01,\n",
      "    \"Alpha\": 2.5,\n",
      "    \"Transmit_Power\": 12,\n",
      "    \"User_Equipment_Height\": 1.0\n",
      "  }\n",
      "}\n",
      ",\n",
      "34.804784536361694\n"
     ]
    },
    {
     "name": "stderr",
     "output_type": "stream",
     "text": [
      "The attention mask and the pad token id were not set. As a consequence, you may observe unexpected behavior. Please pass your input's `attention_mask` to obtain reliable results.\n",
      "Setting `pad_token_id` to `eos_token_id`:None for open-end generation.\n"
     ]
    },
    {
     "name": "stdout",
     "output_type": "stream",
     "text": [
      "63 :\n",
      "\n",
      "\n",
      "{\n",
      "  \"Parsed_Parameters\": {\n",
      "    \"X_dimension\": 25.0,\n",
      "    \"Y_dimension\": 40.0,\n",
      "    \"Number_of_Users\": 120,\n",
      "    \"Number_of_Routers\": 4,\n",
      "    \"X_User_Distribution\": \"Bi-Exponential\",\n",
      "    \"Y_User_Distribution\": \"Bi-Exponential\",\n",
      "    \"Height\": 4.0,\n",
      "    \"K\": 0.015,\n",
      "    \"Alpha\": 3.2,\n",
      "    \"Transmit_Power\": 18,\n",
      "    \"User_Equipment_Height\": 1.0\n",
      "  }\n",
      "}\n",
      ",\n",
      "35.99266076087952\n"
     ]
    },
    {
     "name": "stderr",
     "output_type": "stream",
     "text": [
      "The attention mask and the pad token id were not set. As a consequence, you may observe unexpected behavior. Please pass your input's `attention_mask` to obtain reliable results.\n",
      "Setting `pad_token_id` to `eos_token_id`:None for open-end generation.\n"
     ]
    },
    {
     "name": "stdout",
     "output_type": "stream",
     "text": [
      "64 :\n",
      "\n",
      "\n",
      "{\n",
      "  \"Parsed_Parameters\": {\n",
      "    \"X_dimension\": 15.0,\n",
      "    \"Y_dimension\": 20.0,\n",
      "    \"Number_of_Users\": 50,\n",
      "    \"Number_of_Routers\": 3,\n",
      "    \"X_User_Distribution\": \"Uniform\",\n",
      "    \"Y_User_Distribution\": \"Uniform\",\n",
      "    \"Height\": 3.0,\n",
      "    \"K\": 0.005,\n",
      "    \"Alpha\": 2.0,\n",
      "    \"Transmit_Power\": 10,\n",
      "    \"User_Equipment_Height\": 3.0\n",
      "  }\n",
      "}\n",
      ",\n",
      "34.28977990150452\n"
     ]
    },
    {
     "name": "stderr",
     "output_type": "stream",
     "text": [
      "The attention mask and the pad token id were not set. As a consequence, you may observe unexpected behavior. Please pass your input's `attention_mask` to obtain reliable results.\n",
      "Setting `pad_token_id` to `eos_token_id`:None for open-end generation.\n"
     ]
    },
    {
     "name": "stdout",
     "output_type": "stream",
     "text": [
      "65 :\n",
      "\n",
      "\n",
      "{\n",
      "  \"Parsed_Parameters\": {\n",
      "    \"X_dimension\": 45.0,\n",
      "    \"Y_dimension\": 30.0,\n",
      "    \"Number_of_Users\": 180,\n",
      "    \"Number_of_Routers\": 7,\n",
      "    \"X_User_Distribution\": \"Exponential\",\n",
      "    \"Y_User_Distribution\": \"Exponential\",\n",
      "    \"Height\": 5.0,\n",
      "    \"K\": 0.025,\n",
      "    \"Alpha\": 3.5,\n",
      "    \"Transmit_Power\": 22,\n",
      "    \"User_Equipment_Height\": 1.5\n",
      "  }\n",
      "}\n",
      ",\n",
      "34.93272161483765\n"
     ]
    },
    {
     "name": "stderr",
     "output_type": "stream",
     "text": [
      "The attention mask and the pad token id were not set. As a consequence, you may observe unexpected behavior. Please pass your input's `attention_mask` to obtain reliable results.\n",
      "Setting `pad_token_id` to `eos_token_id`:None for open-end generation.\n"
     ]
    },
    {
     "name": "stdout",
     "output_type": "stream",
     "text": [
      "66 :\n",
      "\n",
      "\n",
      "{\n",
      "  \"Parsed_Parameters\": {\n",
      "    \"X_dimension\": 25.0,\n",
      "    \"Y_dimension\": 40.0,\n",
      "    \"Number_of_Users\": 200,\n",
      "    \"Number_of_Routers\": 9,\n",
      "    \"X_User_Distribution\": \"Gaussian\",\n",
      "    \"Y_User_Distribution\": \"Gaussian\",\n",
      "    \"Height\": 4.0,\n",
      "    \"K\": 0.03,\n",
      "    \"Alpha\": 3.8,\n",
      "    \"Transmit_Power\": 25,\n",
      "    \"User_Equipment_Height\": 1.0\n",
      "  }\n",
      "}\n",
      ",\n",
      "34.87346386909485\n"
     ]
    },
    {
     "name": "stderr",
     "output_type": "stream",
     "text": [
      "The attention mask and the pad token id were not set. As a consequence, you may observe unexpected behavior. Please pass your input's `attention_mask` to obtain reliable results.\n",
      "Setting `pad_token_id` to `eos_token_id`:None for open-end generation.\n"
     ]
    },
    {
     "name": "stdout",
     "output_type": "stream",
     "text": [
      "67 :\n",
      "\n",
      "\n",
      "{\n",
      "  \"Parsed_Parameters\": {\n",
      "    \"X_dimension\": 30.0,\n",
      "    \"Y_dimension\": 20.0,\n",
      "    \"Number_of_Users\": 100,\n",
      "    \"Number_of_Routers\": 5,\n",
      "    \"X_User_Distribution\": \"Bi-Exponential\",\n",
      "    \"Y_User_Distribution\": \"Bi-Exponential\",\n",
      "    \"Height\": 3.0,\n",
      "    \"K\": 0.01,\n",
      "    \"Alpha\": 2.2,\n",
      "    \"Transmit_Power\": 15,\n",
      "    \"User_Equipment_Height\": 1.0\n",
      "  }\n",
      "}\n",
      ",\n",
      "35.87536954879761\n"
     ]
    },
    {
     "name": "stderr",
     "output_type": "stream",
     "text": [
      "The attention mask and the pad token id were not set. As a consequence, you may observe unexpected behavior. Please pass your input's `attention_mask` to obtain reliable results.\n",
      "Setting `pad_token_id` to `eos_token_id`:None for open-end generation.\n"
     ]
    },
    {
     "name": "stdout",
     "output_type": "stream",
     "text": [
      "68 :\n",
      "\n",
      "\n",
      "{\n",
      "  \"Parsed_Parameters\": {\n",
      "    \"X_dimension\": 50.0,\n",
      "    \"Y_dimension\": 35.0,\n",
      "    \"Number_of_Users\": 150,\n",
      "    \"Number_of_Routers\": 8,\n",
      "    \"X_User_Distribution\": \"Uniform\",\n",
      "    \"Y_User_Distribution\": \"Uniform\",\n",
      "    \"Height\": 5.0,\n",
      "    \"K\": 0.02,\n",
      "    \"Alpha\": 3.0,\n",
      "    \"Transmit_Power\": 20,\n",
      "    \"User_Equipment_Height\": 1.0\n",
      "  }\n",
      "}\n",
      ",\n",
      "34.36060643196106\n"
     ]
    },
    {
     "name": "stderr",
     "output_type": "stream",
     "text": [
      "The attention mask and the pad token id were not set. As a consequence, you may observe unexpected behavior. Please pass your input's `attention_mask` to obtain reliable results.\n",
      "Setting `pad_token_id` to `eos_token_id`:None for open-end generation.\n"
     ]
    },
    {
     "name": "stdout",
     "output_type": "stream",
     "text": [
      "69 :\n",
      "\n",
      "\n",
      "{\n",
      "  \"Parsed_Parameters\": {\n",
      "    \"X_dimension\": 20.0,\n",
      "    \"Y_dimension\": 25.0,\n",
      "    \"Number_of_Users\": 80,\n",
      "    \"Number_of_Routers\": 4,\n",
      "    \"X_User_Distribution\": \"Exponential\",\n",
      "    \"Y_User_Distribution\": \"Exponential\",\n",
      "    \"Height\": 3.0,\n",
      "    \"K\": 0.005,\n",
      "    \"Alpha\": 2.0,\n",
      "    \"Transmit_Power\": 12,\n",
      "    \"User_Equipment_Height\": 1.0\n",
      "  }\n",
      "}\n",
      ",\n",
      "34.93118953704834\n"
     ]
    },
    {
     "name": "stderr",
     "output_type": "stream",
     "text": [
      "The attention mask and the pad token id were not set. As a consequence, you may observe unexpected behavior. Please pass your input's `attention_mask` to obtain reliable results.\n",
      "Setting `pad_token_id` to `eos_token_id`:None for open-end generation.\n"
     ]
    },
    {
     "name": "stdout",
     "output_type": "stream",
     "text": [
      "70 :\n",
      "\n",
      "\n",
      "{\n",
      "  \"Parsed_Parameters\": {\n",
      "    \"X_dimension\": 30.0,\n",
      "    \"Y_dimension\": 40.0,\n",
      "    \"Number_of_Users\": 120,\n",
      "    \"Number_of_Routers\": 6,\n",
      "    \"X_User_Distribution\": \"Gaussian\",\n",
      "    \"Y_User_Distribution\": \"Gaussian\",\n",
      "    \"Height\": 4.0,\n",
      "    \"K\": 0.015,\n",
      "    \"Alpha\": 2.5,\n",
      "    \"Transmit_Power\": 18,\n",
      "    \"User_Equipment_Height\": 1.0\n",
      "  }\n",
      "}\n",
      ",\n",
      "34.85376000404358\n",
      "Type 1\n"
     ]
    },
    {
     "name": "stderr",
     "output_type": "stream",
     "text": [
      "The attention mask and the pad token id were not set. As a consequence, you may observe unexpected behavior. Please pass your input's `attention_mask` to obtain reliable results.\n",
      "Setting `pad_token_id` to `eos_token_id`:None for open-end generation.\n"
     ]
    },
    {
     "name": "stdout",
     "output_type": "stream",
     "text": [
      "71 :\n",
      "\n",
      "\n",
      "{\n",
      "  \"Parsed_Parameters\": {\n",
      "    \"X_dimension\": 50.0,\n",
      "    \"Y_dimension\": 40.0,\n",
      "    \"Number_of_Users\": 120,\n",
      "    \"Number_of_Routers\": 5,\n",
      "    \"X_User_Distribution\": \"Uniform\",\n",
      "    \"Y_User_Distribution\": \"Uniform\",\n",
      "    \"Height\": 4.0,\n",
      "    \"K\": 15.0,\n",
      "    \"Alpha\": 0.005,\n",
      "    \"Transmit_Power\": 19,\n",
      "    \"User_Equipment_Height\": 1.5\n",
      "  }\n",
      "}\n",
      ",\n",
      "34.0758912563324\n"
     ]
    },
    {
     "name": "stderr",
     "output_type": "stream",
     "text": [
      "The attention mask and the pad token id were not set. As a consequence, you may observe unexpected behavior. Please pass your input's `attention_mask` to obtain reliable results.\n",
      "Setting `pad_token_id` to `eos_token_id`:None for open-end generation.\n"
     ]
    },
    {
     "name": "stdout",
     "output_type": "stream",
     "text": [
      "72 :\n",
      "\n",
      "\n",
      "{\n",
      "  \"Parsed_Parameters\": {\n",
      "    \"X_dimension\": 15.0,\n",
      "    \"Y_dimension\": 20.0,\n",
      "    \"Number_of_Users\": 20,\n",
      "    \"Number_of_Routers\": 2,\n",
      "    \"X_User_Distribution\": \"Uniform\",\n",
      "    \"Y_User_Distribution\": \"Uniform\",\n",
      "    \"Height\": 4.0,\n",
      "    \"K\": 0.0,\n",
      "    \"Alpha\": 0.0,\n",
      "    \"Transmit_Power\": 0.0,\n",
      "    \"User Equipment Height\": 0.0\n",
      "  }\n",
      "}\n",
      ",\n",
      "34.45418357849121\n"
     ]
    },
    {
     "name": "stderr",
     "output_type": "stream",
     "text": [
      "The attention mask and the pad token id were not set. As a consequence, you may observe unexpected behavior. Please pass your input's `attention_mask` to obtain reliable results.\n",
      "Setting `pad_token_id` to `eos_token_id`:None for open-end generation.\n"
     ]
    },
    {
     "name": "stdout",
     "output_type": "stream",
     "text": [
      "73 :\n",
      "\n",
      "\n",
      "{\n",
      "  \"Parsed_Parameters\": {\n",
      "    \"X_dimension\": 30.0,\n",
      "    \"Y_dimension\": 40.0,\n",
      "    \"Number_of_Users\": 80,\n",
      "    \"Number_of_Routers\": 4,\n",
      "    \"X_User_Distribution\": \"Uniform\",\n",
      "    \"Y_User_Distribution\": \"Uniform\",\n",
      "    \"Height\": 4.0,\n",
      "    \"K\": 0.01,\n",
      "    \"Alpha\": 0.0,\n",
      "    \"Transmit_Power\": 19,\n",
      "    \"User_Equipment_Height\": 1.0\n",
      "  }\n",
      "}\n",
      ",\n",
      "34.14503455162048\n"
     ]
    },
    {
     "name": "stderr",
     "output_type": "stream",
     "text": [
      "The attention mask and the pad token id were not set. As a consequence, you may observe unexpected behavior. Please pass your input's `attention_mask` to obtain reliable results.\n",
      "Setting `pad_token_id` to `eos_token_id`:None for open-end generation.\n"
     ]
    },
    {
     "name": "stdout",
     "output_type": "stream",
     "text": [
      "74 :\n",
      "\n",
      "\n",
      "{\n",
      "  \"Parsed_Parameters\": {\n",
      "    \"X_dimension\": 25.0,\n",
      "    \"Y_dimension\": 35.0,\n",
      "    \"Number_of_Users\": 60,\n",
      "    \"Number_of_Routers\": 3,\n",
      "    \"X_User_Distribution\": \"Uniform\",\n",
      "    \"Y_User_Distribution\": \"Uniform\",\n",
      "    \"Height\": 2.0,\n",
      "    \"K\": 0.0,\n",
      "    \"Alpha\": 0.0,\n",
      "    \"Transmit_Power\": 25.0,\n",
      "    \"User_Equipment_Height\": 1.8\n",
      "  }\n",
      "}\n",
      ",\n",
      "34.603267669677734\n"
     ]
    },
    {
     "name": "stderr",
     "output_type": "stream",
     "text": [
      "The attention mask and the pad token id were not set. As a consequence, you may observe unexpected behavior. Please pass your input's `attention_mask` to obtain reliable results.\n",
      "Setting `pad_token_id` to `eos_token_id`:None for open-end generation.\n"
     ]
    },
    {
     "name": "stdout",
     "output_type": "stream",
     "text": [
      "75 :\n",
      "\n",
      "\n",
      "{\n",
      "  \"Parsed_Parameters\": {\n",
      "    \"X_dimension\": 50.0,\n",
      "    \"Y_dimension\": 60.0,\n",
      "    \"Number_of_Users\": 180,\n",
      "    \"Number_of_Routers\": 6,\n",
      "    \"X_User_Distribution\": \"Uniform\",\n",
      "    \"Y_User_Distribution\": \"Uniform\",\n",
      "    \"Height\": 0.0,\n",
      "    \"K\": 0.0,\n",
      "    \"Alpha\": 0.0,\n",
      "    \"Transmit_Power\": 0.0,\n",
      "    \"User_Equipment_Height\": 0.0\n",
      "  }\n",
      "}\n",
      ",\n",
      "34.78857612609863\n"
     ]
    },
    {
     "name": "stderr",
     "output_type": "stream",
     "text": [
      "The attention mask and the pad token id were not set. As a consequence, you may observe unexpected behavior. Please pass your input's `attention_mask` to obtain reliable results.\n",
      "Setting `pad_token_id` to `eos_token_id`:None for open-end generation.\n"
     ]
    },
    {
     "name": "stdout",
     "output_type": "stream",
     "text": [
      "76 :\n",
      "\n",
      "\n",
      "{\n",
      "  \"Parsed_Parameters\": {\n",
      "    \"X_dimension\": 30.0,\n",
      "    \"Y_dimension\": 20.0,\n",
      "    \"Number_of_Users\": 40,\n",
      "    \"Number_of_Routers\": 2,\n",
      "    \"X_User_Distribution\": \"Uniform\",\n",
      "    \"Y_User_Distribution\": \"Uniform\",\n",
      "    \"Height\": 5.0,\n",
      "    \"K\": 0.0,\n",
      "    \"Alpha\": 3.0,\n",
      "    \"Transmit_Power\": 0.0,\n",
      "    \"User Equipment Height\": 0.0\n",
      "  }\n",
      "}\n",
      ",\n",
      "34.320645809173584\n"
     ]
    },
    {
     "name": "stderr",
     "output_type": "stream",
     "text": [
      "The attention mask and the pad token id were not set. As a consequence, you may observe unexpected behavior. Please pass your input's `attention_mask` to obtain reliable results.\n",
      "Setting `pad_token_id` to `eos_token_id`:None for open-end generation.\n"
     ]
    },
    {
     "name": "stdout",
     "output_type": "stream",
     "text": [
      "77 :\n",
      "\n",
      "\n",
      "{\n",
      "  \"Parsed_Parameters\": {\n",
      "    \"X_dimension\": 35.0,\n",
      "    \"Y_dimension\": 45.0,\n",
      "    \"Number_of_Users\": 100,\n",
      "    \"Number_of_Routers\": 4,\n",
      "    \"X_User_Distribution\": \"Uniform\",\n",
      "    \"Y_User_Distribution\": \"Uniform\",\n",
      "    \"Height\": 4.0,\n",
      "    \"K\": 15.0,\n",
      "    \"Alpha\": 0.0,\n",
      "    \"Transmit_Power\": 15.0,\n",
      "    \"User_Equipment_Height\": 1.5\n",
      "  }\n",
      "}\n",
      ",\n",
      "34.78638982772827\n"
     ]
    },
    {
     "name": "stderr",
     "output_type": "stream",
     "text": [
      "The attention mask and the pad token id were not set. As a consequence, you may observe unexpected behavior. Please pass your input's `attention_mask` to obtain reliable results.\n",
      "Setting `pad_token_id` to `eos_token_id`:None for open-end generation.\n"
     ]
    },
    {
     "name": "stdout",
     "output_type": "stream",
     "text": [
      "78 :\n",
      "\n",
      "\n",
      "{\n",
      "  \"Parsed_Parameters\": {\n",
      "    \"X_dimension\": 20.0,\n",
      "    \"Y_dimension\": 10.0,\n",
      "    \"Number_of_Users\": 15,\n",
      "    \"Number_of_Routers\": 2,\n",
      "    \"X_User_Distribution\": \"Exponential\",\n",
      "    \"Y_User_Distribution\": \"Exponential\",\n",
      "    \"Height\": 3.0,\n",
      "    \"K\": 0.0,\n",
      "    \"Alpha\": 0.0,\n",
      "    \"Transmit_Power\": 0.0,\n",
      "    \"User Equipment Height\": 0.0\n",
      "  }\n",
      "}\n",
      ",\n",
      "35.006081342697144\n"
     ]
    },
    {
     "name": "stderr",
     "output_type": "stream",
     "text": [
      "The attention mask and the pad token id were not set. As a consequence, you may observe unexpected behavior. Please pass your input's `attention_mask` to obtain reliable results.\n",
      "Setting `pad_token_id` to `eos_token_id`:None for open-end generation.\n"
     ]
    },
    {
     "name": "stdout",
     "output_type": "stream",
     "text": [
      "79 :\n",
      "\n",
      "\n",
      "{\n",
      "  \"Parsed_Parameters\": {\n",
      "    \"X_dimension\": 50.0,\n",
      "    \"Y_dimension\": 40.0,\n",
      "    \"Number_of_Users\": 120,\n",
      "    \"Number_of_Routers\": 5,\n",
      "    \"X_User_Distribution\": \"Uniform\",\n",
      "    \"Y_User_Distribution\": \"Uniform\",\n",
      "    \"Height\": 6.0,\n",
      "    \"K\": 0.005,\n",
      "    \"Alpha\": 0.0,\n",
      "    \"Transmit_Power\": 0.0,\n",
      "    \"User Equipment Height\": 0.0\n",
      "  }\n",
      "}\n",
      ",\n",
      "34.503515005111694\n"
     ]
    },
    {
     "name": "stderr",
     "output_type": "stream",
     "text": [
      "The attention mask and the pad token id were not set. As a consequence, you may observe unexpected behavior. Please pass your input's `attention_mask` to obtain reliable results.\n",
      "Setting `pad_token_id` to `eos_token_id`:None for open-end generation.\n"
     ]
    },
    {
     "name": "stdout",
     "output_type": "stream",
     "text": [
      "80 :\n",
      "\n",
      "\n",
      "{\n",
      "  \"Parsed_Parameters\": {\n",
      "    \"X_dimension\": 25.0,\n",
      "    \"Y_dimension\": 35.0,\n",
      "    \"Number_of_Users\": 60,\n",
      "    \"Number_of_Routers\": 3,\n",
      "    \"X_User_Distribution\": \"Uniform\",\n",
      "    \"Y_User_Distribution\": \"Uniform\",\n",
      "    \"Height\": 1.0,\n",
      "    \"K\": 0.0,\n",
      "    \"Alpha\": 2.5,\n",
      "    \"Transmit_Power\": 20.0,\n",
      "    \"User_Equipment_Height\": 1.0\n",
      "  }\n",
      "}\n",
      ",\n",
      "34.76319408416748\n",
      "Type 2\n"
     ]
    },
    {
     "name": "stderr",
     "output_type": "stream",
     "text": [
      "The attention mask and the pad token id were not set. As a consequence, you may observe unexpected behavior. Please pass your input's `attention_mask` to obtain reliable results.\n",
      "Setting `pad_token_id` to `eos_token_id`:None for open-end generation.\n"
     ]
    },
    {
     "name": "stdout",
     "output_type": "stream",
     "text": [
      "81 :\n",
      "\n",
      "\n",
      "{\n",
      "  \"Parsed_Parameters\": {\n",
      "    \"X_dimension\": 20.0,\n",
      "    \"Y_dimension\": 50.0,\n",
      "    \"Number_of_Users\": 90,\n",
      "    \"Number_of_Routers\": 3,\n",
      "    \"X_User_Distribution\": \"Uniform\",\n",
      "    \"Y_User_Distribution\": \"Uniform\",\n",
      "    \"Height\": 4.0,\n",
      "    \"K\": 15.0,\n",
      "    \"Alpha\": 0.005,\n",
      "    \"Transmit_Power\": 25.0,\n",
      "    \"User_Equipment_Height\": 1.0\n",
      "  }\n",
      "}\n",
      ",\n",
      "34.771902561187744\n"
     ]
    },
    {
     "name": "stderr",
     "output_type": "stream",
     "text": [
      "The attention mask and the pad token id were not set. As a consequence, you may observe unexpected behavior. Please pass your input's `attention_mask` to obtain reliable results.\n",
      "Setting `pad_token_id` to `eos_token_id`:None for open-end generation.\n"
     ]
    },
    {
     "name": "stdout",
     "output_type": "stream",
     "text": [
      "82 :\n",
      "\n",
      "\n",
      "{\n",
      "  \"Parsed_Parameters\": {\n",
      "    \"X_dimension\": 30.0,\n",
      "    \"Y_dimension\": 40.0,\n",
      "    \"Number_of_Users\": 120,\n",
      "    \"Number_of_Routers\": 5,\n",
      "    \"X_User_Distribution\": \"Exponential\",\n",
      "    \"Y_User_Distribution\": \"Uniform\",\n",
      "    \"Height\": 4.0,\n",
      "    \"K\": 15.0,\n",
      "    \"Alpha\": 0.005,\n",
      "    \"Transmit_Power\": 19,\n",
      "    \"User_Equipment_Height\": 1.0\n",
      "  }\n",
      "}\n",
      ",\n",
      "34.51710319519043\n"
     ]
    },
    {
     "name": "stderr",
     "output_type": "stream",
     "text": [
      "The attention mask and the pad token id were not set. As a consequence, you may observe unexpected behavior. Please pass your input's `attention_mask` to obtain reliable results.\n",
      "Setting `pad_token_id` to `eos_token_id`:None for open-end generation.\n"
     ]
    },
    {
     "name": "stdout",
     "output_type": "stream",
     "text": [
      "83 :\n",
      "\n",
      "\n",
      "{\n",
      "  \"Parsed_Parameters\": {\n",
      "    \"X_dimension\": 25.0,\n",
      "    \"Y_dimension\": 40.0,\n",
      "    \"Number_of_Users\": 140,\n",
      "    \"Number_of_Routers\": 8,\n",
      "    \"X_User_Distribution\": \"Gaussian\",\n",
      "    \"Y_User_Distribution\": \"Gaussian\",\n",
      "    \"Height\": 1.0,\n",
      "    \"K\": 0.0,\n",
      "    \"Alpha\": 0.0,\n",
      "    \"Transmit_Power\": 20,\n",
      "    \"User Equipment Height\": 1.0\n",
      "  }\n",
      "}\n",
      ",\n",
      "34.40776801109314\n"
     ]
    },
    {
     "name": "stderr",
     "output_type": "stream",
     "text": [
      "The attention mask and the pad token id were not set. As a consequence, you may observe unexpected behavior. Please pass your input's `attention_mask` to obtain reliable results.\n",
      "Setting `pad_token_id` to `eos_token_id`:None for open-end generation.\n"
     ]
    },
    {
     "name": "stdout",
     "output_type": "stream",
     "text": [
      "84 :\n",
      "\n",
      "\n",
      "{\n",
      "  \"Parsed_Parameters\": {\n",
      "    \"X_dimension\": 15.0,\n",
      "    \"Y_dimension\": 30.0,\n",
      "    \"Number_of_Users\": 60,\n",
      "    \"Number_of_Routers\": 4,\n",
      "    \"X_User_Distribution\": \"Uniform\",\n",
      "    \"Y_User_Distribution\": \"Uniform\",\n",
      "    \"Height\": 4.0,\n",
      "    \"K\": 0.0,\n",
      "    \"Alpha\": 0.0,\n",
      "    \"Transmit_Power\": 0.0,\n",
      "    \"User_Equipment_Height\": 0.0\n",
      "  }\n",
      "}\n",
      ",\n",
      "34.68063235282898\n"
     ]
    },
    {
     "name": "stderr",
     "output_type": "stream",
     "text": [
      "The attention mask and the pad token id were not set. As a consequence, you may observe unexpected behavior. Please pass your input's `attention_mask` to obtain reliable results.\n",
      "Setting `pad_token_id` to `eos_token_id`:None for open-end generation.\n"
     ]
    },
    {
     "name": "stdout",
     "output_type": "stream",
     "text": [
      "85 :\n",
      "\n",
      "\n",
      "{\n",
      "  \"Parsed_Parameters\": {\n",
      "    \"X_dimension\": 50.0,\n",
      "    \"Y_dimension\": 40.0,\n",
      "    \"Number_of_Users\": 180,\n",
      "    \"Number_of_Routers\": 6,\n",
      "    \"X_User_Distribution\": \"Exponential\",\n",
      "    \"Y_User_Distribution\": \"Exponential\",\n",
      "    \"Height\": 4.0,\n",
      "    \"K\": 15.0,\n",
      "    \"Alpha\": 0.005,\n",
      "    \"Transmit_Power\": 19,\n",
      "    \"User_Equipment_Height\": 1.0\n",
      "  }\n",
      "}\n",
      ",\n",
      "34.6777720451355\n"
     ]
    },
    {
     "name": "stderr",
     "output_type": "stream",
     "text": [
      "The attention mask and the pad token id were not set. As a consequence, you may observe unexpected behavior. Please pass your input's `attention_mask` to obtain reliable results.\n",
      "Setting `pad_token_id` to `eos_token_id`:None for open-end generation.\n"
     ]
    },
    {
     "name": "stdout",
     "output_type": "stream",
     "text": [
      "86 :\n",
      "\n",
      "\n",
      "{\n",
      "  \"Parsed_Parameters\": {\n",
      "    \"X_dimension\": 45.0,\n",
      "    \"Y_dimension\": 35.0,\n",
      "    \"Number_of_Users\": 150,\n",
      "    \"Number_of_Routers\": 9,\n",
      "    \"X_User_Distribution\": \"Uniform\",\n",
      "    \"Y_User_Distribution\": \"Uniform\",\n",
      "    \"Height\": 4.0,\n",
      "    \"K\": 15.0,\n",
      "    \"Alpha\": 0.0,\n",
      "    \"Transmit_Power\": 15.0,\n",
      "    \"User_Equipment_Height\": 1.0\n",
      "  }\n",
      "}\n",
      ",\n",
      "34.648855686187744\n"
     ]
    },
    {
     "name": "stderr",
     "output_type": "stream",
     "text": [
      "The attention mask and the pad token id were not set. As a consequence, you may observe unexpected behavior. Please pass your input's `attention_mask` to obtain reliable results.\n",
      "Setting `pad_token_id` to `eos_token_id`:None for open-end generation.\n"
     ]
    },
    {
     "name": "stdout",
     "output_type": "stream",
     "text": [
      "87 :\n",
      "\n",
      "\n",
      "{\n",
      "  \"Parsed_Parameters\": {\n",
      "    \"X_dimension\": 25.0,\n",
      "    \"Y_dimension\": 45.0,\n",
      "    \"Number_of_Users\": 100,\n",
      "    \"Number_of_Routers\": 7,\n",
      "    \"X_User_Distribution\": \"Bi-Exponential\",\n",
      "    \"Y_User_Distribution\": \"Bi-Exponential\",\n",
      "    \"Height\": 2.0,\n",
      "    \"K\": 15.0,\n",
      "    \"Alpha\": 0.005,\n",
      "    \"Transmit_Power\": 19,\n",
      "    \"User_Equipment_Height\": 1.0\n",
      "  }\n",
      "}\n",
      ",\n",
      "35.88354015350342\n"
     ]
    },
    {
     "name": "stderr",
     "output_type": "stream",
     "text": [
      "The attention mask and the pad token id were not set. As a consequence, you may observe unexpected behavior. Please pass your input's `attention_mask` to obtain reliable results.\n",
      "Setting `pad_token_id` to `eos_token_id`:None for open-end generation.\n"
     ]
    },
    {
     "name": "stdout",
     "output_type": "stream",
     "text": [
      "88 :\n",
      "\n",
      "\n",
      "{\n",
      "  \"Parsed_Parameters\": {\n",
      "    \"X_dimension\": 20.0,\n",
      "    \"Y_dimension\": 40.0,\n",
      "    \"Number_of_Users\": 80,\n",
      "    \"Number_of_Routers\": 5,\n",
      "    \"X_User_Distribution\": \"Uniform\",\n",
      "    \"Y_User_Distribution\": \"Uniform\",\n",
      "    \"Height\": 5.0,\n",
      "    \"K\": 0.0,\n",
      "    \"Alpha\": 0.0,\n",
      "    \"Transmit_Power\": 0.0,\n",
      "    \"User Equipment Height\": 0.0\n",
      "  }\n",
      "}\n",
      ",\n",
      "34.446279764175415\n"
     ]
    },
    {
     "name": "stderr",
     "output_type": "stream",
     "text": [
      "The attention mask and the pad token id were not set. As a consequence, you may observe unexpected behavior. Please pass your input's `attention_mask` to obtain reliable results.\n",
      "Setting `pad_token_id` to `eos_token_id`:None for open-end generation.\n"
     ]
    },
    {
     "name": "stdout",
     "output_type": "stream",
     "text": [
      "89 :\n",
      "\n",
      "\n",
      "{\n",
      "  \"Parsed_Parameters\": {\n",
      "    \"X_dimension\": 35.0,\n",
      "    \"Y_dimension\": 30.0,\n",
      "    \"Number_of_Users\": 120,\n",
      "    \"Number_of_Routers\": 6,\n",
      "    \"X_User_Distribution\": \"Uniform\",\n",
      "    \"Y_User_Distribution\": \"Gaussian\",\n",
      "    \"Height\": 4.0,\n",
      "    \"K\": 15.0,\n",
      "    \"Alpha\": 0.005,\n",
      "    \"Transmit_Power\": 19,\n",
      "    \"User_Equipment_Height\": 1.0\n",
      "  }\n",
      "}\n",
      ",\n",
      "34.53726673126221\n"
     ]
    },
    {
     "name": "stderr",
     "output_type": "stream",
     "text": [
      "The attention mask and the pad token id were not set. As a consequence, you may observe unexpected behavior. Please pass your input's `attention_mask` to obtain reliable results.\n",
      "Setting `pad_token_id` to `eos_token_id`:None for open-end generation.\n"
     ]
    },
    {
     "name": "stdout",
     "output_type": "stream",
     "text": [
      "90 :\n",
      "\n",
      "\n",
      "{\n",
      "  \"Parsed_Parameters\": {\n",
      "    \"X_dimension\": 25.0,\n",
      "    \"Y_dimension\": 35.0,\n",
      "    \"Number_of_Users\": 90,\n",
      "    \"Number_of_Routers\": 4,\n",
      "    \"X_User_Distribution\": \"Exponential\",\n",
      "    \"Y_User_Distribution\": \"Exponential\",\n",
      "    \"Height\": 1.0,\n",
      "    \"K\": 0.0,\n",
      "    \"Alpha\": 0.0,\n",
      "    \"Transmit_Power\": 25.0,\n",
      "    \"User_Equipment_Height\": 1.0\n",
      "  }\n",
      "}\n",
      ",\n",
      "35.25502300262451\n",
      "Class 3\n",
      "Type 0\n"
     ]
    },
    {
     "name": "stderr",
     "output_type": "stream",
     "text": [
      "The attention mask and the pad token id were not set. As a consequence, you may observe unexpected behavior. Please pass your input's `attention_mask` to obtain reliable results.\n",
      "Setting `pad_token_id` to `eos_token_id`:None for open-end generation.\n"
     ]
    },
    {
     "name": "stdout",
     "output_type": "stream",
     "text": [
      "91 :\n",
      "\n",
      "\n",
      "{\n",
      "  \"Parsed_Parameters\": {\n",
      "    \"X_dimension\": 30.0,\n",
      "    \"Y_dimension\": 40.0,\n",
      "    \"Number_of_Users\": 120,\n",
      "    \"Number_of_Routers\": 5,\n",
      "    \"X_User_Distribution\": \"Gaussian\",\n",
      "    \"Y_User_Distribution\": \"Gaussian\",\n",
      "    \"Height\": 4.0,\n",
      "    \"K\": 0.01,\n",
      "    \"Alpha\": 2.5,\n",
      "    \"Transmit_Power\": 25,\n",
      "    \"User_Equipment_Height\": 1.0\n",
      "  }\n",
      "}\n",
      ",\n",
      "34.901116609573364\n"
     ]
    },
    {
     "name": "stderr",
     "output_type": "stream",
     "text": [
      "The attention mask and the pad token id were not set. As a consequence, you may observe unexpected behavior. Please pass your input's `attention_mask` to obtain reliable results.\n",
      "Setting `pad_token_id` to `eos_token_id`:None for open-end generation.\n"
     ]
    },
    {
     "name": "stdout",
     "output_type": "stream",
     "text": [
      "92 :\n",
      "\n",
      "\n",
      "{\n",
      "  \"Parsed_Parameters\": {\n",
      "    \"X_dimension\": 30.0,\n",
      "    \"Y_dimension\": 20.0,\n",
      "    \"Number_of_Users\": 100,\n",
      "    \"Number_of_Routers\": 4,\n",
      "    \"X_User_Distribution\": \"Exponential\",\n",
      "    \"Y_User_Distribution\": \"Exponential\",\n",
      "    \"Height\": 3.0,\n",
      "    \"K\": 0.005,\n",
      "    \"Alpha\": 2.0,\n",
      "    \"Transmit_Power\": 15,\n",
      "    \"User_Equipment_Height\": 0.0\n",
      "  }\n",
      "}\n",
      ",\n",
      "34.93874979019165\n"
     ]
    },
    {
     "name": "stderr",
     "output_type": "stream",
     "text": [
      "The attention mask and the pad token id were not set. As a consequence, you may observe unexpected behavior. Please pass your input's `attention_mask` to obtain reliable results.\n",
      "Setting `pad_token_id` to `eos_token_id`:None for open-end generation.\n"
     ]
    },
    {
     "name": "stdout",
     "output_type": "stream",
     "text": [
      "93 :\n",
      "\n",
      "\n",
      "{\n",
      "  \"Parsed_Parameters\": {\n",
      "    \"X_dimension\": 50.0,\n",
      "    \"Y_dimension\": 40.0,\n",
      "    \"Number_of_Users\": 180,\n",
      "    \"Number_of_Routers\": 6,\n",
      "    \"X_User_Distribution\": \"Uniform\",\n",
      "    \"Y_User_Distribution\": \"Uniform\",\n",
      "    \"Height\": 6.0,\n",
      "    \"K\": 0.03,\n",
      "    \"Alpha\": 3.5,\n",
      "    \"Transmit_Power\": 28,\n",
      "    \"User_Equipment_Height\": 1.0\n",
      "  }\n",
      "}\n",
      ",\n",
      "34.50828409194946\n"
     ]
    },
    {
     "name": "stderr",
     "output_type": "stream",
     "text": [
      "The attention mask and the pad token id were not set. As a consequence, you may observe unexpected behavior. Please pass your input's `attention_mask` to obtain reliable results.\n",
      "Setting `pad_token_id` to `eos_token_id`:None for open-end generation.\n"
     ]
    },
    {
     "name": "stdout",
     "output_type": "stream",
     "text": [
      "94 :\n",
      "\n",
      "\n",
      "{\n",
      "  \"Parsed_Parameters\": {\n",
      "    \"X_dimension\": 20.0,\n",
      "    \"Y_dimension\": 15.0,\n",
      "    \"Number_of_Users\": 50,\n",
      "    \"Number_of_Routers\": 3,\n",
      "    \"X_User_Distribution\": \"Bi-Exponential\",\n",
      "    \"Y_User_Distribution\": \"Bi-Exponential\",\n",
      "    \"Height\": 4.0,\n",
      "    \"K\": 0.02,\n",
      "    \"Alpha\": 2.2,\n",
      "    \"Transmit_Power\": 12,\n",
      "    \"User_Equipment_Height\": 1.0\n",
      "  }\n",
      "}\n",
      ",\n",
      "35.93647217750549\n"
     ]
    },
    {
     "name": "stderr",
     "output_type": "stream",
     "text": [
      "The attention mask and the pad token id were not set. As a consequence, you may observe unexpected behavior. Please pass your input's `attention_mask` to obtain reliable results.\n",
      "Setting `pad_token_id` to `eos_token_id`:None for open-end generation.\n"
     ]
    },
    {
     "name": "stdout",
     "output_type": "stream",
     "text": [
      "95 :\n",
      "\n",
      "\n",
      "{\n",
      "  \"Parsed_Parameters\": {\n",
      "    \"X_dimension\": 45.0,\n",
      "    \"Y_dimension\": 35.0,\n",
      "    \"Number_of_Users\": 160,\n",
      "    \"Number_of_Routers\": 7,\n",
      "    \"X_User_Distribution\": \"Gaussian\",\n",
      "    \"Y_User_Distribution\": \"Gaussian\",\n",
      "    \"Height\": 5.0,\n",
      "    \"K\": 0.01,\n",
      "    \"Alpha\": 2.8,\n",
      "    \"Transmit_Power\": 22,\n",
      "    \"User_Equipment_Height\": 1.0\n",
      "  }\n",
      "}\n",
      ",\n",
      "34.90483474731445\n"
     ]
    },
    {
     "name": "stderr",
     "output_type": "stream",
     "text": [
      "The attention mask and the pad token id were not set. As a consequence, you may observe unexpected behavior. Please pass your input's `attention_mask` to obtain reliable results.\n",
      "Setting `pad_token_id` to `eos_token_id`:None for open-end generation.\n"
     ]
    },
    {
     "name": "stdout",
     "output_type": "stream",
     "text": [
      "96 :\n",
      "\n",
      "\n",
      "{\n",
      "  \"Parsed_Parameters\": {\n",
      "    \"X_dimension\": 60.0,\n",
      "    \"Y_dimension\": 50.0,\n",
      "    \"Number_of_Users\": 200,\n",
      "    \"Number_of_Routers\": 9,\n",
      "    \"X_User_Distribution\": \"Uniform\",\n",
      "    \"Y_User_Distribution\": \"Uniform\",\n",
      "    \"Height\": 6.0,\n",
      "    \"K\": 0.04,\n",
      "    \"Alpha\": 3.2,\n",
      "    \"Transmit_Power\": 30,\n",
      "    \"User_Equipment_Height\": 1.8\n",
      "  }\n",
      "}\n",
      ",\n",
      "34.38227868080139\n"
     ]
    },
    {
     "name": "stderr",
     "output_type": "stream",
     "text": [
      "The attention mask and the pad token id were not set. As a consequence, you may observe unexpected behavior. Please pass your input's `attention_mask` to obtain reliable results.\n",
      "Setting `pad_token_id` to `eos_token_id`:None for open-end generation.\n"
     ]
    },
    {
     "name": "stdout",
     "output_type": "stream",
     "text": [
      "97 :\n",
      "\n",
      "\n",
      "{\n",
      "  \"Parsed_Parameters\": {\n",
      "    \"X_dimension\": 50.0,\n",
      "    \"Y_dimension\": 45.0,\n",
      "    \"Number_of_Users\": 200,\n",
      "    \"Number_of_Routers\": 10,\n",
      "    \"X_User_Distribution\": \"Bi-Exponential\",\n",
      "    \"Y_User_Distribution\": \"Bi-Exponential\",\n",
      "    \"Height\": 6.0,\n",
      "    \"K\": 0.03,\n",
      "    \"Alpha\": 3.0,\n",
      "    \"Transmit_Power\": 30.0,\n",
      "    \"User Equipment Height\": 1.0\n",
      "  }\n",
      "}\n",
      ",\n",
      "36.302239179611206\n"
     ]
    },
    {
     "name": "stderr",
     "output_type": "stream",
     "text": [
      "The attention mask and the pad token id were not set. As a consequence, you may observe unexpected behavior. Please pass your input's `attention_mask` to obtain reliable results.\n",
      "Setting `pad_token_id` to `eos_token_id`:None for open-end generation.\n"
     ]
    },
    {
     "name": "stdout",
     "output_type": "stream",
     "text": [
      "98 :\n",
      "\n",
      "\n",
      "{\n",
      "  \"Parsed_Parameters\": {\n",
      "    \"X_dimension\": 25.0,\n",
      "    \"Y_dimension\": 20.0,\n",
      "    \"Number_of_Users\": 80,\n",
      "    \"Number_of_Routers\": 4,\n",
      "    \"X_User_Distribution\": \"Exponential\",\n",
      "    \"Y_User_Distribution\": \"Exponential\",\n",
      "    \"Height\": 4.0,\n",
      "    \"K\": 0.005,\n",
      "    \"Alpha\": 2.5,\n",
      "    \"Transmit_Power\": 18,\n",
      "    \"User_Equipment_Height\": 1.0\n",
      "  }\n",
      "}\n",
      ",\n",
      "35.02785873413086\n"
     ]
    },
    {
     "name": "stderr",
     "output_type": "stream",
     "text": [
      "The attention mask and the pad token id were not set. As a consequence, you may observe unexpected behavior. Please pass your input's `attention_mask` to obtain reliable results.\n",
      "Setting `pad_token_id` to `eos_token_id`:None for open-end generation.\n"
     ]
    },
    {
     "name": "stdout",
     "output_type": "stream",
     "text": [
      "99 :\n",
      "\n",
      "\n",
      "{\n",
      "  \"Parsed_Parameters\": {\n",
      "    \"X_dimension\": 30.0,\n",
      "    \"Y_dimension\": 40.0,\n",
      "    \"Number_of_Users\": 140,\n",
      "    \"Number_of_Routers\": 6,\n",
      "    \"X_User_Distribution\": \"Bi-Exponential\",\n",
      "    \"Y_User_Distribution\": \"Bi-Exponential\",\n",
      "    \"Height\": 5.0,\n",
      "    \"K\": 0.02,\n",
      "    \"Alpha\": 3,\n",
      "    \"Transmit_Power\": 25,\n",
      "    \"User_Equipment_Height\": 1.0\n",
      "  }\n",
      "}\n",
      ",\n",
      "35.40862154960632\n"
     ]
    },
    {
     "name": "stderr",
     "output_type": "stream",
     "text": [
      "The attention mask and the pad token id were not set. As a consequence, you may observe unexpected behavior. Please pass your input's `attention_mask` to obtain reliable results.\n",
      "Setting `pad_token_id` to `eos_token_id`:None for open-end generation.\n"
     ]
    },
    {
     "name": "stdout",
     "output_type": "stream",
     "text": [
      "100 :\n",
      "\n",
      "\n",
      "{\n",
      "  \"Parsed_Parameters\": {\n",
      "    \"X_dimension\": 35.0,\n",
      "    \"Y_dimension\": 25.0,\n",
      "    \"Number_of_Users\": 100,\n",
      "    \"Number_of_Routers\": 5,\n",
      "    \"X_User_Distribution\": \"Gaussian\",\n",
      "    \"Y_User_Distribution\": \"Gaussian\",\n",
      "    \"Height\": 4.0,\n",
      "    \"K\": 0.01,\n",
      "    \"Alpha\": 2.2,\n",
      "    \"Transmit_Power\": 20,\n",
      "    \"User_Equipment_Height\": 1.0\n",
      "  }\n",
      "}\n",
      ",\n",
      "34.94429612159729\n",
      "Type 1\n"
     ]
    },
    {
     "name": "stderr",
     "output_type": "stream",
     "text": [
      "The attention mask and the pad token id were not set. As a consequence, you may observe unexpected behavior. Please pass your input's `attention_mask` to obtain reliable results.\n",
      "Setting `pad_token_id` to `eos_token_id`:None for open-end generation.\n"
     ]
    },
    {
     "name": "stdout",
     "output_type": "stream",
     "text": [
      "101 :\n",
      "\n",
      "\n",
      "{\n",
      "  \"Parsed_Parameters\": {\n",
      "    \"X_dimension\": 50.0,\n",
      "    \"Y_dimension\": 60.0,\n",
      "    \"Number_of_Users\": 150,\n",
      "    \"Number_of_Routers\": 6,\n",
      "    \"X_User_Distribution\": \"Uniform\",\n",
      "    \"Y_User_Distribution\": \"Uniform\",\n",
      "    \"Height\": 4.0,\n",
      "    \"K\": 15.0,\n",
      "    \"Alpha\": 0.005,\n",
      "    \"Transmit_Power\": 25.0,\n",
      "    \"User_Equipment_Height\": 1.0\n",
      "  }\n",
      "}\n",
      ",\n",
      "34.653475761413574\n"
     ]
    },
    {
     "name": "stderr",
     "output_type": "stream",
     "text": [
      "The attention mask and the pad token id were not set. As a consequence, you may observe unexpected behavior. Please pass your input's `attention_mask` to obtain reliable results.\n",
      "Setting `pad_token_id` to `eos_token_id`:None for open-end generation.\n"
     ]
    },
    {
     "name": "stdout",
     "output_type": "stream",
     "text": [
      "102 :\n",
      "\n",
      "\n",
      "{\n",
      "  \"Parsed_Parameters\": {\n",
      "    \"X_dimension\": 30.0,\n",
      "    \"Y_dimension\": 40.0,\n",
      "    \"Number_of_Users\": 100,\n",
      "    \"Number_of_Routers\": 4,\n",
      "    \"X_User_Distribution\": \"Uniform\",\n",
      "    \"Y_User_Distribution\": \"Uniform\",\n",
      "    \"Height\": 4.0,\n",
      "    \"K\": 0.0,\n",
      "    \"Alpha\": 0.0,\n",
      "    \"Transmit_Power\": 0.0,\n",
      "    \"User_Equipment_Height\": 0.0\n",
      "  }\n",
      "}\n",
      ",\n",
      "34.67703032493591\n"
     ]
    },
    {
     "name": "stderr",
     "output_type": "stream",
     "text": [
      "The attention mask and the pad token id were not set. As a consequence, you may observe unexpected behavior. Please pass your input's `attention_mask` to obtain reliable results.\n",
      "Setting `pad_token_id` to `eos_token_id`:None for open-end generation.\n"
     ]
    },
    {
     "name": "stdout",
     "output_type": "stream",
     "text": [
      "103 :\n",
      "\n",
      "\n",
      "{\n",
      "  \"Parsed_Parameters\": {\n",
      "    \"X_dimension\": 20.0,\n",
      "    \"Y_dimension\": 25.0,\n",
      "    \"Number_of_Users\": 50,\n",
      "    \"Number_of_Routers\": 3,\n",
      "    \"X_User_Distribution\": \"Uniform\",\n",
      "    \"Y_User_Distribution\": \"Uniform\",\n",
      "    \"Height\": 4.0,\n",
      "    \"K\": 0.01,\n",
      "    \"Alpha\": 0.0,\n",
      "    \"Transmit_Power\": 0.0,\n",
      "    \"User_Equipment_Height\": 1.0\n",
      "  }\n",
      "}\n",
      ",\n",
      "34.700138330459595\n"
     ]
    },
    {
     "name": "stderr",
     "output_type": "stream",
     "text": [
      "The attention mask and the pad token id were not set. As a consequence, you may observe unexpected behavior. Please pass your input's `attention_mask` to obtain reliable results.\n",
      "Setting `pad_token_id` to `eos_token_id`:None for open-end generation.\n"
     ]
    },
    {
     "name": "stdout",
     "output_type": "stream",
     "text": [
      "104 :\n",
      "\n",
      "\n",
      "{\n",
      "  \"Parsed_Parameters\": {\n",
      "    \"X_dimension\": 45.0,\n",
      "    \"Y_dimension\": 55.0,\n",
      "    \"Number_of_Users\": 180,\n",
      "    \"Number_of_Routers\": 8,\n",
      "    \"X_User_Distribution\": \"Uniform\",\n",
      "    \"Y_User_Distribution\": \"Uniform\",\n",
      "    \"Height\": 4.0,\n",
      "    \"K\": 15.0,\n",
      "    \"Alpha\": 0.005,\n",
      "    \"Transmit_Power\": 19,\n",
      "    \"User_Equipment_Height\": 1.0\n",
      "  }\n",
      "}\n",
      ",\n",
      "34.05648851394653\n"
     ]
    },
    {
     "name": "stderr",
     "output_type": "stream",
     "text": [
      "The attention mask and the pad token id were not set. As a consequence, you may observe unexpected behavior. Please pass your input's `attention_mask` to obtain reliable results.\n",
      "Setting `pad_token_id` to `eos_token_id`:None for open-end generation.\n"
     ]
    },
    {
     "name": "stdout",
     "output_type": "stream",
     "text": [
      "105 :\n",
      "\n",
      "\n",
      "{\n",
      "  \"Parsed_Parameters\": {\n",
      "    \"X_dimension\": 40.0,\n",
      "    \"Y_dimension\": 50.0,\n",
      "    \"Number_of_Users\": 120,\n",
      "    \"Number_of_Routers\": 5,\n",
      "    \"X_User_Distribution\": \"Uniform\",\n",
      "    \"Y_User_Distribution\": \"Uniform\",\n",
      "    \"Height\": 2.0,\n",
      "    \"K\": 0.0,\n",
      "    \"Alpha\": 0.0,\n",
      "    \"Transmit_Power\": 19,\n",
      "    \"User_Equipment_Height\": 1.5\n",
      "  }\n",
      "}\n",
      ",\n",
      "34.05641150474548\n"
     ]
    },
    {
     "name": "stderr",
     "output_type": "stream",
     "text": [
      "The attention mask and the pad token id were not set. As a consequence, you may observe unexpected behavior. Please pass your input's `attention_mask` to obtain reliable results.\n",
      "Setting `pad_token_id` to `eos_token_id`:None for open-end generation.\n"
     ]
    },
    {
     "name": "stdout",
     "output_type": "stream",
     "text": [
      "106 :\n",
      "\n",
      "\n",
      "{\n",
      "  \"Parsed_Parameters\": {\n",
      "    \"X_dimension\": 35.0,\n",
      "    \"Y_dimension\": 45.0,\n",
      "    \"Number_of_Users\": 160,\n",
      "    \"Number_of_Routers\": 7,\n",
      "    \"X_User_Distribution\": \"Uniform\",\n",
      "    \"Y_User_Distribution\": \"Uniform\",\n",
      "    \"Height\": 4.0,\n",
      "    \"K\": 15.0,\n",
      "    \"Alpha\": 3.5,\n",
      "    \"Transmit_Power\": 19,\n",
      "    \"User_Equipment_Height\": 1.0\n",
      "  }\n",
      "}\n",
      ",\n",
      "34.15653204917908\n"
     ]
    },
    {
     "name": "stderr",
     "output_type": "stream",
     "text": [
      "The attention mask and the pad token id were not set. As a consequence, you may observe unexpected behavior. Please pass your input's `attention_mask` to obtain reliable results.\n",
      "Setting `pad_token_id` to `eos_token_id`:None for open-end generation.\n"
     ]
    },
    {
     "name": "stdout",
     "output_type": "stream",
     "text": [
      "107 :\n",
      "\n",
      "\n",
      "{\n",
      "  \"Parsed_Parameters\": {\n",
      "    \"X_dimension\": 25.0,\n",
      "    \"Y_dimension\": 35.0,\n",
      "    \"Number_of_Users\": 100,\n",
      "    \"Number_of_Routers\": 4,\n",
      "    \"X_User_Distribution\": \"Uniform\",\n",
      "    \"Y_User_Distribution\": \"Uniform\",\n",
      "    \"Height\": 2.5,\n",
      "    \"K\": 10.0,\n",
      "    \"Alpha\": 0.005,\n",
      "    \"Transmit_Power\": 20.0,\n",
      "    \"User_Equipment_Height\": 1.5\n",
      "  }\n",
      "}\n",
      ",\n",
      "34.64672374725342\n"
     ]
    },
    {
     "name": "stderr",
     "output_type": "stream",
     "text": [
      "The attention mask and the pad token id were not set. As a consequence, you may observe unexpected behavior. Please pass your input's `attention_mask` to obtain reliable results.\n",
      "Setting `pad_token_id` to `eos_token_id`:None for open-end generation.\n"
     ]
    },
    {
     "name": "stdout",
     "output_type": "stream",
     "text": [
      "108 :\n",
      "\n",
      "\n",
      "{\n",
      "  \"Parsed_Parameters\": {\n",
      "    \"X_dimension\": 30.0,\n",
      "    \"Y_dimension\": 40.0,\n",
      "    \"Number_of_Users\": 80,\n",
      "    \"Number_of_Routers\": 6,\n",
      "    \"X_User_Distribution\": \"Uniform\",\n",
      "    \"Y_User_Distribution\": \"Uniform\",\n",
      "    \"Height\": 5.0,\n",
      "    \"K\": 0.02,\n",
      "    \"Alpha\": 0.0,\n",
      "    \"Transmit_Power\": 0,\n",
      "    \"User_Equipment_Height\": 0.0\n",
      "  }\n",
      "}\n",
      ",\n",
      "34.223371744155884\n"
     ]
    },
    {
     "name": "stderr",
     "output_type": "stream",
     "text": [
      "The attention mask and the pad token id were not set. As a consequence, you may observe unexpected behavior. Please pass your input's `attention_mask` to obtain reliable results.\n",
      "Setting `pad_token_id` to `eos_token_id`:None for open-end generation.\n"
     ]
    },
    {
     "name": "stdout",
     "output_type": "stream",
     "text": [
      "109 :\n",
      "\n",
      "\n",
      "{\n",
      "  \"Parsed_Parameters\": {\n",
      "    \"X_dimension\": 50.0,\n",
      "    \"Y_dimension\": 60.0,\n",
      "    \"Number_of_Users\": 200,\n",
      "    \"Number_of_Routers\": 9,\n",
      "    \"X_User_Distribution\": \"Uniform\",\n",
      "    \"Y_User_Distribution\": \"Uniform\",\n",
      "    \"Height\": 4.0,\n",
      "    \"K\": 15.0,\n",
      "    \"Alpha\": 2.5,\n",
      "    \"Transmit_Power\": 19,\n",
      "    \"User_Equipment_Height\": 1.0\n",
      "  }\n",
      "}\n",
      ",\n",
      "34.24259400367737\n"
     ]
    },
    {
     "name": "stderr",
     "output_type": "stream",
     "text": [
      "The attention mask and the pad token id were not set. As a consequence, you may observe unexpected behavior. Please pass your input's `attention_mask` to obtain reliable results.\n",
      "Setting `pad_token_id` to `eos_token_id`:None for open-end generation.\n"
     ]
    },
    {
     "name": "stdout",
     "output_type": "stream",
     "text": [
      "110 :\n",
      "\n",
      "\n",
      "{\n",
      "  \"Parsed_Parameters\": {\n",
      "    \"X_dimension\": 45.0,\n",
      "    \"Y_dimension\": 55.0,\n",
      "    \"Number_of_Users\": 170,\n",
      "    \"Number_of_Routers\": 7,\n",
      "    \"X_User_Distribution\": \"Exponential\",\n",
      "    \"Y_User_Distribution\": \"Exponential\",\n",
      "    \"Height\": 1.5,\n",
      "    \"K\": 0.0,\n",
      "    \"Alpha\": 0.0,\n",
      "    \"Transmit_Power\": 30.0,\n",
      "    \"User Equipment Height\": 1.5\n",
      "  }\n",
      "}\n",
      ",\n",
      "35.10299587249756\n",
      "Type 2\n"
     ]
    },
    {
     "name": "stderr",
     "output_type": "stream",
     "text": [
      "The attention mask and the pad token id were not set. As a consequence, you may observe unexpected behavior. Please pass your input's `attention_mask` to obtain reliable results.\n",
      "Setting `pad_token_id` to `eos_token_id`:None for open-end generation.\n"
     ]
    },
    {
     "name": "stdout",
     "output_type": "stream",
     "text": [
      "111 :\n",
      "\n",
      "\n",
      "{\n",
      "  \"Parsed_Parameters\": {\n",
      "    \"X_dimension\": 30.0,\n",
      "    \"Y_dimension\": 20.0,\n",
      "    \"Number_of_Users\": 120,\n",
      "    \"Number_of_Routers\": 5,\n",
      "    \"X_User_Distribution\": \"Uniform\",\n",
      "    \"Y_User_Distribution\": \"Uniform\",\n",
      "    \"Height\": 4.0,\n",
      "    \"K\": 0.0,\n",
      "    \"Alpha\": 0.0,\n",
      "    \"Transmit_Power\": 0.0,\n",
      "    \"User_Equipment_Height\": 1.0\n",
      "  }\n",
      "}\n",
      ",\n",
      "34.656357288360596\n"
     ]
    },
    {
     "name": "stderr",
     "output_type": "stream",
     "text": [
      "The attention mask and the pad token id were not set. As a consequence, you may observe unexpected behavior. Please pass your input's `attention_mask` to obtain reliable results.\n",
      "Setting `pad_token_id` to `eos_token_id`:None for open-end generation.\n"
     ]
    },
    {
     "name": "stdout",
     "output_type": "stream",
     "text": [
      "112 :\n",
      "\n",
      "\n",
      "{\n",
      "  \"Parsed_Parameters\": {\n",
      "    \"X_dimension\": 50.0,\n",
      "    \"Y_dimension\": 30.0,\n",
      "    \"Number_of_Users\": 150,\n",
      "    \"Number_of_Routers\": 7,\n",
      "    \"X_User_Distribution\": \"Uniform\",\n",
      "    \"Y_User_Distribution\": \"Uniform\",\n",
      "    \"Height\": 0.0,\n",
      "    \"K\": 0.0,\n",
      "    \"Alpha\": 0.0,\n",
      "    \"Transmit_Power\": 0.0,\n",
      "    \"User_Equipment_Height\": 0.0\n",
      "  }\n",
      "}\n",
      ",\n",
      "34.62053442001343\n"
     ]
    },
    {
     "name": "stderr",
     "output_type": "stream",
     "text": [
      "The attention mask and the pad token id were not set. As a consequence, you may observe unexpected behavior. Please pass your input's `attention_mask` to obtain reliable results.\n",
      "Setting `pad_token_id` to `eos_token_id`:None for open-end generation.\n"
     ]
    },
    {
     "name": "stdout",
     "output_type": "stream",
     "text": [
      "113 :\n",
      "\n",
      "\n",
      "{\n",
      "  \"Parsed_Parameters\": {\n",
      "    \"X_dimension\": 45.0,\n",
      "    \"Y_dimension\": 25.0,\n",
      "    \"Number_of_Users\": 180,\n",
      "    \"Number_of_Routers\": 6,\n",
      "    \"X_User_Distribution\": \"Uniform\",\n",
      "    \"Y_User_Distribution\": \"Uniform\",\n",
      "    \"Height\": 4.0,\n",
      "    \"K\": 0.01,\n",
      "    \"Alpha\": 0.005,\n",
      "    \"Transmit_Power\": 19,\n",
      "    \"User_Equipment_Height\": 1.0\n",
      "  }\n",
      "}\n",
      ",\n",
      "34.19000697135925\n"
     ]
    },
    {
     "name": "stderr",
     "output_type": "stream",
     "text": [
      "The attention mask and the pad token id were not set. As a consequence, you may observe unexpected behavior. Please pass your input's `attention_mask` to obtain reliable results.\n",
      "Setting `pad_token_id` to `eos_token_id`:None for open-end generation.\n"
     ]
    },
    {
     "name": "stdout",
     "output_type": "stream",
     "text": [
      "114 :\n",
      "\n",
      "\n",
      "{\n",
      "  \"Parsed_Parameters\": {\n",
      "    \"X_dimension\": 20.0,\n",
      "    \"Y_dimension\": 15.0,\n",
      "    \"Number_of_Users\": 50,\n",
      "    \"Number_of_Routers\": 3,\n",
      "    \"X_User_Distribution\": \"Uniform\",\n",
      "    \"Y_User_Distribution\": \"Uniform\",\n",
      "    \"Height\": 0.0,\n",
      "    \"K\": 0.0,\n",
      "    \"Alpha\": 0.0,\n",
      "    \"Transmit_Power\": 0,\n",
      "    \"User Equipment Height\": 0.0\n",
      "  }\n",
      "}\n",
      ",\n",
      "33.80310916900635\n"
     ]
    },
    {
     "name": "stderr",
     "output_type": "stream",
     "text": [
      "The attention mask and the pad token id were not set. As a consequence, you may observe unexpected behavior. Please pass your input's `attention_mask` to obtain reliable results.\n",
      "Setting `pad_token_id` to `eos_token_id`:None for open-end generation.\n"
     ]
    },
    {
     "name": "stdout",
     "output_type": "stream",
     "text": [
      "115 :\n",
      "\n",
      "\n",
      "{\n",
      "  \"Parsed_Parameters\": {\n",
      "    \"X_dimension\": 35.0,\n",
      "    \"Y_dimension\": 20.0,\n",
      "    \"Number_of_Users\": 80,\n",
      "    \"Number_of_Routers\": 4,\n",
      "    \"X_User_Distribution\": \"Uniform\",\n",
      "    \"Y_User_Distribution\": \"Uniform\",\n",
      "    \"Height\": 1.0,\n",
      "    \"K\": 0.0,\n",
      "    \"Alpha\": 0.0,\n",
      "    \"Transmit_Power\": 0,\n",
      "    \"User_Equipment_Height\": 1.0\n",
      "  }\n",
      "}\n",
      ",\n",
      "34.09926629066467\n"
     ]
    },
    {
     "name": "stderr",
     "output_type": "stream",
     "text": [
      "The attention mask and the pad token id were not set. As a consequence, you may observe unexpected behavior. Please pass your input's `attention_mask` to obtain reliable results.\n",
      "Setting `pad_token_id` to `eos_token_id`:None for open-end generation.\n"
     ]
    },
    {
     "name": "stdout",
     "output_type": "stream",
     "text": [
      "116 :\n",
      "\n",
      "\n",
      "{\n",
      "  \"Parsed_Parameters\": {\n",
      "    \"X_dimension\": 55.0,\n",
      "    \"Y_dimension\": 30.0,\n",
      "    \"Number_of_Users\": 200,\n",
      "    \"Number_of_Routers\": 9,\n",
      "    \"X_User_Distribution\": \"Exponential\",\n",
      "    \"Y_User_Distribution\": \"Exponential\",\n",
      "    \"Height\": 4.0,\n",
      "    \"K\": 15.0,\n",
      "    \"Alpha\": 0.005,\n",
      "    \"Transmit_Power\": 19,\n",
      "    \"User_Equipment_Height\": 1.0\n",
      "  }\n",
      "}\n",
      ",\n",
      "34.75344753265381\n"
     ]
    },
    {
     "name": "stderr",
     "output_type": "stream",
     "text": [
      "The attention mask and the pad token id were not set. As a consequence, you may observe unexpected behavior. Please pass your input's `attention_mask` to obtain reliable results.\n",
      "Setting `pad_token_id` to `eos_token_id`:None for open-end generation.\n"
     ]
    },
    {
     "name": "stdout",
     "output_type": "stream",
     "text": [
      "117 :\n",
      "\n",
      "\n",
      "{\n",
      "  \"Parsed_Parameters\": {\n",
      "    \"X_dimension\": 20.0,\n",
      "    \"Y_dimension\": 40.0,\n",
      "    \"Number_of_Users\": 100,\n",
      "    \"Number_of_Routers\": 6,\n",
      "    \"X_User_Distribution\": \"Uniform\",\n",
      "    \"Y_User_Distribution\": \"Uniform\",\n",
      "    \"Height\": 4.0,\n",
      "    \"K\": 15.0,\n",
      "    \"Alpha\": 0.005,\n",
      "    \"Transmit_Power\": 25,\n",
      "    \"User_Equipment_Height\": 1.0\n",
      "  }\n",
      "}\n",
      ",\n",
      "34.19021797180176\n"
     ]
    },
    {
     "name": "stderr",
     "output_type": "stream",
     "text": [
      "The attention mask and the pad token id were not set. As a consequence, you may observe unexpected behavior. Please pass your input's `attention_mask` to obtain reliable results.\n",
      "Setting `pad_token_id` to `eos_token_id`:None for open-end generation.\n"
     ]
    },
    {
     "name": "stdout",
     "output_type": "stream",
     "text": [
      "118 :\n",
      "\n",
      "\n",
      "{\n",
      "  \"Parsed_Parameters\": {\n",
      "    \"X_dimension\": 50.0,\n",
      "    \"Y_dimension\": 25.0,\n",
      "    \"Number_of_Users\": 160,\n",
      "    \"Number_of_Routers\": 7,\n",
      "    \"X_User_Distribution\": \"Uniform\",\n",
      "    \"Y_User_Distribution\": \"Uniform\",\n",
      "    \"Height\": 4.0,\n",
      "    \"K\": 15.0,\n",
      "    \"Alpha\": 0.003,\n",
      "    \"Transmit_Power\": 19,\n",
      "    \"User_Equipment_Height\": 1.0\n",
      "  }\n",
      "}\n",
      ",\n",
      "34.196184158325195\n"
     ]
    },
    {
     "name": "stderr",
     "output_type": "stream",
     "text": [
      "The attention mask and the pad token id were not set. As a consequence, you may observe unexpected behavior. Please pass your input's `attention_mask` to obtain reliable results.\n",
      "Setting `pad_token_id` to `eos_token_id`:None for open-end generation.\n"
     ]
    },
    {
     "name": "stdout",
     "output_type": "stream",
     "text": [
      "119 :\n",
      "\n",
      "\n",
      "{\n",
      "  \"Parsed_Parameters\": {\n",
      "    \"X_dimension\": 30.0,\n",
      "    \"Y_dimension\": 15.0,\n",
      "    \"Number_of_Users\": 130,\n",
      "    \"Number_of_Routers\": 5,\n",
      "    \"X_User_Distribution\": \"Uniform\",\n",
      "    \"Y_User_Distribution\": \"Uniform\",\n",
      "    \"Height\": 5.0,\n",
      "    \"K\": 0.0,\n",
      "    \"Alpha\": 0.0,\n",
      "    \"Transmit_Power\": 0.0,\n",
      "    \"User_Equipment_Height\": 1.0\n",
      "  }\n",
      "}\n",
      ",\n",
      "34.66425395011902\n"
     ]
    },
    {
     "name": "stderr",
     "output_type": "stream",
     "text": [
      "The attention mask and the pad token id were not set. As a consequence, you may observe unexpected behavior. Please pass your input's `attention_mask` to obtain reliable results.\n",
      "Setting `pad_token_id` to `eos_token_id`:None for open-end generation.\n"
     ]
    },
    {
     "name": "stdout",
     "output_type": "stream",
     "text": [
      "120 :\n",
      "\n",
      "\n",
      "{\n",
      "  \"Parsed_Parameters\": {\n",
      "    \"X_dimension\": 45.0,\n",
      "    \"Y_dimension\": 20.0,\n",
      "    \"Number_of_Users\": 170,\n",
      "    \"Number_of_Routers\": 8,\n",
      "    \"X_User_Distribution\": \"Bi-Exponential\",\n",
      "    \"Y_User_Distribution\": \"Bi-Exponential\",\n",
      "    \"Height\": 1.5,\n",
      "    \"K\": 10.0,\n",
      "    \"Alpha\": 0.01,\n",
      "    \"Transmit_Power\": 20,\n",
      "    \"User_Equipment_Height\": 1.0\n",
      "  }\n",
      "}\n",
      ",\n",
      "35.77829360961914\n",
      "Class 4\n",
      "Type 0\n"
     ]
    },
    {
     "name": "stderr",
     "output_type": "stream",
     "text": [
      "The attention mask and the pad token id were not set. As a consequence, you may observe unexpected behavior. Please pass your input's `attention_mask` to obtain reliable results.\n",
      "Setting `pad_token_id` to `eos_token_id`:None for open-end generation.\n"
     ]
    },
    {
     "name": "stdout",
     "output_type": "stream",
     "text": [
      "121 :\n",
      "\n",
      "\n",
      "{\n",
      "  \"Parsed_Parameters\": {\n",
      "    \"X_dimension\": 30.0,\n",
      "    \"Y_dimension\": 40.0,\n",
      "    \"Number_of_Users\": 120,\n",
      "    \"Number_of_Routers\": 5,\n",
      "    \"X_User_Distribution\": \"Uniform\",\n",
      "    \"Y_User_Distribution\": \"Uniform\",\n",
      "    \"Height\": 4.0,\n",
      "    \"K\": 0.02,\n",
      "    \"Alpha\": 2.5,\n",
      "    \"Transmit_Power\": 20,\n",
      "    \"User_Equipment_Height\": 4.0\n",
      "  }\n",
      "}\n",
      ",\n",
      "34.40626931190491\n"
     ]
    },
    {
     "name": "stderr",
     "output_type": "stream",
     "text": [
      "The attention mask and the pad token id were not set. As a consequence, you may observe unexpected behavior. Please pass your input's `attention_mask` to obtain reliable results.\n",
      "Setting `pad_token_id` to `eos_token_id`:None for open-end generation.\n"
     ]
    },
    {
     "name": "stdout",
     "output_type": "stream",
     "text": [
      "122 :\n",
      "\n",
      "\n",
      "{\n",
      "  \"Parsed_Parameters\": {\n",
      "    \"X_dimension\": 30.0,\n",
      "    \"Y_dimension\": 20.0,\n",
      "    \"Number_of_Users\": 100,\n",
      "    \"Number_of_Routers\": 10,\n",
      "    \"X_User_Distribution\": \"Bi-Exponential\",\n",
      "    \"Y_User_Distribution\": \"Bi-Exponential\",\n",
      "    \"Height\": 3.0,\n",
      "    \"K\": 0.005,\n",
      "    \"Alpha\": 3.5,\n",
      "    \"Transmit_Power\": 15,\n",
      "    \"User_Equipment_Height\": 3.0\n",
      "  }\n",
      "}\n",
      ",\n",
      "35.96998476982117\n"
     ]
    },
    {
     "name": "stderr",
     "output_type": "stream",
     "text": [
      "The attention mask and the pad token id were not set. As a consequence, you may observe unexpected behavior. Please pass your input's `attention_mask` to obtain reliable results.\n",
      "Setting `pad_token_id` to `eos_token_id`:None for open-end generation.\n"
     ]
    },
    {
     "name": "stdout",
     "output_type": "stream",
     "text": [
      "123 :\n",
      "\n",
      "\n",
      "{\n",
      "  \"Parsed_Parameters\": {\n",
      "    \"X_dimension\": 45.0,\n",
      "    \"Y_dimension\": 25.0,\n",
      "    \"Number_of_Users\": 180,\n",
      "    \"Number_of_Routers\": 6,\n",
      "    \"X_User_Distribution\": \"Gaussian\",\n",
      "    \"Y_User_Distribution\": \"Gaussian\",\n",
      "    \"Height\": 5.0,\n",
      "    \"K\": 0.03,\n",
      "    \"Alpha\": 2.2,\n",
      "    \"Transmit_Power\": 28,\n",
      "    \"User_Equipment_Height\": 5.0\n",
      "  }\n",
      "}\n",
      ",\n",
      "34.95974397659302\n"
     ]
    },
    {
     "name": "stderr",
     "output_type": "stream",
     "text": [
      "The attention mask and the pad token id were not set. As a consequence, you may observe unexpected behavior. Please pass your input's `attention_mask` to obtain reliable results.\n",
      "Setting `pad_token_id` to `eos_token_id`:None for open-end generation.\n"
     ]
    },
    {
     "name": "stdout",
     "output_type": "stream",
     "text": [
      "124 :\n",
      "\n",
      "\n",
      "{\n",
      "  \"Parsed_Parameters\": {\n",
      "    \"X_dimension\": 20.0,\n",
      "    \"Y_dimension\": 15.0,\n",
      "    \"Number_of_Users\": 50,\n",
      "    \"Number_of_Routers\": 4,\n",
      "    \"X_User_Distribution\": \"Exponential\",\n",
      "    \"Y_User_Distribution\": \"Uniform\",\n",
      "    \"Height\": 3.0,\n",
      "    \"K\": 0.01,\n",
      "    \"Alpha\": 3.8,\n",
      "    \"Transmit_Power\": 12,\n",
      "    \"User_Equipment_Height\": 3.0\n",
      "  }\n",
      "}\n",
      ",\n",
      "34.70141816139221\n"
     ]
    },
    {
     "name": "stderr",
     "output_type": "stream",
     "text": [
      "The attention mask and the pad token id were not set. As a consequence, you may observe unexpected behavior. Please pass your input's `attention_mask` to obtain reliable results.\n",
      "Setting `pad_token_id` to `eos_token_id`:None for open-end generation.\n"
     ]
    },
    {
     "name": "stdout",
     "output_type": "stream",
     "text": [
      "125 :\n",
      "\n",
      "\n",
      "{\n",
      "  \"Parsed_Parameters\": {\n",
      "    \"X_dimension\": 50.0,\n",
      "    \"Y_dimension\": 40.0,\n",
      "    \"Number_of_Users\": 200,\n",
      "    \"Number_of_Routers\": 9,\n",
      "    \"X_User_Distribution\": \"Bi-Exponential\",\n",
      "    \"Y_User_Distribution\": \"Bi-Exponential\",\n",
      "    \"Height\": 6.0,\n",
      "    \"K\": 0.04,\n",
      "    \"Alpha\": 2.8,\n",
      "    \"Transmit_Power\": 25,\n",
      "    \"User_Equipment_Height\": 6.0\n",
      "  }\n",
      "}\n",
      ",\n",
      "35.95380473136902\n"
     ]
    },
    {
     "name": "stderr",
     "output_type": "stream",
     "text": [
      "The attention mask and the pad token id were not set. As a consequence, you may observe unexpected behavior. Please pass your input's `attention_mask` to obtain reliable results.\n",
      "Setting `pad_token_id` to `eos_token_id`:None for open-end generation.\n"
     ]
    },
    {
     "name": "stdout",
     "output_type": "stream",
     "text": [
      "126 :\n",
      "\n",
      "\n",
      "{\n",
      "  \"Parsed_Parameters\": {\n",
      "    \"X_dimension\": 55.0,\n",
      "    \"Y_dimension\": 30.0,\n",
      "    \"Number_of_Users\": 150,\n",
      "    \"Number_of_Routers\": 7,\n",
      "    \"X_User_Distribution\": \"Gaussian\",\n",
      "    \"Y_User_Distribution\": \"Exponential\",\n",
      "    \"Height\": 5.0,\n",
      "    \"K\": 0.02,\n",
      "    \"Alpha\": 3.2,\n",
      "    \"Transmit_Power\": 22,\n",
      "    \"User_Equipment_Height\": 0.0\n",
      "  }\n",
      "}\n",
      ",\n",
      "34.946778535842896\n"
     ]
    },
    {
     "name": "stderr",
     "output_type": "stream",
     "text": [
      "The attention mask and the pad token id were not set. As a consequence, you may observe unexpected behavior. Please pass your input's `attention_mask` to obtain reliable results.\n",
      "Setting `pad_token_id` to `eos_token_id`:None for open-end generation.\n"
     ]
    },
    {
     "name": "stdout",
     "output_type": "stream",
     "text": [
      "127 :\n",
      "\n",
      "\n",
      "{\n",
      "  \"Parsed_Parameters\": {\n",
      "    \"X_dimension\": 35.0,\n",
      "    \"Y_dimension\": 25.0,\n",
      "    \"Number_of_Users\": 120,\n",
      "    \"Number_of_Routers\": 8,\n",
      "    \"X_User_Distribution\": \"Uniform\",\n",
      "    \"Y_User_Distribution\": \"Uniform\",\n",
      "    \"Height\": 4.0,\n",
      "    \"K\": 0.01,\n",
      "    \"Alpha\": 2.5,\n",
      "    \"Transmit_Power\": 18,\n",
      "    \"User_Equipment_Height\": 1.0\n",
      "  }\n",
      "}\n",
      ",\n",
      "34.444928884506226\n"
     ]
    },
    {
     "name": "stderr",
     "output_type": "stream",
     "text": [
      "The attention mask and the pad token id were not set. As a consequence, you may observe unexpected behavior. Please pass your input's `attention_mask` to obtain reliable results.\n",
      "Setting `pad_token_id` to `eos_token_id`:None for open-end generation.\n"
     ]
    },
    {
     "name": "stdout",
     "output_type": "stream",
     "text": [
      "128 :\n",
      "\n",
      "\n",
      "{\n",
      "  \"Parsed_Parameters\": {\n",
      "    \"X_dimension\": 25.0,\n",
      "    \"Y_dimension\": 20.0,\n",
      "    \"Number_of_Users\": 80,\n",
      "    \"Number_of_Routers\": 5,\n",
      "    \"X_User_Distribution\": \"Bi-Exponential\",\n",
      "    \"Y_User_Distribution\": \"Bi-Exponential\",\n",
      "    \"Height\": 3.0,\n",
      "    \"K\": 0.005,\n",
      "    \"Alpha\": 3.5,\n",
      "    \"Transmit_Power\": 20,\n",
      "    \"User_Equipment_Height\": 3.0\n",
      "  }\n",
      "}\n",
      ",\n",
      "36.08235502243042\n"
     ]
    },
    {
     "name": "stderr",
     "output_type": "stream",
     "text": [
      "The attention mask and the pad token id were not set. As a consequence, you may observe unexpected behavior. Please pass your input's `attention_mask` to obtain reliable results.\n",
      "Setting `pad_token_id` to `eos_token_id`:None for open-end generation.\n"
     ]
    },
    {
     "name": "stdout",
     "output_type": "stream",
     "text": [
      "129 :\n",
      "\n",
      "\n",
      "{\n",
      "  \"Parsed_Parameters\": {\n",
      "    \"X_dimension\": 30.0,\n",
      "    \"Y_dimension\": 40.0,\n",
      "    \"Number_of_Users\": 180,\n",
      "    \"Number_of_Routers\": 6,\n",
      "    \"X_User_Distribution\": \"Gaussian\",\n",
      "    \"Y_User_Distribution\": \"Gaussian\",\n",
      "    \"Height\": 5.0,\n",
      "    \"K\": 0.03,\n",
      "    \"Alpha\": 2.8,\n",
      "    \"Transmit_Power\": 25,\n",
      "    \"User_Equipment_Height\": 1.0\n",
      "  }\n",
      "}\n",
      ",\n",
      "34.90977692604065\n"
     ]
    },
    {
     "name": "stderr",
     "output_type": "stream",
     "text": [
      "The attention mask and the pad token id were not set. As a consequence, you may observe unexpected behavior. Please pass your input's `attention_mask` to obtain reliable results.\n",
      "Setting `pad_token_id` to `eos_token_id`:None for open-end generation.\n"
     ]
    },
    {
     "name": "stdout",
     "output_type": "stream",
     "text": [
      "130 :\n",
      "\n",
      "\n",
      "{\n",
      "  \"Parsed_Parameters\": {\n",
      "    \"X_dimension\": 30.0,\n",
      "    \"Y_dimension\": 25.0,\n",
      "    \"Number_of_Users\": 60,\n",
      "    \"Number_of_Routers\": 4,\n",
      "    \"X_User_Distribution\": \"Exponential\",\n",
      "    \"Y_User_Distribution\": \"Uniform\",\n",
      "    \"Height\": 4.0,\n",
      "    \"K\": 0.02,\n",
      "    \"Alpha\": 3.2,\n",
      "    \"Transmit_Power\": 15,\n",
      "    \"User_Equipment_Height\": 0.0\n",
      "  }\n",
      "}\n",
      ",\n",
      "34.64681029319763\n",
      "Type 1\n"
     ]
    },
    {
     "name": "stderr",
     "output_type": "stream",
     "text": [
      "The attention mask and the pad token id were not set. As a consequence, you may observe unexpected behavior. Please pass your input's `attention_mask` to obtain reliable results.\n",
      "Setting `pad_token_id` to `eos_token_id`:None for open-end generation.\n"
     ]
    },
    {
     "name": "stdout",
     "output_type": "stream",
     "text": [
      "131 :\n",
      "\n",
      "\n",
      "{\n",
      "  \"Parsed_Parameters\": {\n",
      "    \"X_dimension\": 20.0,\n",
      "    \"Y_dimension\": 50.0,\n",
      "    \"Number_of_Users\": 180,\n",
      "    \"Number_of_Routers\": 6,\n",
      "    \"X_User_Distribution\": \"Uniform\",\n",
      "    \"Y_User_Distribution\": \"Uniform\",\n",
      "    \"Height\": 0.0,\n",
      "    \"K\": 0.0,\n",
      "    \"Alpha\": 0.0,\n",
      "    \"Transmit_Power\": 0.0,\n",
      "    \"User_Equipment_Height\": 0.0\n",
      "  }\n",
      "}\n",
      ",\n",
      "34.57518529891968\n"
     ]
    },
    {
     "name": "stderr",
     "output_type": "stream",
     "text": [
      "The attention mask and the pad token id were not set. As a consequence, you may observe unexpected behavior. Please pass your input's `attention_mask` to obtain reliable results.\n",
      "Setting `pad_token_id` to `eos_token_id`:None for open-end generation.\n"
     ]
    },
    {
     "name": "stdout",
     "output_type": "stream",
     "text": [
      "132 :\n",
      "\n",
      "\n",
      "{\n",
      "  \"Parsed_Parameters\": {\n",
      "    \"X_dimension\": 30.0,\n",
      "    \"Y_dimension\": 40.0,\n",
      "    \"Number_of_Users\": 100,\n",
      "    \"Number_of_Routers\": 5,\n",
      "    \"X_User_Distribution\": \"Uniform\",\n",
      "    \"Y_User_Distribution\": \"Uniform\",\n",
      "    \"Height\": 4.0,\n",
      "    \"K\": 0.0,\n",
      "    \"Alpha\": 0.0,\n",
      "    \"Transmit_Power\": 19,\n",
      "    \"User_Equipment_Height\": 1.0\n",
      "  }\n",
      "}\n",
      ",\n",
      "34.052924156188965\n"
     ]
    },
    {
     "name": "stderr",
     "output_type": "stream",
     "text": [
      "The attention mask and the pad token id were not set. As a consequence, you may observe unexpected behavior. Please pass your input's `attention_mask` to obtain reliable results.\n",
      "Setting `pad_token_id` to `eos_token_id`:None for open-end generation.\n"
     ]
    },
    {
     "name": "stdout",
     "output_type": "stream",
     "text": [
      "133 :\n",
      "\n",
      "\n",
      "{\n",
      "  \"Parsed_Parameters\": {\n",
      "    \"X_dimension\": 45.0,\n",
      "    \"Y_dimension\": 60.0,\n",
      "    \"Number_of_Users\": 200,\n",
      "    \"Number_of_Routers\": 9,\n",
      "    \"X_User_Distribution\": \"Uniform\",\n",
      "    \"Y_User_Distribution\": \"Uniform\",\n",
      "    \"Height\": 4.0,\n",
      "    \"K\": 0.02,\n",
      "    \"Alpha\": 3.2,\n",
      "    \"Transmit_Power\": 19,\n",
      "    \"User_Equipment_Height\": 1.0\n",
      "  }\n",
      "}\n",
      ",\n",
      "34.293129682540894\n"
     ]
    },
    {
     "name": "stderr",
     "output_type": "stream",
     "text": [
      "The attention mask and the pad token id were not set. As a consequence, you may observe unexpected behavior. Please pass your input's `attention_mask` to obtain reliable results.\n",
      "Setting `pad_token_id` to `eos_token_id`:None for open-end generation.\n"
     ]
    },
    {
     "name": "stdout",
     "output_type": "stream",
     "text": [
      "134 :\n",
      "\n",
      "\n",
      "{\n",
      "  \"Parsed_Parameters\": {\n",
      "    \"X_dimension\": 15.0,\n",
      "    \"Y_dimension\": 25.0,\n",
      "    \"Number_of_Users\": 40,\n",
      "    \"Number_of_Routers\": 3,\n",
      "    \"X_User_Distribution\": \"Uniform\",\n",
      "    \"Y_User_Distribution\": \"Uniform\",\n",
      "    \"Height\": 0.0,\n",
      "    \"K\": 0.0,\n",
      "    \"Alpha\": 0.0,\n",
      "    \"Transmit_Power\": 20.0,\n",
      "    \"User_Equipment_Height\": 0.0\n",
      "  }\n",
      "}\n",
      ",\n",
      "34.672186613082886\n"
     ]
    },
    {
     "name": "stderr",
     "output_type": "stream",
     "text": [
      "The attention mask and the pad token id were not set. As a consequence, you may observe unexpected behavior. Please pass your input's `attention_mask` to obtain reliable results.\n",
      "Setting `pad_token_id` to `eos_token_id`:None for open-end generation.\n"
     ]
    },
    {
     "name": "stdout",
     "output_type": "stream",
     "text": [
      "135 :\n",
      "\n",
      "\n",
      "{\n",
      "  \"Parsed_Parameters\": {\n",
      "    \"X_dimension\": 20.0,\n",
      "    \"Y_dimension\": 30.0,\n",
      "    \"Number_of_Users\": 80,\n",
      "    \"Number_of_Routers\": 6,\n",
      "    \"X_User_Distribution\": \"Gaussian\",\n",
      "    \"Y_User_Distribution\": \"Gaussian\",\n",
      "    \"Height\": 0.0,\n",
      "    \"K\": 0.0,\n",
      "    \"Alpha\": 0.0,\n",
      "    \"Transmit_Power\": 0.0,\n",
      "    \"User Equipment Height\": 0.0\n",
      "  }\n",
      "}\n",
      ",\n",
      "34.96433210372925\n"
     ]
    },
    {
     "name": "stderr",
     "output_type": "stream",
     "text": [
      "The attention mask and the pad token id were not set. As a consequence, you may observe unexpected behavior. Please pass your input's `attention_mask` to obtain reliable results.\n",
      "Setting `pad_token_id` to `eos_token_id`:None for open-end generation.\n"
     ]
    },
    {
     "name": "stdout",
     "output_type": "stream",
     "text": [
      "136 :\n",
      "\n",
      "\n",
      "{\n",
      "  \"Parsed_Parameters\": {\n",
      "    \"X_dimension\": 25.0,\n",
      "    \"Y_dimension\": 40.0,\n",
      "    \"Number_of_Users\": 150,\n",
      "    \"Number_of_Routers\": 8,\n",
      "    \"X_User_Distribution\": \"Uniform\",\n",
      "    \"Y_User_Distribution\": \"Uniform\",\n",
      "    \"Height\": 5.0,\n",
      "    \"K\": 0.0,\n",
      "    \"Alpha\": 0.0,\n",
      "    \"Transmit_Power\": 19,\n",
      "    \"User_Equipment_Height\": 1.0\n",
      "  }\n",
      "}\n",
      ",\n",
      "34.05842137336731\n"
     ]
    },
    {
     "name": "stderr",
     "output_type": "stream",
     "text": [
      "The attention mask and the pad token id were not set. As a consequence, you may observe unexpected behavior. Please pass your input's `attention_mask` to obtain reliable results.\n",
      "Setting `pad_token_id` to `eos_token_id`:None for open-end generation.\n"
     ]
    },
    {
     "name": "stdout",
     "output_type": "stream",
     "text": [
      "137 :\n",
      "\n",
      "\n",
      "{\n",
      "  \"Parsed_Parameters\": {\n",
      "    \"X_dimension\": 10.0,\n",
      "    \"Y_dimension\": 20.0,\n",
      "    \"Number_of_Users\": 50,\n",
      "    \"Number_of_Routers\": 4,\n",
      "    \"X_User_Distribution\": \"Uniform\",\n",
      "    \"Y_User_Distribution\": \"Uniform\",\n",
      "    \"Height\": 0.0,\n",
      "    \"K\": 0.01,\n",
      "    \"Alpha\": 2.5,\n",
      "    \"Transmit_Power\": 0,\n",
      "    \"User Equipment Height\": 0.0\n",
      "  }\n",
      "}\n",
      ",\n",
      "34.05676889419556\n"
     ]
    },
    {
     "name": "stderr",
     "output_type": "stream",
     "text": [
      "The attention mask and the pad token id were not set. As a consequence, you may observe unexpected behavior. Please pass your input's `attention_mask` to obtain reliable results.\n",
      "Setting `pad_token_id` to `eos_token_id`:None for open-end generation.\n"
     ]
    },
    {
     "name": "stdout",
     "output_type": "stream",
     "text": [
      "138 :\n",
      "\n",
      "\n",
      "{\n",
      "  \"Parsed_Parameters\": {\n",
      "    \"X_dimension\": 40.0,\n",
      "    \"Y_dimension\": 50.0,\n",
      "    \"Number_of_Users\": 180,\n",
      "    \"Number_of_Routers\": 6,\n",
      "    \"X_User_Distribution\": \"Uniform\",\n",
      "    \"Y_User_Distribution\": \"Uniform\",\n",
      "    \"Height\": 4.0,\n",
      "    \"K\": 15.0,\n",
      "    \"Alpha\": 0.005,\n",
      "    \"Transmit_Power\": 25.0,\n",
      "    \"User_Equipment_Height\": 1.0\n",
      "  }\n",
      "}\n",
      ",\n",
      "34.615562200546265\n"
     ]
    },
    {
     "name": "stderr",
     "output_type": "stream",
     "text": [
      "The attention mask and the pad token id were not set. As a consequence, you may observe unexpected behavior. Please pass your input's `attention_mask` to obtain reliable results.\n",
      "Setting `pad_token_id` to `eos_token_id`:None for open-end generation.\n"
     ]
    },
    {
     "name": "stdout",
     "output_type": "stream",
     "text": [
      "139 :\n",
      "\n",
      "\n",
      "{\n",
      "  \"Parsed_Parameters\": {\n",
      "    \"X_dimension\": 30.0,\n",
      "    \"Y_dimension\": 40.0,\n",
      "    \"Number_of_Users\": 120,\n",
      "    \"Number_of_Routers\": 7,\n",
      "    \"X_User_Distribution\": \"Bi-Exponential\",\n",
      "    \"Y_User_Distribution\": \"Bi-Exponential\",\n",
      "    \"Height\": 4.0,\n",
      "    \"K\": 15.0,\n",
      "    \"Alpha\": 0.005,\n",
      "    \"Transmit_Power\": 19,\n",
      "    \"User_Equipment_Height\": 1.0\n",
      "  }\n",
      "}\n",
      ",\n",
      "35.80846047401428\n"
     ]
    },
    {
     "name": "stderr",
     "output_type": "stream",
     "text": [
      "The attention mask and the pad token id were not set. As a consequence, you may observe unexpected behavior. Please pass your input's `attention_mask` to obtain reliable results.\n",
      "Setting `pad_token_id` to `eos_token_id`:None for open-end generation.\n"
     ]
    },
    {
     "name": "stdout",
     "output_type": "stream",
     "text": [
      "140 :\n",
      "\n",
      "\n",
      "{\n",
      "  \"Parsed_Parameters\": {\n",
      "    \"X_dimension\": 20.0,\n",
      "    \"Y_dimension\": 30.0,\n",
      "    \"Number_of_Users\": 90,\n",
      "    \"Number_of_Routers\": 5,\n",
      "    \"X_User_Distribution\": \"Uniform\",\n",
      "    \"Y_User_Distribution\": \"Uniform\",\n",
      "    \"Height\": 4.0,\n",
      "    \"K\": 0.0,\n",
      "    \"Alpha\": 3.5,\n",
      "    \"Transmit_Power\": 0.0,\n",
      "    \"User_Equipment_Height\": 0.0\n",
      "  }\n",
      "}\n",
      ",\n",
      "34.85261297225952\n",
      "Type 2\n"
     ]
    },
    {
     "name": "stderr",
     "output_type": "stream",
     "text": [
      "The attention mask and the pad token id were not set. As a consequence, you may observe unexpected behavior. Please pass your input's `attention_mask` to obtain reliable results.\n",
      "Setting `pad_token_id` to `eos_token_id`:None for open-end generation.\n"
     ]
    },
    {
     "name": "stdout",
     "output_type": "stream",
     "text": [
      "141 :\n",
      "\n",
      "\n",
      "{\n",
      "  \"Parsed_Parameters\": {\n",
      "    \"X_dimension\": 25.0,\n",
      "    \"Y_dimension\": 40.0,\n",
      "    \"Number_of_Users\": 140,\n",
      "    \"Number_of_Routers\": 8,\n",
      "    \"X_User_Distribution\": \"Uniform\",\n",
      "    \"Y_User_Distribution\": \"Uniform\",\n",
      "    \"Height\": 1.0,\n",
      "    \"K\": 0.0,\n",
      "    \"Alpha\": 0.0,\n",
      "    \"Transmit_Power\": 0.0,\n",
      "    \"User_Equipment_Height\": 1.0\n",
      "  }\n",
      "}\n",
      ",\n",
      "34.5745644569397\n"
     ]
    },
    {
     "name": "stderr",
     "output_type": "stream",
     "text": [
      "The attention mask and the pad token id were not set. As a consequence, you may observe unexpected behavior. Please pass your input's `attention_mask` to obtain reliable results.\n",
      "Setting `pad_token_id` to `eos_token_id`:None for open-end generation.\n"
     ]
    },
    {
     "name": "stdout",
     "output_type": "stream",
     "text": [
      "142 :\n",
      "\n",
      "\n",
      "{\n",
      "  \"Parsed_Parameters\": {\n",
      "    \"X_dimension\": 30.0,\n",
      "    \"Y_dimension\": 50.0,\n",
      "    \"Number_of_Users\": 160,\n",
      "    \"Number_of_Routers\": 6,\n",
      "    \"X_User_Distribution\": \"Uniform\",\n",
      "    \"Y_User_Distribution\": \"Uniform\",\n",
      "    \"Height\": 0.0,\n",
      "    \"K\": 0.0,\n",
      "    \"Alpha\": 0.0,\n",
      "    \"Transmit_Power\": 0,\n",
      "    \"User_Equipment_Height\": 0.0\n",
      "  }\n",
      "}\n",
      ",\n",
      "34.09850311279297\n"
     ]
    },
    {
     "name": "stderr",
     "output_type": "stream",
     "text": [
      "The attention mask and the pad token id were not set. As a consequence, you may observe unexpected behavior. Please pass your input's `attention_mask` to obtain reliable results.\n",
      "Setting `pad_token_id` to `eos_token_id`:None for open-end generation.\n"
     ]
    },
    {
     "name": "stdout",
     "output_type": "stream",
     "text": [
      "143 :\n",
      "\n",
      "\n",
      "{\n",
      "  \"Parsed_Parameters\": {\n",
      "    \"X_dimension\": 15.0,\n",
      "    \"Y_dimension\": 25.0,\n",
      "    \"Number_of_Users\": 50,\n",
      "    \"Number_of_Routers\": 4,\n",
      "    \"X_User_Distribution\": \"Uniform\",\n",
      "    \"Y_User_Distribution\": \"Uniform\",\n",
      "    \"Height\": 0.0,\n",
      "    \"K\": 0.0,\n",
      "    \"Alpha\": 0.0,\n",
      "    \"Transmit_Power\": 0.0,\n",
      "    \"User_Equipment_Height\": 0.0\n",
      "  }\n",
      "}\n",
      ",\n",
      "34.5553617477417\n"
     ]
    },
    {
     "name": "stderr",
     "output_type": "stream",
     "text": [
      "The attention mask and the pad token id were not set. As a consequence, you may observe unexpected behavior. Please pass your input's `attention_mask` to obtain reliable results.\n",
      "Setting `pad_token_id` to `eos_token_id`:None for open-end generation.\n"
     ]
    },
    {
     "name": "stdout",
     "output_type": "stream",
     "text": [
      "144 :\n",
      "\n",
      "\n",
      "{\n",
      "  \"Parsed_Parameters\": {\n",
      "    \"X_dimension\": 45.0,\n",
      "    \"Y_dimension\": 60.0,\n",
      "    \"Number_of_Users\": 200,\n",
      "    \"Number_of_Routers\": 9,\n",
      "    \"X_User_Distribution\": \"Uniform\",\n",
      "    \"Y_User_Distribution\": \"Uniform\",\n",
      "    \"Height\": 2.5,\n",
      "    \"K\": 10.0,\n",
      "    \"Alpha\": 0.01,\n",
      "    \"Transmit_Power\": 20,\n",
      "    \"User_Equipment_Height\": 1.5\n",
      "  }\n",
      "}\n",
      ",\n",
      "34.0888876914978\n"
     ]
    },
    {
     "name": "stderr",
     "output_type": "stream",
     "text": [
      "The attention mask and the pad token id were not set. As a consequence, you may observe unexpected behavior. Please pass your input's `attention_mask` to obtain reliable results.\n",
      "Setting `pad_token_id` to `eos_token_id`:None for open-end generation.\n"
     ]
    },
    {
     "name": "stdout",
     "output_type": "stream",
     "text": [
      "145 :\n",
      "\n",
      "\n",
      "{\n",
      "  \"Parsed_Parameters\": {\n",
      "    \"X_dimension\": 35.0,\n",
      "    \"Y_dimension\": 50.0,\n",
      "    \"Number_of_Users\": 150,\n",
      "    \"Number_of_Routers\": 7,\n",
      "    \"X_User_Distribution\": \"Uniform\",\n",
      "    \"Y_User_Distribution\": \"Uniform\",\n",
      "    \"Height\": 1.5,\n",
      "    \"K\": 10.0,\n",
      "    \"Alpha\": 0.005,\n",
      "    \"Transmit_Power\": 19,\n",
      "    \"User_Equipment_Height\": 1.5\n",
      "  }\n",
      "}\n",
      ",\n",
      "34.17043447494507\n"
     ]
    },
    {
     "name": "stderr",
     "output_type": "stream",
     "text": [
      "The attention mask and the pad token id were not set. As a consequence, you may observe unexpected behavior. Please pass your input's `attention_mask` to obtain reliable results.\n",
      "Setting `pad_token_id` to `eos_token_id`:None for open-end generation.\n"
     ]
    },
    {
     "name": "stdout",
     "output_type": "stream",
     "text": [
      "146 :\n",
      "\n",
      "\n",
      "{\n",
      "  \"Parsed_Parameters\": {\n",
      "    \"X_dimension\": 20.0,\n",
      "    \"Y_dimension\": 30.0,\n",
      "    \"Number_of_Users\": 80,\n",
      "    \"Number_of_Routers\": 5,\n",
      "    \"X_User_Distribution\": \"Uniform\",\n",
      "    \"Y_User_Distribution\": \"Uniform\",\n",
      "    \"Height\": 0.0,\n",
      "    \"K\": 0.0,\n",
      "    \"Alpha\": 0.0,\n",
      "    \"Transmit_Power\": 0,\n",
      "    \"User_Equipment_Height\": 0.0\n",
      "  }\n",
      "}\n",
      ",\n",
      "34.10432052612305\n"
     ]
    },
    {
     "name": "stderr",
     "output_type": "stream",
     "text": [
      "The attention mask and the pad token id were not set. As a consequence, you may observe unexpected behavior. Please pass your input's `attention_mask` to obtain reliable results.\n",
      "Setting `pad_token_id` to `eos_token_id`:None for open-end generation.\n"
     ]
    },
    {
     "name": "stdout",
     "output_type": "stream",
     "text": [
      "147 :\n",
      "\n",
      "\n",
      "{\n",
      "  \"Parsed_Parameters\": {\n",
      "    \"X_dimension\": 10.0,\n",
      "    \"Y_dimension\": 20.0,\n",
      "    \"Number_of_Users\": 40,\n",
      "    \"Number_of_Routers\": 3,\n",
      "    \"X_User_Distribution\": \"Uniform\",\n",
      "    \"Y_User_Distribution\": \"Uniform\",\n",
      "    \"Height\": 0.0,\n",
      "    \"K\": 0.0,\n",
      "    \"Alpha\": 0.0,\n",
      "    \"Transmit_Power\": 0.0,\n",
      "    \"User_Equipment_Height\": 0.0\n",
      "  }\n",
      "}\n",
      ",\n",
      "34.58257555961609\n"
     ]
    },
    {
     "name": "stderr",
     "output_type": "stream",
     "text": [
      "The attention mask and the pad token id were not set. As a consequence, you may observe unexpected behavior. Please pass your input's `attention_mask` to obtain reliable results.\n",
      "Setting `pad_token_id` to `eos_token_id`:None for open-end generation.\n"
     ]
    },
    {
     "name": "stdout",
     "output_type": "stream",
     "text": [
      "148 :\n",
      "\n",
      "\n",
      "{\n",
      "  \"Parsed_Parameters\": {\n",
      "    \"X_dimension\": 60.0,\n",
      "    \"Y_dimension\": 40.0,\n",
      "    \"Number_of_Users\": 180,\n",
      "    \"Number_of_Routers\": 8,\n",
      "    \"X_User_Distribution\": \"Uniform\",\n",
      "    \"Y_User_Distribution\": \"Uniform\",\n",
      "    \"Height\": 4.0,\n",
      "    \"K\": 15.0,\n",
      "    \"Alpha\": 0.005,\n",
      "    \"Transmit_Power\": 19,\n",
      "    \"User_Equipment_Height\": 1.0\n",
      "  }\n",
      "}\n",
      ",\n",
      "34.0470757484436\n"
     ]
    },
    {
     "name": "stderr",
     "output_type": "stream",
     "text": [
      "The attention mask and the pad token id were not set. As a consequence, you may observe unexpected behavior. Please pass your input's `attention_mask` to obtain reliable results.\n",
      "Setting `pad_token_id` to `eos_token_id`:None for open-end generation.\n"
     ]
    },
    {
     "name": "stdout",
     "output_type": "stream",
     "text": [
      "149 :\n",
      "\n",
      "\n",
      "{\n",
      "  \"Parsed_Parameters\": {\n",
      "    \"X_dimension\": 25.0,\n",
      "    \"Y_dimension\": 40.0,\n",
      "    \"Number_of_Users\": 120,\n",
      "    \"Number_of_Routers\": 6,\n",
      "    \"X_User_Distribution\": \"Uniform\",\n",
      "    \"Y_User_Distribution\": \"Uniform\",\n",
      "    \"Height\": 1.0,\n",
      "    \"K\": 0.0,\n",
      "    \"Alpha\": 0.0,\n",
      "    \"Transmit_Power\": 0.0,\n",
      "    \"User_Equipment_Height\": 1.0\n",
      "  }\n",
      "}\n",
      ",\n",
      "34.61381125450134\n",
      "150 :\n",
      "\n",
      "\n",
      "{\n",
      "  \"Parsed_Parameters\": {\n",
      "    \"X_dimension\": 20.0,\n",
      "    \"Y_dimension\": 30.0,\n",
      "    \"Number_of_Users\": 90,\n",
      "    \"Number_of_Routers\": 5,\n",
      "    \"X_User_Distribution\": \"Uniform\",\n",
      "    \"Y_User_Distribution\": \"Uniform\",\n",
      "    \"Height\": 0.0,\n",
      "    \"K\": 0.0,\n",
      "    \"Alpha\": 0.0,\n",
      "    \"Transmit_Power\": 0,\n",
      "    \"User_Equipment_Height\": 0.0\n",
      "  }\n",
      "}\n",
      ",\n",
      "34.01347041130066\n"
     ]
    }
   ],
   "source": [
    "for cls in range(0,5):\n",
    "    print(\"Class\",cls)\n",
    "    for typ in range(3):\n",
    "        print(\"Type\",typ)\n",
    "        for ins in range(10):\n",
    "            count+=1\n",
    "            request=dataset_list[cls][str(typ)][ins][\"Original_Request\"]\n",
    "            message=[system2,\n",
    "                {\"role\":\"user\",\"content\": \"User Request: \\n \" + request}]\n",
    "            input_ids = tokenizer.apply_chat_template(message, return_tensors=\"pt\",padding=True, truncation=True,).to(llama_model.device)\n",
    "            start=time.time()\n",
    "            with torch.no_grad():\n",
    "                 output = llama_model.generate(input_ids, max_length=input_ids.shape[1]+500, num_return_sequences=1, temperature=0.1);\n",
    "            input_length = input_ids.shape[1] \n",
    "            clean_prompt=output[0][input_length+3:];\n",
    "            answer=tokenizer.decode(clean_prompt, skip_special_tokens=True);\n",
    "            print(count,\":\")\n",
    "            print(answer)\n",
    "            print(\",\")\n",
    "            print(time.time()-start)\n",
    "            no_context.append(answer)"
   ]
  },
  {
   "cell_type": "code",
   "execution_count": 70,
   "metadata": {
    "execution": {
     "iopub.execute_input": "2024-11-22T21:31:54.329606Z",
     "iopub.status.busy": "2024-11-22T21:31:54.329200Z",
     "iopub.status.idle": "2024-11-22T21:31:54.335280Z",
     "shell.execute_reply": "2024-11-22T21:31:54.334436Z",
     "shell.execute_reply.started": "2024-11-22T21:31:54.329565Z"
    },
    "trusted": true
   },
   "outputs": [
    {
     "data": {
      "text/plain": [
       "150"
      ]
     },
     "execution_count": 70,
     "metadata": {},
     "output_type": "execute_result"
    }
   ],
   "source": [
    "len(no_context)"
   ]
  },
  {
   "cell_type": "code",
   "execution_count": 72,
   "metadata": {
    "execution": {
     "iopub.execute_input": "2024-11-22T21:32:57.157029Z",
     "iopub.status.busy": "2024-11-22T21:32:57.156170Z",
     "iopub.status.idle": "2024-11-22T21:32:57.161914Z",
     "shell.execute_reply": "2024-11-22T21:32:57.161029Z",
     "shell.execute_reply.started": "2024-11-22T21:32:57.156995Z"
    },
    "trusted": true
   },
   "outputs": [],
   "source": [
    "with open(\"nocontext_12345.txt\",\"w\") as file:\n",
    "    file.write(str(no_context))"
   ]
  },
  {
   "cell_type": "code",
   "execution_count": 73,
   "metadata": {
    "execution": {
     "iopub.execute_input": "2024-11-22T21:34:41.266977Z",
     "iopub.status.busy": "2024-11-22T21:34:41.266312Z",
     "iopub.status.idle": "2024-11-22T21:34:41.271731Z",
     "shell.execute_reply": "2024-11-22T21:34:41.270809Z",
     "shell.execute_reply.started": "2024-11-22T21:34:41.266942Z"
    },
    "trusted": true
   },
   "outputs": [
    {
     "name": "stdout",
     "output_type": "stream",
     "text": [
      "{'Original_Request': 'In an office setting with dimensions 30m x 40m x 4m, how should I position 6 Nokia 7750 routers to achieve minimum signal degradation among 100 users, given 15 dBm transmit power, path loss parameters K = 0.005 and alpha = 2, with users distributed exponentially along both axes?', 'Parsed_Parameters': {'X_dimension': 30, 'Y_dimension': 40, 'Number_of_Users': 100, 'Number_of_Routers': 6, 'X_User_Distribution': 'Exponential', 'Y_User_Distribution': 'Exponential', 'Height': 4, 'K': 0.005, 'Alpha': 2.0, 'Location': 'Office', 'Device_Name': 'Nokia 7750', 'Transmit_Power': 15}}\n",
      "{'Original_Request': \"Considering a banquet hall with dimensions 50m x 20m and a height of 5m, I'd like to make sure the 150 devices are close to 8 Juniper MX240 routers, each having 25 dBm transmit power, with path loss parameters K = 0.01 and alpha = 3, and user distribution following Gaussian along the X-axis and exponential along the Y-axis.\", 'Parsed_Parameters': {'X_dimension': 50, 'Y_dimension': 20, 'Number_of_Users': 150, 'Number_of_Routers': 8, 'X_User_Distribution': 'Gaussian', 'Y_User_Distribution': 'Exponential', 'Height': 5, 'K': 0.01, 'Alpha': 3.0, 'Location': 'Banquet Hall', 'Device_Name': 'Juniper MX240', 'Transmit_Power': 25}}\n",
      "{'Original_Request': \"Considering a warehouse with a 50m x 20m x 5m layout, I'd like to optimize the placement of 8 Cisco ASR-900 routers to maximize RSRP and distributing load equally for 150 users, with 20 dBm transmit power, path loss parameters K = 0.02 and alpha = 3, and a uniform user distribution.\", 'Parsed_Parameters': {'X_dimension': 50, 'Y_dimension': 20, 'Number_of_Users': 150, 'Number_of_Routers': 8, 'X_User_Distribution': 'uniform', 'Y_User_Distribution': 'uniform', 'Height': 5, 'K': 0.02, 'Alpha': 3.0, 'Location': 'Warehouse', 'Device_Name': 'Cisco ASR-900', 'Transmit_Power': 20}}\n",
      "{'Original_Request': 'For a banquet hall with dimensions 40m x 30m x 4m, determine the optimal placement of 5 Huawei NE40 routers to achieve maximum minimum RSRP for 120 users, given 25 dBm transmit power, path loss parameters K = 0.01 and alpha = 2.5, and a Gaussian user distribution.', 'Parsed_Parameters': {'X_dimension': 40, 'Y_dimension': 30, 'Number_of_Users': 120, 'Number_of_Routers': 5, 'X_User_Distribution': 'Gaussian', 'Y_User_Distribution': 'Gaussian', 'Height': 4, 'K': 0.01, 'Alpha': 2.5, 'Location': 'Banquet Hall', 'Device_Name': 'Huawei NE40', 'Transmit_Power': 25}}\n",
      "{'Original_Request': 'For a warehouse with a 40m x 30m floor plan and 4m ceiling, how can I balance the load on 5 Huawei NE40 routers among 120 users, given 20 dBm transmit power, path loss parameters K = 0.02 and alpha = 2.5, and a uniform user distribution along both axes?', 'Parsed_Parameters': {'X_dimension': 40, 'Y_dimension': 30, 'Number_of_Users': 120, 'Number_of_Routers': 5, 'X_User_Distribution': 'Uniform', 'Y_User_Distribution': 'Uniform', 'Height': 4, 'K': 0.02, 'Alpha': 2.5, 'Location': 'Warehouse', 'Device_Name': 'Huawei NE40', 'Transmit_Power': 20}}\n"
     ]
    }
   ],
   "source": [
    "for i in range(5):\n",
    "    print(dataset_list[i][\"0\"][0])"
   ]
  },
  {
   "cell_type": "code",
   "execution_count": null,
   "metadata": {
    "trusted": true
   },
   "outputs": [],
   "source": []
  }
 ],
 "metadata": {
  "kaggle": {
   "accelerator": "gpu",
   "dataSources": [
    {
     "datasetId": 6138097,
     "sourceId": 9976017,
     "sourceType": "datasetVersion"
    }
   ],
   "dockerImageVersionId": 30787,
   "isGpuEnabled": true,
   "isInternetEnabled": true,
   "language": "python",
   "sourceType": "notebook"
  },
  "kernelspec": {
   "display_name": "Python 3",
   "language": "python",
   "name": "python3"
  },
  "language_info": {
   "codemirror_mode": {
    "name": "ipython",
    "version": 3
   },
   "file_extension": ".py",
   "mimetype": "text/x-python",
   "name": "python",
   "nbconvert_exporter": "python",
   "pygments_lexer": "ipython3",
   "version": "3.10.14"
  }
 },
 "nbformat": 4,
 "nbformat_minor": 4
}
