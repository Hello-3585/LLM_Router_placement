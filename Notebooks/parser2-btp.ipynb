{
 "cells": [
  {
   "cell_type": "code",
   "execution_count": 1,
   "metadata": {
    "_cell_guid": "b1076dfc-b9ad-4769-8c92-a6c4dae69d19",
    "_uuid": "8f2839f25d086af736a60e9eeb907d3b93b6e0e5",
    "execution": {
     "iopub.execute_input": "2024-11-25T11:33:48.194979Z",
     "iopub.status.busy": "2024-11-25T11:33:48.194703Z",
     "iopub.status.idle": "2024-11-25T11:33:49.142580Z",
     "shell.execute_reply": "2024-11-25T11:33:49.141731Z",
     "shell.execute_reply.started": "2024-11-25T11:33:48.194952Z"
    },
    "trusted": true
   },
   "outputs": [
    {
     "name": "stdout",
     "output_type": "stream",
     "text": [
      "/kaggle/input/router-placement-llm/Defaults.txt\n",
      "/kaggle/input/router-placement-llm/Information.txt\n",
      "/kaggle/input/router-placement-llm/Environment/Office.txt\n",
      "/kaggle/input/router-placement-llm/Environment/Banquet.txt\n",
      "/kaggle/input/router-placement-llm/Environment/House.txt\n",
      "/kaggle/input/router-placement-llm/Environment/Warehouse.txt\n",
      "/kaggle/input/router-placement-llm/Environment/Hospital.txt\n",
      "/kaggle/input/router-placement-llm/Dataset_json/Parsed_User_Requests_KHM.json\n",
      "/kaggle/input/router-placement-llm/Dataset_json/Parsed_User_Requests_KM.json\n",
      "/kaggle/input/router-placement-llm/Dataset_json/Parsed_User_Requests_WKHM.json\n",
      "/kaggle/input/router-placement-llm/Dataset_json/Parsed_User_Requests_KC.json\n",
      "/kaggle/input/router-placement-llm/Dataset_json/Parsed_User_Requests_CKM.json\n",
      "/kaggle/input/router-placement-llm/Routers/Nokia-7750.txt\n",
      "/kaggle/input/router-placement-llm/Routers/Cisco-XR-1234.txt\n",
      "/kaggle/input/router-placement-llm/Routers/Huawei-NE-40.txt\n",
      "/kaggle/input/router-placement-llm/Routers/Juniper-MX-240.txt\n",
      "/kaggle/input/router-placement-llm/Routers/Cisco-ASR-900.txt\n"
     ]
    }
   ],
   "source": [
    "import numpy as np # linear algebra\n",
    "import pandas as pd # data processing, CSV file I/O (e.g. pd.read_csv)y\n",
    "import random\n",
    "import json\n",
    "import os\n",
    "for dirname, _, filenames in os.walk('/kaggle/input'):\n",
    "    for filename in filenames:\n",
    "        print(os.path.join(dirname, filename))"
   ]
  },
  {
   "cell_type": "code",
   "execution_count": 2,
   "metadata": {
    "execution": {
     "iopub.execute_input": "2024-11-25T11:33:49.143989Z",
     "iopub.status.busy": "2024-11-25T11:33:49.143620Z",
     "iopub.status.idle": "2024-11-25T11:33:49.178560Z",
     "shell.execute_reply": "2024-11-25T11:33:49.177966Z",
     "shell.execute_reply.started": "2024-11-25T11:33:49.143963Z"
    },
    "trusted": true
   },
   "outputs": [],
   "source": [
    "# Path to the Dataset_json folder in the Kaggle dataset\n",
    "dataset_json_path = \"/kaggle/input/router-placement-llm/Dataset_json\"\n",
    "dataset_list = []\n",
    "\n",
    "# Iterate through files in the Dataset_json folder\n",
    "for file_name in os.listdir(dataset_json_path):\n",
    "    file_path = os.path.join(dataset_json_path, file_name)\n",
    "    \n",
    "    # Check if the file is a JSON file\n",
    "    if file_name.endswith(\".json\"):\n",
    "        try:\n",
    "            # Read and load JSON content\n",
    "            with open(file_path, 'r') as file:\n",
    "                data = json.load(file)\n",
    "                dataset_list.append(data)\n",
    "        except Exception as e:\n",
    "            print(f\"Error reading {file_name}: {e}\")\n",
    "\n",
    "# # Print the list or process it further\n",
    "# print(dataset_list)\n"
   ]
  },
  {
   "cell_type": "code",
   "execution_count": 3,
   "metadata": {
    "execution": {
     "iopub.execute_input": "2024-11-25T11:33:49.181031Z",
     "iopub.status.busy": "2024-11-25T11:33:49.180524Z",
     "iopub.status.idle": "2024-11-25T11:33:49.197452Z",
     "shell.execute_reply": "2024-11-25T11:33:49.196887Z",
     "shell.execute_reply.started": "2024-11-25T11:33:49.180992Z"
    },
    "trusted": true
   },
   "outputs": [],
   "source": [
    "# Path to the Dataset_json folder in the Kaggle dataset\n",
    "dataset_json_path = \"/kaggle/input/router-placement-llm/Environment\"\n",
    "environment_list = []\n",
    "\n",
    "# Iterate through files in the Dataset_json folder\n",
    "for file_name in os.listdir(dataset_json_path):\n",
    "    file_path = os.path.join(dataset_json_path, file_name)\n",
    "    \n",
    "    with open(file_path, 'r') as file:\n",
    "        data = file.read()\n",
    "    file.close()\n",
    "    environment_list.append(data)"
   ]
  },
  {
   "cell_type": "code",
   "execution_count": 4,
   "metadata": {
    "execution": {
     "iopub.execute_input": "2024-11-25T11:33:49.199247Z",
     "iopub.status.busy": "2024-11-25T11:33:49.198483Z",
     "iopub.status.idle": "2024-11-25T11:33:49.215235Z",
     "shell.execute_reply": "2024-11-25T11:33:49.214648Z",
     "shell.execute_reply.started": "2024-11-25T11:33:49.199209Z"
    },
    "trusted": true
   },
   "outputs": [],
   "source": [
    "# Path to the Dataset_json folder in the Kaggle dataset\n",
    "dataset_json_path = \"/kaggle/input/router-placement-llm/Routers\"\n",
    "router_list = []\n",
    "\n",
    "# Iterate through files in the Dataset_json folder\n",
    "for file_name in os.listdir(dataset_json_path):\n",
    "    file_path = os.path.join(dataset_json_path, file_name)\n",
    "    \n",
    "    with open(file_path, 'r') as file:\n",
    "        data = file.read()\n",
    "    file.close()\n",
    "    router_list.append(data)"
   ]
  },
  {
   "cell_type": "code",
   "execution_count": 5,
   "metadata": {
    "execution": {
     "iopub.execute_input": "2024-11-25T11:33:49.216203Z",
     "iopub.status.busy": "2024-11-25T11:33:49.215999Z",
     "iopub.status.idle": "2024-11-25T11:33:49.225622Z",
     "shell.execute_reply": "2024-11-25T11:33:49.224978Z",
     "shell.execute_reply.started": "2024-11-25T11:33:49.216181Z"
    },
    "trusted": true
   },
   "outputs": [],
   "source": [
    "with open(\"/kaggle/input/router-placement-llm/Defaults.txt\",'r') as file:\n",
    "    defaults=file.read()"
   ]
  },
  {
   "cell_type": "code",
   "execution_count": 6,
   "metadata": {
    "execution": {
     "iopub.execute_input": "2024-11-25T11:33:49.226852Z",
     "iopub.status.busy": "2024-11-25T11:33:49.226543Z",
     "iopub.status.idle": "2024-11-25T11:33:49.255224Z",
     "shell.execute_reply": "2024-11-25T11:33:49.254576Z",
     "shell.execute_reply.started": "2024-11-25T11:33:49.226828Z"
    },
    "trusted": true
   },
   "outputs": [],
   "source": [
    "with open(\"/kaggle/input/router-placement-llm/Information.txt\",'r') as file:\n",
    "    information= json.load(file)"
   ]
  },
  {
   "cell_type": "code",
   "execution_count": 7,
   "metadata": {
    "collapsed": true,
    "execution": {
     "iopub.execute_input": "2024-11-25T11:33:49.256852Z",
     "iopub.status.busy": "2024-11-25T11:33:49.256525Z",
     "iopub.status.idle": "2024-11-25T11:34:16.581464Z",
     "shell.execute_reply": "2024-11-25T11:34:16.580748Z",
     "shell.execute_reply.started": "2024-11-25T11:33:49.256816Z"
    },
    "jupyter": {
     "outputs_hidden": true
    },
    "trusted": true
   },
   "outputs": [
    {
     "name": "stdout",
     "output_type": "stream",
     "text": [
      "Requirement already satisfied: torch in /opt/conda/lib/python3.10/site-packages (2.4.0)\n",
      "Requirement already satisfied: transformers in /opt/conda/lib/python3.10/site-packages (4.45.1)\n",
      "Collecting transformer_lens\n",
      "  Downloading transformer_lens-2.9.1-py3-none-any.whl.metadata (12 kB)\n",
      "Requirement already satisfied: filelock in /opt/conda/lib/python3.10/site-packages (from torch) (3.15.1)\n",
      "Requirement already satisfied: typing-extensions>=4.8.0 in /opt/conda/lib/python3.10/site-packages (from torch) (4.12.2)\n",
      "Requirement already satisfied: sympy in /opt/conda/lib/python3.10/site-packages (from torch) (1.13.3)\n",
      "Requirement already satisfied: networkx in /opt/conda/lib/python3.10/site-packages (from torch) (3.3)\n",
      "Requirement already satisfied: jinja2 in /opt/conda/lib/python3.10/site-packages (from torch) (3.1.4)\n",
      "Requirement already satisfied: fsspec in /opt/conda/lib/python3.10/site-packages (from torch) (2024.6.1)\n",
      "Requirement already satisfied: huggingface-hub<1.0,>=0.23.2 in /opt/conda/lib/python3.10/site-packages (from transformers) (0.25.1)\n",
      "Requirement already satisfied: numpy>=1.17 in /opt/conda/lib/python3.10/site-packages (from transformers) (1.26.4)\n",
      "Requirement already satisfied: packaging>=20.0 in /opt/conda/lib/python3.10/site-packages (from transformers) (21.3)\n",
      "Requirement already satisfied: pyyaml>=5.1 in /opt/conda/lib/python3.10/site-packages (from transformers) (6.0.2)\n",
      "Requirement already satisfied: regex!=2019.12.17 in /opt/conda/lib/python3.10/site-packages (from transformers) (2024.5.15)\n",
      "Requirement already satisfied: requests in /opt/conda/lib/python3.10/site-packages (from transformers) (2.32.3)\n",
      "Requirement already satisfied: safetensors>=0.4.1 in /opt/conda/lib/python3.10/site-packages (from transformers) (0.4.5)\n",
      "Requirement already satisfied: tokenizers<0.21,>=0.20 in /opt/conda/lib/python3.10/site-packages (from transformers) (0.20.0)\n",
      "Requirement already satisfied: tqdm>=4.27 in /opt/conda/lib/python3.10/site-packages (from transformers) (4.66.4)\n",
      "Requirement already satisfied: accelerate>=0.23.0 in /opt/conda/lib/python3.10/site-packages (from transformer_lens) (0.34.2)\n",
      "Collecting beartype<0.15.0,>=0.14.1 (from transformer_lens)\n",
      "  Downloading beartype-0.14.1-py3-none-any.whl.metadata (28 kB)\n",
      "Collecting better-abc<0.0.4,>=0.0.3 (from transformer_lens)\n",
      "  Downloading better_abc-0.0.3-py3-none-any.whl.metadata (1.4 kB)\n",
      "Requirement already satisfied: datasets>=2.7.1 in /opt/conda/lib/python3.10/site-packages (from transformer_lens) (3.0.1)\n",
      "Collecting einops>=0.6.0 (from transformer_lens)\n",
      "  Downloading einops-0.8.0-py3-none-any.whl.metadata (12 kB)\n",
      "Collecting fancy-einsum>=0.0.3 (from transformer_lens)\n",
      "  Downloading fancy_einsum-0.0.3-py3-none-any.whl.metadata (1.2 kB)\n",
      "Collecting jaxtyping>=0.2.11 (from transformer_lens)\n",
      "  Downloading jaxtyping-0.2.36-py3-none-any.whl.metadata (6.5 kB)\n",
      "Requirement already satisfied: pandas>=1.1.5 in /opt/conda/lib/python3.10/site-packages (from transformer_lens) (2.2.2)\n",
      "Requirement already satisfied: rich>=12.6.0 in /opt/conda/lib/python3.10/site-packages (from transformer_lens) (13.7.1)\n",
      "Requirement already satisfied: sentencepiece in /opt/conda/lib/python3.10/site-packages (from transformer_lens) (0.2.0)\n",
      "Requirement already satisfied: typeguard<5.0,>=4.2 in /opt/conda/lib/python3.10/site-packages (from transformer_lens) (4.3.0)\n",
      "Requirement already satisfied: wandb>=0.13.5 in /opt/conda/lib/python3.10/site-packages (from transformer_lens) (0.18.3)\n",
      "Requirement already satisfied: psutil in /opt/conda/lib/python3.10/site-packages (from accelerate>=0.23.0->transformer_lens) (5.9.3)\n",
      "Requirement already satisfied: pyarrow>=15.0.0 in /opt/conda/lib/python3.10/site-packages (from datasets>=2.7.1->transformer_lens) (16.1.0)\n",
      "Requirement already satisfied: dill<0.3.9,>=0.3.0 in /opt/conda/lib/python3.10/site-packages (from datasets>=2.7.1->transformer_lens) (0.3.8)\n",
      "Requirement already satisfied: xxhash in /opt/conda/lib/python3.10/site-packages (from datasets>=2.7.1->transformer_lens) (3.4.1)\n",
      "Requirement already satisfied: multiprocess in /opt/conda/lib/python3.10/site-packages (from datasets>=2.7.1->transformer_lens) (0.70.16)\n",
      "Requirement already satisfied: aiohttp in /opt/conda/lib/python3.10/site-packages (from datasets>=2.7.1->transformer_lens) (3.9.5)\n",
      "Requirement already satisfied: pyparsing!=3.0.5,>=2.0.2 in /opt/conda/lib/python3.10/site-packages (from packaging>=20.0->transformers) (3.1.2)\n",
      "Requirement already satisfied: python-dateutil>=2.8.2 in /opt/conda/lib/python3.10/site-packages (from pandas>=1.1.5->transformer_lens) (2.9.0.post0)\n",
      "Requirement already satisfied: pytz>=2020.1 in /opt/conda/lib/python3.10/site-packages (from pandas>=1.1.5->transformer_lens) (2024.1)\n",
      "Requirement already satisfied: tzdata>=2022.7 in /opt/conda/lib/python3.10/site-packages (from pandas>=1.1.5->transformer_lens) (2024.1)\n",
      "Requirement already satisfied: charset-normalizer<4,>=2 in /opt/conda/lib/python3.10/site-packages (from requests->transformers) (3.3.2)\n",
      "Requirement already satisfied: idna<4,>=2.5 in /opt/conda/lib/python3.10/site-packages (from requests->transformers) (3.7)\n",
      "Requirement already satisfied: urllib3<3,>=1.21.1 in /opt/conda/lib/python3.10/site-packages (from requests->transformers) (1.26.18)\n",
      "Requirement already satisfied: certifi>=2017.4.17 in /opt/conda/lib/python3.10/site-packages (from requests->transformers) (2024.8.30)\n",
      "Requirement already satisfied: markdown-it-py>=2.2.0 in /opt/conda/lib/python3.10/site-packages (from rich>=12.6.0->transformer_lens) (3.0.0)\n",
      "Requirement already satisfied: pygments<3.0.0,>=2.13.0 in /opt/conda/lib/python3.10/site-packages (from rich>=12.6.0->transformer_lens) (2.18.0)\n",
      "Requirement already satisfied: click!=8.0.0,>=7.1 in /opt/conda/lib/python3.10/site-packages (from wandb>=0.13.5->transformer_lens) (8.1.7)\n",
      "Requirement already satisfied: docker-pycreds>=0.4.0 in /opt/conda/lib/python3.10/site-packages (from wandb>=0.13.5->transformer_lens) (0.4.0)\n",
      "Requirement already satisfied: gitpython!=3.1.29,>=1.0.0 in /opt/conda/lib/python3.10/site-packages (from wandb>=0.13.5->transformer_lens) (3.1.43)\n",
      "Requirement already satisfied: platformdirs in /opt/conda/lib/python3.10/site-packages (from wandb>=0.13.5->transformer_lens) (3.11.0)\n",
      "Requirement already satisfied: protobuf!=4.21.0,!=5.28.0,<6,>=3.19.0 in /opt/conda/lib/python3.10/site-packages (from wandb>=0.13.5->transformer_lens) (3.20.3)\n",
      "Requirement already satisfied: sentry-sdk>=1.0.0 in /opt/conda/lib/python3.10/site-packages (from wandb>=0.13.5->transformer_lens) (2.15.0)\n",
      "Requirement already satisfied: setproctitle in /opt/conda/lib/python3.10/site-packages (from wandb>=0.13.5->transformer_lens) (1.3.3)\n",
      "Requirement already satisfied: setuptools in /opt/conda/lib/python3.10/site-packages (from wandb>=0.13.5->transformer_lens) (70.0.0)\n",
      "Requirement already satisfied: MarkupSafe>=2.0 in /opt/conda/lib/python3.10/site-packages (from jinja2->torch) (2.1.5)\n",
      "Requirement already satisfied: mpmath<1.4,>=1.1.0 in /opt/conda/lib/python3.10/site-packages (from sympy->torch) (1.3.0)\n",
      "Requirement already satisfied: six>=1.4.0 in /opt/conda/lib/python3.10/site-packages (from docker-pycreds>=0.4.0->wandb>=0.13.5->transformer_lens) (1.16.0)\n",
      "Requirement already satisfied: aiosignal>=1.1.2 in /opt/conda/lib/python3.10/site-packages (from aiohttp->datasets>=2.7.1->transformer_lens) (1.3.1)\n",
      "Requirement already satisfied: attrs>=17.3.0 in /opt/conda/lib/python3.10/site-packages (from aiohttp->datasets>=2.7.1->transformer_lens) (23.2.0)\n",
      "Requirement already satisfied: frozenlist>=1.1.1 in /opt/conda/lib/python3.10/site-packages (from aiohttp->datasets>=2.7.1->transformer_lens) (1.4.1)\n",
      "Requirement already satisfied: multidict<7.0,>=4.5 in /opt/conda/lib/python3.10/site-packages (from aiohttp->datasets>=2.7.1->transformer_lens) (6.0.5)\n",
      "Requirement already satisfied: yarl<2.0,>=1.0 in /opt/conda/lib/python3.10/site-packages (from aiohttp->datasets>=2.7.1->transformer_lens) (1.9.4)\n",
      "Requirement already satisfied: async-timeout<5.0,>=4.0 in /opt/conda/lib/python3.10/site-packages (from aiohttp->datasets>=2.7.1->transformer_lens) (4.0.3)\n",
      "Requirement already satisfied: gitdb<5,>=4.0.1 in /opt/conda/lib/python3.10/site-packages (from gitpython!=3.1.29,>=1.0.0->wandb>=0.13.5->transformer_lens) (4.0.11)\n",
      "Requirement already satisfied: mdurl~=0.1 in /opt/conda/lib/python3.10/site-packages (from markdown-it-py>=2.2.0->rich>=12.6.0->transformer_lens) (0.1.2)\n",
      "Requirement already satisfied: smmap<6,>=3.0.1 in /opt/conda/lib/python3.10/site-packages (from gitdb<5,>=4.0.1->gitpython!=3.1.29,>=1.0.0->wandb>=0.13.5->transformer_lens) (5.0.1)\n",
      "Downloading transformer_lens-2.9.1-py3-none-any.whl (176 kB)\n",
      "\u001b[2K   \u001b[90m━━━━━━━━━━━━━━━━━━━━━━━━━━━━━━━━━━━━━━━━\u001b[0m \u001b[32m176.9/176.9 kB\u001b[0m \u001b[31m2.8 MB/s\u001b[0m eta \u001b[36m0:00:00\u001b[0m \u001b[36m0:00:01\u001b[0m\n",
      "\u001b[?25hDownloading beartype-0.14.1-py3-none-any.whl (739 kB)\n",
      "\u001b[2K   \u001b[90m━━━━━━━━━━━━━━━━━━━━━━━━━━━━━━━━━━━━━━━━\u001b[0m \u001b[32m739.7/739.7 kB\u001b[0m \u001b[31m10.9 MB/s\u001b[0m eta \u001b[36m0:00:00\u001b[0ma \u001b[36m0:00:01\u001b[0m\n",
      "\u001b[?25hDownloading better_abc-0.0.3-py3-none-any.whl (3.5 kB)\n",
      "Downloading einops-0.8.0-py3-none-any.whl (43 kB)\n",
      "\u001b[2K   \u001b[90m━━━━━━━━━━━━━━━━━━━━━━━━━━━━━━━━━━━━━━━━\u001b[0m \u001b[32m43.2/43.2 kB\u001b[0m \u001b[31m2.6 MB/s\u001b[0m eta \u001b[36m0:00:00\u001b[0m\n",
      "\u001b[?25hDownloading fancy_einsum-0.0.3-py3-none-any.whl (6.2 kB)\n",
      "Downloading jaxtyping-0.2.36-py3-none-any.whl (55 kB)\n",
      "\u001b[2K   \u001b[90m━━━━━━━━━━━━━━━━━━━━━━━━━━━━━━━━━━━━━━━━\u001b[0m \u001b[32m55.8/55.8 kB\u001b[0m \u001b[31m3.2 MB/s\u001b[0m eta \u001b[36m0:00:00\u001b[0m\n",
      "\u001b[?25hInstalling collected packages: better-abc, jaxtyping, fancy-einsum, einops, beartype, transformer_lens\n",
      "Successfully installed beartype-0.14.1 better-abc-0.0.3 einops-0.8.0 fancy-einsum-0.0.3 jaxtyping-0.2.36 transformer_lens-2.9.1\n",
      "Looking in indexes: https://pypi.org/simple/\n",
      "Collecting bitsandbytes\n",
      "  Downloading bitsandbytes-0.44.1-py3-none-manylinux_2_24_x86_64.whl.metadata (3.5 kB)\n",
      "Requirement already satisfied: torch in /opt/conda/lib/python3.10/site-packages (from bitsandbytes) (2.4.0)\n",
      "Requirement already satisfied: numpy in /opt/conda/lib/python3.10/site-packages (from bitsandbytes) (1.26.4)\n",
      "Requirement already satisfied: filelock in /opt/conda/lib/python3.10/site-packages (from torch->bitsandbytes) (3.15.1)\n",
      "Requirement already satisfied: typing-extensions>=4.8.0 in /opt/conda/lib/python3.10/site-packages (from torch->bitsandbytes) (4.12.2)\n",
      "Requirement already satisfied: sympy in /opt/conda/lib/python3.10/site-packages (from torch->bitsandbytes) (1.13.3)\n",
      "Requirement already satisfied: networkx in /opt/conda/lib/python3.10/site-packages (from torch->bitsandbytes) (3.3)\n",
      "Requirement already satisfied: jinja2 in /opt/conda/lib/python3.10/site-packages (from torch->bitsandbytes) (3.1.4)\n",
      "Requirement already satisfied: fsspec in /opt/conda/lib/python3.10/site-packages (from torch->bitsandbytes) (2024.6.1)\n",
      "Requirement already satisfied: MarkupSafe>=2.0 in /opt/conda/lib/python3.10/site-packages (from jinja2->torch->bitsandbytes) (2.1.5)\n",
      "Requirement already satisfied: mpmath<1.4,>=1.1.0 in /opt/conda/lib/python3.10/site-packages (from sympy->torch->bitsandbytes) (1.3.0)\n",
      "Downloading bitsandbytes-0.44.1-py3-none-manylinux_2_24_x86_64.whl (122.4 MB)\n",
      "\u001b[2K   \u001b[90m━━━━━━━━━━━━━━━━━━━━━━━━━━━━━━━━━━━━━━━━\u001b[0m \u001b[32m122.4/122.4 MB\u001b[0m \u001b[31m14.3 MB/s\u001b[0m eta \u001b[36m0:00:00\u001b[0m00:01\u001b[0m00:01\u001b[0m\n",
      "\u001b[?25hInstalling collected packages: bitsandbytes\n",
      "Successfully installed bitsandbytes-0.44.1\n"
     ]
    }
   ],
   "source": [
    "!pip install torch transformers transformer_lens \n",
    "!pip install -i https://pypi.org/simple/ bitsandbytes\n",
    "\n",
    "import torch\n",
    "from transformers import AutoTokenizer, AutoModelForCausalLM, BitsAndBytesConfig"
   ]
  },
  {
   "cell_type": "code",
   "execution_count": null,
   "metadata": {
    "execution": {
     "iopub.execute_input": "2024-11-25T11:34:16.584534Z",
     "iopub.status.busy": "2024-11-25T11:34:16.584025Z",
     "iopub.status.idle": "2024-11-25T11:34:16.588593Z",
     "shell.execute_reply": "2024-11-25T11:34:16.587700Z",
     "shell.execute_reply.started": "2024-11-25T11:34:16.584493Z"
    },
    "trusted": true
   },
   "outputs": [],
   "source": [
    "HF_token =\"<token>\""
   ]
  },
  {
   "cell_type": "code",
   "execution_count": 18,
   "metadata": {
    "execution": {
     "iopub.execute_input": "2024-11-25T11:54:47.272257Z",
     "iopub.status.busy": "2024-11-25T11:54:47.271880Z",
     "iopub.status.idle": "2024-11-25T11:54:49.359385Z",
     "shell.execute_reply": "2024-11-25T11:54:49.358408Z",
     "shell.execute_reply.started": "2024-11-25T11:54:47.272228Z"
    },
    "trusted": true
   },
   "outputs": [
    {
     "data": {
      "application/vnd.jupyter.widget-view+json": {
       "model_id": "61f99023650d47c788e8ed03bc8fbbaa",
       "version_major": 2,
       "version_minor": 0
      },
      "text/plain": [
       "tokenizer_config.json:   0%|          | 0.00/55.4k [00:00<?, ?B/s]"
      ]
     },
     "metadata": {},
     "output_type": "display_data"
    },
    {
     "data": {
      "application/vnd.jupyter.widget-view+json": {
       "model_id": "2944fc4f8e9b45efb78580ed12616708",
       "version_major": 2,
       "version_minor": 0
      },
      "text/plain": [
       "tokenizer.json:   0%|          | 0.00/9.09M [00:00<?, ?B/s]"
      ]
     },
     "metadata": {},
     "output_type": "display_data"
    },
    {
     "data": {
      "application/vnd.jupyter.widget-view+json": {
       "model_id": "66373e1a5eff473c9d12f2ae58665798",
       "version_major": 2,
       "version_minor": 0
      },
      "text/plain": [
       "special_tokens_map.json:   0%|          | 0.00/296 [00:00<?, ?B/s]"
      ]
     },
     "metadata": {},
     "output_type": "display_data"
    }
   ],
   "source": [
    "use_8bit = True\n",
    "\n",
    "bnb_config = BitsAndBytesConfig(\n",
    "    load_in_8bit=use_8bit,\n",
    "    llm_int8_threshold=6.0,\n",
    "    llm_int8_has_fp16_weight=False,\n",
    ")\n",
    "\n",
    "# Load the Llama 3 8B model and tokenizer\n",
    "model_name = \"meta-llama/Meta-Llama-3.1-8B-Instruct\"  \n",
    "tokenizer = AutoTokenizer.from_pretrained(model_name, token=HF_token)\n",
    "tokenizer.pad_token = tokenizer.eos_token"
   ]
  },
  {
   "cell_type": "code",
   "execution_count": 77,
   "metadata": {
    "execution": {
     "iopub.execute_input": "2024-11-25T13:44:23.883614Z",
     "iopub.status.busy": "2024-11-25T13:44:23.882763Z",
     "iopub.status.idle": "2024-11-25T13:51:39.164801Z",
     "shell.execute_reply": "2024-11-25T13:51:39.164048Z",
     "shell.execute_reply.started": "2024-11-25T13:44:23.883579Z"
    },
    "trusted": true
   },
   "outputs": [
    {
     "data": {
      "application/vnd.jupyter.widget-view+json": {
       "model_id": "afdd120e6a7440e8a2983b4994978c3b",
       "version_major": 2,
       "version_minor": 0
      },
      "text/plain": [
       "config.json:   0%|          | 0.00/855 [00:00<?, ?B/s]"
      ]
     },
     "metadata": {},
     "output_type": "display_data"
    },
    {
     "data": {
      "application/vnd.jupyter.widget-view+json": {
       "model_id": "5f025c7808b4422fbb6630ecc36ed5c7",
       "version_major": 2,
       "version_minor": 0
      },
      "text/plain": [
       "model.safetensors.index.json:   0%|          | 0.00/23.9k [00:00<?, ?B/s]"
      ]
     },
     "metadata": {},
     "output_type": "display_data"
    },
    {
     "data": {
      "application/vnd.jupyter.widget-view+json": {
       "model_id": "714234ec55fc4abbae7783b6254a06fe",
       "version_major": 2,
       "version_minor": 0
      },
      "text/plain": [
       "Downloading shards:   0%|          | 0/4 [00:00<?, ?it/s]"
      ]
     },
     "metadata": {},
     "output_type": "display_data"
    },
    {
     "data": {
      "application/vnd.jupyter.widget-view+json": {
       "model_id": "9d96fd3cd3a94d79933b71bf7a74845a",
       "version_major": 2,
       "version_minor": 0
      },
      "text/plain": [
       "model-00001-of-00004.safetensors:   0%|          | 0.00/4.98G [00:00<?, ?B/s]"
      ]
     },
     "metadata": {},
     "output_type": "display_data"
    },
    {
     "data": {
      "application/vnd.jupyter.widget-view+json": {
       "model_id": "7c6265500cc647db94e145b2bb45017d",
       "version_major": 2,
       "version_minor": 0
      },
      "text/plain": [
       "model-00002-of-00004.safetensors:   0%|          | 0.00/5.00G [00:00<?, ?B/s]"
      ]
     },
     "metadata": {},
     "output_type": "display_data"
    },
    {
     "data": {
      "application/vnd.jupyter.widget-view+json": {
       "model_id": "b4002f4b7991472586dafd1d72f32aed",
       "version_major": 2,
       "version_minor": 0
      },
      "text/plain": [
       "model-00003-of-00004.safetensors:   0%|          | 0.00/4.92G [00:00<?, ?B/s]"
      ]
     },
     "metadata": {},
     "output_type": "display_data"
    },
    {
     "data": {
      "application/vnd.jupyter.widget-view+json": {
       "model_id": "af91621e89704c73a1b1323365004484",
       "version_major": 2,
       "version_minor": 0
      },
      "text/plain": [
       "model-00004-of-00004.safetensors:   0%|          | 0.00/1.17G [00:00<?, ?B/s]"
      ]
     },
     "metadata": {},
     "output_type": "display_data"
    },
    {
     "data": {
      "application/vnd.jupyter.widget-view+json": {
       "model_id": "f72d0f3ce7e44ac8b4aaa29be9919752",
       "version_major": 2,
       "version_minor": 0
      },
      "text/plain": [
       "Loading checkpoint shards:   0%|          | 0/4 [00:00<?, ?it/s]"
      ]
     },
     "metadata": {},
     "output_type": "display_data"
    },
    {
     "data": {
      "application/vnd.jupyter.widget-view+json": {
       "model_id": "013f29c90f0f4ad29d6ffe619375bce1",
       "version_major": 2,
       "version_minor": 0
      },
      "text/plain": [
       "generation_config.json:   0%|          | 0.00/184 [00:00<?, ?B/s]"
      ]
     },
     "metadata": {},
     "output_type": "display_data"
    }
   ],
   "source": [
    "llama_model = AutoModelForCausalLM.from_pretrained(model_name,\n",
    "                                                   quantization_config=bnb_config,\n",
    "                                                   device_map=\"auto\",\n",
    "                                                   token=HF_token)"
   ]
  },
  {
   "cell_type": "code",
   "execution_count": 14,
   "metadata": {
    "collapsed": true,
    "execution": {
     "iopub.execute_input": "2024-11-25T11:45:15.240105Z",
     "iopub.status.busy": "2024-11-25T11:45:15.239749Z",
     "iopub.status.idle": "2024-11-25T11:45:23.464988Z",
     "shell.execute_reply": "2024-11-25T11:45:23.463751Z",
     "shell.execute_reply.started": "2024-11-25T11:45:15.240074Z"
    },
    "jupyter": {
     "outputs_hidden": true
    },
    "trusted": true
   },
   "outputs": [
    {
     "name": "stdout",
     "output_type": "stream",
     "text": [
      "Requirement already satisfied: sentence-transformers in /opt/conda/lib/python3.10/site-packages (3.3.1)\n",
      "Requirement already satisfied: transformers<5.0.0,>=4.41.0 in /opt/conda/lib/python3.10/site-packages (from sentence-transformers) (4.45.1)\n",
      "Requirement already satisfied: tqdm in /opt/conda/lib/python3.10/site-packages (from sentence-transformers) (4.66.4)\n",
      "Requirement already satisfied: torch>=1.11.0 in /opt/conda/lib/python3.10/site-packages (from sentence-transformers) (2.4.0)\n",
      "Requirement already satisfied: scikit-learn in /opt/conda/lib/python3.10/site-packages (from sentence-transformers) (1.2.2)\n",
      "Requirement already satisfied: scipy in /opt/conda/lib/python3.10/site-packages (from sentence-transformers) (1.14.1)\n",
      "Requirement already satisfied: huggingface-hub>=0.20.0 in /opt/conda/lib/python3.10/site-packages (from sentence-transformers) (0.25.1)\n",
      "Requirement already satisfied: Pillow in /opt/conda/lib/python3.10/site-packages (from sentence-transformers) (10.3.0)\n",
      "Requirement already satisfied: filelock in /opt/conda/lib/python3.10/site-packages (from huggingface-hub>=0.20.0->sentence-transformers) (3.15.1)\n",
      "Requirement already satisfied: fsspec>=2023.5.0 in /opt/conda/lib/python3.10/site-packages (from huggingface-hub>=0.20.0->sentence-transformers) (2024.6.1)\n",
      "Requirement already satisfied: packaging>=20.9 in /opt/conda/lib/python3.10/site-packages (from huggingface-hub>=0.20.0->sentence-transformers) (21.3)\n",
      "Requirement already satisfied: pyyaml>=5.1 in /opt/conda/lib/python3.10/site-packages (from huggingface-hub>=0.20.0->sentence-transformers) (6.0.2)\n",
      "Requirement already satisfied: requests in /opt/conda/lib/python3.10/site-packages (from huggingface-hub>=0.20.0->sentence-transformers) (2.32.3)\n",
      "Requirement already satisfied: typing-extensions>=3.7.4.3 in /opt/conda/lib/python3.10/site-packages (from huggingface-hub>=0.20.0->sentence-transformers) (4.12.2)\n",
      "Requirement already satisfied: sympy in /opt/conda/lib/python3.10/site-packages (from torch>=1.11.0->sentence-transformers) (1.13.3)\n",
      "Requirement already satisfied: networkx in /opt/conda/lib/python3.10/site-packages (from torch>=1.11.0->sentence-transformers) (3.3)\n",
      "Requirement already satisfied: jinja2 in /opt/conda/lib/python3.10/site-packages (from torch>=1.11.0->sentence-transformers) (3.1.4)\n",
      "Requirement already satisfied: numpy>=1.17 in /opt/conda/lib/python3.10/site-packages (from transformers<5.0.0,>=4.41.0->sentence-transformers) (1.26.4)\n",
      "Requirement already satisfied: regex!=2019.12.17 in /opt/conda/lib/python3.10/site-packages (from transformers<5.0.0,>=4.41.0->sentence-transformers) (2024.5.15)\n",
      "Requirement already satisfied: safetensors>=0.4.1 in /opt/conda/lib/python3.10/site-packages (from transformers<5.0.0,>=4.41.0->sentence-transformers) (0.4.5)\n",
      "Requirement already satisfied: tokenizers<0.21,>=0.20 in /opt/conda/lib/python3.10/site-packages (from transformers<5.0.0,>=4.41.0->sentence-transformers) (0.20.0)\n",
      "Requirement already satisfied: joblib>=1.1.1 in /opt/conda/lib/python3.10/site-packages (from scikit-learn->sentence-transformers) (1.4.2)\n",
      "Requirement already satisfied: threadpoolctl>=2.0.0 in /opt/conda/lib/python3.10/site-packages (from scikit-learn->sentence-transformers) (3.5.0)\n",
      "Requirement already satisfied: pyparsing!=3.0.5,>=2.0.2 in /opt/conda/lib/python3.10/site-packages (from packaging>=20.9->huggingface-hub>=0.20.0->sentence-transformers) (3.1.2)\n",
      "Requirement already satisfied: MarkupSafe>=2.0 in /opt/conda/lib/python3.10/site-packages (from jinja2->torch>=1.11.0->sentence-transformers) (2.1.5)\n",
      "Requirement already satisfied: charset-normalizer<4,>=2 in /opt/conda/lib/python3.10/site-packages (from requests->huggingface-hub>=0.20.0->sentence-transformers) (3.3.2)\n",
      "Requirement already satisfied: idna<4,>=2.5 in /opt/conda/lib/python3.10/site-packages (from requests->huggingface-hub>=0.20.0->sentence-transformers) (3.7)\n",
      "Requirement already satisfied: urllib3<3,>=1.21.1 in /opt/conda/lib/python3.10/site-packages (from requests->huggingface-hub>=0.20.0->sentence-transformers) (1.26.18)\n",
      "Requirement already satisfied: certifi>=2017.4.17 in /opt/conda/lib/python3.10/site-packages (from requests->huggingface-hub>=0.20.0->sentence-transformers) (2024.8.30)\n",
      "Requirement already satisfied: mpmath<1.4,>=1.1.0 in /opt/conda/lib/python3.10/site-packages (from sympy->torch>=1.11.0->sentence-transformers) (1.3.0)\n"
     ]
    }
   ],
   "source": [
    "!pip install sentence-transformers"
   ]
  },
  {
   "cell_type": "code",
   "execution_count": 61,
   "metadata": {
    "execution": {
     "iopub.execute_input": "2024-11-25T13:21:51.141202Z",
     "iopub.status.busy": "2024-11-25T13:21:51.140492Z",
     "iopub.status.idle": "2024-11-25T13:21:51.151978Z",
     "shell.execute_reply": "2024-11-25T13:21:51.151137Z",
     "shell.execute_reply.started": "2024-11-25T13:21:51.141168Z"
    },
    "trusted": true
   },
   "outputs": [],
   "source": [
    "from typing import List, Dict\n",
    "from sentence_transformers import SentenceTransformer\n",
    "from sklearn.metrics.pairwise import cosine_similarity\n",
    "from transformers import AutoTokenizer\n",
    "import nltk\n",
    "from nltk.tokenize import sent_tokenize\n",
    "import pandas as pd\n",
    "\n",
    "class DocumentEmbeddings:\n",
    "    def __init__(self, model_name: str = 'all-MiniLM-L6-v2'):\n",
    "        \"\"\"\n",
    "        Initialize the document embeddings generator.\n",
    "        \n",
    "        Args:\n",
    "            model_name: Name of the sentence-transformers model to use\n",
    "        \"\"\"\n",
    "        self.model = SentenceTransformer(model_name)\n",
    "        self.embeddings_dict = {}\n",
    "        self.document_chunks = {}\n",
    "        \n",
    "        try:\n",
    "            nltk.data.find('tokenizers/punkt')\n",
    "        except LookupError:\n",
    "            nltk.download('punkt')\n",
    "\n",
    "    def chunk_document(self, text: str, chunk_size: int = 15) -> List[str]:\n",
    "        \"\"\"\n",
    "        Split document into smaller chunks for better embedding.\n",
    "        \n",
    "        Args:\n",
    "            text: Document text to split\n",
    "            chunk_size: Number of sentences per chunk\n",
    "            \n",
    "        Returns:\n",
    "            List of text chunks\n",
    "        \"\"\"\n",
    "        sentences = sent_tokenize(text)\n",
    "        chunks = []\n",
    "        \n",
    "        for i in range(0, len(sentences), chunk_size):\n",
    "            chunk = ' '.join(sentences[i:i + chunk_size])\n",
    "            chunks.append(chunk)\n",
    "            \n",
    "        return chunks\n",
    "\n",
    "    def generate_embeddings(self, documents: Dict[str, str]) -> Dict[str, np.ndarray]:\n",
    "        \"\"\"\n",
    "        Generate embeddings for multiple documents.\n",
    "        \n",
    "        Args:\n",
    "            documents: Dictionary of document_id: document_text\n",
    "            \n",
    "        Returns:\n",
    "            Dictionary of document_id: embeddings\n",
    "        \"\"\"\n",
    "        for doc_id, text in documents.items():\n",
    "            # Chunk the document\n",
    "            chunks = self.chunk_document(text)\n",
    "            self.document_chunks[doc_id] = chunks\n",
    "            \n",
    "            # Generate embeddings for each chunk\n",
    "            chunk_embeddings = self.model.encode(chunks)\n",
    "            self.embeddings_dict[doc_id] = chunk_embeddings\n",
    "            \n",
    "        return self.embeddings_dict\n",
    "\n",
    "    def find_similar_chunks(self, query: str, top_k: int = 5) -> List[Dict]:\n",
    "        \"\"\"\n",
    "        Find most similar document chunks to a query.\n",
    "        \n",
    "        Args:\n",
    "            query: Search query\n",
    "            top_k: Number of top results to return\n",
    "            \n",
    "        Returns:\n",
    "            List of dictionaries containing similar chunks and their scores\n",
    "        \"\"\"\n",
    "        query_embedding = self.model.encode([query])[0]\n",
    "        \n",
    "        all_similarities = []\n",
    "        for doc_id, embeddings in self.embeddings_dict.items():\n",
    "            similarities = cosine_similarity([query_embedding], embeddings)[0]\n",
    "            \n",
    "            for chunk_idx, score in enumerate(similarities):\n",
    "                all_similarities.append({\n",
    "                    'doc_id': doc_id,\n",
    "                    'chunk_idx': chunk_idx,\n",
    "                    'chunk_text': self.document_chunks[doc_id][chunk_idx],\n",
    "                    'similarity_score': score\n",
    "                })\n",
    "        \n",
    "        # Sort by similarity score and get top_k results\n",
    "        all_similarities.sort(key=lambda x: x['similarity_score'], reverse=True)\n",
    "        return all_similarities[:top_k]"
   ]
  },
  {
   "cell_type": "code",
   "execution_count": 38,
   "metadata": {
    "execution": {
     "iopub.execute_input": "2024-11-25T12:13:49.963478Z",
     "iopub.status.busy": "2024-11-25T12:13:49.962643Z",
     "iopub.status.idle": "2024-11-25T12:13:49.968520Z",
     "shell.execute_reply": "2024-11-25T12:13:49.967617Z",
     "shell.execute_reply.started": "2024-11-25T12:13:49.963448Z"
    },
    "trusted": true
   },
   "outputs": [],
   "source": [
    "# # Example usage\n",
    "# def main():\n",
    "#     # Sample documents\n",
    "#     documents = {\n",
    "#         \"doc1\": \"Machine learning is a subset of artificial intelligence. \" +\n",
    "#                 \"It focuses on the development of computer programs that can \" +\n",
    "#                 \"access data and use it to learn for themselves.\",\n",
    "#         \"doc2\": \"Deep learning is part of machine learning methods. \" +\n",
    "#                 \"It's based on artificial neural networks that learn from large \" +\n",
    "#                 \"amounts of data. Deep learning is making major advances in \" +\n",
    "#                 \"solving problems that have resisted best attempts of the \" +\n",
    "#                 \"artificial intelligence community for many years.\"\n",
    "#     }\n",
    "    \n",
    "#     # Initialize and generate embeddings\n",
    "#     doc_embeddings = DocumentEmbeddings()\n",
    "#     doc_embeddings.generate_embeddings(documents)\n",
    "    \n",
    "#     # Initialize RAG system\n",
    "#     rag_system = RAGSystem(doc_embeddings)\n",
    "    \n",
    "#     # Example query\n",
    "#     query = \"What is deep learning?\"\n",
    "#     response = rag_system.generate_response(query)\n",
    "    \n",
    "#     print(f\"Query: {query}\")\n",
    "#     print(f\"Response: {response}\")"
   ]
  },
  {
   "cell_type": "code",
   "execution_count": 62,
   "metadata": {
    "execution": {
     "iopub.execute_input": "2024-11-25T13:21:55.597837Z",
     "iopub.status.busy": "2024-11-25T13:21:55.597113Z",
     "iopub.status.idle": "2024-11-25T13:21:55.602188Z",
     "shell.execute_reply": "2024-11-25T13:21:55.601294Z",
     "shell.execute_reply.started": "2024-11-25T13:21:55.597805Z"
    },
    "trusted": true
   },
   "outputs": [],
   "source": [
    "documents={}\n",
    "for i in range(5):\n",
    "    documents[\"env\"+str(i)]=environment_list[i]\n",
    "for i in range(5):\n",
    "    documents[\"dev\"+str(i)]=router_list[i]"
   ]
  },
  {
   "cell_type": "code",
   "execution_count": 63,
   "metadata": {
    "execution": {
     "iopub.execute_input": "2024-11-25T13:21:56.476152Z",
     "iopub.status.busy": "2024-11-25T13:21:56.475838Z",
     "iopub.status.idle": "2024-11-25T13:21:56.481552Z",
     "shell.execute_reply": "2024-11-25T13:21:56.480708Z",
     "shell.execute_reply.started": "2024-11-25T13:21:56.476127Z"
    },
    "trusted": true
   },
   "outputs": [
    {
     "data": {
      "text/plain": [
       "dict_keys(['env0', 'env1', 'env2', 'env3', 'env4', 'dev0', 'dev1', 'dev2', 'dev3', 'dev4'])"
      ]
     },
     "execution_count": 63,
     "metadata": {},
     "output_type": "execute_result"
    }
   ],
   "source": [
    "documents.keys()"
   ]
  },
  {
   "cell_type": "code",
   "execution_count": 64,
   "metadata": {
    "collapsed": true,
    "execution": {
     "iopub.execute_input": "2024-11-25T13:21:58.037388Z",
     "iopub.status.busy": "2024-11-25T13:21:58.036552Z",
     "iopub.status.idle": "2024-11-25T13:21:59.325331Z",
     "shell.execute_reply": "2024-11-25T13:21:59.324542Z",
     "shell.execute_reply.started": "2024-11-25T13:21:58.037353Z"
    },
    "jupyter": {
     "outputs_hidden": true
    },
    "trusted": true
   },
   "outputs": [
    {
     "name": "stderr",
     "output_type": "stream",
     "text": [
      "/opt/conda/lib/python3.10/site-packages/transformers/tokenization_utils_base.py:1617: FutureWarning: `clean_up_tokenization_spaces` was not set. It will be set to `True` by default. This behavior will be deprecated in transformers v4.45, and will be then set to `False` by default. For more details check this issue: https://github.com/huggingface/transformers/issues/31884\n",
      "  warnings.warn(\n"
     ]
    },
    {
     "data": {
      "application/vnd.jupyter.widget-view+json": {
       "model_id": "645e8b97e4174770bb101263b51396d5",
       "version_major": 2,
       "version_minor": 0
      },
      "text/plain": [
       "Batches:   0%|          | 0/1 [00:00<?, ?it/s]"
      ]
     },
     "metadata": {},
     "output_type": "display_data"
    },
    {
     "data": {
      "application/vnd.jupyter.widget-view+json": {
       "model_id": "21516d1b94584baea376ace13afdb67f",
       "version_major": 2,
       "version_minor": 0
      },
      "text/plain": [
       "Batches:   0%|          | 0/1 [00:00<?, ?it/s]"
      ]
     },
     "metadata": {},
     "output_type": "display_data"
    },
    {
     "data": {
      "application/vnd.jupyter.widget-view+json": {
       "model_id": "b721f06eadfb4d7d86494f92b0216741",
       "version_major": 2,
       "version_minor": 0
      },
      "text/plain": [
       "Batches:   0%|          | 0/1 [00:00<?, ?it/s]"
      ]
     },
     "metadata": {},
     "output_type": "display_data"
    },
    {
     "data": {
      "application/vnd.jupyter.widget-view+json": {
       "model_id": "55843dfdd25d4fe9a39aed4f50e51b76",
       "version_major": 2,
       "version_minor": 0
      },
      "text/plain": [
       "Batches:   0%|          | 0/1 [00:00<?, ?it/s]"
      ]
     },
     "metadata": {},
     "output_type": "display_data"
    },
    {
     "data": {
      "application/vnd.jupyter.widget-view+json": {
       "model_id": "cf7fed8ff8734957be3f82912685e448",
       "version_major": 2,
       "version_minor": 0
      },
      "text/plain": [
       "Batches:   0%|          | 0/1 [00:00<?, ?it/s]"
      ]
     },
     "metadata": {},
     "output_type": "display_data"
    },
    {
     "data": {
      "application/vnd.jupyter.widget-view+json": {
       "model_id": "5be3a3d5c981490eb498cefc8ff004f4",
       "version_major": 2,
       "version_minor": 0
      },
      "text/plain": [
       "Batches:   0%|          | 0/1 [00:00<?, ?it/s]"
      ]
     },
     "metadata": {},
     "output_type": "display_data"
    },
    {
     "data": {
      "application/vnd.jupyter.widget-view+json": {
       "model_id": "2307e3a373ec4b989bfea7f621c8e5ca",
       "version_major": 2,
       "version_minor": 0
      },
      "text/plain": [
       "Batches:   0%|          | 0/1 [00:00<?, ?it/s]"
      ]
     },
     "metadata": {},
     "output_type": "display_data"
    },
    {
     "data": {
      "application/vnd.jupyter.widget-view+json": {
       "model_id": "6ef924158c7f4c2b93f7a706c32c8a0a",
       "version_major": 2,
       "version_minor": 0
      },
      "text/plain": [
       "Batches:   0%|          | 0/1 [00:00<?, ?it/s]"
      ]
     },
     "metadata": {},
     "output_type": "display_data"
    },
    {
     "data": {
      "application/vnd.jupyter.widget-view+json": {
       "model_id": "4225e143c6194f7f883d7ce5a7b2d17e",
       "version_major": 2,
       "version_minor": 0
      },
      "text/plain": [
       "Batches:   0%|          | 0/1 [00:00<?, ?it/s]"
      ]
     },
     "metadata": {},
     "output_type": "display_data"
    },
    {
     "data": {
      "application/vnd.jupyter.widget-view+json": {
       "model_id": "7da950bba49b4aac96703041cc8e9b8d",
       "version_major": 2,
       "version_minor": 0
      },
      "text/plain": [
       "Batches:   0%|          | 0/1 [00:00<?, ?it/s]"
      ]
     },
     "metadata": {},
     "output_type": "display_data"
    },
    {
     "data": {
      "text/plain": [
       "{'env0': array([[ 0.01186392, -0.01257293,  0.04572769, ...,  0.05412174,\n",
       "         -0.12504448,  0.05123366],\n",
       "        [ 0.06494881, -0.05171286,  0.04129579, ..., -0.00701191,\n",
       "         -0.1141877 ,  0.00706542],\n",
       "        [ 0.03019605, -0.04403741,  0.01393043, ...,  0.04884437,\n",
       "         -0.07943229,  0.01792042]], dtype=float32),\n",
       " 'env1': array([[ 5.18013276e-02, -1.78809427e-02,  2.86376700e-02,\n",
       "         -1.78852677e-03,  7.55001698e-03, -3.59294228e-02,\n",
       "          3.95070203e-02,  1.83106083e-02,  1.21865850e-02,\n",
       "         -8.15588422e-03, -3.96605618e-02,  1.13994433e-02,\n",
       "          6.48200586e-02,  2.20637955e-02,  6.89650849e-02,\n",
       "         -5.85341603e-02,  1.57275036e-01, -3.78896408e-02,\n",
       "         -3.70444655e-02,  6.25212714e-02,  8.98933504e-03,\n",
       "         -8.27058870e-03, -1.41291972e-02,  1.00130606e-02,\n",
       "          2.39569619e-02, -4.19393480e-02,  3.77831459e-02,\n",
       "          4.16210964e-02, -2.55501270e-02, -2.08837781e-02,\n",
       "          5.79884313e-02,  6.17746171e-03,  5.30892573e-02,\n",
       "         -2.32010707e-02, -2.98458594e-03, -1.67897139e-02,\n",
       "         -2.29336806e-02, -3.56401131e-02, -3.87626290e-02,\n",
       "          4.07196283e-02, -5.04591502e-02,  1.18194502e-02,\n",
       "          7.38069862e-02,  7.03231916e-02, -3.57261375e-02,\n",
       "         -9.49967187e-03, -9.50893536e-02, -4.52326797e-03,\n",
       "         -6.00194111e-02, -2.03804765e-02,  5.25552630e-02,\n",
       "          3.63103859e-02,  4.31736708e-02,  1.09777629e-01,\n",
       "          1.40449004e-02,  8.02447088e-03, -3.02917860e-03,\n",
       "         -1.51268649e-03, -3.51341143e-02,  1.88786071e-02,\n",
       "          3.49598713e-02, -3.31289396e-02, -5.13831936e-02,\n",
       "          7.01612188e-03, -2.91617475e-02, -1.49580315e-02,\n",
       "         -4.39453647e-02,  1.01058885e-01,  3.94428521e-02,\n",
       "          1.22252991e-02, -3.94455828e-02,  2.88807452e-02,\n",
       "         -3.28017808e-02, -6.15265965e-02,  7.66875893e-02,\n",
       "         -1.74362939e-02, -2.57120412e-02, -4.29860055e-02,\n",
       "          1.13880972e-03,  2.57502478e-02,  2.01019030e-02,\n",
       "          4.01245765e-02, -4.41317223e-02, -4.19174880e-02,\n",
       "         -9.34689213e-03, -3.81195582e-02, -2.86507010e-02,\n",
       "          6.40293062e-02, -9.61643904e-02, -5.90924248e-02,\n",
       "         -7.73598775e-02,  9.12943706e-02, -7.64300898e-02,\n",
       "          2.33380552e-02, -6.07199129e-03,  6.75110519e-02,\n",
       "         -5.69343157e-02, -1.09877959e-01,  5.90037219e-02,\n",
       "          6.68313503e-02, -2.89306481e-04,  6.69368962e-03,\n",
       "          2.13318858e-02, -2.14999001e-02,  8.27610726e-04,\n",
       "         -9.15239155e-02,  2.44913936e-05,  1.19579345e-01,\n",
       "          1.98484305e-02,  5.91337942e-02, -2.78507955e-02,\n",
       "          2.23410148e-02, -3.23489159e-02,  3.63552161e-02,\n",
       "         -7.15522701e-03,  5.54679073e-02, -6.55973982e-03,\n",
       "          2.26691365e-02,  1.85773950e-02,  7.95553178e-02,\n",
       "         -3.36905122e-02, -3.17956172e-02,  3.43710631e-02,\n",
       "         -1.10778185e-02, -2.27450728e-02,  6.93904515e-03,\n",
       "          2.58403029e-02,  6.69428513e-34, -8.49205926e-02,\n",
       "         -4.71571535e-02, -3.02185379e-02,  4.79678214e-02,\n",
       "          1.38596147e-01,  5.55520738e-03, -3.95679735e-02,\n",
       "         -1.80501658e-02,  8.34074244e-02,  9.16790497e-03,\n",
       "         -9.09268681e-04, -1.17127476e-02, -8.60234201e-02,\n",
       "          1.63316876e-02,  8.33475590e-02, -4.60281670e-02,\n",
       "          2.34479376e-04,  1.08123474e-01, -8.31064135e-02,\n",
       "          2.94641294e-02, -2.10804008e-02, -5.85326627e-02,\n",
       "         -3.76016833e-02,  7.42128640e-02,  4.85122390e-02,\n",
       "          5.08374013e-02,  2.69289804e-03, -3.40422094e-02,\n",
       "         -1.33419840e-03,  3.11951656e-02,  1.61563493e-02,\n",
       "         -9.89490002e-03, -5.11062481e-02, -2.30700802e-02,\n",
       "         -7.76552083e-03,  3.04814726e-02, -8.36964175e-02,\n",
       "         -2.30347179e-02, -2.35184953e-02, -9.96041372e-02,\n",
       "         -1.45087123e-01, -4.86889202e-03,  4.63798270e-03,\n",
       "         -5.51233906e-03, -5.76695092e-02, -1.55811571e-03,\n",
       "          5.54086082e-02, -4.00420129e-02, -1.01680424e-04,\n",
       "          3.14651668e-04, -3.66328470e-02,  4.46554944e-02,\n",
       "         -2.27668174e-02,  6.08384609e-02,  4.77511398e-02,\n",
       "         -8.57953876e-02,  8.72894600e-02,  2.78485171e-03,\n",
       "          4.42764424e-02,  3.81774940e-02,  1.48644224e-02,\n",
       "          5.62186725e-02,  2.58829221e-02, -2.45937183e-02,\n",
       "          2.54521184e-02, -7.67087787e-02, -6.22101016e-02,\n",
       "         -7.05890656e-02,  2.31434088e-02,  2.69657262e-02,\n",
       "          4.94901054e-02,  7.85705540e-03, -1.23438332e-02,\n",
       "          5.45943417e-02,  2.93168742e-02, -2.06270721e-02,\n",
       "         -3.90907750e-03,  2.59187142e-03, -8.74334294e-03,\n",
       "         -5.58393039e-02, -9.90300477e-02,  8.06904212e-02,\n",
       "         -2.96312813e-02, -4.60036136e-02, -3.81703340e-02,\n",
       "         -6.28665984e-02,  2.49023382e-02, -6.28137812e-02,\n",
       "         -1.38997018e-01,  5.81082404e-02,  1.32253934e-02,\n",
       "          1.27559491e-02, -6.05121553e-02,  6.34625778e-02,\n",
       "         -6.88926131e-02, -2.16323360e-33, -4.85028401e-02,\n",
       "          1.29478902e-01,  1.44847548e-02, -4.43105474e-02,\n",
       "         -4.69515799e-05, -4.50704433e-02,  1.29988426e-02,\n",
       "          3.85899805e-02,  7.81027377e-02,  8.68827384e-03,\n",
       "         -6.24256805e-02,  6.06559850e-02, -6.66660722e-04,\n",
       "          5.85059896e-02,  6.88581243e-02, -5.55154793e-02,\n",
       "          1.01392619e-01, -7.98713192e-02, -1.96520425e-03,\n",
       "          1.51912794e-02,  5.08112796e-02,  2.98615117e-02,\n",
       "         -9.76637229e-02, -4.18876149e-02, -5.33695612e-03,\n",
       "         -1.85029376e-02,  5.57350286e-04,  2.07240577e-03,\n",
       "          2.25171316e-02, -2.81569851e-03, -3.11654601e-02,\n",
       "         -1.39394021e-02, -4.37917039e-02,  2.88527533e-02,\n",
       "          7.55191445e-02, -4.20839787e-02,  1.11276675e-02,\n",
       "          9.75934565e-02, -9.53448936e-02, -5.25907949e-02,\n",
       "          1.11462831e-01,  2.51815282e-02, -1.29826665e-02,\n",
       "          5.38958656e-03,  7.04908511e-03, -7.89640285e-03,\n",
       "         -7.29631931e-02, -6.17263652e-02, -4.41131778e-02,\n",
       "         -6.70406297e-02,  2.50714296e-03, -4.41563316e-02,\n",
       "         -2.98194736e-02,  1.49328625e-02, -2.40855152e-03,\n",
       "          6.94023296e-02, -1.56450998e-02, -4.72552143e-02,\n",
       "          1.09777069e-02,  2.09549349e-02,  2.09785774e-02,\n",
       "         -3.72403115e-02, -4.65361448e-03,  1.00904360e-01,\n",
       "         -5.50134107e-02,  1.57230645e-02, -1.54643049e-02,\n",
       "         -4.36144741e-03, -2.94535141e-02,  1.15698487e-01,\n",
       "         -4.85028233e-03,  4.80279811e-02,  5.53363711e-02,\n",
       "          5.21277450e-02, -7.34615978e-03, -3.20522115e-02,\n",
       "          2.79054251e-02,  5.37641160e-02,  8.46494641e-03,\n",
       "         -4.75996733e-02, -8.54582861e-02,  9.85836908e-02,\n",
       "         -4.61505055e-02, -9.12027061e-02,  3.64097059e-02,\n",
       "         -4.61124592e-02,  2.55562440e-02, -1.81698904e-03,\n",
       "         -6.59292266e-02,  1.92802530e-02,  2.21931785e-02,\n",
       "          7.05845654e-02,  6.51762879e-04, -6.07875437e-02,\n",
       "         -9.29491222e-03, -5.84326649e-08, -1.11607902e-01,\n",
       "         -7.49940053e-03,  1.98642258e-03, -1.09067503e-02,\n",
       "         -4.30385731e-02, -5.82435913e-02,  9.00919139e-02,\n",
       "         -5.41808978e-02,  2.40530949e-02,  5.70686720e-02,\n",
       "          5.52143492e-02, -1.63388122e-02,  3.17832083e-02,\n",
       "          3.13160717e-02, -1.69412326e-02,  2.33877283e-02,\n",
       "         -5.69030605e-02,  3.80988745e-03, -6.48484677e-02,\n",
       "          3.09598055e-02,  5.55673987e-02, -1.40953083e-02,\n",
       "         -2.66755056e-02,  3.62814106e-02,  1.01170339e-01,\n",
       "          3.66053693e-02,  8.92991107e-03,  6.00551628e-02,\n",
       "         -3.97151755e-03, -3.94327454e-02,  3.67974453e-02,\n",
       "          6.77446881e-03, -5.82586899e-02,  7.10763261e-02,\n",
       "         -6.80313036e-02,  6.60536215e-02, -6.22475110e-02,\n",
       "         -2.73977220e-02, -1.22882351e-02,  1.12591863e-01,\n",
       "         -5.28975688e-02, -1.41210571e-01, -4.95740473e-02,\n",
       "          1.51054456e-03,  1.09532811e-01,  1.34417694e-02,\n",
       "         -2.01937277e-02,  2.69037746e-02, -4.90140431e-02,\n",
       "          1.11109084e-02, -8.17667097e-02, -3.23520191e-02,\n",
       "         -3.76807898e-02, -6.90763593e-02,  4.18018699e-02,\n",
       "          1.56609470e-03,  4.36106250e-02,  1.27225947e-02,\n",
       "          5.84108494e-02, -9.25799608e-02, -3.12603824e-02,\n",
       "          7.47495666e-02, -1.49228737e-01,  4.13718559e-02],\n",
       "        [ 6.72344640e-02,  7.28843734e-04,  3.09033506e-02,\n",
       "          3.00458353e-03,  4.00426090e-02, -5.26707806e-02,\n",
       "          5.83129423e-03,  4.12580732e-04,  3.34593281e-03,\n",
       "          1.92412008e-02,  2.67273113e-02, -3.78304310e-02,\n",
       "          8.69892463e-02, -1.20703727e-02,  1.81829818e-02,\n",
       "          6.57786205e-02,  5.69550171e-02,  6.51560724e-02,\n",
       "         -1.20455436e-01,  5.47094531e-02,  4.96951193e-02,\n",
       "         -2.97379605e-02, -1.47213787e-02,  3.67517327e-03,\n",
       "         -1.21859852e-02, -7.55597427e-02,  3.98492888e-02,\n",
       "         -4.93352395e-03, -3.15253846e-02, -8.47493410e-02,\n",
       "          3.24725099e-02, -1.17276348e-02,  4.39886786e-02,\n",
       "         -1.38231044e-04,  3.99772413e-02, -2.81385779e-02,\n",
       "          1.00419652e-02, -1.42620411e-02, -5.28468005e-02,\n",
       "          1.01470493e-01, -9.68832448e-02,  2.18850169e-02,\n",
       "          4.42837700e-02, -1.20842531e-02,  5.69344824e-03,\n",
       "         -3.40459757e-02, -1.91146694e-02, -6.62228838e-02,\n",
       "         -3.74315865e-02,  4.31506988e-03,  7.23754093e-02,\n",
       "         -3.29040587e-02,  3.46770622e-02,  5.04763983e-02,\n",
       "         -7.85339810e-03,  1.24279790e-01,  3.48737091e-03,\n",
       "         -1.29123069e-02, -5.13223633e-02,  4.55725901e-02,\n",
       "          3.55111808e-02,  1.74506065e-02, -8.04533064e-02,\n",
       "         -7.31966794e-02,  6.03921013e-03,  1.35527821e-02,\n",
       "         -8.02131072e-02,  5.50682098e-02, -2.46187821e-02,\n",
       "          4.21958752e-02, -3.17284279e-02, -4.38101403e-02,\n",
       "         -4.30154167e-02, -4.87499163e-02,  3.69709767e-02,\n",
       "          4.68390854e-03,  6.46606414e-03,  7.91687891e-03,\n",
       "         -2.19170377e-02, -3.56583670e-02,  4.65798676e-02,\n",
       "         -4.28912193e-02, -6.54359311e-02, -4.15481403e-02,\n",
       "         -1.28491251e-02, -7.04681315e-03,  3.41266170e-02,\n",
       "          5.82618602e-02, -1.68006066e-02,  4.06943783e-02,\n",
       "         -1.67407822e-02,  2.66654557e-03, -1.14103645e-01,\n",
       "         -2.39887759e-02,  1.53399948e-02,  4.28744666e-02,\n",
       "         -8.50136429e-02, -9.62092355e-02,  8.52985978e-02,\n",
       "          4.05721441e-02, -1.62580926e-02, -4.41267192e-02,\n",
       "         -4.29683588e-02, -3.22927386e-02, -2.04882696e-02,\n",
       "          2.32726317e-02,  6.32723942e-02,  4.34488468e-02,\n",
       "         -3.02959271e-02,  2.57438049e-02,  2.91998759e-02,\n",
       "          4.61974517e-02, -6.17439002e-02,  5.28290272e-02,\n",
       "          3.38169374e-02,  9.47378948e-02, -4.43818094e-03,\n",
       "         -3.03654233e-03, -9.30064172e-02,  3.89528237e-02,\n",
       "          1.67086665e-02,  1.25380335e-02,  9.31843892e-02,\n",
       "          5.32153137e-02, -4.25952021e-03, -5.71608618e-02,\n",
       "          8.48873146e-03,  1.08189093e-33, -5.73946238e-02,\n",
       "          2.04184595e-02, -4.90201488e-02, -5.28691001e-02,\n",
       "          1.51228979e-01,  7.51889171e-03, -1.99759509e-02,\n",
       "          3.82796973e-02,  1.56770647e-02,  5.20153940e-02,\n",
       "         -2.90584452e-02, -3.65725011e-02, -6.25037625e-02,\n",
       "         -8.38576257e-02,  9.21354964e-02,  1.33111095e-02,\n",
       "          8.78902078e-02,  9.45870206e-03, -8.91610608e-02,\n",
       "          4.56441008e-02,  1.55783072e-02, -3.43831256e-02,\n",
       "         -3.82572971e-02,  1.30126029e-02,  6.09969012e-02,\n",
       "          2.66939979e-02, -2.58623641e-02, -7.36225571e-04,\n",
       "         -3.89301777e-02,  1.57729797e-02,  3.55786942e-02,\n",
       "          1.37398792e-02, -1.08146351e-02,  2.00704988e-02,\n",
       "         -6.15758635e-02,  4.47841585e-02,  4.22789436e-03,\n",
       "          4.45142947e-02,  6.36176486e-03, -5.90590984e-02,\n",
       "         -1.30391657e-01,  1.78134087e-02,  3.75382788e-02,\n",
       "         -2.09222129e-03, -4.05747406e-02, -2.56845355e-02,\n",
       "          1.12831056e-01, -5.02071492e-02, -5.69377374e-03,\n",
       "          4.78743874e-02, -4.89769056e-02, -1.05599221e-02,\n",
       "         -5.37839085e-02,  5.27964942e-02,  8.18424523e-02,\n",
       "         -4.44390327e-02,  6.70520067e-02, -1.87427122e-02,\n",
       "          1.76163502e-02, -1.52550330e-02,  1.68899763e-02,\n",
       "          5.27125038e-02,  3.57024521e-02, -1.15106693e-02,\n",
       "          4.86949384e-02, -1.27121909e-02, -6.39237389e-02,\n",
       "         -3.92455496e-02,  5.67473983e-03, -3.96949835e-02,\n",
       "          2.03426857e-03, -3.54458615e-02,  9.47092474e-03,\n",
       "         -2.74159908e-02,  3.04037780e-02, -7.46156927e-03,\n",
       "         -4.90292534e-02, -3.58421803e-02,  6.77737221e-02,\n",
       "         -1.48376822e-02, -1.10867262e-01,  1.02913231e-01,\n",
       "         -9.35372040e-02, -1.17514759e-01, -1.44816674e-02,\n",
       "         -3.66546796e-03,  5.36303446e-02, -5.49235865e-02,\n",
       "         -1.31342664e-01, -1.75367389e-02,  8.32380634e-03,\n",
       "          4.36284132e-02, -6.26992956e-02,  4.51761968e-02,\n",
       "          3.83120426e-03, -1.76052044e-33, -7.37599470e-03,\n",
       "          1.49959594e-01,  2.99486015e-02,  8.14848300e-03,\n",
       "          2.18644720e-02,  1.74998883e-02,  2.72280611e-02,\n",
       "          3.05880257e-03,  5.88425919e-02,  1.93659198e-02,\n",
       "         -9.89454761e-02,  8.69006962e-02, -9.64256674e-02,\n",
       "          3.89555097e-02,  5.60538322e-02, -5.75026385e-02,\n",
       "          8.52972716e-02, -1.57982912e-02, -5.24500534e-02,\n",
       "         -5.40671758e-02,  4.38741967e-02,  1.44784525e-01,\n",
       "         -7.71451145e-02, -8.13058615e-02, -2.76517496e-02,\n",
       "         -1.75065733e-02,  2.71246526e-02,  6.94290102e-02,\n",
       "          3.32470499e-02, -3.91361415e-02, -5.02138659e-02,\n",
       "          2.63704043e-02, -2.01249924e-02,  5.69185056e-02,\n",
       "          2.67640222e-02,  2.21273978e-03,  5.24109341e-02,\n",
       "          6.99290782e-02, -5.44753857e-02, -1.27177238e-01,\n",
       "          5.70047386e-02, -1.61339641e-02,  2.18440425e-02,\n",
       "         -8.24284703e-02, -1.67069100e-02, -9.33731254e-03,\n",
       "         -3.59282717e-02,  3.75636644e-03,  5.73640913e-02,\n",
       "         -6.31186664e-02,  3.08675226e-02, -5.19994088e-02,\n",
       "         -4.18418273e-02,  1.17213644e-01,  1.56491976e-02,\n",
       "          7.03681782e-02, -1.44838728e-02,  9.64330509e-03,\n",
       "         -1.91638954e-02,  8.79448205e-02, -6.65829377e-03,\n",
       "         -7.00668572e-03, -3.58832232e-03,  4.24941443e-02,\n",
       "         -3.71142710e-03,  8.83268134e-04, -3.74950394e-02,\n",
       "          6.17631748e-02,  3.94027494e-02,  3.17559093e-02,\n",
       "         -1.46480361e-02,  1.09316394e-01,  7.54727423e-02,\n",
       "          8.28163400e-02, -5.78021556e-02, -6.02499135e-02,\n",
       "         -2.90214214e-02,  2.79007033e-02,  6.93995431e-02,\n",
       "          1.79078635e-02, -8.74316022e-02, -1.07849147e-02,\n",
       "         -7.83251598e-02, -4.02635336e-02, -2.75432575e-03,\n",
       "         -4.78144996e-02,  6.64196257e-03,  8.75974633e-03,\n",
       "         -1.51461968e-02, -2.10183505e-02,  1.31078921e-02,\n",
       "          5.77528365e-02,  7.22676888e-02, -7.30844438e-02,\n",
       "          1.68264564e-03, -5.54598216e-08, -1.08957380e-01,\n",
       "         -1.62033364e-02, -3.89047973e-02, -1.03274938e-02,\n",
       "          7.91564584e-02, -3.20105702e-02,  5.07978462e-02,\n",
       "         -3.34737673e-02, -1.12920515e-02, -1.99739877e-02,\n",
       "          3.40751857e-02, -1.70925050e-03,  3.48770954e-02,\n",
       "          1.23989753e-01, -4.95829284e-02, -2.13928223e-02,\n",
       "         -8.39474797e-03,  6.58295443e-03, -1.60058308e-02,\n",
       "          3.93379703e-02,  3.81309912e-02, -3.54018249e-02,\n",
       "         -7.19160140e-02,  2.50464212e-02, -1.72081869e-02,\n",
       "         -3.77580002e-02,  3.95670161e-03,  6.69545457e-02,\n",
       "         -2.10459642e-02,  2.58849524e-02,  5.09184748e-02,\n",
       "          2.60181297e-02, -4.45032632e-03,  3.74764949e-02,\n",
       "         -5.35047613e-02,  4.33086641e-02, -2.50283498e-02,\n",
       "         -3.28936391e-02,  6.01165742e-02,  1.19310044e-01,\n",
       "         -4.55925092e-02, -8.92407522e-02, -1.76088605e-02,\n",
       "         -3.73271783e-03,  9.42592397e-02, -1.08374506e-02,\n",
       "          6.93422928e-02, -1.00413948e-01, -3.95070165e-02,\n",
       "         -1.39908297e-02,  3.53496633e-02, -1.85689181e-02,\n",
       "         -3.14755887e-02, -3.45103480e-02,  7.40105212e-02,\n",
       "         -2.47202377e-04,  5.27824871e-02, -2.57744361e-02,\n",
       "          3.96727175e-02, -3.34303044e-02, -1.93295628e-02,\n",
       "         -3.96343879e-02, -1.05697699e-01, -1.85875117e-03]], dtype=float32),\n",
       " 'env2': array([[ 0.00691903, -0.04480162, -0.02968943, ...,  0.02077058,\n",
       "         -0.09477528,  0.02565773],\n",
       "        [ 0.06201617, -0.05106478,  0.06986094, ...,  0.09174681,\n",
       "         -0.1107467 ,  0.01697673],\n",
       "        [ 0.05154442, -0.0315388 , -0.00274303, ..., -0.0027592 ,\n",
       "         -0.10910951,  0.04358862]], dtype=float32),\n",
       " 'env3': array([[ 0.01837561, -0.02265283, -0.04779341, ...,  0.0052253 ,\n",
       "         -0.07292479,  0.0269807 ],\n",
       "        [ 0.09243396, -0.0167405 ,  0.00426749, ...,  0.03732852,\n",
       "         -0.06652857, -0.00742955],\n",
       "        [ 0.05751368, -0.01420043, -0.01663342, ..., -0.01413555,\n",
       "         -0.12152977,  0.0368949 ]], dtype=float32),\n",
       " 'env4': array([[ 0.00189007, -0.04010333, -0.03745585, ...,  0.01107294,\n",
       "         -0.07862798,  0.01001694],\n",
       "        [ 0.09107889, -0.04838739,  0.00986218, ...,  0.02618101,\n",
       "         -0.06404905, -0.02051172],\n",
       "        [ 0.06143909, -0.00667672,  0.02000982, ..., -0.02036274,\n",
       "         -0.09368864,  0.04118361]], dtype=float32),\n",
       " 'dev0': array([[-0.07418787,  0.06995343, -0.03649189, ..., -0.0343907 ,\n",
       "          0.02237699, -0.02378151],\n",
       "        [-0.0603146 , -0.02380033, -0.02862873, ..., -0.05068163,\n",
       "         -0.04690922, -0.00664798],\n",
       "        [-0.10004693, -0.01177637, -0.00469667, ..., -0.02068783,\n",
       "          0.00263262, -0.03057781],\n",
       "        [-0.05724887,  0.02440256, -0.02803914, ..., -0.04843271,\n",
       "         -0.09404067,  0.01682266],\n",
       "        [-0.09451859,  0.02521051,  0.00722398, ..., -0.09783939,\n",
       "          0.0819625 , -0.0169817 ]], dtype=float32),\n",
       " 'dev1': array([[-4.62862626e-02,  1.24552203e-02, -8.95182267e-02,\n",
       "         -9.87835508e-03, -2.72110794e-02, -2.68296935e-02,\n",
       "         -8.00231546e-02,  8.51945579e-02, -1.23384655e-01,\n",
       "         -6.07925765e-02,  9.47120041e-02, -5.58406441e-03,\n",
       "         -1.38070397e-02, -7.62706390e-03, -1.65234711e-02,\n",
       "          1.16897061e-01, -1.13351489e-04, -1.01953603e-01,\n",
       "          2.96352524e-02, -3.86803760e-03,  4.18606102e-02,\n",
       "         -6.90664127e-02, -4.04079035e-02, -1.01836428e-01,\n",
       "         -2.07743002e-03,  3.83024151e-03,  8.74616057e-02,\n",
       "         -2.52200998e-02, -4.34308350e-02, -4.37670313e-02,\n",
       "          1.69546586e-02,  4.12044488e-03, -3.50217856e-02,\n",
       "         -2.08726171e-02,  2.92595034e-03, -4.19120081e-02,\n",
       "          6.24539368e-02, -6.91467151e-02,  1.30084262e-03,\n",
       "         -8.74751285e-02,  4.22657467e-04, -9.29490179e-02,\n",
       "          3.47830504e-02,  5.11258394e-02, -6.61969231e-03,\n",
       "          8.41796678e-03, -9.46812425e-03,  8.14817031e-04,\n",
       "          4.64957394e-02, -5.27404547e-02, -4.21630248e-05,\n",
       "          5.10048456e-02, -5.60492463e-03,  4.75299358e-02,\n",
       "         -2.97102556e-02,  5.20911701e-02, -4.72940654e-02,\n",
       "         -7.18610436e-02,  7.99551457e-02, -7.92487115e-02,\n",
       "          6.67929649e-02,  2.43569482e-02,  3.70471664e-02,\n",
       "         -1.93052962e-02, -4.81639281e-02, -6.19632006e-02,\n",
       "          1.37795871e-02, -3.66023704e-02, -4.76615205e-02,\n",
       "          5.58510330e-03, -2.24661939e-02,  2.62632128e-02,\n",
       "          1.73386503e-02,  4.23818231e-02,  1.54408608e-02,\n",
       "         -4.32447327e-04,  8.51142034e-02, -5.92269562e-02,\n",
       "         -5.69617888e-03, -3.44995335e-02, -8.89094139e-04,\n",
       "          7.62416944e-02, -6.23980314e-02,  2.05074176e-02,\n",
       "          7.46074393e-02, -3.74188311e-02,  6.87813270e-04,\n",
       "         -1.79515257e-02, -8.08781236e-02, -6.40317500e-02,\n",
       "          1.72948185e-02, -1.99257135e-02, -5.15524894e-02,\n",
       "         -1.62476767e-02, -3.83442789e-02,  1.44790867e-02,\n",
       "          3.17310691e-02, -6.30765259e-02, -8.96362215e-02,\n",
       "          4.49077301e-02,  3.08613107e-02,  3.35652083e-02,\n",
       "          7.55456910e-02, -3.04837432e-02, -1.17331348e-01,\n",
       "         -1.51105765e-02, -5.64719662e-02,  9.15262178e-02,\n",
       "         -7.26242289e-02,  8.36848747e-03, -2.78358292e-02,\n",
       "          6.98093846e-02, -8.70968774e-02, -5.47898896e-02,\n",
       "          6.31321222e-02,  4.86783480e-04, -5.84963523e-02,\n",
       "          1.36698773e-02,  2.29925327e-02, -2.35990677e-02,\n",
       "         -2.69799344e-02,  3.21691833e-03, -3.00047155e-02,\n",
       "          1.84044987e-02, -1.97593663e-02, -6.83671460e-02,\n",
       "         -2.26979814e-02, -7.01452893e-35, -2.55456343e-02,\n",
       "          2.38904543e-02, -1.24449618e-01, -7.52166472e-03,\n",
       "          2.98272092e-02,  1.49424002e-02,  6.92482069e-02,\n",
       "          4.31245901e-02, -2.40145307e-02,  1.08254641e-01,\n",
       "         -3.40355933e-03, -9.15872827e-02, -5.87684736e-02,\n",
       "          3.44481766e-02,  2.03669704e-02, -1.81623116e-01,\n",
       "          4.61028665e-02, -1.89165771e-02,  6.63300827e-02,\n",
       "          1.83577258e-02,  8.03831443e-02,  1.89409889e-02,\n",
       "         -3.60387913e-03, -1.39680319e-02,  7.24114329e-02,\n",
       "          8.35621879e-02,  4.48892377e-02, -7.11281002e-02,\n",
       "         -3.52348238e-02,  1.41431559e-02,  1.80135053e-02,\n",
       "         -2.36768601e-03,  3.18215601e-02, -2.87747514e-02,\n",
       "          2.60328054e-02, -1.13678761e-04, -2.40610968e-02,\n",
       "         -1.73128862e-02, -2.78395433e-02, -4.26908396e-03,\n",
       "          8.49967357e-03, -1.06558688e-02, -7.80312344e-02,\n",
       "         -1.87129769e-02, -2.58090831e-02,  2.88899951e-02,\n",
       "          4.26236391e-02,  9.49769095e-03, -5.17255766e-03,\n",
       "          2.75642294e-02, -3.34353372e-02,  6.50201272e-03,\n",
       "         -8.50146487e-02,  8.13476965e-02,  8.29470679e-02,\n",
       "         -5.05696386e-02, -6.18006364e-02,  6.64466843e-02,\n",
       "          3.45036648e-02,  5.88690825e-02,  5.58004063e-03,\n",
       "         -1.22941788e-02, -6.27109557e-02, -2.47895140e-02,\n",
       "         -5.59655055e-02,  4.48204651e-02,  1.13436477e-02,\n",
       "         -1.30690932e-01, -3.36104296e-02,  2.94944867e-02,\n",
       "         -2.26758197e-02, -4.16215807e-02,  1.04508080e-01,\n",
       "         -6.83145737e-03,  6.47148415e-02,  6.29319064e-03,\n",
       "         -5.68432137e-02, -1.57622863e-02, -2.76178084e-02,\n",
       "         -7.38987625e-02, -6.26302361e-02,  1.35745294e-02,\n",
       "          6.72893226e-02,  1.11145146e-01, -4.06111777e-02,\n",
       "         -2.15460584e-02,  5.47123980e-03,  5.95638677e-02,\n",
       "         -1.95123851e-02,  2.89284661e-02,  4.21278365e-03,\n",
       "         -4.84667644e-02,  2.99715176e-02, -3.85462940e-02,\n",
       "         -3.89115624e-02, -2.53507810e-33,  5.20872511e-03,\n",
       "          4.04597446e-02, -1.80383504e-03, -3.86992283e-02,\n",
       "         -8.44289549e-03, -5.84055558e-02,  8.98473635e-02,\n",
       "          4.62670252e-02,  1.33119710e-02, -3.13074291e-02,\n",
       "          3.36667299e-02, -3.58318239e-02,  3.38906236e-02,\n",
       "         -1.97282713e-02,  5.57268821e-02,  1.33618219e-02,\n",
       "         -4.09400165e-02, -2.65232436e-02, -3.09537770e-03,\n",
       "          1.09002925e-02, -1.15873816e-03,  1.22486047e-01,\n",
       "          1.82907470e-02, -1.04879709e-02,  2.69164816e-02,\n",
       "          6.07230328e-02,  9.14621204e-02,  1.90462098e-02,\n",
       "          3.08427773e-02,  7.33139887e-02, -9.29023474e-02,\n",
       "          1.01511609e-02,  6.13066740e-02,  1.65543817e-02,\n",
       "          1.56067554e-02, -5.47662973e-02,  5.45328744e-02,\n",
       "          5.58619164e-02,  9.22218896e-03, -3.58411632e-02,\n",
       "          1.54731587e-01,  5.60161434e-02, -5.97856455e-02,\n",
       "          6.30890802e-02, -2.09504422e-02,  4.53916891e-03,\n",
       "          6.72331750e-02, -4.83241826e-02, -2.25153472e-02,\n",
       "         -5.47949178e-03, -2.96026412e-02, -1.08421773e-01,\n",
       "         -2.26640590e-02,  2.24307422e-02,  6.55942485e-02,\n",
       "         -2.65335627e-02,  2.04633530e-02,  9.50936135e-03,\n",
       "         -6.90132147e-03, -2.97489557e-02,  7.80085400e-02,\n",
       "         -4.10143360e-02,  4.28536013e-02,  2.21622456e-02,\n",
       "          7.70729706e-02, -1.85015589e-01,  7.00467499e-03,\n",
       "         -3.77711542e-02, -1.15922531e-02,  5.09191304e-02,\n",
       "         -1.02963280e-02,  1.46016916e-02,  3.13235968e-02,\n",
       "         -9.08140675e-04,  5.53929731e-02, -3.79463620e-02,\n",
       "         -2.08478440e-02, -2.24049240e-02,  3.74205448e-02,\n",
       "         -4.28204127e-02, -1.28746524e-01, -3.09593864e-02,\n",
       "          4.21461929e-03, -5.84501727e-03,  6.23503653e-03,\n",
       "          9.57463589e-03, -7.42219994e-03,  1.09703384e-01,\n",
       "          3.66710499e-02, -3.17562595e-02, -4.02186103e-02,\n",
       "         -4.73381542e-02,  1.51659758e-03,  8.12287852e-02,\n",
       "         -6.47373050e-02, -5.67041596e-08,  4.70014522e-03,\n",
       "          3.53460461e-02, -6.74674511e-02,  7.96248317e-02,\n",
       "         -2.68376358e-02, -4.46998551e-02,  9.46614891e-02,\n",
       "         -3.34079452e-02,  3.33489627e-02, -1.39815519e-02,\n",
       "          6.80249035e-02, -1.94892883e-02, -4.81277257e-02,\n",
       "         -2.39333231e-02,  8.03480670e-03, -1.94573551e-02,\n",
       "         -1.45610915e-02,  9.35961157e-02, -1.38559407e-02,\n",
       "         -5.39102517e-02, -4.43785125e-03, -7.53088901e-03,\n",
       "         -2.37017144e-02, -5.96604459e-02,  1.53582804e-02,\n",
       "         -5.40973246e-03, -9.30458307e-03,  3.21351364e-02,\n",
       "          4.52655554e-02, -2.39258283e-03, -1.01800941e-01,\n",
       "          3.51804704e-03,  4.37017567e-02, -5.52499369e-02,\n",
       "          1.34054003e-02,  8.84187128e-03, -3.10119689e-02,\n",
       "          2.13870574e-02,  1.25368357e-01,  2.63783894e-02,\n",
       "         -1.42902760e-02, -2.32798234e-02, -2.10815221e-02,\n",
       "          2.45820042e-02,  3.54125239e-02,  1.40895369e-02,\n",
       "         -1.13986246e-01, -7.40074888e-02,  4.14416231e-02,\n",
       "          6.01936057e-02, -8.93772114e-04,  2.48178840e-02,\n",
       "         -3.29801999e-03, -5.91782928e-02,  8.13040137e-02,\n",
       "          5.99498674e-02, -8.48408490e-02,  6.43285662e-02,\n",
       "         -3.54963243e-02, -1.97295658e-02,  4.79172282e-02,\n",
       "         -1.03014288e-02, -7.42632076e-02, -7.97247048e-03]], dtype=float32),\n",
       " 'dev2': array([[-1.33163966e-02,  1.33310417e-02,  2.36935983e-03,\n",
       "          2.11162418e-02, -1.14146480e-02, -7.25740474e-03,\n",
       "         -9.34561938e-02,  4.27074470e-02, -7.51185641e-02,\n",
       "         -3.93390190e-03,  8.12680274e-02,  2.75627598e-02,\n",
       "          6.07270934e-02,  1.50325932e-02,  3.48405950e-02,\n",
       "          1.33852795e-01, -1.15629872e-02, -1.09795533e-01,\n",
       "         -1.37330675e-02, -5.71393669e-02,  5.26568331e-02,\n",
       "         -3.90642062e-02, -5.43358736e-02, -6.46200031e-02,\n",
       "         -3.41838859e-02, -5.79862222e-02,  6.01093657e-02,\n",
       "          8.61450844e-03, -2.70741489e-02, -2.18085311e-02,\n",
       "         -1.41383626e-03,  1.99710485e-02, -3.87323499e-02,\n",
       "          2.09185481e-02,  1.27795096e-02, -9.03361961e-02,\n",
       "          3.21300253e-02, -2.85884179e-02, -8.29490572e-02,\n",
       "         -1.48332855e-02,  4.54377607e-02, -4.14213426e-02,\n",
       "         -2.99419090e-03,  2.69064717e-02, -1.38755748e-02,\n",
       "         -1.85109139e-03, -2.43635252e-02, -4.69511934e-03,\n",
       "         -9.30951163e-03, -7.14509711e-02,  1.69004258e-02,\n",
       "          3.39007080e-02, -2.46629994e-02,  2.50203945e-02,\n",
       "         -3.72516289e-02,  6.18123375e-02,  9.00500715e-02,\n",
       "          1.25631634e-02, -3.47748771e-03, -3.70857008e-02,\n",
       "          1.32948309e-02,  3.66227105e-02, -3.31077189e-03,\n",
       "         -2.92778071e-02, -6.46823272e-02, -3.62694040e-02,\n",
       "          5.59852384e-02, -5.11629693e-02, -3.14253867e-02,\n",
       "          7.05942884e-02, -6.43627858e-03,  1.17083592e-02,\n",
       "          1.44744078e-02,  3.78449969e-02, -2.59068795e-02,\n",
       "         -7.78148137e-03,  4.98072729e-02,  1.96676273e-02,\n",
       "          6.74208906e-03, -6.61339387e-02,  8.34965892e-03,\n",
       "          7.15916753e-02,  1.03683467e-03, -1.78548358e-02,\n",
       "          1.23309642e-01, -6.01620525e-02, -4.01223153e-02,\n",
       "          5.78939468e-02, -9.42326561e-02, -9.43530276e-02,\n",
       "         -7.62063190e-02, -7.94063322e-03, -1.01323389e-01,\n",
       "          3.19425426e-02, -1.38901500e-02,  1.73777547e-02,\n",
       "          1.97169138e-03, -5.38761280e-02, -1.32368967e-01,\n",
       "         -3.36895175e-02,  1.25615101e-03,  8.04486647e-02,\n",
       "         -3.68001089e-02, -6.77345973e-03, -2.30144616e-02,\n",
       "         -3.86334248e-02,  1.75637081e-02,  3.32967900e-02,\n",
       "         -5.58818914e-02,  1.54100247e-02, -3.46211903e-02,\n",
       "          2.56571546e-02, -8.02370906e-02,  1.68929324e-02,\n",
       "          2.04737429e-04,  7.05919228e-03, -2.26715598e-02,\n",
       "          3.65839377e-02, -1.73997711e-02, -5.06172553e-02,\n",
       "         -5.50003983e-02, -2.28474699e-02, -1.94672532e-02,\n",
       "         -7.94248432e-02, -4.41064462e-02, -4.28845882e-02,\n",
       "          2.68205609e-02,  1.81417368e-33,  1.94307640e-02,\n",
       "          6.67536482e-02, -1.36686489e-01, -3.47667970e-02,\n",
       "          1.42687866e-02, -3.90155837e-02,  6.43823668e-02,\n",
       "          6.58605322e-02, -8.05048831e-03,  4.71201651e-02,\n",
       "         -6.01381473e-02, -9.15491506e-02, -6.29560500e-02,\n",
       "          3.25846858e-02,  5.25034331e-02, -6.41604066e-02,\n",
       "         -2.25192562e-04, -4.28550653e-02,  8.38721022e-02,\n",
       "         -1.43764028e-02,  4.43698131e-02,  1.11623472e-02,\n",
       "         -3.75725627e-02, -6.95707723e-02,  5.06813005e-02,\n",
       "          5.80358878e-02,  2.34442353e-02, -4.82409373e-02,\n",
       "         -1.64339859e-02, -1.33336261e-02, -1.96003430e-02,\n",
       "         -4.56933044e-02, -1.46820359e-02, -7.02577876e-03,\n",
       "         -1.82977151e-02, -3.85467568e-03, -9.51059461e-02,\n",
       "         -1.65860821e-02, -4.81243767e-02,  2.27312092e-02,\n",
       "          7.48174042e-02, -1.49073207e-03, -2.25653779e-02,\n",
       "         -5.35021164e-02, -9.42203924e-02,  3.84840206e-03,\n",
       "         -2.32922956e-02, -1.39709283e-02,  2.44521145e-02,\n",
       "          8.37726295e-02,  1.81577131e-02,  3.94629091e-02,\n",
       "         -4.90958877e-02,  6.20243549e-02,  5.26927933e-02,\n",
       "         -7.01001957e-02, -3.13588381e-02,  5.97683489e-02,\n",
       "          2.33911294e-02, -1.23213222e-02,  5.19789271e-02,\n",
       "         -1.22438356e-01, -3.14786136e-02,  4.21769591e-03,\n",
       "          1.18619185e-02,  7.83728361e-02,  3.91594693e-02,\n",
       "         -3.66884768e-02,  2.17247917e-03,  1.07738208e-02,\n",
       "         -4.49180603e-02,  3.46423648e-02,  8.64566490e-02,\n",
       "         -9.26765148e-03, -2.94908369e-03,  1.86994933e-02,\n",
       "         -8.86773840e-02, -9.19778422e-02, -4.42891158e-02,\n",
       "         -2.95281839e-02, -3.11610997e-02,  3.92992534e-02,\n",
       "          6.42870665e-02,  7.15080276e-02, -3.78640927e-02,\n",
       "         -3.03637125e-02,  1.05232328e-01,  4.63327393e-02,\n",
       "         -6.94782007e-03,  4.16702367e-02, -3.71554643e-02,\n",
       "         -4.27537747e-02,  5.66946231e-02,  4.03249357e-03,\n",
       "         -2.47628223e-02, -4.08093141e-33, -6.57447278e-02,\n",
       "          1.32403625e-02,  7.87170883e-03, -4.14706841e-02,\n",
       "         -2.89443764e-03, -9.02559906e-02,  4.98014651e-02,\n",
       "          9.48446393e-02,  1.47169167e-02, -3.69797684e-02,\n",
       "          2.47285888e-02,  8.73462111e-03,  1.47960097e-01,\n",
       "         -6.56638741e-02,  2.24880837e-02, -5.28373607e-02,\n",
       "         -8.94210339e-02, -3.46804932e-02,  8.59360024e-02,\n",
       "         -9.35289171e-03, -4.42753062e-02,  8.97444263e-02,\n",
       "          1.78153329e-02,  7.55596906e-03, -1.18078114e-02,\n",
       "          2.67978311e-02,  6.57070726e-02, -1.45160379e-02,\n",
       "         -2.33319718e-02,  8.39103758e-02,  9.80255846e-03,\n",
       "         -2.05913298e-02,  6.84845075e-02,  3.17470394e-02,\n",
       "          5.24911620e-02, -5.71121834e-03,  2.05952600e-02,\n",
       "          2.26710439e-02,  2.83381231e-02, -1.71079189e-02,\n",
       "          7.72514194e-02,  4.32525650e-02,  1.67403221e-02,\n",
       "         -6.14025118e-03,  4.63983463e-03, -5.04877679e-02,\n",
       "          1.34466281e-02, -9.57289040e-02, -7.10390434e-02,\n",
       "         -1.77709684e-02,  4.22344841e-02, -4.81392369e-02,\n",
       "         -7.26248324e-02,  7.66091794e-02,  4.79829386e-02,\n",
       "          2.42201556e-02, -7.02263031e-04, -4.39204611e-02,\n",
       "          1.77094042e-02, -3.91134247e-02,  6.04663081e-02,\n",
       "          4.00114171e-02, -3.56834903e-02,  9.65855643e-02,\n",
       "         -8.52899998e-03, -2.37899105e-04,  3.08879111e-02,\n",
       "          4.58320044e-02, -4.04111184e-02,  3.65875401e-02,\n",
       "         -6.41950816e-02,  3.61782350e-02,  3.06093134e-02,\n",
       "          1.01079270e-01,  5.98620065e-02, -1.20657176e-01,\n",
       "         -4.93975468e-02,  7.51484111e-02, -7.34647550e-03,\n",
       "         -6.50926027e-03, -8.27000290e-02, -3.20608914e-02,\n",
       "         -2.87839281e-03, -3.91253904e-02, -3.86065468e-02,\n",
       "         -5.13248593e-02, -1.53435217e-02,  7.64828101e-02,\n",
       "          6.42760098e-02, -3.35098617e-02, -3.18176933e-02,\n",
       "         -7.97743127e-02, -5.88535368e-02,  1.23780020e-01,\n",
       "         -1.10019380e-02, -5.11483940e-08,  1.64481252e-02,\n",
       "          4.46112901e-02, -1.87245831e-02,  5.91087453e-02,\n",
       "         -3.43691520e-02, -7.29849413e-02,  4.28607874e-02,\n",
       "         -2.73935068e-02,  1.01217940e-01,  2.17963438e-02,\n",
       "          8.66949856e-02, -7.60608688e-02, -1.21374138e-01,\n",
       "          4.27909829e-02, -3.00989244e-02,  9.85032413e-03,\n",
       "          7.90203549e-03,  7.03401640e-02,  3.19010951e-02,\n",
       "         -3.91107388e-02, -3.43253985e-02, -5.86728472e-03,\n",
       "         -8.16520676e-03, -6.11635372e-02,  5.46968319e-02,\n",
       "          8.12964067e-02, -7.13762119e-02, -2.22144648e-03,\n",
       "         -1.98432314e-03, -4.29267762e-03, -1.01045899e-01,\n",
       "          3.93996648e-02,  2.37938613e-02,  5.58243040e-03,\n",
       "         -2.14341283e-02,  6.76124617e-02,  4.45109196e-02,\n",
       "          2.53864154e-02,  1.21211283e-01,  5.36515936e-02,\n",
       "          6.45480230e-02, -5.10685071e-02, -2.28994936e-02,\n",
       "         -1.33340051e-02,  9.53961611e-02, -4.17098701e-02,\n",
       "         -1.05660431e-01, -7.31229410e-02,  5.63803501e-02,\n",
       "          9.19294879e-02, -2.21611443e-03,  2.46077832e-02,\n",
       "          4.62968163e-02, -6.11320436e-02,  6.43704981e-02,\n",
       "          3.98721080e-03, -7.07553923e-02, -5.91174187e-03,\n",
       "         -1.14495121e-02,  1.85933860e-03,  5.45912795e-02,\n",
       "         -2.48175599e-02,  6.55307323e-02,  3.09697576e-02]], dtype=float32),\n",
       " 'dev3': array([[-4.69007492e-02, -7.46172220e-02, -2.15111338e-02,\n",
       "         -6.18593628e-03,  2.47790664e-02,  9.52219311e-03,\n",
       "         -2.78715082e-02,  5.91166094e-02, -1.08140498e-01,\n",
       "          2.02662256e-02,  6.86246203e-03,  7.68352225e-02,\n",
       "          8.31926893e-03, -4.58713658e-02,  6.87818788e-03,\n",
       "          2.70821135e-02,  1.50043396e-02, -6.10024482e-02,\n",
       "         -2.00485010e-02, -3.37604210e-02,  4.52746861e-02,\n",
       "          1.92968864e-02,  1.88062340e-02, -9.36422646e-02,\n",
       "         -2.07608100e-02, -1.21583352e-02,  3.29122059e-02,\n",
       "         -7.35079572e-02, -2.27745641e-02, -1.91775002e-02,\n",
       "          1.13880754e-01,  1.92528758e-02, -4.09509577e-02,\n",
       "         -1.57600325e-02, -7.90189132e-02, -8.68841410e-02,\n",
       "          2.01472919e-02, -3.77191715e-02, -7.17291492e-04,\n",
       "         -1.11894414e-01, -4.94436659e-02, -3.65439318e-02,\n",
       "          3.76065262e-02, -2.84513086e-02,  2.79004145e-02,\n",
       "         -1.42173725e-03, -1.01541780e-04, -4.98990268e-02,\n",
       "          5.14182039e-02, -6.92052543e-02,  2.92863697e-02,\n",
       "         -7.42760301e-03, -4.78470400e-02, -1.00744860e-02,\n",
       "         -2.66240537e-02,  1.13084927e-01, -4.04859334e-02,\n",
       "         -2.58298945e-02, -2.70784926e-03,  6.83472899e-04,\n",
       "          3.95140909e-02,  1.02586513e-02,  4.03888002e-02,\n",
       "         -2.70888060e-02, -3.07639949e-02, -4.29990627e-02,\n",
       "          7.85444975e-02, -2.83372644e-02,  4.56306264e-02,\n",
       "         -1.04619162e-02, -2.93576568e-02,  1.15927728e-02,\n",
       "         -1.89620424e-02,  6.34995177e-02, -7.27164075e-02,\n",
       "          3.25571336e-02,  1.27003103e-01, -1.22118192e-02,\n",
       "          5.61800450e-02, -6.86007813e-02, -3.53544354e-02,\n",
       "          6.52991235e-02, -9.67441779e-03,  7.24365562e-03,\n",
       "          3.07816546e-02, -6.07112870e-02,  4.65817973e-02,\n",
       "          4.36686166e-02, -6.84740394e-03,  2.95166373e-02,\n",
       "          6.17057830e-02,  2.00342685e-02, -7.77976140e-02,\n",
       "          8.00606981e-02, -2.86800042e-02,  4.08534370e-02,\n",
       "         -5.56164198e-02, -2.58864202e-02, -5.00983484e-02,\n",
       "          1.32713746e-02,  2.61863954e-02,  1.20449401e-01,\n",
       "          7.08182454e-02,  1.20374942e-02, -9.22496766e-02,\n",
       "         -5.88518218e-04,  1.22295832e-02,  5.77938259e-02,\n",
       "         -3.78711373e-02,  7.51013588e-03,  3.15466560e-02,\n",
       "          3.75213809e-02, -8.69145170e-02,  3.58750438e-03,\n",
       "          3.92974392e-02, -4.43680771e-02, -2.78669242e-02,\n",
       "         -4.48291488e-02,  7.56754680e-03, -6.84249122e-03,\n",
       "         -6.76171854e-02,  5.68941832e-02, -5.37465699e-02,\n",
       "         -5.88931367e-02, -7.00143203e-02,  3.46576385e-02,\n",
       "         -1.49769485e-02,  1.92957967e-33, -9.77501422e-02,\n",
       "          4.62310202e-02, -1.19631648e-01,  1.38391205e-03,\n",
       "          2.83006132e-02,  9.73181799e-02,  3.34492140e-02,\n",
       "          3.03078089e-02, -2.72726733e-03,  7.53714591e-02,\n",
       "         -1.03172526e-01, -5.90448454e-02, -4.61847708e-02,\n",
       "          1.48846698e-03,  6.68605836e-03, -1.07195675e-01,\n",
       "          2.78452523e-02, -3.52738909e-02,  8.09709281e-02,\n",
       "         -1.18015474e-02,  7.92022124e-02,  4.54722233e-02,\n",
       "         -3.50599433e-03, -1.11640200e-01,  7.08826855e-02,\n",
       "         -7.79443048e-03,  5.83924316e-02, -6.13261722e-02,\n",
       "         -1.33353639e-02,  2.73643024e-02, -9.68560018e-03,\n",
       "         -7.42570013e-02,  1.04805948e-02,  9.73484572e-03,\n",
       "          2.63526775e-02, -5.20653911e-02, -4.87044491e-02,\n",
       "         -3.44719477e-02, -5.85666299e-02,  2.70629618e-02,\n",
       "         -5.17354384e-02,  2.05029622e-02, -1.16245136e-01,\n",
       "          2.44243648e-02, -8.21563378e-02,  1.42612886e-02,\n",
       "          2.47580055e-02,  2.84155477e-02, -1.06824664e-02,\n",
       "          1.15788743e-01, -8.45398009e-02, -1.98451430e-02,\n",
       "         -2.96473335e-02, -2.22679544e-02,  8.87388662e-02,\n",
       "          2.55174842e-02, -3.80369835e-02,  3.64493169e-02,\n",
       "          6.92689642e-02,  4.01422419e-02, -5.30674756e-02,\n",
       "         -1.65720284e-02, -1.45125473e-02, -1.86963249e-02,\n",
       "          1.30559858e-02,  5.37499934e-02,  3.59006189e-02,\n",
       "         -6.18947968e-02, -2.01166514e-02, -1.39230806e-02,\n",
       "          9.61367600e-03, -2.16238815e-02,  9.44902971e-02,\n",
       "         -2.58457474e-02,  6.14542179e-02, -4.98018004e-02,\n",
       "         -6.38055801e-02, -9.32267457e-02, -5.92894480e-02,\n",
       "         -4.96752448e-02, -1.00562520e-01,  4.48570885e-02,\n",
       "          3.00447643e-02,  8.95843133e-02,  5.23791574e-02,\n",
       "         -7.71432358e-04, -2.77350210e-02,  8.67888331e-02,\n",
       "          3.89511324e-03,  4.51419093e-02,  5.86274937e-02,\n",
       "         -7.33021423e-02,  6.02290407e-02,  1.75420772e-02,\n",
       "         -1.85634606e-02, -3.10219608e-33, -2.21141167e-02,\n",
       "          5.72961047e-02, -4.36267518e-02, -4.07712571e-02,\n",
       "         -3.95650417e-02, -4.15566526e-02,  4.70250174e-02,\n",
       "          6.85312971e-02,  4.71555721e-03, -1.58351175e-02,\n",
       "          7.03925500e-03, -4.08952124e-02,  4.64630201e-02,\n",
       "         -6.98756427e-02, -2.90316213e-02, -1.10690311e-01,\n",
       "         -6.39205724e-02, -5.57682551e-02,  1.52080422e-02,\n",
       "          5.44365272e-02, -4.80123870e-02,  8.34647343e-02,\n",
       "         -1.07778599e-02,  2.90514827e-02,  3.30711668e-03,\n",
       "          8.57809633e-02,  7.80656859e-02,  3.76978479e-02,\n",
       "         -1.74592379e-02, -1.33222425e-02,  2.45610233e-02,\n",
       "          3.81825538e-03,  9.94784757e-02, -4.05160673e-02,\n",
       "          6.34153187e-02, -4.69730310e-02,  9.62884873e-02,\n",
       "         -2.31279712e-03,  2.35084649e-02, -6.30925223e-02,\n",
       "          9.67504084e-02,  2.24571824e-02, -1.23536335e-02,\n",
       "          4.41350378e-02, -2.84371208e-02, -4.96489182e-03,\n",
       "         -1.35580748e-02, -4.82802689e-02,  8.76058172e-03,\n",
       "          2.86983736e-02, -3.11465804e-02, -1.25289574e-01,\n",
       "         -2.57273074e-02,  7.72463307e-02,  9.85842422e-02,\n",
       "         -5.03136776e-02,  5.08310199e-02,  1.85819156e-02,\n",
       "          2.29225419e-02,  4.35019732e-02,  1.11242674e-01,\n",
       "         -7.77534172e-02,  2.03908309e-02,  6.73945472e-02,\n",
       "          8.03056732e-02, -6.83310553e-02,  3.44630959e-03,\n",
       "          2.82278080e-02, -1.85350562e-03,  4.43375334e-02,\n",
       "         -1.02231324e-01, -4.13940996e-02,  4.56702486e-02,\n",
       "         -6.23925030e-03,  5.18188216e-02, -7.51307011e-02,\n",
       "          5.09883575e-02, -4.03522290e-02,  3.23451236e-02,\n",
       "         -5.72382063e-02, -5.67571446e-02, -3.22654750e-03,\n",
       "         -5.66371493e-02, -4.55072485e-02, -1.00616915e-02,\n",
       "         -9.77151617e-02, -6.84111863e-02,  7.96087608e-02,\n",
       "          2.88952626e-02,  1.46946898e-02, -5.18822633e-02,\n",
       "         -5.76225668e-02,  1.51665183e-02,  2.88423337e-02,\n",
       "         -4.17712592e-02, -5.64679681e-08, -4.05199677e-02,\n",
       "          5.90157956e-02, -2.92575154e-02,  9.44523811e-02,\n",
       "          7.23871030e-03,  1.93720143e-02,  5.33489957e-02,\n",
       "          9.03326087e-03,  4.82162312e-02,  4.79110442e-02,\n",
       "          9.58542377e-02, -5.80728147e-03, -4.82092835e-02,\n",
       "         -2.33300608e-02,  7.05514988e-03,  9.88575723e-03,\n",
       "         -3.49117592e-02,  5.08059114e-02, -1.35383438e-02,\n",
       "         -6.88560382e-02,  1.48979819e-03, -2.79411320e-02,\n",
       "         -5.56560196e-02, -4.96202474e-03,  3.79191488e-02,\n",
       "         -4.78432439e-02,  4.05708402e-02,  5.43761589e-02,\n",
       "          2.78090052e-02, -2.16568187e-02, -1.49037749e-01,\n",
       "         -2.05303775e-03,  4.24235910e-02,  3.76286469e-02,\n",
       "         -6.45088628e-02,  4.29232121e-02,  3.90843563e-02,\n",
       "          2.12212335e-02,  6.39160424e-02, -3.39828711e-03,\n",
       "         -1.35672763e-02, -6.14246838e-02, -1.47841647e-02,\n",
       "         -2.13142671e-02,  6.47130609e-02, -3.60556170e-02,\n",
       "         -8.61010328e-02,  3.28237079e-02,  2.92320102e-02,\n",
       "          6.67958036e-02, -3.04383337e-02, -1.12111634e-03,\n",
       "          2.34142132e-02,  1.17962891e-02,  3.20034586e-02,\n",
       "          1.90783404e-02, -7.04295859e-02, -5.91199705e-03,\n",
       "          4.98928875e-02,  6.93997229e-03,  1.65617242e-02,\n",
       "         -3.34623121e-02, -5.20959347e-02, -1.36973122e-02]], dtype=float32),\n",
       " 'dev4': array([[-8.59958231e-02,  1.53779220e-02, -8.59145001e-02,\n",
       "          3.57399881e-02, -6.79681972e-02, -3.95778101e-03,\n",
       "         -9.20475200e-02,  8.99084806e-02, -1.29251748e-01,\n",
       "         -6.74283504e-02,  8.14024732e-02,  2.22656485e-02,\n",
       "         -5.88417090e-02, -4.33721393e-03, -5.07909469e-02,\n",
       "          8.59479830e-02,  5.46962954e-02, -1.18969962e-01,\n",
       "          1.79685801e-02, -2.93489993e-02,  4.12551053e-02,\n",
       "         -6.51916713e-02, -4.94195931e-02, -9.27995667e-02,\n",
       "          3.56355943e-02, -2.05100812e-02,  4.65407260e-02,\n",
       "         -9.39300575e-04, -2.97273025e-02, -6.55598789e-02,\n",
       "          4.57997387e-03, -1.63360120e-04, -1.71655025e-02,\n",
       "          5.14216572e-02,  6.20653480e-03, -4.24017012e-02,\n",
       "          4.26150113e-02, -6.63216636e-02,  7.44224712e-03,\n",
       "         -7.01618046e-02,  8.32289550e-03, -4.44260463e-02,\n",
       "          4.41263057e-02,  5.41552268e-02,  2.31902543e-02,\n",
       "         -1.70756429e-02, -1.69562604e-02,  1.19509501e-02,\n",
       "          8.43035281e-02, -7.09694400e-02,  2.65369854e-05,\n",
       "          8.89709592e-02, -1.61426961e-02,  3.63942981e-02,\n",
       "         -5.31318262e-02,  4.41782027e-02, -4.46137190e-02,\n",
       "         -6.53435811e-02,  4.34165858e-02, -6.86739162e-02,\n",
       "          2.94604655e-02, -1.31603749e-02,  4.55219345e-03,\n",
       "          1.53010162e-02, -3.32543664e-02, -1.18121030e-02,\n",
       "          3.58436108e-02, -1.63847543e-02, -4.83622104e-02,\n",
       "          1.84668917e-02, -4.11491767e-02, -5.87827107e-03,\n",
       "          1.89141016e-02,  6.13903627e-02,  3.55200879e-02,\n",
       "          7.83467069e-02,  4.29739021e-02, -3.72528620e-02,\n",
       "         -1.59805547e-02, -2.32927669e-02,  2.89748814e-02,\n",
       "          5.67478985e-02, -5.85509613e-02, -7.62244966e-03,\n",
       "          6.02813028e-02, -1.09177707e-02, -1.18308142e-02,\n",
       "         -1.64028443e-02, -7.98114091e-02, -1.15409166e-01,\n",
       "         -2.92331167e-02,  4.82518412e-03, -4.03958969e-02,\n",
       "         -1.84494480e-02, -5.96666895e-02,  2.72032581e-02,\n",
       "          3.94563302e-02, -5.70129454e-02, -8.43961984e-02,\n",
       "          5.17919883e-02,  2.34581251e-02,  4.14147973e-02,\n",
       "          6.97430074e-02, -3.05332802e-02, -8.19141865e-02,\n",
       "         -1.33874193e-02, -3.51775251e-02,  8.08234438e-02,\n",
       "          4.96643689e-03,  7.76527100e-04, -5.05369902e-02,\n",
       "          5.12823425e-02, -1.01604171e-01, -6.05195165e-02,\n",
       "          6.66260272e-02, -4.40542474e-02, -6.03703968e-02,\n",
       "          9.65318177e-03,  4.54704463e-02, -2.92427950e-02,\n",
       "          1.03429321e-03,  5.99062862e-03, -4.71297726e-02,\n",
       "          1.09460428e-02, -9.91366897e-03,  2.75223888e-03,\n",
       "         -3.48989181e-02,  1.70291405e-33, -2.27831416e-02,\n",
       "          3.32312025e-02, -7.51795918e-02, -2.37628780e-02,\n",
       "          4.97562699e-02,  4.25787596e-03,  3.32708843e-02,\n",
       "          1.09741595e-02, -4.14350815e-02,  7.23924711e-02,\n",
       "         -2.68509109e-02, -8.61748010e-02, -7.06914887e-02,\n",
       "          3.77653018e-02,  4.33147475e-02, -1.92935213e-01,\n",
       "          4.13359702e-02, -7.72195868e-03,  9.91528407e-02,\n",
       "         -1.13197733e-02,  4.57692482e-02,  1.93643458e-02,\n",
       "          4.61367844e-03,  9.93650392e-05,  8.30002204e-02,\n",
       "          2.39915978e-02,  5.10303900e-02, -1.59271471e-02,\n",
       "         -2.94305086e-02,  4.84593306e-03,  4.13419418e-02,\n",
       "          1.33792488e-02, -1.18104881e-02, -9.15818065e-02,\n",
       "          2.57014688e-02, -9.44881793e-03, -5.91363981e-02,\n",
       "         -3.58240269e-02,  9.73677542e-03, -4.20146063e-02,\n",
       "         -3.34757543e-03, -9.69034526e-03, -8.79343674e-02,\n",
       "         -1.40598426e-02, -4.64508124e-02, -2.74471398e-02,\n",
       "          8.79541691e-03,  3.02633978e-02,  1.48261124e-02,\n",
       "          2.64653675e-02, -5.39648421e-02,  2.70885732e-02,\n",
       "         -7.07993507e-02,  1.03677712e-01,  7.72457868e-02,\n",
       "         -5.34574203e-02, -8.22898652e-03,  6.25226423e-02,\n",
       "          5.41550107e-02,  9.85691100e-02,  1.00006321e-02,\n",
       "         -3.90756205e-02, -1.02199167e-01, -3.50219347e-02,\n",
       "         -8.20237547e-02,  4.48929518e-02,  3.36328000e-02,\n",
       "         -3.37751955e-02, -1.35966735e-02,  1.49516826e-02,\n",
       "         -1.02225400e-03, -1.86767727e-02,  9.09893587e-02,\n",
       "          2.48740073e-02,  4.05577570e-02,  4.85616326e-02,\n",
       "         -4.59717587e-02,  6.60717674e-03, -5.83680198e-02,\n",
       "         -6.92648292e-02, -1.06595576e-01,  3.79914641e-02,\n",
       "          5.63750155e-02,  1.20112129e-01, -1.36545543e-02,\n",
       "         -8.98283347e-03,  6.87189922e-02,  1.76046006e-02,\n",
       "         -1.43312234e-02, -4.43254039e-03, -3.15480120e-02,\n",
       "         -5.73591236e-03,  2.37303805e-02, -2.22132951e-02,\n",
       "         -5.79893067e-02, -4.49957087e-33, -2.89444197e-02,\n",
       "          1.35367140e-02, -2.96636950e-02, -5.15415892e-02,\n",
       "         -4.06508595e-02, -5.01136780e-02,  1.12795413e-01,\n",
       "          6.03778362e-02,  2.89815449e-04, -3.70652303e-02,\n",
       "          3.26568261e-02, -6.30978215e-03,  8.12853202e-02,\n",
       "         -4.95151803e-02,  7.08887503e-02, -1.99205447e-02,\n",
       "         -4.13616486e-02, -2.79423259e-02,  3.51182558e-02,\n",
       "          2.99295429e-02,  1.33025385e-02,  1.49189621e-01,\n",
       "          3.17711718e-02, -4.23324574e-03,  3.03630587e-02,\n",
       "          1.61411185e-02,  6.93892539e-02,  4.54236493e-02,\n",
       "         -1.33393072e-02,  9.70183089e-02, -3.16006355e-02,\n",
       "         -2.79138703e-03,  1.65067352e-02,  2.12606005e-02,\n",
       "          2.43167169e-02, -2.84865480e-02,  8.30599666e-02,\n",
       "          4.19599004e-02, -1.26572317e-02, -4.18768115e-02,\n",
       "          1.45927295e-01,  3.68020870e-02, -6.71658590e-02,\n",
       "          1.84252318e-02,  3.08570657e-02, -5.77728730e-03,\n",
       "          5.09506203e-02, -3.33510004e-02, -6.08961433e-02,\n",
       "         -2.16924474e-02, -2.65959296e-02, -8.23925063e-02,\n",
       "          1.92858577e-02,  2.29786802e-02,  7.13832974e-02,\n",
       "          2.05204599e-02,  5.76700233e-02, -1.70885760e-03,\n",
       "          1.80397808e-04, -6.05930947e-02,  8.56430531e-02,\n",
       "         -3.88103612e-02,  1.11104818e-02, -1.23505024e-02,\n",
       "          8.09100121e-02, -1.15935333e-01, -8.41680449e-03,\n",
       "         -6.78048357e-02, -1.50376661e-02,  2.35094111e-02,\n",
       "         -2.77001336e-02,  2.56851595e-02,  4.11502831e-02,\n",
       "          2.76743267e-02,  6.31480291e-02, -4.84902374e-02,\n",
       "         -9.83939972e-03,  1.66742932e-02,  4.70773038e-03,\n",
       "         -7.03286147e-03, -1.70396447e-01, -1.39317848e-02,\n",
       "          1.35128982e-02,  4.12995042e-03, -2.18119603e-04,\n",
       "         -3.27130295e-02,  4.23171138e-03,  7.88922012e-02,\n",
       "          3.35536972e-02,  9.48993766e-05, -6.57674968e-02,\n",
       "         -8.20636228e-02, -1.30483657e-02,  7.48555884e-02,\n",
       "         -6.51452765e-02, -5.44401964e-08,  4.72512934e-03,\n",
       "          4.01693918e-02, -6.71300245e-03,  4.27989513e-02,\n",
       "         -5.72490878e-03, -6.99962154e-02,  8.96875188e-02,\n",
       "         -8.34029168e-02,  1.14479074e-02, -3.75886858e-02,\n",
       "          6.87120631e-02, -4.74392399e-02, -8.17394257e-02,\n",
       "          1.03552537e-02, -3.12056346e-03, -2.67092530e-02,\n",
       "         -4.92050014e-02,  1.07505880e-01,  4.52046329e-03,\n",
       "         -6.13101460e-02, -3.85326780e-02, -1.61061361e-02,\n",
       "          2.08177567e-02, -5.21881953e-02,  4.42187227e-02,\n",
       "          2.41890028e-02, -4.39071283e-02,  5.02470769e-02,\n",
       "          3.44398767e-02,  4.41739708e-02, -8.36695284e-02,\n",
       "         -4.15444281e-03,  3.10642924e-02, -5.43551371e-02,\n",
       "          1.61286853e-02, -1.84396077e-02, -4.84864675e-02,\n",
       "          7.25595728e-02,  1.07914299e-01,  4.38282788e-02,\n",
       "         -8.38997960e-03, -1.46347769e-02,  1.28219603e-02,\n",
       "          5.38545251e-02,  4.68221940e-02,  7.95433670e-03,\n",
       "         -1.24860510e-01, -4.73934859e-02,  7.55318478e-02,\n",
       "          4.51108143e-02,  3.24243568e-02,  2.14867499e-02,\n",
       "         -2.63594091e-02, -3.25579979e-02,  3.37278880e-02,\n",
       "         -9.37937293e-03, -6.26247078e-02, -1.51685737e-02,\n",
       "         -3.40563469e-02,  1.94175150e-02,  3.58081236e-02,\n",
       "         -4.04593572e-02, -4.36354876e-02,  4.03031940e-03]], dtype=float32)}"
      ]
     },
     "execution_count": 64,
     "metadata": {},
     "output_type": "execute_result"
    }
   ],
   "source": [
    "doc_embeddings = DocumentEmbeddings()\n",
    "doc_embeddings.generate_embeddings(documents)"
   ]
  },
  {
   "cell_type": "code",
   "execution_count": 66,
   "metadata": {
    "execution": {
     "iopub.execute_input": "2024-11-25T13:22:42.534402Z",
     "iopub.status.busy": "2024-11-25T13:22:42.534059Z",
     "iopub.status.idle": "2024-11-25T13:22:42.539186Z",
     "shell.execute_reply": "2024-11-25T13:22:42.538260Z",
     "shell.execute_reply.started": "2024-11-25T13:22:42.534371Z"
    },
    "trusted": true
   },
   "outputs": [
    {
     "name": "stdout",
     "output_type": "stream",
     "text": [
      "Design an optimal network for a 25m x 35m office with 80 users, using 4 routers, Juniper MX240 devices, and a room height of 4m, to reduce power loss in signal transmission.\n"
     ]
    }
   ],
   "source": [
    "print(dataset_list[0][\"1\"][11][\"Original_Request\"])"
   ]
  },
  {
   "cell_type": "code",
   "execution_count": 74,
   "metadata": {
    "execution": {
     "iopub.execute_input": "2024-11-25T13:36:00.691836Z",
     "iopub.status.busy": "2024-11-25T13:36:00.691202Z",
     "iopub.status.idle": "2024-11-25T13:36:00.728532Z",
     "shell.execute_reply": "2024-11-25T13:36:00.727708Z",
     "shell.execute_reply.started": "2024-11-25T13:36:00.691802Z"
    },
    "trusted": true
   },
   "outputs": [
    {
     "data": {
      "application/vnd.jupyter.widget-view+json": {
       "model_id": "46e18b2c4c06431db4d80627b724565c",
       "version_major": 2,
       "version_minor": 0
      },
      "text/plain": [
       "Batches:   0%|          | 0/1 [00:00<?, ?it/s]"
      ]
     },
     "metadata": {},
     "output_type": "display_data"
    }
   ],
   "source": [
    "request=dataset_list[0][\"1\"][11][\"Original_Request\"]\n",
    "ret_doc=doc_embeddings.find_similar_chunks(request,top_k=10)"
   ]
  },
  {
   "cell_type": "code",
   "execution_count": 75,
   "metadata": {
    "execution": {
     "iopub.execute_input": "2024-11-25T13:36:06.743692Z",
     "iopub.status.busy": "2024-11-25T13:36:06.743033Z",
     "iopub.status.idle": "2024-11-25T13:36:06.747491Z",
     "shell.execute_reply": "2024-11-25T13:36:06.746664Z",
     "shell.execute_reply.started": "2024-11-25T13:36:06.743643Z"
    },
    "trusted": true
   },
   "outputs": [],
   "source": [
    "context=\"\"\n",
    "for ret_cont in ret_doc:\n",
    "    context+=ret_cont['chunk_text']"
   ]
  },
  {
   "cell_type": "code",
   "execution_count": 47,
   "metadata": {
    "execution": {
     "iopub.execute_input": "2024-11-25T12:25:16.206255Z",
     "iopub.status.busy": "2024-11-25T12:25:16.205834Z",
     "iopub.status.idle": "2024-11-25T12:25:16.211403Z",
     "shell.execute_reply": "2024-11-25T12:25:16.210480Z",
     "shell.execute_reply.started": "2024-11-25T12:25:16.206222Z"
    },
    "trusted": true
   },
   "outputs": [],
   "source": [
    "system={\"role\": \"system\", \n",
    "    \"content\": \n",
    "\"\"\"\n",
    "You need to provide a jsonised output containing the following sections extracted from the query:\n",
    "{\n",
    "\"Parsed_Parameters\": {\n",
    "                \"X_dimension\": <float>,\n",
    "                \"Y_dimension\": <float>,\n",
    "                \"Number_of_Users\": <int>,\n",
    "                \"Number_of_Routers\": <int>,\n",
    "                \"X_User_Distribution\": <string>,\n",
    "                \"Y_User_Distribution\": <string>,\n",
    "                \"Height\": <float>,\n",
    "                \"K\": <float>,\n",
    "                \"Alpha\": <float>,\n",
    "                \"Transmit_Power\": <float>,\n",
    "                \"User Equipment Height\":<float>\n",
    "            }\n",
    "}\n",
    "\n",
    "Example of what your output should look like:\n",
    "{\n",
    "  \"Parsed_Parameters\": {\n",
    "    \"X_dimension\": 30.0,\n",
    "    \"Y_dimension\": 40.0,\n",
    "    \"Number_of_Users\": 100,\n",
    "    \"Number_of_Routers\": 6,\n",
    "    \"X_User_Distribution\": \"Exponential\",\n",
    "    \"Y_User_Distribution\": \"Exponential\",\n",
    "    \"Height\": 4.0,\n",
    "    \"K\": 15.0,\n",
    "    \"Alpha\": 0.005,\n",
    "    \"Transmit_Power\": 19,\n",
    "    \"User Equipment Height\": 1.0\n",
    "  }\n",
    "}\n",
    "\n",
    "Any information missing in the user request must be retreived from router specification files or environment files in the context files provided.\n",
    "\n",
    "X and Y Distribution must be one of Uniform, Gaussian, Exponential, Bi-Exponential\n",
    "\n",
    "Only provide the output parsed json without any reasoning or any other statements.\n",
    "\n",
    "Extract only the parameters mentioned in the example output.\n",
    "\"\"\"\n",
    "}"
   ]
  },
  {
   "cell_type": "code",
   "execution_count": 78,
   "metadata": {
    "execution": {
     "iopub.execute_input": "2024-11-25T13:51:39.264461Z",
     "iopub.status.busy": "2024-11-25T13:51:39.263750Z",
     "iopub.status.idle": "2024-11-25T13:52:42.323476Z",
     "shell.execute_reply": "2024-11-25T13:52:42.322744Z",
     "shell.execute_reply.started": "2024-11-25T13:51:39.264420Z"
    },
    "trusted": true
   },
   "outputs": [
    {
     "data": {
      "application/vnd.jupyter.widget-view+json": {
       "model_id": "92c50da74f4548a7b448d7472b063d49",
       "version_major": 2,
       "version_minor": 0
      },
      "text/plain": [
       "Batches:   0%|          | 0/1 [00:00<?, ?it/s]"
      ]
     },
     "metadata": {},
     "output_type": "display_data"
    },
    {
     "name": "stderr",
     "output_type": "stream",
     "text": [
      "The attention mask and the pad token id were not set. As a consequence, you may observe unexpected behavior. Please pass your input's `attention_mask` to obtain reliable results.\n",
      "Setting `pad_token_id` to `eos_token_id`:None for open-end generation.\n",
      "The attention mask is not set and cannot be inferred from input because pad token is same as eos token. As a consequence, you may observe unexpected behavior. Please pass your input's `attention_mask` to obtain reliable results.\n",
      "Starting from v4.46, the `logits` model output will have the same type as the model (except at train time, where it will always be FP32)\n"
     ]
    }
   ],
   "source": [
    "request=dataset_list[0][\"2\"][11][\"Original_Request\"]\n",
    "ret_doc=doc_embeddings.find_similar_chunks(request,top_k=10)\n",
    "context=\"\"\n",
    "for ret_cont in ret_doc:\n",
    "    context+=ret_cont['chunk_text']\n",
    "message=[system,\n",
    "    {\"role\":\"user\",\"content\":context+\"\\n User Request: \\n \" + request}]\n",
    "input_ids = tokenizer.apply_chat_template(message, return_tensors=\"pt\",padding=True, truncation=True,).to(llama_model.device)\n",
    "with torch.no_grad():\n",
    "     output = llama_model.generate(input_ids, max_length=input_ids.shape[1]+500, num_return_sequences=1, temperature=0.1);\n",
    "input_length = input_ids.shape[1] \n",
    "clean_prompt=output[0][input_length+3:];\n",
    "answer=tokenizer.decode(clean_prompt, skip_special_tokens=True);"
   ]
  },
  {
   "cell_type": "code",
   "execution_count": 79,
   "metadata": {
    "execution": {
     "iopub.execute_input": "2024-11-25T13:52:54.932888Z",
     "iopub.status.busy": "2024-11-25T13:52:54.932142Z",
     "iopub.status.idle": "2024-11-25T13:52:54.937358Z",
     "shell.execute_reply": "2024-11-25T13:52:54.936400Z",
     "shell.execute_reply.started": "2024-11-25T13:52:54.932854Z"
    },
    "trusted": true
   },
   "outputs": [
    {
     "name": "stdout",
     "output_type": "stream",
     "text": [
      "\n",
      "\n",
      "{\n",
      "  \"Parsed_Parameters\": {\n",
      "    \"X_dimension\": 50.0,\n",
      "    \"Y_dimension\": 20.0,\n",
      "    \"Number_of_Users\": 180,\n",
      "    \"Number_of_Routers\": 8,\n",
      "    \"X_User_Distribution\": \"Gaussian\",\n",
      "    \"Y_User_Distribution\": \"Gaussian\",\n",
      "    \"Height\": 2.5,\n",
      "    \"K\": 0.015,\n",
      "    \"Alpha\": 3.0,\n",
      "    \"Transmit_Power\": 23,\n",
      "    \"User_Equipment_Height\": 1.5\n",
      "  }\n",
      "}\n"
     ]
    }
   ],
   "source": [
    "print(answer)"
   ]
  },
  {
   "cell_type": "code",
   "execution_count": 80,
   "metadata": {
    "execution": {
     "iopub.execute_input": "2024-11-25T13:53:21.558077Z",
     "iopub.status.busy": "2024-11-25T13:53:21.557463Z",
     "iopub.status.idle": "2024-11-25T13:53:21.562258Z",
     "shell.execute_reply": "2024-11-25T13:53:21.561396Z",
     "shell.execute_reply.started": "2024-11-25T13:53:21.558042Z"
    },
    "trusted": true
   },
   "outputs": [],
   "source": [
    "json_answers=[]"
   ]
  },
  {
   "cell_type": "code",
   "execution_count": 84,
   "metadata": {
    "collapsed": true,
    "execution": {
     "iopub.execute_input": "2024-11-25T13:55:58.302703Z",
     "iopub.status.busy": "2024-11-25T13:55:58.302337Z",
     "iopub.status.idle": "2024-11-25T16:23:22.578472Z",
     "shell.execute_reply": "2024-11-25T16:23:22.577529Z",
     "shell.execute_reply.started": "2024-11-25T13:55:58.302657Z"
    },
    "jupyter": {
     "outputs_hidden": true
    },
    "trusted": true
   },
   "outputs": [
    {
     "name": "stdout",
     "output_type": "stream",
     "text": [
      "Class 0\n",
      "Type 0\n"
     ]
    },
    {
     "data": {
      "application/vnd.jupyter.widget-view+json": {
       "model_id": "24ce9a57a9994e39a8277e3a02a5849e",
       "version_major": 2,
       "version_minor": 0
      },
      "text/plain": [
       "Batches:   0%|          | 0/1 [00:00<?, ?it/s]"
      ]
     },
     "metadata": {},
     "output_type": "display_data"
    },
    {
     "name": "stderr",
     "output_type": "stream",
     "text": [
      "The attention mask and the pad token id were not set. As a consequence, you may observe unexpected behavior. Please pass your input's `attention_mask` to obtain reliable results.\n",
      "Setting `pad_token_id` to `eos_token_id`:None for open-end generation.\n"
     ]
    },
    {
     "name": "stdout",
     "output_type": "stream",
     "text": [
      "1 :\n",
      "\n",
      "\n",
      "{\n",
      "  \"Parsed_Parameters\": {\n",
      "    \"X_dimension\": 30.0,\n",
      "    \"Y_dimension\": 40.0,\n",
      "    \"Number_of_Users\": 100,\n",
      "    \"Number_of_Routers\": 6,\n",
      "    \"X_User_Distribution\": \"Exponential\",\n",
      "    \"Y_User_Distribution\": \"Exponential\",\n",
      "    \"Height\": 4.0,\n",
      "    \"K\": 0.005,\n",
      "    \"Alpha\": 2.0,\n",
      "    \"Transmit_Power\": 15,\n",
      "    \"User_Equipment_Height\": 1.0\n",
      "  }\n",
      "}\n",
      "55.957427740097046\n",
      ",\n"
     ]
    },
    {
     "data": {
      "application/vnd.jupyter.widget-view+json": {
       "model_id": "da273a53a38d4bb5b0e3196a4e87a902",
       "version_major": 2,
       "version_minor": 0
      },
      "text/plain": [
       "Batches:   0%|          | 0/1 [00:00<?, ?it/s]"
      ]
     },
     "metadata": {},
     "output_type": "display_data"
    },
    {
     "name": "stderr",
     "output_type": "stream",
     "text": [
      "The attention mask and the pad token id were not set. As a consequence, you may observe unexpected behavior. Please pass your input's `attention_mask` to obtain reliable results.\n",
      "Setting `pad_token_id` to `eos_token_id`:None for open-end generation.\n"
     ]
    },
    {
     "name": "stdout",
     "output_type": "stream",
     "text": [
      "2 :\n",
      "\n",
      "\n",
      "{\n",
      "  \"Parsed_Parameters\": {\n",
      "    \"X_dimension\": 50.0,\n",
      "    \"Y_dimension\": 40.0,\n",
      "    \"Number_of_Users\": 80,\n",
      "    \"Number_of_Routers\": 4,\n",
      "    \"X_User_Distribution\": \"Uniform\",\n",
      "    \"Y_User_Distribution\": \"Uniform\",\n",
      "    \"Height\": 5.0,\n",
      "    \"K\": 0.03,\n",
      "    \"Alpha\": 3.5,\n",
      "    \"Transmit_Power\": 20,\n",
      "    \"User_Equipment_Height\": 1.0\n",
      "  }\n",
      "}\n",
      "58.592835664749146\n",
      ",\n"
     ]
    },
    {
     "data": {
      "application/vnd.jupyter.widget-view+json": {
       "model_id": "16ad9c30e3bb420f875307c9d07b6ca5",
       "version_major": 2,
       "version_minor": 0
      },
      "text/plain": [
       "Batches:   0%|          | 0/1 [00:00<?, ?it/s]"
      ]
     },
     "metadata": {},
     "output_type": "display_data"
    },
    {
     "name": "stderr",
     "output_type": "stream",
     "text": [
      "The attention mask and the pad token id were not set. As a consequence, you may observe unexpected behavior. Please pass your input's `attention_mask` to obtain reliable results.\n",
      "Setting `pad_token_id` to `eos_token_id`:None for open-end generation.\n"
     ]
    },
    {
     "name": "stdout",
     "output_type": "stream",
     "text": [
      "3 :\n",
      "\n",
      "\n",
      "{\n",
      "  \"Parsed_Parameters\": {\n",
      "    \"X_dimension\": 45.0,\n",
      "    \"Y_dimension\": 35.0,\n",
      "    \"Number_of_Users\": 150,\n",
      "    \"Number_of_Routers\": 9,\n",
      "    \"X_User_Distribution\": \"Bi-Exponential\",\n",
      "    \"Y_User_Distribution\": \"Bi-Exponential\",\n",
      "    \"Height\": 6.0,\n",
      "    \"K\": 0.02,\n",
      "    \"Alpha\": 2.5,\n",
      "    \"Transmit_Power\": 25,\n",
      "    \"User_Equipment_Height\": 1.0\n",
      "  }\n",
      "}\n",
      "59.09677195549011\n",
      ",\n"
     ]
    },
    {
     "data": {
      "application/vnd.jupyter.widget-view+json": {
       "model_id": "bf8cc0c74d4b4060b40b405f01fd9527",
       "version_major": 2,
       "version_minor": 0
      },
      "text/plain": [
       "Batches:   0%|          | 0/1 [00:00<?, ?it/s]"
      ]
     },
     "metadata": {},
     "output_type": "display_data"
    },
    {
     "name": "stderr",
     "output_type": "stream",
     "text": [
      "The attention mask and the pad token id were not set. As a consequence, you may observe unexpected behavior. Please pass your input's `attention_mask` to obtain reliable results.\n",
      "Setting `pad_token_id` to `eos_token_id`:None for open-end generation.\n"
     ]
    },
    {
     "name": "stdout",
     "output_type": "stream",
     "text": [
      "4 :\n",
      "\n",
      "\n",
      "{\n",
      "  \"Parsed_Parameters\": {\n",
      "    \"X_dimension\": 20.0,\n",
      "    \"Y_dimension\": 15.0,\n",
      "    \"Number_of_Users\": 50,\n",
      "    \"Number_of_Routers\": 3,\n",
      "    \"X_User_Distribution\": \"Gaussian\",\n",
      "    \"Y_User_Distribution\": \"Gaussian\",\n",
      "    \"Height\": 3.0,\n",
      "    \"K\": 0.01,\n",
      "    \"Alpha\": 2.0,\n",
      "    \"Transmit_Power\": 10,\n",
      "    \"User_Equipment_Height\": 1.0\n",
      "  }\n",
      "}\n",
      "59.11549186706543\n",
      ",\n"
     ]
    },
    {
     "data": {
      "application/vnd.jupyter.widget-view+json": {
       "model_id": "519c30fab51449b28eed8cdb6ec45062",
       "version_major": 2,
       "version_minor": 0
      },
      "text/plain": [
       "Batches:   0%|          | 0/1 [00:00<?, ?it/s]"
      ]
     },
     "metadata": {},
     "output_type": "display_data"
    },
    {
     "name": "stderr",
     "output_type": "stream",
     "text": [
      "The attention mask and the pad token id were not set. As a consequence, you may observe unexpected behavior. Please pass your input's `attention_mask` to obtain reliable results.\n",
      "Setting `pad_token_id` to `eos_token_id`:None for open-end generation.\n"
     ]
    },
    {
     "name": "stdout",
     "output_type": "stream",
     "text": [
      "5 :\n",
      "\n",
      "\n",
      "{\n",
      "  \"Parsed_Parameters\": {\n",
      "    \"X_dimension\": 40.0,\n",
      "    \"Y_dimension\": 30.0,\n",
      "    \"Number_of_Users\": 120,\n",
      "    \"Number_of_Routers\": 7,\n",
      "    \"X_User_Distribution\": \"Uniform\",\n",
      "    \"Y_User_Distribution\": \"Uniform\",\n",
      "    \"Height\": 4.0,\n",
      "    \"K\": 0.005,\n",
      "    \"Alpha\": 2.5,\n",
      "    \"Transmit_Power\": 20,\n",
      "    \"User_Equipment_Height\": 1.0\n",
      "  }\n",
      "}\n",
      "55.51943230628967\n",
      ",\n"
     ]
    },
    {
     "data": {
      "application/vnd.jupyter.widget-view+json": {
       "model_id": "d349cf90bdfd4d37b6bea1ae85211872",
       "version_major": 2,
       "version_minor": 0
      },
      "text/plain": [
       "Batches:   0%|          | 0/1 [00:00<?, ?it/s]"
      ]
     },
     "metadata": {},
     "output_type": "display_data"
    },
    {
     "name": "stderr",
     "output_type": "stream",
     "text": [
      "The attention mask and the pad token id were not set. As a consequence, you may observe unexpected behavior. Please pass your input's `attention_mask` to obtain reliable results.\n",
      "Setting `pad_token_id` to `eos_token_id`:None for open-end generation.\n"
     ]
    },
    {
     "name": "stdout",
     "output_type": "stream",
     "text": [
      "6 :\n",
      "\n",
      "\n",
      "{\n",
      "  \"Parsed_Parameters\": {\n",
      "    \"X_dimension\": 55.0,\n",
      "    \"Y_dimension\": 45.0,\n",
      "    \"Number_of_Users\": 200,\n",
      "    \"Number_of_Routers\": 10,\n",
      "    \"X_User_Distribution\": \"Exponential\",\n",
      "    \"Y_User_Distribution\": \"Exponential\",\n",
      "    \"Height\": 6.0,\n",
      "    \"K\": 0.03,\n",
      "    \"Alpha\": 3.0,\n",
      "    \"Transmit_Power\": 30,\n",
      "    \"User_Equipment_Height\": 1.0\n",
      "  }\n",
      "}\n",
      "58.77927327156067\n",
      ",\n"
     ]
    },
    {
     "data": {
      "application/vnd.jupyter.widget-view+json": {
       "model_id": "077f92cb63784a879c9b16ae96eb5615",
       "version_major": 2,
       "version_minor": 0
      },
      "text/plain": [
       "Batches:   0%|          | 0/1 [00:00<?, ?it/s]"
      ]
     },
     "metadata": {},
     "output_type": "display_data"
    },
    {
     "name": "stderr",
     "output_type": "stream",
     "text": [
      "The attention mask and the pad token id were not set. As a consequence, you may observe unexpected behavior. Please pass your input's `attention_mask` to obtain reliable results.\n",
      "Setting `pad_token_id` to `eos_token_id`:None for open-end generation.\n"
     ]
    },
    {
     "name": "stdout",
     "output_type": "stream",
     "text": [
      "7 :\n",
      "\n",
      "\n",
      "{\n",
      "  \"Parsed_Parameters\": {\n",
      "    \"X_dimension\": 50.0,\n",
      "    \"Y_dimension\": 40.0,\n",
      "    \"Number_of_Users\": 180,\n",
      "    \"Number_of_Routers\": 8,\n",
      "    \"X_User_Distribution\": \"Bi-Exponential\",\n",
      "    \"Y_User_Distribution\": \"Bi-Exponential\",\n",
      "    \"Height\": 5.0,\n",
      "    \"K\": 0.02,\n",
      "    \"Alpha\": 2.5,\n",
      "    \"Transmit_Power\": 25,\n",
      "    \"User_Equipment_Height\": 1.0\n",
      "  }\n",
      "}\n",
      "59.77631211280823\n",
      ",\n"
     ]
    },
    {
     "data": {
      "application/vnd.jupyter.widget-view+json": {
       "model_id": "6192490fed4744ca8392ba3215c75443",
       "version_major": 2,
       "version_minor": 0
      },
      "text/plain": [
       "Batches:   0%|          | 0/1 [00:00<?, ?it/s]"
      ]
     },
     "metadata": {},
     "output_type": "display_data"
    },
    {
     "name": "stderr",
     "output_type": "stream",
     "text": [
      "The attention mask and the pad token id were not set. As a consequence, you may observe unexpected behavior. Please pass your input's `attention_mask` to obtain reliable results.\n",
      "Setting `pad_token_id` to `eos_token_id`:None for open-end generation.\n"
     ]
    },
    {
     "name": "stdout",
     "output_type": "stream",
     "text": [
      "8 :\n",
      "\n",
      "\n",
      "{\n",
      "  \"Parsed_Parameters\": {\n",
      "    \"X_dimension\": 45.0,\n",
      "    \"Y_dimension\": 35.0,\n",
      "    \"Number_of_Users\": 100,\n",
      "    \"Number_of_Routers\": 6,\n",
      "    \"X_User_Distribution\": \"Gaussian\",\n",
      "    \"Y_User_Distribution\": \"Gaussian\",\n",
      "    \"Height\": 5.0,\n",
      "    \"K\": 0.01,\n",
      "    \"Alpha\": 2.0,\n",
      "    \"Transmit_Power\": 20,\n",
      "    \"User_Equipment_Height\": 1.0\n",
      "  }\n",
      "}\n",
      "59.55096125602722\n",
      ",\n"
     ]
    },
    {
     "data": {
      "application/vnd.jupyter.widget-view+json": {
       "model_id": "4778671b094347c1bb6af4408b71c591",
       "version_major": 2,
       "version_minor": 0
      },
      "text/plain": [
       "Batches:   0%|          | 0/1 [00:00<?, ?it/s]"
      ]
     },
     "metadata": {},
     "output_type": "display_data"
    },
    {
     "name": "stderr",
     "output_type": "stream",
     "text": [
      "The attention mask and the pad token id were not set. As a consequence, you may observe unexpected behavior. Please pass your input's `attention_mask` to obtain reliable results.\n",
      "Setting `pad_token_id` to `eos_token_id`:None for open-end generation.\n"
     ]
    },
    {
     "name": "stdout",
     "output_type": "stream",
     "text": [
      "9 :\n",
      " \"Parsed_Parameters\": {\n",
      "    \"X_dimension\": 35.0,\n",
      "    \"Y_dimension\": 25.0,\n",
      "    \"Number_of_Users\": 80,\n",
      "    \"Number_of_Routers\": 5,\n",
      "    \"X_User_Distribution\": \"Uniform\",\n",
      "    \"Y_User_Distribution\": \"Uniform\",\n",
      "    \"Height\": 4.0,\n",
      "    \"K\": 0.005,\n",
      "    \"Alpha\": 2.0,\n",
      "    \"Transmit_Power\": 15,\n",
      "    \"User_Equipment_Height\": 1.0\n",
      "  }\n",
      "}\n",
      "56.94609999656677\n",
      ",\n"
     ]
    },
    {
     "data": {
      "application/vnd.jupyter.widget-view+json": {
       "model_id": "ea66739bad1d4d6da4125db1cde0b3a7",
       "version_major": 2,
       "version_minor": 0
      },
      "text/plain": [
       "Batches:   0%|          | 0/1 [00:00<?, ?it/s]"
      ]
     },
     "metadata": {},
     "output_type": "display_data"
    },
    {
     "name": "stderr",
     "output_type": "stream",
     "text": [
      "The attention mask and the pad token id were not set. As a consequence, you may observe unexpected behavior. Please pass your input's `attention_mask` to obtain reliable results.\n",
      "Setting `pad_token_id` to `eos_token_id`:None for open-end generation.\n"
     ]
    },
    {
     "name": "stdout",
     "output_type": "stream",
     "text": [
      "10 :\n",
      "\n",
      "\n",
      "{\n",
      "  \"Parsed_Parameters\": {\n",
      "    \"X_dimension\": 25.0,\n",
      "    \"Y_dimension\": 20.0,\n",
      "    \"Number_of_Users\": 60,\n",
      "    \"Number_of_Routers\": 4,\n",
      "    \"X_User_Distribution\": \"Exponential\",\n",
      "    \"Y_User_Distribution\": \"Exponential\",\n",
      "    \"Height\": 3.0,\n",
      "    \"K\": 0.02,\n",
      "    \"Alpha\": 2.5,\n",
      "    \"Transmit_Power\": 15,\n",
      "    \"User_Equipment_Height\": 1.0\n",
      "  }\n",
      "}\n",
      "56.235909938812256\n",
      ",\n",
      "Type 1\n"
     ]
    },
    {
     "data": {
      "application/vnd.jupyter.widget-view+json": {
       "model_id": "f0a34a5f73e945b0aaadbeb7d6722bd4",
       "version_major": 2,
       "version_minor": 0
      },
      "text/plain": [
       "Batches:   0%|          | 0/1 [00:00<?, ?it/s]"
      ]
     },
     "metadata": {},
     "output_type": "display_data"
    },
    {
     "name": "stderr",
     "output_type": "stream",
     "text": [
      "The attention mask and the pad token id were not set. As a consequence, you may observe unexpected behavior. Please pass your input's `attention_mask` to obtain reliable results.\n",
      "Setting `pad_token_id` to `eos_token_id`:None for open-end generation.\n"
     ]
    },
    {
     "name": "stdout",
     "output_type": "stream",
     "text": [
      "11 :\n",
      "\n",
      "\n",
      "{\n",
      "  \"Parsed_Parameters\": {\n",
      "    \"X_dimension\": 20.0,\n",
      "    \"Y_dimension\": 30.0,\n",
      "    \"Number_of_Users\": 50,\n",
      "    \"Number_of_Routers\": 3,\n",
      "    \"X_User_Distribution\": \"Uniform\",\n",
      "    \"Y_User_Distribution\": \"Uniform\",\n",
      "    \"Height\": 3.0,\n",
      "    \"K\": 0.005,\n",
      "    \"Alpha\": 3.0,\n",
      "    \"Transmit_Power\": 20,\n",
      "    \"User_Equipment_Height\": 1.0\n",
      "  }\n",
      "}\n",
      "58.8161838054657\n",
      ",\n"
     ]
    },
    {
     "data": {
      "application/vnd.jupyter.widget-view+json": {
       "model_id": "12d5f192bdf747638cd5e0970a5bce95",
       "version_major": 2,
       "version_minor": 0
      },
      "text/plain": [
       "Batches:   0%|          | 0/1 [00:00<?, ?it/s]"
      ]
     },
     "metadata": {},
     "output_type": "display_data"
    },
    {
     "name": "stderr",
     "output_type": "stream",
     "text": [
      "The attention mask and the pad token id were not set. As a consequence, you may observe unexpected behavior. Please pass your input's `attention_mask` to obtain reliable results.\n",
      "Setting `pad_token_id` to `eos_token_id`:None for open-end generation.\n"
     ]
    },
    {
     "name": "stdout",
     "output_type": "stream",
     "text": [
      "12 :\n",
      "\n",
      "\n",
      "{\n",
      "  \"Parsed_Parameters\": {\n",
      "    \"X_dimension\": 50.0,\n",
      "    \"Y_dimension\": 60.0,\n",
      "    \"Number_of_Users\": 200,\n",
      "    \"Number_of_Routers\": 8,\n",
      "    \"X_User_Distribution\": \"Uniform\",\n",
      "    \"Y_User_Distribution\": \"Uniform\",\n",
      "    \"Height\": 4.0,\n",
      "    \"K\": 0.005,\n",
      "    \"Alpha\": 3.0,\n",
      "    \"Transmit_Power\": 19,\n",
      "    \"User_Equipment_Height\": 1.0\n",
      "  }\n",
      "}\n",
      "59.06389617919922\n",
      ",\n"
     ]
    },
    {
     "data": {
      "application/vnd.jupyter.widget-view+json": {
       "model_id": "08068254a7314cd4b811d6f1e51efdd8",
       "version_major": 2,
       "version_minor": 0
      },
      "text/plain": [
       "Batches:   0%|          | 0/1 [00:00<?, ?it/s]"
      ]
     },
     "metadata": {},
     "output_type": "display_data"
    },
    {
     "name": "stderr",
     "output_type": "stream",
     "text": [
      "The attention mask and the pad token id were not set. As a consequence, you may observe unexpected behavior. Please pass your input's `attention_mask` to obtain reliable results.\n",
      "Setting `pad_token_id` to `eos_token_id`:None for open-end generation.\n"
     ]
    },
    {
     "name": "stdout",
     "output_type": "stream",
     "text": [
      "13 :\n",
      "\n",
      "\n",
      "{\n",
      "  \"Parsed_Parameters\": {\n",
      "    \"X_dimension\": 45.0,\n",
      "    \"Y_dimension\": 15.0,\n",
      "    \"Number_of_Users\": 120,\n",
      "    \"Number_of_Routers\": 4,\n",
      "    \"X_User_Distribution\": \"Gaussian\",\n",
      "    \"Y_User_Distribution\": \"Uniform\",\n",
      "    \"Height\": 5.0,\n",
      "    \"K\": 0.03,\n",
      "    \"Alpha\": 3.2,\n",
      "    \"Transmit_Power\": 24,\n",
      "    \"User_Equipment_Height\": 1.0\n",
      "  }\n",
      "}\n",
      "59.31739330291748\n",
      ",\n"
     ]
    },
    {
     "data": {
      "application/vnd.jupyter.widget-view+json": {
       "model_id": "2f2c844f581646188831a4d902a50d37",
       "version_major": 2,
       "version_minor": 0
      },
      "text/plain": [
       "Batches:   0%|          | 0/1 [00:00<?, ?it/s]"
      ]
     },
     "metadata": {},
     "output_type": "display_data"
    },
    {
     "name": "stderr",
     "output_type": "stream",
     "text": [
      "The attention mask and the pad token id were not set. As a consequence, you may observe unexpected behavior. Please pass your input's `attention_mask` to obtain reliable results.\n",
      "Setting `pad_token_id` to `eos_token_id`:None for open-end generation.\n"
     ]
    },
    {
     "name": "stdout",
     "output_type": "stream",
     "text": [
      "14 :\n",
      "\n",
      "\n",
      "{\n",
      "  \"Parsed_Parameters\": {\n",
      "    \"X_dimension\": 30.0,\n",
      "    \"Y_dimension\": 40.0,\n",
      "    \"Number_of_Users\": 100,\n",
      "    \"Number_of_Routers\": 5,\n",
      "    \"X_User_Distribution\": \"Exponential\",\n",
      "    \"Y_User_Distribution\": \"Uniform\",\n",
      "    \"Height\": 5.0,\n",
      "    \"K\": 0.01,\n",
      "    \"Alpha\": 3.0,\n",
      "    \"Transmit_Power\": 19,\n",
      "    \"User_Equipment_Height\": 1.0\n",
      "  }\n",
      "}\n",
      "55.15437459945679\n",
      ",\n"
     ]
    },
    {
     "data": {
      "application/vnd.jupyter.widget-view+json": {
       "model_id": "d121c6966eee406abf882831d24e544d",
       "version_major": 2,
       "version_minor": 0
      },
      "text/plain": [
       "Batches:   0%|          | 0/1 [00:00<?, ?it/s]"
      ]
     },
     "metadata": {},
     "output_type": "display_data"
    },
    {
     "name": "stderr",
     "output_type": "stream",
     "text": [
      "The attention mask and the pad token id were not set. As a consequence, you may observe unexpected behavior. Please pass your input's `attention_mask` to obtain reliable results.\n",
      "Setting `pad_token_id` to `eos_token_id`:None for open-end generation.\n"
     ]
    },
    {
     "name": "stdout",
     "output_type": "stream",
     "text": [
      "15 :\n",
      "\n",
      "\n",
      "{\n",
      "  \"Parsed_Parameters\": {\n",
      "    \"X_dimension\": 25.0,\n",
      "    \"Y_dimension\": 40.0,\n",
      "    \"Number_of_Users\": 80,\n",
      "    \"Number_of_Routers\": 4,\n",
      "    \"X_User_Distribution\": \"Bi-Exponential\",\n",
      "    \"Y_User_Distribution\": \"Bi-Exponential\",\n",
      "    \"Height\": 4.0,\n",
      "    \"K\": 0.03,\n",
      "    \"Alpha\": 3.2,\n",
      "    \"Transmit_Power\": 22,\n",
      "    \"User_Equipment_Height\": 1.0\n",
      "  }\n",
      "}\n",
      "67.2928557395935\n",
      ",\n"
     ]
    },
    {
     "data": {
      "application/vnd.jupyter.widget-view+json": {
       "model_id": "c5a0c7a1f49842529dfa6c6d30d81a0b",
       "version_major": 2,
       "version_minor": 0
      },
      "text/plain": [
       "Batches:   0%|          | 0/1 [00:00<?, ?it/s]"
      ]
     },
     "metadata": {},
     "output_type": "display_data"
    },
    {
     "name": "stderr",
     "output_type": "stream",
     "text": [
      "The attention mask and the pad token id were not set. As a consequence, you may observe unexpected behavior. Please pass your input's `attention_mask` to obtain reliable results.\n",
      "Setting `pad_token_id` to `eos_token_id`:None for open-end generation.\n"
     ]
    },
    {
     "name": "stdout",
     "output_type": "stream",
     "text": [
      "16 :\n",
      "\n",
      "\n",
      "{\n",
      "  \"Parsed_Parameters\": {\n",
      "    \"X_dimension\": 10.0,\n",
      "    \"Y_dimension\": 20.0,\n",
      "    \"Number_of_Users\": 20,\n",
      "    \"Number_of_Routers\": 2,\n",
      "    \"X_User_Distribution\": \"Uniform\",\n",
      "    \"Y_User_Distribution\": \"Uniform\",\n",
      "    \"Height\": 3.0,\n",
      "    \"K\": 0.005,\n",
      "    \"Alpha\": 3.0,\n",
      "    \"Transmit_Power\": 15,\n",
      "    \"User_Equipment_Height\": 1.0\n",
      "  }\n",
      "}\n",
      "54.02094841003418\n",
      ",\n"
     ]
    },
    {
     "data": {
      "application/vnd.jupyter.widget-view+json": {
       "model_id": "29ce3373a551423e98bbe355cae42553",
       "version_major": 2,
       "version_minor": 0
      },
      "text/plain": [
       "Batches:   0%|          | 0/1 [00:00<?, ?it/s]"
      ]
     },
     "metadata": {},
     "output_type": "display_data"
    },
    {
     "name": "stderr",
     "output_type": "stream",
     "text": [
      "The attention mask and the pad token id were not set. As a consequence, you may observe unexpected behavior. Please pass your input's `attention_mask` to obtain reliable results.\n",
      "Setting `pad_token_id` to `eos_token_id`:None for open-end generation.\n"
     ]
    },
    {
     "name": "stdout",
     "output_type": "stream",
     "text": [
      "17 :\n",
      "\n",
      "\n",
      "{\n",
      "  \"Parsed_Parameters\": {\n",
      "    \"X_dimension\": 40.0,\n",
      "    \"Y_dimension\": 50.0,\n",
      "    \"Number_of_Users\": 180,\n",
      "    \"Number_of_Routers\": 6,\n",
      "    \"X_User_Distribution\": \"Uniform\",\n",
      "    \"Y_User_Distribution\": \"Uniform\",\n",
      "    \"Height\": 5.0,\n",
      "    \"K\": 0.03,\n",
      "    \"Alpha\": 3.2,\n",
      "    \"Transmit_Power\": 24,\n",
      "    \"User_Equipment_Height\": 1.0\n",
      "  }\n",
      "}\n",
      "56.34540772438049\n",
      ",\n"
     ]
    },
    {
     "data": {
      "application/vnd.jupyter.widget-view+json": {
       "model_id": "fe64e5ba182246338f85d0bf83248768",
       "version_major": 2,
       "version_minor": 0
      },
      "text/plain": [
       "Batches:   0%|          | 0/1 [00:00<?, ?it/s]"
      ]
     },
     "metadata": {},
     "output_type": "display_data"
    },
    {
     "name": "stderr",
     "output_type": "stream",
     "text": [
      "The attention mask and the pad token id were not set. As a consequence, you may observe unexpected behavior. Please pass your input's `attention_mask` to obtain reliable results.\n",
      "Setting `pad_token_id` to `eos_token_id`:None for open-end generation.\n"
     ]
    },
    {
     "name": "stdout",
     "output_type": "stream",
     "text": [
      "18 :\n",
      "\n",
      "\n",
      "{\n",
      "  \"Parsed_Parameters\": {\n",
      "    \"X_dimension\": 55.0,\n",
      "    \"Y_dimension\": 60.0,\n",
      "    \"Number_of_Users\": 200,\n",
      "    \"Number_of_Routers\": 9,\n",
      "    \"X_User_Distribution\": \"Gaussian\",\n",
      "    \"Y_User_Distribution\": \"Uniform\",\n",
      "    \"Height\": 6.0,\n",
      "    \"K\": 0.03,\n",
      "    \"Alpha\": 3.2,\n",
      "    \"Transmit_Power\": 20,\n",
      "    \"User_Equipment_Height\": 1.0\n",
      "  }\n",
      "}\n",
      "54.98126769065857\n",
      ",\n"
     ]
    },
    {
     "data": {
      "application/vnd.jupyter.widget-view+json": {
       "model_id": "7c4ab5935f294c759af1156c527318ea",
       "version_major": 2,
       "version_minor": 0
      },
      "text/plain": [
       "Batches:   0%|          | 0/1 [00:00<?, ?it/s]"
      ]
     },
     "metadata": {},
     "output_type": "display_data"
    },
    {
     "name": "stderr",
     "output_type": "stream",
     "text": [
      "The attention mask and the pad token id were not set. As a consequence, you may observe unexpected behavior. Please pass your input's `attention_mask` to obtain reliable results.\n",
      "Setting `pad_token_id` to `eos_token_id`:None for open-end generation.\n"
     ]
    },
    {
     "name": "stdout",
     "output_type": "stream",
     "text": [
      "19 :\n",
      "\n",
      "\n",
      "{\n",
      "  \"Parsed_Parameters\": {\n",
      "    \"X_dimension\": 20.0,\n",
      "    \"Y_dimension\": 30.0,\n",
      "    \"Number_of_Users\": 60,\n",
      "    \"Number_of_Routers\": 4,\n",
      "    \"X_User_Distribution\": \"Uniform\",\n",
      "    \"Y_User_Distribution\": \"Uniform\",\n",
      "    \"Height\": 3.0,\n",
      "    \"K\": 0.005,\n",
      "    \"Alpha\": 2.5,\n",
      "    \"Transmit_Power\": 19,\n",
      "    \"User_Equipment_Height\": 1.0\n",
      "  }\n",
      "}\n",
      "54.800124645233154\n",
      ",\n"
     ]
    },
    {
     "data": {
      "application/vnd.jupyter.widget-view+json": {
       "model_id": "5d334278a20b44c596bbc60ee3371fcd",
       "version_major": 2,
       "version_minor": 0
      },
      "text/plain": [
       "Batches:   0%|          | 0/1 [00:00<?, ?it/s]"
      ]
     },
     "metadata": {},
     "output_type": "display_data"
    },
    {
     "name": "stderr",
     "output_type": "stream",
     "text": [
      "The attention mask and the pad token id were not set. As a consequence, you may observe unexpected behavior. Please pass your input's `attention_mask` to obtain reliable results.\n",
      "Setting `pad_token_id` to `eos_token_id`:None for open-end generation.\n"
     ]
    },
    {
     "name": "stdout",
     "output_type": "stream",
     "text": [
      "20 :\n",
      " \"Parsed_Parameters\": {\n",
      "    \"X_dimension\": 30.0,\n",
      "    \"Y_dimension\": 45.0,\n",
      "    \"Number_of_Users\": 120,\n",
      "    \"Number_of_Routers\": 5,\n",
      "    \"X_User_Distribution\": \"Uniform\",\n",
      "    \"Y_User_Distribution\": \"Uniform\",\n",
      "    \"Height\": 3.0,\n",
      "    \"K\": 0.005,\n",
      "    \"Alpha\": 3.0,\n",
      "    \"Transmit_Power\": 25,\n",
      "    \"User_Equipment_Height\": 1.0\n",
      "  }\n",
      "}\n",
      "52.89577841758728\n",
      ",\n",
      "Type 2\n"
     ]
    },
    {
     "data": {
      "application/vnd.jupyter.widget-view+json": {
       "model_id": "703fce5901814cf7af14547ba9a279a1",
       "version_major": 2,
       "version_minor": 0
      },
      "text/plain": [
       "Batches:   0%|          | 0/1 [00:00<?, ?it/s]"
      ]
     },
     "metadata": {},
     "output_type": "display_data"
    },
    {
     "name": "stderr",
     "output_type": "stream",
     "text": [
      "The attention mask and the pad token id were not set. As a consequence, you may observe unexpected behavior. Please pass your input's `attention_mask` to obtain reliable results.\n",
      "Setting `pad_token_id` to `eos_token_id`:None for open-end generation.\n"
     ]
    },
    {
     "name": "stdout",
     "output_type": "stream",
     "text": [
      "21 :\n",
      "\n",
      "\n",
      "{\n",
      "  \"Parsed_Parameters\": {\n",
      "    \"X_dimension\": 25.0,\n",
      "    \"Y_dimension\": 35.0,\n",
      "    \"Number_of_Users\": 120,\n",
      "    \"Number_of_Routers\": 4,\n",
      "    \"X_User_Distribution\": \"Uniform\",\n",
      "    \"Y_User_Distribution\": \"Uniform\",\n",
      "    \"Height\": 5.0,\n",
      "    \"K\": 0.03,\n",
      "    \"Alpha\": 3.2,\n",
      "    \"Transmit_Power\": 23,\n",
      "    \"User_Equipment_Height\": 1.0\n",
      "  }\n",
      "}\n",
      "60.1541850566864\n",
      ",\n"
     ]
    },
    {
     "data": {
      "application/vnd.jupyter.widget-view+json": {
       "model_id": "cbc93ea63c814f9698152f74b3b936e5",
       "version_major": 2,
       "version_minor": 0
      },
      "text/plain": [
       "Batches:   0%|          | 0/1 [00:00<?, ?it/s]"
      ]
     },
     "metadata": {},
     "output_type": "display_data"
    },
    {
     "name": "stderr",
     "output_type": "stream",
     "text": [
      "The attention mask and the pad token id were not set. As a consequence, you may observe unexpected behavior. Please pass your input's `attention_mask` to obtain reliable results.\n",
      "Setting `pad_token_id` to `eos_token_id`:None for open-end generation.\n"
     ]
    },
    {
     "name": "stdout",
     "output_type": "stream",
     "text": [
      "22 :\n",
      "\n",
      "\n",
      "{\n",
      "  \"Parsed_Parameters\": {\n",
      "    \"X_dimension\": 50.0,\n",
      "    \"Y_dimension\": 20.0,\n",
      "    \"Number_of_Users\": 180,\n",
      "    \"Number_of_Routers\": 8,\n",
      "    \"X_User_Distribution\": \"Exponential\",\n",
      "    \"Y_User_Distribution\": \"Bi-Exponential\",\n",
      "    \"Height\": 3.0,\n",
      "    \"K\": 0.015,\n",
      "    \"Alpha\": 3.0,\n",
      "    \"Transmit_Power\": 19,\n",
      "    \"User_Equipment_Height\": 1.0\n",
      "  }\n",
      "}\n",
      "53.919159173965454\n",
      ",\n"
     ]
    },
    {
     "data": {
      "application/vnd.jupyter.widget-view+json": {
       "model_id": "303e648f015541b18d8603d08198cbc2",
       "version_major": 2,
       "version_minor": 0
      },
      "text/plain": [
       "Batches:   0%|          | 0/1 [00:00<?, ?it/s]"
      ]
     },
     "metadata": {},
     "output_type": "display_data"
    },
    {
     "name": "stderr",
     "output_type": "stream",
     "text": [
      "The attention mask and the pad token id were not set. As a consequence, you may observe unexpected behavior. Please pass your input's `attention_mask` to obtain reliable results.\n",
      "Setting `pad_token_id` to `eos_token_id`:None for open-end generation.\n"
     ]
    },
    {
     "name": "stdout",
     "output_type": "stream",
     "text": [
      "23 :\n",
      "\n",
      "\n",
      "{\n",
      "  \"Parsed_Parameters\": {\n",
      "    \"X_dimension\": 15.0,\n",
      "    \"Y_dimension\": 25.0,\n",
      "    \"Number_of_Users\": 50,\n",
      "    \"Number_of_Routers\": 3,\n",
      "    \"X_User_Distribution\": \"Along the Edge\",\n",
      "    \"Y_User_Distribution\": \"Uniform\",\n",
      "    \"Height\": 2.5,\n",
      "    \"K\": 0.015,\n",
      "    \"Alpha\": 3.0,\n",
      "    \"Transmit_Power\": 19,\n",
      "    \"User_Equipment_Height\": 1.0\n",
      "  }\n",
      "}\n",
      "53.027273178100586\n",
      ",\n"
     ]
    },
    {
     "data": {
      "application/vnd.jupyter.widget-view+json": {
       "model_id": "c21f98e68af34fb5a5f150f3910d39f3",
       "version_major": 2,
       "version_minor": 0
      },
      "text/plain": [
       "Batches:   0%|          | 0/1 [00:00<?, ?it/s]"
      ]
     },
     "metadata": {},
     "output_type": "display_data"
    },
    {
     "name": "stderr",
     "output_type": "stream",
     "text": [
      "The attention mask and the pad token id were not set. As a consequence, you may observe unexpected behavior. Please pass your input's `attention_mask` to obtain reliable results.\n",
      "Setting `pad_token_id` to `eos_token_id`:None for open-end generation.\n"
     ]
    },
    {
     "name": "stdout",
     "output_type": "stream",
     "text": [
      "24 :\n",
      "\n",
      "\n",
      "{\n",
      "  \"Parsed_Parameters\": {\n",
      "    \"X_dimension\": 40.0,\n",
      "    \"Y_dimension\": 30.0,\n",
      "    \"Number_of_Users\": 100,\n",
      "    \"Number_of_Routers\": 5,\n",
      "    \"X_User_Distribution\": \"Gaussian\",\n",
      "    \"Y_User_Distribution\": \"Gaussian\",\n",
      "    \"Height\": 3.0,\n",
      "    \"K\": 0.005,\n",
      "    \"Alpha\": 3.0,\n",
      "    \"Transmit_Power\": 19,\n",
      "    \"User_Equipment_Height\": 1.0\n",
      "  }\n",
      "}\n",
      "53.84943389892578\n",
      ",\n"
     ]
    },
    {
     "data": {
      "application/vnd.jupyter.widget-view+json": {
       "model_id": "f8b68892300e463a86650df88084be98",
       "version_major": 2,
       "version_minor": 0
      },
      "text/plain": [
       "Batches:   0%|          | 0/1 [00:00<?, ?it/s]"
      ]
     },
     "metadata": {},
     "output_type": "display_data"
    },
    {
     "name": "stderr",
     "output_type": "stream",
     "text": [
      "The attention mask and the pad token id were not set. As a consequence, you may observe unexpected behavior. Please pass your input's `attention_mask` to obtain reliable results.\n",
      "Setting `pad_token_id` to `eos_token_id`:None for open-end generation.\n"
     ]
    },
    {
     "name": "stdout",
     "output_type": "stream",
     "text": [
      "25 :\n",
      "\n",
      "\n",
      "{\n",
      "  \"Parsed_Parameters\": {\n",
      "    \"X_dimension\": 45.0,\n",
      "    \"Y_dimension\": 25.0,\n",
      "    \"Number_of_Users\": 160,\n",
      "    \"Number_of_Routers\": 6,\n",
      "    \"X_User_Distribution\": \"Gaussian\",\n",
      "    \"Y_User_Distribution\": \"Gaussian\",\n",
      "    \"Height\": 4.0,\n",
      "    \"K\": 0.02,\n",
      "    \"Alpha\": 2.8,\n",
      "    \"Transmit_Power\": 19,\n",
      "    \"User_Equipment_Height\": 1.0\n",
      "  }\n",
      "}\n",
      "53.381935834884644\n",
      ",\n"
     ]
    },
    {
     "data": {
      "application/vnd.jupyter.widget-view+json": {
       "model_id": "0893ce53333645c4a36aa6f64c25e7ed",
       "version_major": 2,
       "version_minor": 0
      },
      "text/plain": [
       "Batches:   0%|          | 0/1 [00:00<?, ?it/s]"
      ]
     },
     "metadata": {},
     "output_type": "display_data"
    },
    {
     "name": "stderr",
     "output_type": "stream",
     "text": [
      "The attention mask and the pad token id were not set. As a consequence, you may observe unexpected behavior. Please pass your input's `attention_mask` to obtain reliable results.\n",
      "Setting `pad_token_id` to `eos_token_id`:None for open-end generation.\n"
     ]
    },
    {
     "name": "stdout",
     "output_type": "stream",
     "text": [
      "26 :\n",
      "\n",
      "\n",
      "{\n",
      "  \"Parsed_Parameters\": {\n",
      "    \"X_dimension\": 55.0,\n",
      "    \"Y_dimension\": 30.0,\n",
      "    \"Number_of_Users\": 200,\n",
      "    \"Number_of_Routers\": 9,\n",
      "    \"X_User_Distribution\": \"Exponential\",\n",
      "    \"Y_User_Distribution\": \"Uniform\",\n",
      "    \"Height\": 3.0,\n",
      "    \"K\": 0.005,\n",
      "    \"Alpha\": 3.0,\n",
      "    \"Transmit_Power\": 19,\n",
      "    \"User_Equipment_Height\": 1.0\n",
      "  }\n",
      "}\n",
      "61.4650022983551\n",
      ",\n"
     ]
    },
    {
     "data": {
      "application/vnd.jupyter.widget-view+json": {
       "model_id": "c9f9976165d74766bc40a658f2b6364f",
       "version_major": 2,
       "version_minor": 0
      },
      "text/plain": [
       "Batches:   0%|          | 0/1 [00:00<?, ?it/s]"
      ]
     },
     "metadata": {},
     "output_type": "display_data"
    },
    {
     "name": "stderr",
     "output_type": "stream",
     "text": [
      "The attention mask and the pad token id were not set. As a consequence, you may observe unexpected behavior. Please pass your input's `attention_mask` to obtain reliable results.\n",
      "Setting `pad_token_id` to `eos_token_id`:None for open-end generation.\n"
     ]
    },
    {
     "name": "stdout",
     "output_type": "stream",
     "text": [
      "27 :\n",
      "\n",
      "\n",
      "{\n",
      "  \"Parsed_Parameters\": {\n",
      "    \"X_dimension\": 20.0,\n",
      "    \"Y_dimension\": 40.0,\n",
      "    \"Number_of_Users\": 80,\n",
      "    \"Number_of_Routers\": 4,\n",
      "    \"X_User_Distribution\": \"Exponential\",\n",
      "    \"Y_User_Distribution\": \"Bi-Exponential\",\n",
      "    \"Height\": 3.0,\n",
      "    \"K\": 0.015,\n",
      "    \"Alpha\": 3.0,\n",
      "    \"Transmit_Power\": 20,\n",
      "    \"User_Equipment_Height\": 1.0\n",
      "  }\n",
      "}\n",
      "59.13894319534302\n",
      ",\n"
     ]
    },
    {
     "data": {
      "application/vnd.jupyter.widget-view+json": {
       "model_id": "29b8e24bf17446e5a1006718b7c3b208",
       "version_major": 2,
       "version_minor": 0
      },
      "text/plain": [
       "Batches:   0%|          | 0/1 [00:00<?, ?it/s]"
      ]
     },
     "metadata": {},
     "output_type": "display_data"
    },
    {
     "name": "stderr",
     "output_type": "stream",
     "text": [
      "The attention mask and the pad token id were not set. As a consequence, you may observe unexpected behavior. Please pass your input's `attention_mask` to obtain reliable results.\n",
      "Setting `pad_token_id` to `eos_token_id`:None for open-end generation.\n"
     ]
    },
    {
     "name": "stdout",
     "output_type": "stream",
     "text": [
      "28 :\n",
      "\n",
      "\n",
      "{\n",
      "  \"Parsed_Parameters\": {\n",
      "    \"X_dimension\": 35.0,\n",
      "    \"Y_dimension\": 25.0,\n",
      "    \"Number_of_Users\": 140,\n",
      "    \"Number_of_Routers\": 7,\n",
      "    \"X_User_Distribution\": \"Uniform\",\n",
      "    \"Y_User_Distribution\": \"Uniform\",\n",
      "    \"Height\": 3.0,\n",
      "    \"K\": 0.03,\n",
      "    \"Alpha\": 3.2,\n",
      "    \"Transmit_Power\": 19,\n",
      "    \"User_Equipment_Height\": 1.0\n",
      "  }\n",
      "}\n",
      "54.63061046600342\n",
      ",\n"
     ]
    },
    {
     "data": {
      "application/vnd.jupyter.widget-view+json": {
       "model_id": "11a361f436b444fb8cd65d525bba2ce6",
       "version_major": 2,
       "version_minor": 0
      },
      "text/plain": [
       "Batches:   0%|          | 0/1 [00:00<?, ?it/s]"
      ]
     },
     "metadata": {},
     "output_type": "display_data"
    },
    {
     "name": "stderr",
     "output_type": "stream",
     "text": [
      "The attention mask and the pad token id were not set. As a consequence, you may observe unexpected behavior. Please pass your input's `attention_mask` to obtain reliable results.\n",
      "Setting `pad_token_id` to `eos_token_id`:None for open-end generation.\n"
     ]
    },
    {
     "name": "stdout",
     "output_type": "stream",
     "text": [
      "29 :\n",
      "\n",
      "\n",
      "{\n",
      "  \"Parsed_Parameters\": {\n",
      "    \"X_dimension\": 30.0,\n",
      "    \"Y_dimension\": 40.0,\n",
      "    \"Number_of_Users\": 110,\n",
      "    \"Number_of_Routers\": 5,\n",
      "    \"X_User_Distribution\": \"Bi-Exponential\",\n",
      "    \"Y_User_Distribution\": \"Bi-Exponential\",\n",
      "    \"Height\": 3.0,\n",
      "    \"K\": 0.005,\n",
      "    \"Alpha\": 3.0,\n",
      "    \"Transmit_Power\": 19,\n",
      "    \"User_Equipment_Height\": 1.0\n",
      "  }\n",
      "}\n",
      "55.157883167266846\n",
      ",\n"
     ]
    },
    {
     "data": {
      "application/vnd.jupyter.widget-view+json": {
       "model_id": "45e81bbcbd5c464da602c5239cacbebc",
       "version_major": 2,
       "version_minor": 0
      },
      "text/plain": [
       "Batches:   0%|          | 0/1 [00:00<?, ?it/s]"
      ]
     },
     "metadata": {},
     "output_type": "display_data"
    },
    {
     "name": "stderr",
     "output_type": "stream",
     "text": [
      "The attention mask and the pad token id were not set. As a consequence, you may observe unexpected behavior. Please pass your input's `attention_mask` to obtain reliable results.\n",
      "Setting `pad_token_id` to `eos_token_id`:None for open-end generation.\n"
     ]
    },
    {
     "name": "stdout",
     "output_type": "stream",
     "text": [
      "30 :\n",
      "\n",
      "\n",
      "{\n",
      "  \"Parsed_Parameters\": {\n",
      "    \"X_dimension\": 40.0,\n",
      "    \"Y_dimension\": 20.0,\n",
      "    \"Number_of_Users\": 130,\n",
      "    \"Number_of_Routers\": 6,\n",
      "    \"X_User_Distribution\": \"Gaussian\",\n",
      "    \"Y_User_Distribution\": \"Gaussian\",\n",
      "    \"Height\": 3.0,\n",
      "    \"K\": 0.015,\n",
      "    \"Alpha\": 3.0,\n",
      "    \"Transmit_Power\": 19,\n",
      "    \"User_Equipment_Height\": 1.0\n",
      "  }\n",
      "}\n",
      "53.82255840301514\n",
      ",\n",
      "Class 1\n",
      "Type 0\n"
     ]
    },
    {
     "data": {
      "application/vnd.jupyter.widget-view+json": {
       "model_id": "c81f5df889714b36a2035526ad88c952",
       "version_major": 2,
       "version_minor": 0
      },
      "text/plain": [
       "Batches:   0%|          | 0/1 [00:00<?, ?it/s]"
      ]
     },
     "metadata": {},
     "output_type": "display_data"
    },
    {
     "name": "stderr",
     "output_type": "stream",
     "text": [
      "The attention mask and the pad token id were not set. As a consequence, you may observe unexpected behavior. Please pass your input's `attention_mask` to obtain reliable results.\n",
      "Setting `pad_token_id` to `eos_token_id`:None for open-end generation.\n"
     ]
    },
    {
     "name": "stdout",
     "output_type": "stream",
     "text": [
      "31 :\n",
      "\n",
      "\n",
      "{\n",
      "  \"Parsed_Parameters\": {\n",
      "    \"X_dimension\": 50.0,\n",
      "    \"Y_dimension\": 20.0,\n",
      "    \"Number_of_Users\": 150,\n",
      "    \"Number_of_Routers\": 8,\n",
      "    \"X_User_Distribution\": \"Gaussian\",\n",
      "    \"Y_User_Distribution\": \"Exponential\",\n",
      "    \"Height\": 5.0,\n",
      "    \"K\": 0.01,\n",
      "    \"Alpha\": 3.0,\n",
      "    \"Transmit_Power\": 25,\n",
      "    \"User_Equipment_Height\": 1.0\n",
      "  }\n",
      "}\n",
      "58.494640588760376\n",
      ",\n"
     ]
    },
    {
     "data": {
      "application/vnd.jupyter.widget-view+json": {
       "model_id": "c5f72e6ae895413c9920582fdaae3c7b",
       "version_major": 2,
       "version_minor": 0
      },
      "text/plain": [
       "Batches:   0%|          | 0/1 [00:00<?, ?it/s]"
      ]
     },
     "metadata": {},
     "output_type": "display_data"
    },
    {
     "name": "stderr",
     "output_type": "stream",
     "text": [
      "The attention mask and the pad token id were not set. As a consequence, you may observe unexpected behavior. Please pass your input's `attention_mask` to obtain reliable results.\n",
      "Setting `pad_token_id` to `eos_token_id`:None for open-end generation.\n"
     ]
    },
    {
     "name": "stdout",
     "output_type": "stream",
     "text": [
      "32 :\n",
      "\n",
      "\n",
      "{\n",
      "  \"Parsed_Parameters\": {\n",
      "    \"X_dimension\": 40.0,\n",
      "    \"Y_dimension\": 15.0,\n",
      "    \"Number_of_Users\": 80,\n",
      "    \"Number_of_Routers\": 4,\n",
      "    \"X_User_Distribution\": \"Uniform\",\n",
      "    \"Y_User_Distribution\": \"Bi-Exponential\",\n",
      "    \"Height\": 3.0,\n",
      "    \"K\": 0.005,\n",
      "    \"Alpha\": 2.5,\n",
      "    \"Transmit_Power\": 20,\n",
      "    \"User_Equipment_Height\": 1.0\n",
      "  }\n",
      "}\n",
      "69.15504050254822\n",
      ",\n"
     ]
    },
    {
     "data": {
      "application/vnd.jupyter.widget-view+json": {
       "model_id": "2fd734ecdd254181bbc2f07e8519cc88",
       "version_major": 2,
       "version_minor": 0
      },
      "text/plain": [
       "Batches:   0%|          | 0/1 [00:00<?, ?it/s]"
      ]
     },
     "metadata": {},
     "output_type": "display_data"
    },
    {
     "name": "stderr",
     "output_type": "stream",
     "text": [
      "The attention mask and the pad token id were not set. As a consequence, you may observe unexpected behavior. Please pass your input's `attention_mask` to obtain reliable results.\n",
      "Setting `pad_token_id` to `eos_token_id`:None for open-end generation.\n"
     ]
    },
    {
     "name": "stdout",
     "output_type": "stream",
     "text": [
      "33 :\n",
      " \"Parsed_Parameters\": {\n",
      "    \"X_dimension\": 60.0,\n",
      "    \"Y_dimension\": 25.0,\n",
      "    \"Number_of_Users\": 100,\n",
      "    \"Number_of_Routers\": 5,\n",
      "    \"X_User_Distribution\": \"Exponential\",\n",
      "    \"Y_User_Distribution\": \"Exponential\",\n",
      "    \"Height\": 6.0,\n",
      "    \"K\": 0.03,\n",
      "    \"Alpha\": 3.5,\n",
      "    \"Transmit_Power\": 28,\n",
      "    \"User_Equipment_Height\": 1.0\n",
      "  }\n",
      "}\n",
      "55.3028678894043\n",
      ",\n"
     ]
    },
    {
     "data": {
      "application/vnd.jupyter.widget-view+json": {
       "model_id": "b922d8e190a347b4b75e8be833cf1c38",
       "version_major": 2,
       "version_minor": 0
      },
      "text/plain": [
       "Batches:   0%|          | 0/1 [00:00<?, ?it/s]"
      ]
     },
     "metadata": {},
     "output_type": "display_data"
    },
    {
     "name": "stderr",
     "output_type": "stream",
     "text": [
      "The attention mask and the pad token id were not set. As a consequence, you may observe unexpected behavior. Please pass your input's `attention_mask` to obtain reliable results.\n",
      "Setting `pad_token_id` to `eos_token_id`:None for open-end generation.\n"
     ]
    },
    {
     "name": "stdout",
     "output_type": "stream",
     "text": [
      "34 :\n",
      "\n",
      "\n",
      "{\n",
      "  \"Parsed_Parameters\": {\n",
      "    \"X_dimension\": 30.0,\n",
      "    \"Y_dimension\": 10.0,\n",
      "    \"Number_of_Users\": 50,\n",
      "    \"Number_of_Routers\": 3,\n",
      "    \"X_User_Distribution\": \"Uniform\",\n",
      "    \"Y_User_Distribution\": \"Uniform\",\n",
      "    \"Height\": 4.0,\n",
      "    \"K\": 0.02,\n",
      "    \"Alpha\": 2.2,\n",
      "    \"Transmit_Power\": 22,\n",
      "    \"User_Equipment_Height\": 1.0\n",
      "  }\n",
      "}\n",
      "53.30893659591675\n",
      ",\n"
     ]
    },
    {
     "data": {
      "application/vnd.jupyter.widget-view+json": {
       "model_id": "63306f22d21f4bbcaf24b8e8c9effb55",
       "version_major": 2,
       "version_minor": 0
      },
      "text/plain": [
       "Batches:   0%|          | 0/1 [00:00<?, ?it/s]"
      ]
     },
     "metadata": {},
     "output_type": "display_data"
    },
    {
     "name": "stderr",
     "output_type": "stream",
     "text": [
      "The attention mask and the pad token id were not set. As a consequence, you may observe unexpected behavior. Please pass your input's `attention_mask` to obtain reliable results.\n",
      "Setting `pad_token_id` to `eos_token_id`:None for open-end generation.\n"
     ]
    },
    {
     "name": "stdout",
     "output_type": "stream",
     "text": [
      "35 :\n",
      "\n",
      "\n",
      "{\n",
      "  \"Parsed_Parameters\": {\n",
      "    \"X_dimension\": 45.0,\n",
      "    \"Y_dimension\": 20.0,\n",
      "    \"Number_of_Users\": 120,\n",
      "    \"Number_of_Routers\": 6,\n",
      "    \"X_User_Distribution\": \"Bi-Exponential\",\n",
      "    \"Y_User_Distribution\": \"Gaussian\",\n",
      "    \"Height\": 5.0,\n",
      "    \"K\": 0.01,\n",
      "    \"Alpha\": 3.0,\n",
      "    \"Transmit_Power\": 25,\n",
      "    \"User_Equipment_Height\": 1.0\n",
      "  }\n",
      "}\n",
      "54.75368928909302\n",
      ",\n"
     ]
    },
    {
     "data": {
      "application/vnd.jupyter.widget-view+json": {
       "model_id": "5519c5bbd19547ada4423e4f0f6766e4",
       "version_major": 2,
       "version_minor": 0
      },
      "text/plain": [
       "Batches:   0%|          | 0/1 [00:00<?, ?it/s]"
      ]
     },
     "metadata": {},
     "output_type": "display_data"
    },
    {
     "name": "stderr",
     "output_type": "stream",
     "text": [
      "The attention mask and the pad token id were not set. As a consequence, you may observe unexpected behavior. Please pass your input's `attention_mask` to obtain reliable results.\n",
      "Setting `pad_token_id` to `eos_token_id`:None for open-end generation.\n"
     ]
    },
    {
     "name": "stdout",
     "output_type": "stream",
     "text": [
      "36 :\n",
      "\n",
      "\n",
      "{\n",
      "  \"Parsed_Parameters\": {\n",
      "    \"X_dimension\": 55.0,\n",
      "    \"Y_dimension\": 25.0,\n",
      "    \"Number_of_Users\": 180,\n",
      "    \"Number_of_Routers\": 9,\n",
      "    \"X_User_Distribution\": \"Uniform\",\n",
      "    \"Y_User_Distribution\": \"Uniform\",\n",
      "    \"Height\": 4.0,\n",
      "    \"K\": 0.04,\n",
      "    \"Alpha\": 3.2,\n",
      "    \"Transmit_Power\": 29,\n",
      "    \"User_Equipment_Height\": 1.0\n",
      "  }\n",
      "}\n",
      "58.84502363204956\n",
      ",\n"
     ]
    },
    {
     "data": {
      "application/vnd.jupyter.widget-view+json": {
       "model_id": "9e69516eccbe4d32a4b6f5a42de78f56",
       "version_major": 2,
       "version_minor": 0
      },
      "text/plain": [
       "Batches:   0%|          | 0/1 [00:00<?, ?it/s]"
      ]
     },
     "metadata": {},
     "output_type": "display_data"
    },
    {
     "name": "stderr",
     "output_type": "stream",
     "text": [
      "The attention mask and the pad token id were not set. As a consequence, you may observe unexpected behavior. Please pass your input's `attention_mask` to obtain reliable results.\n",
      "Setting `pad_token_id` to `eos_token_id`:None for open-end generation.\n"
     ]
    },
    {
     "name": "stdout",
     "output_type": "stream",
     "text": [
      "37 :\n",
      "\n",
      "{\n",
      "  \"Parsed_Parameters\": {\n",
      "    \"X_dimension\": 20.0,\n",
      "    \"Y_dimension\": 10.0,\n",
      "    \"Number_of_Users\": 40,\n",
      "    \"Number_of_Routers\": 2,\n",
      "    \"X_User_Distribution\": \"Exponential\",\n",
      "    \"Y_User_Distribution\": \"Uniform\",\n",
      "    \"Height\": 3.0,\n",
      "    \"K\": 0.005,\n",
      "    \"Alpha\": 2.0,\n",
      "    \"Transmit_Power\": 20,\n",
      "    \"User_Equipment_Height\": 1.0\n",
      "  }\n",
      "}\n",
      "```\n",
      "59.40366196632385\n",
      ",\n"
     ]
    },
    {
     "data": {
      "application/vnd.jupyter.widget-view+json": {
       "model_id": "b6f860be3849471498cb140472cf5496",
       "version_major": 2,
       "version_minor": 0
      },
      "text/plain": [
       "Batches:   0%|          | 0/1 [00:00<?, ?it/s]"
      ]
     },
     "metadata": {},
     "output_type": "display_data"
    },
    {
     "name": "stderr",
     "output_type": "stream",
     "text": [
      "The attention mask and the pad token id were not set. As a consequence, you may observe unexpected behavior. Please pass your input's `attention_mask` to obtain reliable results.\n",
      "Setting `pad_token_id` to `eos_token_id`:None for open-end generation.\n"
     ]
    },
    {
     "name": "stdout",
     "output_type": "stream",
     "text": [
      "38 :\n",
      "\n",
      "\n",
      "{\n",
      "  \"Parsed_Parameters\": {\n",
      "    \"X_dimension\": 50.0,\n",
      "    \"Y_dimension\": 20.0,\n",
      "    \"Number_of_Users\": 150,\n",
      "    \"Number_of_Routers\": 7,\n",
      "    \"X_User_Distribution\": \"Gaussian\",\n",
      "    \"Y_User_Distribution\": \"Gaussian\",\n",
      "    \"Height\": 5.0,\n",
      "    \"K\": 0.02,\n",
      "    \"Alpha\": 2.8,\n",
      "    \"Transmit_Power\": 27,\n",
      "    \"User_Equipment_Height\": 1.0\n",
      "  }\n",
      "}\n",
      "55.110137939453125\n",
      ",\n"
     ]
    },
    {
     "data": {
      "application/vnd.jupyter.widget-view+json": {
       "model_id": "641971452fa9497d91afe2996d0c8c3a",
       "version_major": 2,
       "version_minor": 0
      },
      "text/plain": [
       "Batches:   0%|          | 0/1 [00:00<?, ?it/s]"
      ]
     },
     "metadata": {},
     "output_type": "display_data"
    },
    {
     "name": "stderr",
     "output_type": "stream",
     "text": [
      "The attention mask and the pad token id were not set. As a consequence, you may observe unexpected behavior. Please pass your input's `attention_mask` to obtain reliable results.\n",
      "Setting `pad_token_id` to `eos_token_id`:None for open-end generation.\n"
     ]
    },
    {
     "name": "stdout",
     "output_type": "stream",
     "text": [
      "39 :\n",
      "\n",
      "\n",
      "{\n",
      "  \"Parsed_Parameters\": {\n",
      "    \"X_dimension\": 35.0,\n",
      "    \"Y_dimension\": 15.0,\n",
      "    \"Number_of_Users\": 90,\n",
      "    \"Number_of_Routers\": 5,\n",
      "    \"X_User_Distribution\": \"Bi-Exponential\",\n",
      "    \"Y_User_Distribution\": \"Bi-Exponential\",\n",
      "    \"Height\": 4.0,\n",
      "    \"K\": 0.01,\n",
      "    \"Alpha\": 2.5,\n",
      "    \"Transmit_Power\": 24,\n",
      "    \"User_Equipment_Height\": 1.0\n",
      "  }\n",
      "}\n",
      "59.404879570007324\n",
      ",\n"
     ]
    },
    {
     "data": {
      "application/vnd.jupyter.widget-view+json": {
       "model_id": "1da860d2151f4225bf4cb833fa2d1116",
       "version_major": 2,
       "version_minor": 0
      },
      "text/plain": [
       "Batches:   0%|          | 0/1 [00:00<?, ?it/s]"
      ]
     },
     "metadata": {},
     "output_type": "display_data"
    },
    {
     "name": "stderr",
     "output_type": "stream",
     "text": [
      "The attention mask and the pad token id were not set. As a consequence, you may observe unexpected behavior. Please pass your input's `attention_mask` to obtain reliable results.\n",
      "Setting `pad_token_id` to `eos_token_id`:None for open-end generation.\n"
     ]
    },
    {
     "name": "stdout",
     "output_type": "stream",
     "text": [
      "40 :\n",
      " \"Parsed_Parameters\": {\n",
      "    \"X_dimension\": 40.0,\n",
      "    \"Y_dimension\": 20.0,\n",
      "    \"Number_of_Users\": 120,\n",
      "    \"Number_of_Routers\": 6,\n",
      "    \"X_User_Distribution\": \"Uniform\",\n",
      "    \"Y_User_Distribution\": \"Exponential\",\n",
      "    \"Height\": 6.0,\n",
      "    \"K\": 0.03,\n",
      "    \"Alpha\": 3.0,\n",
      "    \"Transmit_Power\": 26.0,\n",
      "    \"User_Equipment_Height\": 1.0\n",
      "  }\n",
      "}\n",
      "54.0093252658844\n",
      ",\n",
      "Type 1\n"
     ]
    },
    {
     "data": {
      "application/vnd.jupyter.widget-view+json": {
       "model_id": "f6423668c16e45a3b6ea43c70d62a2e4",
       "version_major": 2,
       "version_minor": 0
      },
      "text/plain": [
       "Batches:   0%|          | 0/1 [00:00<?, ?it/s]"
      ]
     },
     "metadata": {},
     "output_type": "display_data"
    },
    {
     "name": "stderr",
     "output_type": "stream",
     "text": [
      "The attention mask and the pad token id were not set. As a consequence, you may observe unexpected behavior. Please pass your input's `attention_mask` to obtain reliable results.\n",
      "Setting `pad_token_id` to `eos_token_id`:None for open-end generation.\n"
     ]
    },
    {
     "name": "stdout",
     "output_type": "stream",
     "text": [
      "41 :\n",
      "\n",
      "\n",
      "{\n",
      "  \"Parsed_Parameters\": {\n",
      "    \"X_dimension\": 25.0,\n",
      "    \"Y_dimension\": 40.0,\n",
      "    \"Number_of_Users\": 150,\n",
      "    \"Number_of_Routers\": 8,\n",
      "    \"X_User_Distribution\": \"Uniform\",\n",
      "    \"Y_User_Distribution\": \"Uniform\",\n",
      "    \"Height\": 3.0,\n",
      "    \"K\": 0.005,\n",
      "    \"Alpha\": 3.0,\n",
      "    \"Transmit_Power\": 19,\n",
      "    \"User_Equipment_Height\": 1.0\n",
      "  }\n",
      "}\n",
      "64.65873074531555\n",
      ",\n"
     ]
    },
    {
     "data": {
      "application/vnd.jupyter.widget-view+json": {
       "model_id": "113f5aa168b3424da756d3c080ead48c",
       "version_major": 2,
       "version_minor": 0
      },
      "text/plain": [
       "Batches:   0%|          | 0/1 [00:00<?, ?it/s]"
      ]
     },
     "metadata": {},
     "output_type": "display_data"
    },
    {
     "name": "stderr",
     "output_type": "stream",
     "text": [
      "The attention mask and the pad token id were not set. As a consequence, you may observe unexpected behavior. Please pass your input's `attention_mask` to obtain reliable results.\n",
      "Setting `pad_token_id` to `eos_token_id`:None for open-end generation.\n"
     ]
    },
    {
     "name": "stdout",
     "output_type": "stream",
     "text": [
      "42 :\n",
      "\n",
      "\n",
      "{\n",
      "  \"Parsed_Parameters\": {\n",
      "    \"X_dimension\": 15.0,\n",
      "    \"Y_dimension\": 30.0,\n",
      "    \"Number_of_Users\": 60,\n",
      "    \"Number_of_Routers\": 4,\n",
      "    \"X_User_Distribution\": \"Uniform\",\n",
      "    \"Y_User_Distribution\": \"Uniform\",\n",
      "    \"Height\": 3.0,\n",
      "    \"K\": 0.005,\n",
      "    \"Alpha\": 3.0,\n",
      "    \"Transmit_Power\": 19,\n",
      "    \"User_Equipment_Height\": 1.0\n",
      "  }\n",
      "}\n",
      "52.82264304161072\n",
      ",\n"
     ]
    },
    {
     "data": {
      "application/vnd.jupyter.widget-view+json": {
       "model_id": "70aa30f52bac4aa39b6ed128d5d0dc0b",
       "version_major": 2,
       "version_minor": 0
      },
      "text/plain": [
       "Batches:   0%|          | 0/1 [00:00<?, ?it/s]"
      ]
     },
     "metadata": {},
     "output_type": "display_data"
    },
    {
     "name": "stderr",
     "output_type": "stream",
     "text": [
      "The attention mask and the pad token id were not set. As a consequence, you may observe unexpected behavior. Please pass your input's `attention_mask` to obtain reliable results.\n",
      "Setting `pad_token_id` to `eos_token_id`:None for open-end generation.\n"
     ]
    },
    {
     "name": "stdout",
     "output_type": "stream",
     "text": [
      "43 :\n",
      "\n",
      "\n",
      "{\n",
      "  \"Parsed_Parameters\": {\n",
      "    \"X_dimension\": 50.0,\n",
      "    \"Y_dimension\": 25.0,\n",
      "    \"Number_of_Users\": 120,\n",
      "    \"Number_of_Routers\": 7,\n",
      "    \"X_User_Distribution\": \"Uniform\",\n",
      "    \"Y_User_Distribution\": \"Uniform\",\n",
      "    \"Height\": 10.0,\n",
      "    \"K\": 0.03,\n",
      "    \"Alpha\": 2.8,\n",
      "    \"Transmit_Power\": 22,\n",
      "    \"User_Equipment_Height\": 1.0\n",
      "  }\n",
      "}\n",
      "67.82156777381897\n",
      ",\n"
     ]
    },
    {
     "data": {
      "application/vnd.jupyter.widget-view+json": {
       "model_id": "b45e32a3531549f8addda6f883028504",
       "version_major": 2,
       "version_minor": 0
      },
      "text/plain": [
       "Batches:   0%|          | 0/1 [00:00<?, ?it/s]"
      ]
     },
     "metadata": {},
     "output_type": "display_data"
    },
    {
     "name": "stderr",
     "output_type": "stream",
     "text": [
      "The attention mask and the pad token id were not set. As a consequence, you may observe unexpected behavior. Please pass your input's `attention_mask` to obtain reliable results.\n",
      "Setting `pad_token_id` to `eos_token_id`:None for open-end generation.\n"
     ]
    },
    {
     "name": "stdout",
     "output_type": "stream",
     "text": [
      "44 :\n",
      "\n",
      "\n",
      "{\n",
      "  \"Parsed_Parameters\": {\n",
      "    \"X_dimension\": 20.0,\n",
      "    \"Y_dimension\": 15.0,\n",
      "    \"Number_of_Users\": 100,\n",
      "    \"Number_of_Routers\": 5,\n",
      "    \"X_User_Distribution\": \"Uniform\",\n",
      "    \"Y_User_Distribution\": \"Uniform\",\n",
      "    \"Height\": 2.8,\n",
      "    \"K\": 0.015,\n",
      "    \"Alpha\": 3.0,\n",
      "    \"Transmit_Power\": 24,\n",
      "    \"User_Equipment_Height\": 1.0\n",
      "  }\n",
      "}\n",
      "58.31441354751587\n",
      ",\n"
     ]
    },
    {
     "data": {
      "application/vnd.jupyter.widget-view+json": {
       "model_id": "f1f8613586bc46ceb16b50123d374db4",
       "version_major": 2,
       "version_minor": 0
      },
      "text/plain": [
       "Batches:   0%|          | 0/1 [00:00<?, ?it/s]"
      ]
     },
     "metadata": {},
     "output_type": "display_data"
    },
    {
     "name": "stderr",
     "output_type": "stream",
     "text": [
      "The attention mask and the pad token id were not set. As a consequence, you may observe unexpected behavior. Please pass your input's `attention_mask` to obtain reliable results.\n",
      "Setting `pad_token_id` to `eos_token_id`:None for open-end generation.\n"
     ]
    },
    {
     "name": "stdout",
     "output_type": "stream",
     "text": [
      "45 :\n",
      "\n",
      "\n",
      "{\n",
      "  \"Parsed_Parameters\": {\n",
      "    \"X_dimension\": 10.0,\n",
      "    \"Y_dimension\": 20.0,\n",
      "    \"Number_of_Users\": 40,\n",
      "    \"Number_of_Routers\": 3,\n",
      "    \"X_User_Distribution\": \"Gaussian\",\n",
      "    \"Y_User_Distribution\": \"Gaussian\",\n",
      "    \"Height\": 2.5,\n",
      "    \"K\": 0.015,\n",
      "    \"Alpha\": 3.0,\n",
      "    \"Transmit_Power\": 19,\n",
      "    \"User_Equipment_Height\": 1.0\n",
      "  }\n",
      "}\n",
      "57.403026819229126\n",
      ",\n"
     ]
    },
    {
     "data": {
      "application/vnd.jupyter.widget-view+json": {
       "model_id": "8f786a4ff6b0400d836326365ae16da6",
       "version_major": 2,
       "version_minor": 0
      },
      "text/plain": [
       "Batches:   0%|          | 0/1 [00:00<?, ?it/s]"
      ]
     },
     "metadata": {},
     "output_type": "display_data"
    },
    {
     "name": "stderr",
     "output_type": "stream",
     "text": [
      "The attention mask and the pad token id were not set. As a consequence, you may observe unexpected behavior. Please pass your input's `attention_mask` to obtain reliable results.\n",
      "Setting `pad_token_id` to `eos_token_id`:None for open-end generation.\n"
     ]
    },
    {
     "name": "stdout",
     "output_type": "stream",
     "text": [
      "46 :\n",
      "\n",
      "\n",
      "{\n",
      "  \"Parsed_Parameters\": {\n",
      "    \"X_dimension\": 40.0,\n",
      "    \"Y_dimension\": 30.0,\n",
      "    \"Number_of_Users\": 150,\n",
      "    \"Number_of_Routers\": 6,\n",
      "    \"X_User_Distribution\": \"Along the Edge\",\n",
      "    \"Y_User_Distribution\": \"Along the Edge\",\n",
      "    \"Height\": 3.0,\n",
      "    \"K\": 0.015,\n",
      "    \"Alpha\": 2.5,\n",
      "    \"Transmit_Power\": 20,\n",
      "    \"User_Equipment_Height\": 1.0\n",
      "  }\n",
      "}\n",
      "54.220303773880005\n",
      ",\n"
     ]
    },
    {
     "data": {
      "application/vnd.jupyter.widget-view+json": {
       "model_id": "c15d6e02727e4d788e9d27374ce20308",
       "version_major": 2,
       "version_minor": 0
      },
      "text/plain": [
       "Batches:   0%|          | 0/1 [00:00<?, ?it/s]"
      ]
     },
     "metadata": {},
     "output_type": "display_data"
    },
    {
     "name": "stderr",
     "output_type": "stream",
     "text": [
      "The attention mask and the pad token id were not set. As a consequence, you may observe unexpected behavior. Please pass your input's `attention_mask` to obtain reliable results.\n",
      "Setting `pad_token_id` to `eos_token_id`:None for open-end generation.\n"
     ]
    },
    {
     "name": "stdout",
     "output_type": "stream",
     "text": [
      "47 :\n",
      "\n",
      "\n",
      "{\n",
      "  \"Parsed_Parameters\": {\n",
      "    \"X_dimension\": 60.0,\n",
      "    \"Y_dimension\": 40.0,\n",
      "    \"Number_of_Users\": 200,\n",
      "    \"Number_of_Routers\": 9,\n",
      "    \"X_User_Distribution\": \"Exponential\",\n",
      "    \"Y_User_Distribution\": \"Exponential\",\n",
      "    \"Height\": 4.0,\n",
      "    \"K\": 0.02,\n",
      "    \"Alpha\": 2.8,\n",
      "    \"Transmit_Power\": 19,\n",
      "    \"User_Equipment_Height\": 1.0\n",
      "  }\n",
      "}\n",
      "54.65275835990906\n",
      ",\n"
     ]
    },
    {
     "data": {
      "application/vnd.jupyter.widget-view+json": {
       "model_id": "293c633232b949a390d429998d6f0567",
       "version_major": 2,
       "version_minor": 0
      },
      "text/plain": [
       "Batches:   0%|          | 0/1 [00:00<?, ?it/s]"
      ]
     },
     "metadata": {},
     "output_type": "display_data"
    },
    {
     "name": "stderr",
     "output_type": "stream",
     "text": [
      "The attention mask and the pad token id were not set. As a consequence, you may observe unexpected behavior. Please pass your input's `attention_mask` to obtain reliable results.\n",
      "Setting `pad_token_id` to `eos_token_id`:None for open-end generation.\n"
     ]
    },
    {
     "name": "stdout",
     "output_type": "stream",
     "text": [
      "48 :\n",
      "\n",
      "\n",
      "{\n",
      "  \"Parsed_Parameters\": {\n",
      "    \"X_dimension\": 50.0,\n",
      "    \"Y_dimension\": 30.0,\n",
      "    \"Number_of_Users\": 180,\n",
      "    \"Number_of_Routers\": 8,\n",
      "    \"X_User_Distribution\": \"Uniform\",\n",
      "    \"Y_User_Distribution\": \"Uniform\",\n",
      "    \"Height\": 4.0,\n",
      "    \"K\": 0.03,\n",
      "    \"Alpha\": 3.2,\n",
      "    \"Transmit_Power\": 22,\n",
      "    \"User_Equipment_Height\": 1.0\n",
      "  }\n",
      "}\n",
      "64.97069382667542\n",
      ",\n"
     ]
    },
    {
     "data": {
      "application/vnd.jupyter.widget-view+json": {
       "model_id": "b9fe159a26e84543ac549706e6c96fc0",
       "version_major": 2,
       "version_minor": 0
      },
      "text/plain": [
       "Batches:   0%|          | 0/1 [00:00<?, ?it/s]"
      ]
     },
     "metadata": {},
     "output_type": "display_data"
    },
    {
     "name": "stderr",
     "output_type": "stream",
     "text": [
      "The attention mask and the pad token id were not set. As a consequence, you may observe unexpected behavior. Please pass your input's `attention_mask` to obtain reliable results.\n",
      "Setting `pad_token_id` to `eos_token_id`:None for open-end generation.\n"
     ]
    },
    {
     "name": "stdout",
     "output_type": "stream",
     "text": [
      "49 :\n",
      "\n",
      "\n",
      "{\n",
      "  \"Parsed_Parameters\": {\n",
      "    \"X_dimension\": 20.0,\n",
      "    \"Y_dimension\": 25.0,\n",
      "    \"Number_of_Users\": 80,\n",
      "    \"Number_of_Routers\": 5,\n",
      "    \"X_User_Distribution\": \"Uniform\",\n",
      "    \"Y_User_Distribution\": \"Uniform\",\n",
      "    \"Height\": 3.0,\n",
      "    \"K\": 0.005,\n",
      "    \"Alpha\": 2.2,\n",
      "    \"Transmit_Power\": 19,\n",
      "    \"User_Equipment_Height\": 1.0\n",
      "  }\n",
      "}\n",
      "57.34901714324951\n",
      ",\n"
     ]
    },
    {
     "data": {
      "application/vnd.jupyter.widget-view+json": {
       "model_id": "c5dca778654742e6a8764fa0a612f3de",
       "version_major": 2,
       "version_minor": 0
      },
      "text/plain": [
       "Batches:   0%|          | 0/1 [00:00<?, ?it/s]"
      ]
     },
     "metadata": {},
     "output_type": "display_data"
    },
    {
     "name": "stderr",
     "output_type": "stream",
     "text": [
      "The attention mask and the pad token id were not set. As a consequence, you may observe unexpected behavior. Please pass your input's `attention_mask` to obtain reliable results.\n",
      "Setting `pad_token_id` to `eos_token_id`:None for open-end generation.\n"
     ]
    },
    {
     "name": "stdout",
     "output_type": "stream",
     "text": [
      "50 :\n",
      "\n",
      "\n",
      "{\n",
      "  \"Parsed_Parameters\": {\n",
      "    \"X_dimension\": 15.0,\n",
      "    \"Y_dimension\": 20.0,\n",
      "    \"Number_of_Users\": 50,\n",
      "    \"Number_of_Routers\": 4,\n",
      "    \"X_User_Distribution\": \"Along the Edge\",\n",
      "    \"Y_User_Distribution\": \"Uniform\",\n",
      "    \"Height\": 3.0,\n",
      "    \"K\": 0.005,\n",
      "    \"Alpha\": 3.0,\n",
      "    \"Transmit_Power\": 20,\n",
      "    \"User_Equipment_Height\": 1.0\n",
      "  }\n",
      "}\n",
      "54.29341220855713\n",
      ",\n",
      "Type 2\n"
     ]
    },
    {
     "data": {
      "application/vnd.jupyter.widget-view+json": {
       "model_id": "f00d089a41bb452da8483f0555fa5f08",
       "version_major": 2,
       "version_minor": 0
      },
      "text/plain": [
       "Batches:   0%|          | 0/1 [00:00<?, ?it/s]"
      ]
     },
     "metadata": {},
     "output_type": "display_data"
    },
    {
     "name": "stderr",
     "output_type": "stream",
     "text": [
      "The attention mask and the pad token id were not set. As a consequence, you may observe unexpected behavior. Please pass your input's `attention_mask` to obtain reliable results.\n",
      "Setting `pad_token_id` to `eos_token_id`:None for open-end generation.\n"
     ]
    },
    {
     "name": "stdout",
     "output_type": "stream",
     "text": [
      "51 :\n",
      "\n",
      "\n",
      "{\n",
      "  \"Parsed_Parameters\": {\n",
      "    \"X_dimension\": 25.0,\n",
      "    \"Y_dimension\": 40.0,\n",
      "    \"Number_of_Users\": 120,\n",
      "    \"Number_of_Routers\": 5,\n",
      "    \"X_User_Distribution\": \"Uniform\",\n",
      "    \"Y_User_Distribution\": \"Uniform\",\n",
      "    \"Height\": 2.8,\n",
      "    \"K\": 0.03,\n",
      "    \"Alpha\": 2.5,\n",
      "    \"Transmit_Power\": 22,\n",
      "    \"User_Equipment_Height\": 1.0\n",
      "  }\n",
      "}\n",
      "62.60499668121338\n",
      ",\n"
     ]
    },
    {
     "data": {
      "application/vnd.jupyter.widget-view+json": {
       "model_id": "5da0ff92734848858d567159b25fd568",
       "version_major": 2,
       "version_minor": 0
      },
      "text/plain": [
       "Batches:   0%|          | 0/1 [00:00<?, ?it/s]"
      ]
     },
     "metadata": {},
     "output_type": "display_data"
    },
    {
     "name": "stderr",
     "output_type": "stream",
     "text": [
      "The attention mask and the pad token id were not set. As a consequence, you may observe unexpected behavior. Please pass your input's `attention_mask` to obtain reliable results.\n",
      "Setting `pad_token_id` to `eos_token_id`:None for open-end generation.\n"
     ]
    },
    {
     "name": "stdout",
     "output_type": "stream",
     "text": [
      "52 :\n",
      "\n",
      "\n",
      "{\n",
      "  \"Parsed_Parameters\": {\n",
      "    \"X_dimension\": 50.0,\n",
      "    \"Y_dimension\": 30.0,\n",
      "    \"Number_of_Users\": 200,\n",
      "    \"Number_of_Routers\": 8,\n",
      "    \"X_User_Distribution\": \"Uniform\",\n",
      "    \"Y_User_Distribution\": \"Uniform\",\n",
      "    \"Height\": 5.0,\n",
      "    \"K\": 0.01,\n",
      "    \"Alpha\": 3.0,\n",
      "    \"Transmit_Power\": 23,\n",
      "    \"User_Equipment_Height\": 1.0\n",
      "  }\n",
      "}\n",
      "61.17114067077637\n",
      ",\n"
     ]
    },
    {
     "data": {
      "application/vnd.jupyter.widget-view+json": {
       "model_id": "e8821db284b34766a27877abdadbcd80",
       "version_major": 2,
       "version_minor": 0
      },
      "text/plain": [
       "Batches:   0%|          | 0/1 [00:00<?, ?it/s]"
      ]
     },
     "metadata": {},
     "output_type": "display_data"
    },
    {
     "name": "stderr",
     "output_type": "stream",
     "text": [
      "The attention mask and the pad token id were not set. As a consequence, you may observe unexpected behavior. Please pass your input's `attention_mask` to obtain reliable results.\n",
      "Setting `pad_token_id` to `eos_token_id`:None for open-end generation.\n"
     ]
    },
    {
     "name": "stdout",
     "output_type": "stream",
     "text": [
      "53 :\n",
      "\n",
      "\n",
      "{\n",
      "  \"Parsed_Parameters\": {\n",
      "    \"X_dimension\": 20.0,\n",
      "    \"Y_dimension\": 30.0,\n",
      "    \"Number_of_Users\": 80,\n",
      "    \"Number_of_Routers\": 4,\n",
      "    \"X_User_Distribution\": \"Along the Edge\",\n",
      "    \"Y_User_Distribution\": \"Uniform\",\n",
      "    \"Height\": 3.0,\n",
      "    \"K\": 0.005,\n",
      "    \"Alpha\": 2.8,\n",
      "    \"Transmit_Power\": 20,\n",
      "    \"User_Equipment_Height\": 1.0\n",
      "  }\n",
      "}\n",
      "55.2633273601532\n",
      ",\n"
     ]
    },
    {
     "data": {
      "application/vnd.jupyter.widget-view+json": {
       "model_id": "bec89d154c3e447ca54297f55f9811c9",
       "version_major": 2,
       "version_minor": 0
      },
      "text/plain": [
       "Batches:   0%|          | 0/1 [00:00<?, ?it/s]"
      ]
     },
     "metadata": {},
     "output_type": "display_data"
    },
    {
     "name": "stderr",
     "output_type": "stream",
     "text": [
      "The attention mask and the pad token id were not set. As a consequence, you may observe unexpected behavior. Please pass your input's `attention_mask` to obtain reliable results.\n",
      "Setting `pad_token_id` to `eos_token_id`:None for open-end generation.\n"
     ]
    },
    {
     "name": "stdout",
     "output_type": "stream",
     "text": [
      "54 :\n",
      "\n",
      "\n",
      "{\n",
      "  \"Parsed_Parameters\": {\n",
      "    \"X_dimension\": 35.0,\n",
      "    \"Y_dimension\": 25.0,\n",
      "    \"Number_of_Users\": 150,\n",
      "    \"Number_of_Routers\": 6,\n",
      "    \"X_User_Distribution\": \"Along the Edge\",\n",
      "    \"Y_User_Distribution\": \"Along the Edge\",\n",
      "    \"Height\": 3.0,\n",
      "    \"K\": 0.015,\n",
      "    \"Alpha\": 3.0,\n",
      "    \"Transmit_Power\": 24,\n",
      "    \"User_Equipment_Height\": 1.0\n",
      "  }\n",
      "}\n",
      "58.424330949783325\n",
      ",\n"
     ]
    },
    {
     "data": {
      "application/vnd.jupyter.widget-view+json": {
       "model_id": "688d20b8b9d2471f9dce61dca8e8b725",
       "version_major": 2,
       "version_minor": 0
      },
      "text/plain": [
       "Batches:   0%|          | 0/1 [00:00<?, ?it/s]"
      ]
     },
     "metadata": {},
     "output_type": "display_data"
    },
    {
     "name": "stderr",
     "output_type": "stream",
     "text": [
      "The attention mask and the pad token id were not set. As a consequence, you may observe unexpected behavior. Please pass your input's `attention_mask` to obtain reliable results.\n",
      "Setting `pad_token_id` to `eos_token_id`:None for open-end generation.\n"
     ]
    },
    {
     "name": "stdout",
     "output_type": "stream",
     "text": [
      "55 :\n",
      "\n",
      "\n",
      "{\n",
      "  \"Parsed_Parameters\": {\n",
      "    \"X_dimension\": 40.0,\n",
      "    \"Y_dimension\": 20.0,\n",
      "    \"Number_of_Users\": 100,\n",
      "    \"Number_of_Routers\": 5,\n",
      "    \"X_User_Distribution\": \"Exponential\",\n",
      "    \"Y_User_Distribution\": \"Uniform\",\n",
      "    \"Height\": 3.0,\n",
      "    \"K\": 0.005,\n",
      "    \"Alpha\": 3.0,\n",
      "    \"Transmit_Power\": 24,\n",
      "    \"User_Equipment_Height\": 1.0\n",
      "  }\n",
      "}\n",
      "54.415892124176025\n",
      ",\n"
     ]
    },
    {
     "data": {
      "application/vnd.jupyter.widget-view+json": {
       "model_id": "8fe7c06c54a64b4eb4369f52785adef9",
       "version_major": 2,
       "version_minor": 0
      },
      "text/plain": [
       "Batches:   0%|          | 0/1 [00:00<?, ?it/s]"
      ]
     },
     "metadata": {},
     "output_type": "display_data"
    },
    {
     "name": "stderr",
     "output_type": "stream",
     "text": [
      "The attention mask and the pad token id were not set. As a consequence, you may observe unexpected behavior. Please pass your input's `attention_mask` to obtain reliable results.\n",
      "Setting `pad_token_id` to `eos_token_id`:None for open-end generation.\n"
     ]
    },
    {
     "name": "stdout",
     "output_type": "stream",
     "text": [
      "56 :\n",
      "\n",
      "\n",
      "{\n",
      "  \"Parsed_Parameters\": {\n",
      "    \"X_dimension\": 60.0,\n",
      "    \"Y_dimension\": 40.0,\n",
      "    \"Number_of_Users\": 250,\n",
      "    \"Number_of_Routers\": 9,\n",
      "    \"X_User_Distribution\": \"Uniform\",\n",
      "    \"Y_User_Distribution\": \"Uniform\",\n",
      "    \"Height\": 4.0,\n",
      "    \"K\": 0.02,\n",
      "    \"Alpha\": 2.8,\n",
      "    \"Transmit_Power\": 22,\n",
      "    \"User_Equipment_Height\": 1.0\n",
      "  }\n",
      "}\n",
      "62.548532485961914\n",
      ",\n"
     ]
    },
    {
     "data": {
      "application/vnd.jupyter.widget-view+json": {
       "model_id": "24b4798d6e8c4131bcc71d46333cdb55",
       "version_major": 2,
       "version_minor": 0
      },
      "text/plain": [
       "Batches:   0%|          | 0/1 [00:00<?, ?it/s]"
      ]
     },
     "metadata": {},
     "output_type": "display_data"
    },
    {
     "name": "stderr",
     "output_type": "stream",
     "text": [
      "The attention mask and the pad token id were not set. As a consequence, you may observe unexpected behavior. Please pass your input's `attention_mask` to obtain reliable results.\n",
      "Setting `pad_token_id` to `eos_token_id`:None for open-end generation.\n"
     ]
    },
    {
     "name": "stdout",
     "output_type": "stream",
     "text": [
      "57 :\n",
      "\n",
      "\n",
      "{\n",
      "  \"Parsed_Parameters\": {\n",
      "    \"X_dimension\": 25.0,\n",
      "    \"Y_dimension\": 20.0,\n",
      "    \"Number_of_Users\": 60,\n",
      "    \"Number_of_Routers\": 3,\n",
      "    \"X_User_Distribution\": \"Gaussian\",\n",
      "    \"Y_User_Distribution\": \"Gaussian\",\n",
      "    \"Height\": 3.0,\n",
      "    \"K\": 0.005,\n",
      "    \"Alpha\": 3.0,\n",
      "    \"Transmit_Power\": 20,\n",
      "    \"User_Equipment_Height\": 1.0\n",
      "  }\n",
      "}\n",
      "53.554203748703\n",
      ",\n"
     ]
    },
    {
     "data": {
      "application/vnd.jupyter.widget-view+json": {
       "model_id": "5597df4a8a33477798e96eccd2fbcd57",
       "version_major": 2,
       "version_minor": 0
      },
      "text/plain": [
       "Batches:   0%|          | 0/1 [00:00<?, ?it/s]"
      ]
     },
     "metadata": {},
     "output_type": "display_data"
    },
    {
     "name": "stderr",
     "output_type": "stream",
     "text": [
      "The attention mask and the pad token id were not set. As a consequence, you may observe unexpected behavior. Please pass your input's `attention_mask` to obtain reliable results.\n",
      "Setting `pad_token_id` to `eos_token_id`:None for open-end generation.\n"
     ]
    },
    {
     "name": "stdout",
     "output_type": "stream",
     "text": [
      "58 :\n",
      "\n",
      "\n",
      "{\n",
      "  \"Parsed_Parameters\": {\n",
      "    \"X_dimension\": 45.0,\n",
      "    \"Y_dimension\": 30.0,\n",
      "    \"Number_of_Users\": 180,\n",
      "    \"Number_of_Routers\": 7,\n",
      "    \"X_User_Distribution\": \"Uniform\",\n",
      "    \"Y_User_Distribution\": \"Uniform\",\n",
      "    \"Height\": 5.0,\n",
      "    \"K\": 0.03,\n",
      "    \"Alpha\": 3.2,\n",
      "    \"Transmit_Power\": 20,\n",
      "    \"User_Equipment_Height\": 1.0\n",
      "  }\n",
      "}\n",
      "57.93839430809021\n",
      ",\n"
     ]
    },
    {
     "data": {
      "application/vnd.jupyter.widget-view+json": {
       "model_id": "30e1da39dd574741bf4f0ed7e5d9f689",
       "version_major": 2,
       "version_minor": 0
      },
      "text/plain": [
       "Batches:   0%|          | 0/1 [00:00<?, ?it/s]"
      ]
     },
     "metadata": {},
     "output_type": "display_data"
    },
    {
     "name": "stderr",
     "output_type": "stream",
     "text": [
      "The attention mask and the pad token id were not set. As a consequence, you may observe unexpected behavior. Please pass your input's `attention_mask` to obtain reliable results.\n",
      "Setting `pad_token_id` to `eos_token_id`:None for open-end generation.\n"
     ]
    },
    {
     "name": "stdout",
     "output_type": "stream",
     "text": [
      "59 :\n",
      "\n",
      "\n",
      "{\n",
      "  \"Parsed_Parameters\": {\n",
      "    \"X_dimension\": 30.0,\n",
      "    \"Y_dimension\": 25.0,\n",
      "    \"Number_of_Users\": 120,\n",
      "    \"Number_of_Routers\": 5,\n",
      "    \"X_User_Distribution\": \"Along the Edge\",\n",
      "    \"Y_User_Distribution\": \"Uniform\",\n",
      "    \"Height\": 3.0,\n",
      "    \"K\": 0.03,\n",
      "    \"Alpha\": 3.0,\n",
      "    \"Transmit_Power\": 24,\n",
      "    \"User_Equipment_Height\": 1.0\n",
      "  }\n",
      "}\n",
      "57.830787658691406\n",
      ",\n"
     ]
    },
    {
     "data": {
      "application/vnd.jupyter.widget-view+json": {
       "model_id": "915500eb2ce3470b978409abb0d112d8",
       "version_major": 2,
       "version_minor": 0
      },
      "text/plain": [
       "Batches:   0%|          | 0/1 [00:00<?, ?it/s]"
      ]
     },
     "metadata": {},
     "output_type": "display_data"
    },
    {
     "name": "stderr",
     "output_type": "stream",
     "text": [
      "The attention mask and the pad token id were not set. As a consequence, you may observe unexpected behavior. Please pass your input's `attention_mask` to obtain reliable results.\n",
      "Setting `pad_token_id` to `eos_token_id`:None for open-end generation.\n"
     ]
    },
    {
     "name": "stdout",
     "output_type": "stream",
     "text": [
      "60 :\n",
      "\n",
      "\n",
      "{\n",
      "  \"Parsed_Parameters\": {\n",
      "    \"X_dimension\": 50.0,\n",
      "    \"Y_dimension\": 40.0,\n",
      "    \"Number_of_Users\": 200,\n",
      "    \"Number_of_Routers\": 8,\n",
      "    \"X_User_Distribution\": \"Uniform\",\n",
      "    \"Y_User_Distribution\": \"Uniform\",\n",
      "    \"Height\": 4.0,\n",
      "    \"K\": 0.02,\n",
      "    \"Alpha\": 2.8,\n",
      "    \"Transmit_Power\": 26.0,\n",
      "    \"User_Equipment_Height\": 1.0\n",
      "  }\n",
      "}\n",
      "65.82458829879761\n",
      ",\n",
      "Class 2\n",
      "Type 0\n"
     ]
    },
    {
     "data": {
      "application/vnd.jupyter.widget-view+json": {
       "model_id": "a0c115edb3db49c6a961acb8113f20db",
       "version_major": 2,
       "version_minor": 0
      },
      "text/plain": [
       "Batches:   0%|          | 0/1 [00:00<?, ?it/s]"
      ]
     },
     "metadata": {},
     "output_type": "display_data"
    },
    {
     "name": "stderr",
     "output_type": "stream",
     "text": [
      "The attention mask and the pad token id were not set. As a consequence, you may observe unexpected behavior. Please pass your input's `attention_mask` to obtain reliable results.\n",
      "Setting `pad_token_id` to `eos_token_id`:None for open-end generation.\n"
     ]
    },
    {
     "name": "stdout",
     "output_type": "stream",
     "text": [
      "61 :\n",
      "\n",
      "\n",
      "{\n",
      "  \"Parsed_Parameters\": {\n",
      "    \"X_dimension\": 50.0,\n",
      "    \"Y_dimension\": 20.0,\n",
      "    \"Number_of_Users\": 150,\n",
      "    \"Number_of_Routers\": 8,\n",
      "    \"X_User_Distribution\": \"Uniform\",\n",
      "    \"Y_User_Distribution\": \"Uniform\",\n",
      "    \"Height\": 5.0,\n",
      "    \"K\": 0.02,\n",
      "    \"Alpha\": 3.0,\n",
      "    \"Transmit_Power\": 20,\n",
      "    \"User_Equipment_Height\": 1.0\n",
      "  }\n",
      "}\n",
      "57.18088102340698\n",
      ",\n"
     ]
    },
    {
     "data": {
      "application/vnd.jupyter.widget-view+json": {
       "model_id": "60e038999a36417884f146e16a3ed56e",
       "version_major": 2,
       "version_minor": 0
      },
      "text/plain": [
       "Batches:   0%|          | 0/1 [00:00<?, ?it/s]"
      ]
     },
     "metadata": {},
     "output_type": "display_data"
    },
    {
     "name": "stderr",
     "output_type": "stream",
     "text": [
      "The attention mask and the pad token id were not set. As a consequence, you may observe unexpected behavior. Please pass your input's `attention_mask` to obtain reliable results.\n",
      "Setting `pad_token_id` to `eos_token_id`:None for open-end generation.\n"
     ]
    },
    {
     "name": "stdout",
     "output_type": "stream",
     "text": [
      "62 :\n",
      "\n",
      "\n",
      "{\n",
      "  \"Parsed_Parameters\": {\n",
      "    \"X_dimension\": 20.0,\n",
      "    \"Y_dimension\": 30.0,\n",
      "    \"Number_of_Users\": 80,\n",
      "    \"Number_of_Routers\": 5,\n",
      "    \"X_User_Distribution\": \"Gaussian\",\n",
      "    \"Y_User_Distribution\": \"Gaussian\",\n",
      "    \"Height\": 3.0,\n",
      "    \"K\": 0.01,\n",
      "    \"Alpha\": 2.5,\n",
      "    \"Transmit_Power\": 12,\n",
      "    \"User_Equipment_Height\": 1.0\n",
      "  }\n",
      "}\n",
      "58.93895435333252\n",
      ",\n"
     ]
    },
    {
     "data": {
      "application/vnd.jupyter.widget-view+json": {
       "model_id": "8edb60d9e1884afaaff9673c9d626864",
       "version_major": 2,
       "version_minor": 0
      },
      "text/plain": [
       "Batches:   0%|          | 0/1 [00:00<?, ?it/s]"
      ]
     },
     "metadata": {},
     "output_type": "display_data"
    },
    {
     "name": "stderr",
     "output_type": "stream",
     "text": [
      "The attention mask and the pad token id were not set. As a consequence, you may observe unexpected behavior. Please pass your input's `attention_mask` to obtain reliable results.\n",
      "Setting `pad_token_id` to `eos_token_id`:None for open-end generation.\n"
     ]
    },
    {
     "name": "stdout",
     "output_type": "stream",
     "text": [
      "63 :\n",
      "\n",
      "\n",
      "{\n",
      "  \"Parsed_Parameters\": {\n",
      "    \"X_dimension\": 40.0,\n",
      "    \"Y_dimension\": 25.0,\n",
      "    \"Number_of_Users\": 120,\n",
      "    \"Number_of_Routers\": 4,\n",
      "    \"X_User_Distribution\": \"Bi-Exponential\",\n",
      "    \"Y_User_Distribution\": \"Bi-Exponential\",\n",
      "    \"Height\": 4.0,\n",
      "    \"K\": 0.015,\n",
      "    \"Alpha\": 3.2,\n",
      "    \"Transmit_Power\": 18,\n",
      "    \"User_Equipment_Height\": 1.0\n",
      "  }\n",
      "}\n",
      "59.25100040435791\n",
      ",\n"
     ]
    },
    {
     "data": {
      "application/vnd.jupyter.widget-view+json": {
       "model_id": "8d8821db9e8146029c6de012aa7f05fc",
       "version_major": 2,
       "version_minor": 0
      },
      "text/plain": [
       "Batches:   0%|          | 0/1 [00:00<?, ?it/s]"
      ]
     },
     "metadata": {},
     "output_type": "display_data"
    },
    {
     "name": "stderr",
     "output_type": "stream",
     "text": [
      "The attention mask and the pad token id were not set. As a consequence, you may observe unexpected behavior. Please pass your input's `attention_mask` to obtain reliable results.\n",
      "Setting `pad_token_id` to `eos_token_id`:None for open-end generation.\n"
     ]
    },
    {
     "name": "stdout",
     "output_type": "stream",
     "text": [
      "64 :\n",
      "\n",
      "\n",
      "{\n",
      "  \"Parsed_Parameters\": {\n",
      "    \"X_dimension\": 15.0,\n",
      "    \"Y_dimension\": 20.0,\n",
      "    \"Number_of_Users\": 50,\n",
      "    \"Number_of_Routers\": 3,\n",
      "    \"X_User_Distribution\": \"Uniform\",\n",
      "    \"Y_User_Distribution\": \"Uniform\",\n",
      "    \"Height\": 3.0,\n",
      "    \"K\": 0.005,\n",
      "    \"Alpha\": 2.0,\n",
      "    \"Transmit_Power\": 10,\n",
      "    \"User_Equipment_Height\": 1.0\n",
      "  }\n",
      "}\n",
      "61.32520079612732\n",
      ",\n"
     ]
    },
    {
     "data": {
      "application/vnd.jupyter.widget-view+json": {
       "model_id": "1d1d063323a447108a5d10740d925d40",
       "version_major": 2,
       "version_minor": 0
      },
      "text/plain": [
       "Batches:   0%|          | 0/1 [00:00<?, ?it/s]"
      ]
     },
     "metadata": {},
     "output_type": "display_data"
    },
    {
     "name": "stderr",
     "output_type": "stream",
     "text": [
      "The attention mask and the pad token id were not set. As a consequence, you may observe unexpected behavior. Please pass your input's `attention_mask` to obtain reliable results.\n",
      "Setting `pad_token_id` to `eos_token_id`:None for open-end generation.\n"
     ]
    },
    {
     "name": "stdout",
     "output_type": "stream",
     "text": [
      "65 :\n",
      "\n",
      "\n",
      "{\n",
      "  \"Parsed_Parameters\": {\n",
      "    \"X_dimension\": 45.0,\n",
      "    \"Y_dimension\": 30.0,\n",
      "    \"Number_of_Users\": 180,\n",
      "    \"Number_of_Routers\": 7,\n",
      "    \"X_User_Distribution\": \"Exponential\",\n",
      "    \"Y_User_Distribution\": \"Exponential\",\n",
      "    \"Height\": 5.0,\n",
      "    \"K\": 0.025,\n",
      "    \"Alpha\": 3.5,\n",
      "    \"Transmit_Power\": 22,\n",
      "    \"User_Equipment_Height\": 1.0\n",
      "  }\n",
      "}\n",
      "54.74029994010925\n",
      ",\n"
     ]
    },
    {
     "data": {
      "application/vnd.jupyter.widget-view+json": {
       "model_id": "7b3e099c29be4c05b609bdb36ae11ec1",
       "version_major": 2,
       "version_minor": 0
      },
      "text/plain": [
       "Batches:   0%|          | 0/1 [00:00<?, ?it/s]"
      ]
     },
     "metadata": {},
     "output_type": "display_data"
    },
    {
     "name": "stderr",
     "output_type": "stream",
     "text": [
      "The attention mask and the pad token id were not set. As a consequence, you may observe unexpected behavior. Please pass your input's `attention_mask` to obtain reliable results.\n",
      "Setting `pad_token_id` to `eos_token_id`:None for open-end generation.\n"
     ]
    },
    {
     "name": "stdout",
     "output_type": "stream",
     "text": [
      "66 :\n",
      "\n",
      "\n",
      "{\n",
      "  \"Parsed_Parameters\": {\n",
      "    \"X_dimension\": 25.0,\n",
      "    \"Y_dimension\": 40.0,\n",
      "    \"Number_of_Users\": 200,\n",
      "    \"Number_of_Routers\": 9,\n",
      "    \"X_User_Distribution\": \"Gaussian\",\n",
      "    \"Y_User_Distribution\": \"Gaussian\",\n",
      "    \"Height\": 4.0,\n",
      "    \"K\": 0.03,\n",
      "    \"Alpha\": 3.8,\n",
      "    \"Transmit_Power\": 25,\n",
      "    \"User_Equipment_Height\": 1.0\n",
      "  }\n",
      "}\n",
      "57.49830746650696\n",
      ",\n"
     ]
    },
    {
     "data": {
      "application/vnd.jupyter.widget-view+json": {
       "model_id": "b0d472e6a0824b868a481a11ad754083",
       "version_major": 2,
       "version_minor": 0
      },
      "text/plain": [
       "Batches:   0%|          | 0/1 [00:00<?, ?it/s]"
      ]
     },
     "metadata": {},
     "output_type": "display_data"
    },
    {
     "name": "stderr",
     "output_type": "stream",
     "text": [
      "The attention mask and the pad token id were not set. As a consequence, you may observe unexpected behavior. Please pass your input's `attention_mask` to obtain reliable results.\n",
      "Setting `pad_token_id` to `eos_token_id`:None for open-end generation.\n"
     ]
    },
    {
     "name": "stdout",
     "output_type": "stream",
     "text": [
      "67 :\n",
      "\n",
      "\n",
      "{\n",
      "  \"Parsed_Parameters\": {\n",
      "    \"X_dimension\": 30.0,\n",
      "    \"Y_dimension\": 20.0,\n",
      "    \"Number_of_Users\": 100,\n",
      "    \"Number_of_Routers\": 5,\n",
      "    \"X_User_Distribution\": \"Bi-Exponential\",\n",
      "    \"Y_User_Distribution\": \"Bi-Exponential\",\n",
      "    \"Height\": 3.0,\n",
      "    \"K\": 0.01,\n",
      "    \"Alpha\": 2.2,\n",
      "    \"Transmit_Power\": 15,\n",
      "    \"User_Equipment_Height\": 1.0\n",
      "  }\n",
      "}\n",
      "64.440025806427\n",
      ",\n"
     ]
    },
    {
     "data": {
      "application/vnd.jupyter.widget-view+json": {
       "model_id": "f0ee5fe56d354c5c9fcec0211c520e46",
       "version_major": 2,
       "version_minor": 0
      },
      "text/plain": [
       "Batches:   0%|          | 0/1 [00:00<?, ?it/s]"
      ]
     },
     "metadata": {},
     "output_type": "display_data"
    },
    {
     "name": "stderr",
     "output_type": "stream",
     "text": [
      "The attention mask and the pad token id were not set. As a consequence, you may observe unexpected behavior. Please pass your input's `attention_mask` to obtain reliable results.\n",
      "Setting `pad_token_id` to `eos_token_id`:None for open-end generation.\n"
     ]
    },
    {
     "name": "stdout",
     "output_type": "stream",
     "text": [
      "68 :\n",
      "\n",
      "\n",
      "{\n",
      "  \"Parsed_Parameters\": {\n",
      "    \"X_dimension\": 50.0,\n",
      "    \"Y_dimension\": 35.0,\n",
      "    \"Number_of_Users\": 150,\n",
      "    \"Number_of_Routers\": 8,\n",
      "    \"X_User_Distribution\": \"Uniform\",\n",
      "    \"Y_User_Distribution\": \"Uniform\",\n",
      "    \"Height\": 5.0,\n",
      "    \"K\": 0.02,\n",
      "    \"Alpha\": 3.0,\n",
      "    \"Transmit_Power\": 20,\n",
      "    \"User_Equipment_Height\": 1.0\n",
      "  }\n",
      "}\n",
      "58.85445976257324\n",
      ",\n"
     ]
    },
    {
     "data": {
      "application/vnd.jupyter.widget-view+json": {
       "model_id": "4f2c900702b74c72aa93476a6aaa3dd9",
       "version_major": 2,
       "version_minor": 0
      },
      "text/plain": [
       "Batches:   0%|          | 0/1 [00:00<?, ?it/s]"
      ]
     },
     "metadata": {},
     "output_type": "display_data"
    },
    {
     "name": "stderr",
     "output_type": "stream",
     "text": [
      "The attention mask and the pad token id were not set. As a consequence, you may observe unexpected behavior. Please pass your input's `attention_mask` to obtain reliable results.\n",
      "Setting `pad_token_id` to `eos_token_id`:None for open-end generation.\n"
     ]
    },
    {
     "name": "stdout",
     "output_type": "stream",
     "text": [
      "69 :\n",
      "\n",
      "\n",
      "{\n",
      "  \"Parsed_Parameters\": {\n",
      "    \"X_dimension\": 20.0,\n",
      "    \"Y_dimension\": 25.0,\n",
      "    \"Number_of_Users\": 80,\n",
      "    \"Number_of_Routers\": 4,\n",
      "    \"X_User_Distribution\": \"Exponential\",\n",
      "    \"Y_User_Distribution\": \"Exponential\",\n",
      "    \"Height\": 3.0,\n",
      "    \"K\": 0.005,\n",
      "    \"Alpha\": 2.0,\n",
      "    \"Transmit_Power\": 12,\n",
      "    \"User_Equipment_Height\": 1.0\n",
      "  }\n",
      "}\n",
      "61.396966218948364\n",
      ",\n"
     ]
    },
    {
     "data": {
      "application/vnd.jupyter.widget-view+json": {
       "model_id": "578e6e4631d64ab397f84a95f760f448",
       "version_major": 2,
       "version_minor": 0
      },
      "text/plain": [
       "Batches:   0%|          | 0/1 [00:00<?, ?it/s]"
      ]
     },
     "metadata": {},
     "output_type": "display_data"
    },
    {
     "name": "stderr",
     "output_type": "stream",
     "text": [
      "The attention mask and the pad token id were not set. As a consequence, you may observe unexpected behavior. Please pass your input's `attention_mask` to obtain reliable results.\n",
      "Setting `pad_token_id` to `eos_token_id`:None for open-end generation.\n"
     ]
    },
    {
     "name": "stdout",
     "output_type": "stream",
     "text": [
      "70 :\n",
      "\n",
      "\n",
      "{\n",
      "  \"Parsed_Parameters\": {\n",
      "    \"X_dimension\": 40.0,\n",
      "    \"Y_dimension\": 30.0,\n",
      "    \"Number_of_Users\": 120,\n",
      "    \"Number_of_Routers\": 6,\n",
      "    \"X_User_Distribution\": \"Exponential\",\n",
      "    \"Y_User_Distribution\": \"Gaussian\",\n",
      "    \"Height\": 4.0,\n",
      "    \"K\": 0.015,\n",
      "    \"Alpha\": 2.5,\n",
      "    \"Transmit_Power\": 18,\n",
      "    \"User_Equipment_Height\": 1.0\n",
      "  }\n",
      "}\n",
      "54.13435983657837\n",
      ",\n",
      "Type 1\n"
     ]
    },
    {
     "data": {
      "application/vnd.jupyter.widget-view+json": {
       "model_id": "4131fbb9e1a14cd08caa9d4af4c88192",
       "version_major": 2,
       "version_minor": 0
      },
      "text/plain": [
       "Batches:   0%|          | 0/1 [00:00<?, ?it/s]"
      ]
     },
     "metadata": {},
     "output_type": "display_data"
    },
    {
     "name": "stderr",
     "output_type": "stream",
     "text": [
      "The attention mask and the pad token id were not set. As a consequence, you may observe unexpected behavior. Please pass your input's `attention_mask` to obtain reliable results.\n",
      "Setting `pad_token_id` to `eos_token_id`:None for open-end generation.\n"
     ]
    },
    {
     "name": "stdout",
     "output_type": "stream",
     "text": [
      "71 :\n",
      "\n",
      "\n",
      "{\n",
      "  \"Parsed_Parameters\": {\n",
      "    \"X_dimension\": 40.0,\n",
      "    \"Y_dimension\": 50.0,\n",
      "    \"Number_of_Users\": 120,\n",
      "    \"Number_of_Routers\": 5,\n",
      "    \"X_User_Distribution\": \"Along the Edge\",\n",
      "    \"Y_User_Distribution\": \"Along the Edge\",\n",
      "    \"Height\": 3.0,\n",
      "    \"K\": 0.015,\n",
      "    \"Alpha\": 3.0,\n",
      "    \"Transmit_Power\": 20,\n",
      "    \"User_Equipment_Height\": 1.0\n",
      "  }\n",
      "}\n",
      "58.75361776351929\n",
      ",\n"
     ]
    },
    {
     "data": {
      "application/vnd.jupyter.widget-view+json": {
       "model_id": "62ea2dd21de94ddebc88432157838aab",
       "version_major": 2,
       "version_minor": 0
      },
      "text/plain": [
       "Batches:   0%|          | 0/1 [00:00<?, ?it/s]"
      ]
     },
     "metadata": {},
     "output_type": "display_data"
    },
    {
     "name": "stderr",
     "output_type": "stream",
     "text": [
      "The attention mask and the pad token id were not set. As a consequence, you may observe unexpected behavior. Please pass your input's `attention_mask` to obtain reliable results.\n",
      "Setting `pad_token_id` to `eos_token_id`:None for open-end generation.\n"
     ]
    },
    {
     "name": "stdout",
     "output_type": "stream",
     "text": [
      "72 :\n",
      "\n",
      "\n",
      "{\n",
      "  \"Parsed_Parameters\": {\n",
      "    \"X_dimension\": 15.0,\n",
      "    \"Y_dimension\": 20.0,\n",
      "    \"Number_of_Users\": 20,\n",
      "    \"Number_of_Routers\": 2,\n",
      "    \"X_User_Distribution\": \"Gaussian\",\n",
      "    \"Y_User_Distribution\": \"Gaussian\",\n",
      "    \"Height\": 4.0,\n",
      "    \"K\": 0.015,\n",
      "    \"Alpha\": 3.0,\n",
      "    \"Transmit_Power\": 23,\n",
      "    \"User_Equipment_Height\": 1.0\n",
      "  }\n",
      "}\n",
      "60.14699602127075\n",
      ",\n"
     ]
    },
    {
     "data": {
      "application/vnd.jupyter.widget-view+json": {
       "model_id": "0b2c1e070907456cb062dbac88a3dd1e",
       "version_major": 2,
       "version_minor": 0
      },
      "text/plain": [
       "Batches:   0%|          | 0/1 [00:00<?, ?it/s]"
      ]
     },
     "metadata": {},
     "output_type": "display_data"
    },
    {
     "name": "stderr",
     "output_type": "stream",
     "text": [
      "The attention mask and the pad token id were not set. As a consequence, you may observe unexpected behavior. Please pass your input's `attention_mask` to obtain reliable results.\n",
      "Setting `pad_token_id` to `eos_token_id`:None for open-end generation.\n"
     ]
    },
    {
     "name": "stdout",
     "output_type": "stream",
     "text": [
      "73 :\n",
      "\n",
      "\n",
      "{\n",
      "  \"Parsed_Parameters\": {\n",
      "    \"X_dimension\": 30.0,\n",
      "    \"Y_dimension\": 40.0,\n",
      "    \"Number_of_Users\": 80,\n",
      "    \"Number_of_Routers\": 4,\n",
      "    \"X_User_Distribution\": \"Uniform\",\n",
      "    \"Y_User_Distribution\": \"Uniform\",\n",
      "    \"Height\": 4.0,\n",
      "    \"K\": 0.01,\n",
      "    \"Alpha\": 3.0,\n",
      "    \"Transmit_Power\": 19,\n",
      "    \"User_Equipment_Height\": 1.0\n",
      "  }\n",
      "}\n",
      "58.202096462249756\n",
      ",\n"
     ]
    },
    {
     "data": {
      "application/vnd.jupyter.widget-view+json": {
       "model_id": "0716d76a78bc4bf1a87dd53d926dfb2e",
       "version_major": 2,
       "version_minor": 0
      },
      "text/plain": [
       "Batches:   0%|          | 0/1 [00:00<?, ?it/s]"
      ]
     },
     "metadata": {},
     "output_type": "display_data"
    },
    {
     "name": "stderr",
     "output_type": "stream",
     "text": [
      "The attention mask and the pad token id were not set. As a consequence, you may observe unexpected behavior. Please pass your input's `attention_mask` to obtain reliable results.\n",
      "Setting `pad_token_id` to `eos_token_id`:None for open-end generation.\n"
     ]
    },
    {
     "name": "stdout",
     "output_type": "stream",
     "text": [
      "74 :\n",
      "\n",
      "\n",
      "{\n",
      "  \"Parsed_Parameters\": {\n",
      "    \"X_dimension\": 25.0,\n",
      "    \"Y_dimension\": 35.0,\n",
      "    \"Number_of_Users\": 60,\n",
      "    \"Number_of_Routers\": 3,\n",
      "    \"X_User_Distribution\": \"Uniform\",\n",
      "    \"Y_User_Distribution\": \"Uniform\",\n",
      "    \"Height\": 2.8,\n",
      "    \"K\": 0.005,\n",
      "    \"Alpha\": 3.0,\n",
      "    \"Transmit_Power\": 25.0,\n",
      "    \"User_Equipment_Height\": 1.0\n",
      "  }\n",
      "}\n",
      "73.62384295463562\n",
      ",\n"
     ]
    },
    {
     "data": {
      "application/vnd.jupyter.widget-view+json": {
       "model_id": "52265a52d840488a8cbf52d633629004",
       "version_major": 2,
       "version_minor": 0
      },
      "text/plain": [
       "Batches:   0%|          | 0/1 [00:00<?, ?it/s]"
      ]
     },
     "metadata": {},
     "output_type": "display_data"
    },
    {
     "name": "stderr",
     "output_type": "stream",
     "text": [
      "The attention mask and the pad token id were not set. As a consequence, you may observe unexpected behavior. Please pass your input's `attention_mask` to obtain reliable results.\n",
      "Setting `pad_token_id` to `eos_token_id`:None for open-end generation.\n"
     ]
    },
    {
     "name": "stdout",
     "output_type": "stream",
     "text": [
      "75 :\n",
      "\n",
      "\n",
      "{\n",
      "  \"Parsed_Parameters\": {\n",
      "    \"X_dimension\": 50.0,\n",
      "    \"Y_dimension\": 60.0,\n",
      "    \"Number_of_Users\": 180,\n",
      "    \"Number_of_Routers\": 6,\n",
      "    \"X_User_Distribution\": \"Uniform\",\n",
      "    \"Y_User_Distribution\": \"Uniform\",\n",
      "    \"Height\": 4.0,\n",
      "    \"K\": 0.02,\n",
      "    \"Alpha\": 2.8,\n",
      "    \"Transmit_Power\": 23,\n",
      "    \"User_Equipment_Height\": 1.0\n",
      "  }\n",
      "}\n",
      "56.780131816864014\n",
      ",\n"
     ]
    },
    {
     "data": {
      "application/vnd.jupyter.widget-view+json": {
       "model_id": "f99985e0817a4b8a8c82a41fb46140db",
       "version_major": 2,
       "version_minor": 0
      },
      "text/plain": [
       "Batches:   0%|          | 0/1 [00:00<?, ?it/s]"
      ]
     },
     "metadata": {},
     "output_type": "display_data"
    },
    {
     "name": "stderr",
     "output_type": "stream",
     "text": [
      "The attention mask and the pad token id were not set. As a consequence, you may observe unexpected behavior. Please pass your input's `attention_mask` to obtain reliable results.\n",
      "Setting `pad_token_id` to `eos_token_id`:None for open-end generation.\n"
     ]
    },
    {
     "name": "stdout",
     "output_type": "stream",
     "text": [
      "76 :\n",
      "\n",
      "\n",
      "{\n",
      "  \"Parsed_Parameters\": {\n",
      "    \"X_dimension\": 20.0,\n",
      "    \"Y_dimension\": 30.0,\n",
      "    \"Number_of_Users\": 40,\n",
      "    \"Number_of_Routers\": 2,\n",
      "    \"X_User_Distribution\": \"Uniform\",\n",
      "    \"Y_User_Distribution\": \"Uniform\",\n",
      "    \"Height\": 5.0,\n",
      "    \"K\": 0.005,\n",
      "    \"Alpha\": 3.0,\n",
      "    \"Transmit_Power\": 19,\n",
      "    \"User_Equipment_Height\": 1.0\n",
      "  }\n",
      "}\n",
      "54.811344146728516\n",
      ",\n"
     ]
    },
    {
     "data": {
      "application/vnd.jupyter.widget-view+json": {
       "model_id": "2987302df9f545efa249bd56f252c798",
       "version_major": 2,
       "version_minor": 0
      },
      "text/plain": [
       "Batches:   0%|          | 0/1 [00:00<?, ?it/s]"
      ]
     },
     "metadata": {},
     "output_type": "display_data"
    },
    {
     "name": "stderr",
     "output_type": "stream",
     "text": [
      "The attention mask and the pad token id were not set. As a consequence, you may observe unexpected behavior. Please pass your input's `attention_mask` to obtain reliable results.\n",
      "Setting `pad_token_id` to `eos_token_id`:None for open-end generation.\n"
     ]
    },
    {
     "name": "stdout",
     "output_type": "stream",
     "text": [
      "77 :\n",
      "\n",
      "\n",
      "{\n",
      "  \"Parsed_Parameters\": {\n",
      "    \"X_dimension\": 35.0,\n",
      "    \"Y_dimension\": 45.0,\n",
      "    \"Number_of_Users\": 100,\n",
      "    \"Number_of_Routers\": 4,\n",
      "    \"X_User_Distribution\": \"Uniform\",\n",
      "    \"Y_User_Distribution\": \"Uniform\",\n",
      "    \"Height\": 2.8,\n",
      "    \"K\": 0.005,\n",
      "    \"Alpha\": 3.0,\n",
      "    \"Transmit_Power\": 15.0,\n",
      "    \"User_Equipment_Height\": 1.0\n",
      "  }\n",
      "}\n",
      "65.49690961837769\n",
      ",\n"
     ]
    },
    {
     "data": {
      "application/vnd.jupyter.widget-view+json": {
       "model_id": "6ea7a720a4494337987fdbd27b07c3db",
       "version_major": 2,
       "version_minor": 0
      },
      "text/plain": [
       "Batches:   0%|          | 0/1 [00:00<?, ?it/s]"
      ]
     },
     "metadata": {},
     "output_type": "display_data"
    },
    {
     "name": "stderr",
     "output_type": "stream",
     "text": [
      "The attention mask and the pad token id were not set. As a consequence, you may observe unexpected behavior. Please pass your input's `attention_mask` to obtain reliable results.\n",
      "Setting `pad_token_id` to `eos_token_id`:None for open-end generation.\n"
     ]
    },
    {
     "name": "stdout",
     "output_type": "stream",
     "text": [
      "78 :\n",
      "\n",
      "{\n",
      "  \"Parsed_Parameters\": {\n",
      "    \"X_dimension\": 10.0,\n",
      "    \"Y_dimension\": 20.0,\n",
      "    \"Number_of_Users\": 15,\n",
      "    \"Number_of_Routers\": 2,\n",
      "    \"X_User_Distribution\": \"Exponential\",\n",
      "    \"Y_User_Distribution\": \"Exponential\",\n",
      "    \"Height\": 3.0,\n",
      "    \"K\": 0.02,\n",
      "    \"Alpha\": 3.0,\n",
      "    \"Transmit_Power\": 19,\n",
      "    \"User_Equipment_Height\": 1.0\n",
      "  }\n",
      "}\n",
      "54.703118562698364\n",
      ",\n"
     ]
    },
    {
     "data": {
      "application/vnd.jupyter.widget-view+json": {
       "model_id": "daa356d6c6df466195258b2917ec2cf0",
       "version_major": 2,
       "version_minor": 0
      },
      "text/plain": [
       "Batches:   0%|          | 0/1 [00:00<?, ?it/s]"
      ]
     },
     "metadata": {},
     "output_type": "display_data"
    },
    {
     "name": "stderr",
     "output_type": "stream",
     "text": [
      "The attention mask and the pad token id were not set. As a consequence, you may observe unexpected behavior. Please pass your input's `attention_mask` to obtain reliable results.\n",
      "Setting `pad_token_id` to `eos_token_id`:None for open-end generation.\n"
     ]
    },
    {
     "name": "stdout",
     "output_type": "stream",
     "text": [
      "79 :\n",
      "\n",
      "\n",
      "{\n",
      "  \"Parsed_Parameters\": {\n",
      "    \"X_dimension\": 40.0,\n",
      "    \"Y_dimension\": 50.0,\n",
      "    \"Number_of_Users\": 120,\n",
      "    \"Number_of_Routers\": 5,\n",
      "    \"X_User_Distribution\": \"Exponential\",\n",
      "    \"Y_User_Distribution\": \"Uniform\",\n",
      "    \"Height\": 6.0,\n",
      "    \"K\": 0.005,\n",
      "    \"Alpha\": 3.0,\n",
      "    \"Transmit_Power\": 19,\n",
      "    \"User_Equipment_Height\": 1.0\n",
      "  }\n",
      "}\n",
      "54.222052574157715\n",
      ",\n"
     ]
    },
    {
     "data": {
      "application/vnd.jupyter.widget-view+json": {
       "model_id": "09685ee7895748fd833fd818977e3c94",
       "version_major": 2,
       "version_minor": 0
      },
      "text/plain": [
       "Batches:   0%|          | 0/1 [00:00<?, ?it/s]"
      ]
     },
     "metadata": {},
     "output_type": "display_data"
    },
    {
     "name": "stderr",
     "output_type": "stream",
     "text": [
      "The attention mask and the pad token id were not set. As a consequence, you may observe unexpected behavior. Please pass your input's `attention_mask` to obtain reliable results.\n",
      "Setting `pad_token_id` to `eos_token_id`:None for open-end generation.\n"
     ]
    },
    {
     "name": "stdout",
     "output_type": "stream",
     "text": [
      "80 :\n",
      "\n",
      "\n",
      "{\n",
      "  \"Parsed_Parameters\": {\n",
      "    \"X_dimension\": 25.0,\n",
      "    \"Y_dimension\": 35.0,\n",
      "    \"Number_of_Users\": 60,\n",
      "    \"Number_of_Routers\": 3,\n",
      "    \"X_User_Distribution\": \"Uniform\",\n",
      "    \"Y_User_Distribution\": \"Uniform\",\n",
      "    \"Height\": 2.8,\n",
      "    \"K\": 0.005,\n",
      "    \"Alpha\": 2.5,\n",
      "    \"Transmit_Power\": 20,\n",
      "    \"User_Equipment_Height\": 1.0\n",
      "  }\n",
      "}\n",
      "60.619975090026855\n",
      ",\n",
      "Type 2\n"
     ]
    },
    {
     "data": {
      "application/vnd.jupyter.widget-view+json": {
       "model_id": "f6b17b23bc7b420caa17caa553ac25d3",
       "version_major": 2,
       "version_minor": 0
      },
      "text/plain": [
       "Batches:   0%|          | 0/1 [00:00<?, ?it/s]"
      ]
     },
     "metadata": {},
     "output_type": "display_data"
    },
    {
     "name": "stderr",
     "output_type": "stream",
     "text": [
      "The attention mask and the pad token id were not set. As a consequence, you may observe unexpected behavior. Please pass your input's `attention_mask` to obtain reliable results.\n",
      "Setting `pad_token_id` to `eos_token_id`:None for open-end generation.\n"
     ]
    },
    {
     "name": "stdout",
     "output_type": "stream",
     "text": [
      "81 :\n",
      "\n",
      "\n",
      "{\n",
      "  \"Parsed_Parameters\": {\n",
      "    \"X_dimension\": 20.0,\n",
      "    \"Y_dimension\": 50.0,\n",
      "    \"Number_of_Users\": 90,\n",
      "    \"Number_of_Routers\": 3,\n",
      "    \"X_User_Distribution\": \"Uniform\",\n",
      "    \"Y_User_Distribution\": \"Uniform\",\n",
      "    \"Height\": 5.0,\n",
      "    \"K\": 0.01,\n",
      "    \"Alpha\": 3.0,\n",
      "    \"Transmit_Power\": 25,\n",
      "    \"User_Equipment_Height\": 1.0\n",
      "  }\n",
      "}\n",
      "66.86311388015747\n",
      ",\n"
     ]
    },
    {
     "data": {
      "application/vnd.jupyter.widget-view+json": {
       "model_id": "110141947ff94718909b7da60c27d23f",
       "version_major": 2,
       "version_minor": 0
      },
      "text/plain": [
       "Batches:   0%|          | 0/1 [00:00<?, ?it/s]"
      ]
     },
     "metadata": {},
     "output_type": "display_data"
    },
    {
     "name": "stderr",
     "output_type": "stream",
     "text": [
      "The attention mask and the pad token id were not set. As a consequence, you may observe unexpected behavior. Please pass your input's `attention_mask` to obtain reliable results.\n",
      "Setting `pad_token_id` to `eos_token_id`:None for open-end generation.\n"
     ]
    },
    {
     "name": "stdout",
     "output_type": "stream",
     "text": [
      "82 :\n",
      "\n",
      "\n",
      "{\n",
      "  \"Parsed_Parameters\": {\n",
      "    \"X_dimension\": 30.0,\n",
      "    \"Y_dimension\": 40.0,\n",
      "    \"Number_of_Users\": 120,\n",
      "    \"Number_of_Routers\": 5,\n",
      "    \"X_User_Distribution\": \"Exponential\",\n",
      "    \"Y_User_Distribution\": \"Uniform\",\n",
      "    \"Height\": 4.0,\n",
      "    \"K\": 0.015,\n",
      "    \"Alpha\": 3.0,\n",
      "    \"Transmit_Power\": 24,\n",
      "    \"User_Equipment_Height\": 1.0\n",
      "  }\n",
      "}\n",
      "60.94458317756653\n",
      ",\n"
     ]
    },
    {
     "data": {
      "application/vnd.jupyter.widget-view+json": {
       "model_id": "190d3178405e4e929bf7bae13283c065",
       "version_major": 2,
       "version_minor": 0
      },
      "text/plain": [
       "Batches:   0%|          | 0/1 [00:00<?, ?it/s]"
      ]
     },
     "metadata": {},
     "output_type": "display_data"
    },
    {
     "name": "stderr",
     "output_type": "stream",
     "text": [
      "The attention mask and the pad token id were not set. As a consequence, you may observe unexpected behavior. Please pass your input's `attention_mask` to obtain reliable results.\n",
      "Setting `pad_token_id` to `eos_token_id`:None for open-end generation.\n"
     ]
    },
    {
     "name": "stdout",
     "output_type": "stream",
     "text": [
      "83 :\n",
      "\n",
      "\n",
      "{\n",
      "  \"Parsed_Parameters\": {\n",
      "    \"X_dimension\": 40.0,\n",
      "    \"Y_dimension\": 25.0,\n",
      "    \"Number_of_Users\": 140,\n",
      "    \"Number_of_Routers\": 8,\n",
      "    \"X_User_Distribution\": \"Gaussian\",\n",
      "    \"Y_User_Distribution\": \"Gaussian\",\n",
      "    \"Height\": 3.0,\n",
      "    \"K\": 0.005,\n",
      "    \"Alpha\": 3.0,\n",
      "    \"Transmit_Power\": 20,\n",
      "    \"User_Equipment_Height\": 1.0\n",
      "  }\n",
      "}\n",
      "53.365864515304565\n",
      ",\n"
     ]
    },
    {
     "data": {
      "application/vnd.jupyter.widget-view+json": {
       "model_id": "6191c212c46745adb5aa1b469c2da90a",
       "version_major": 2,
       "version_minor": 0
      },
      "text/plain": [
       "Batches:   0%|          | 0/1 [00:00<?, ?it/s]"
      ]
     },
     "metadata": {},
     "output_type": "display_data"
    },
    {
     "name": "stderr",
     "output_type": "stream",
     "text": [
      "The attention mask and the pad token id were not set. As a consequence, you may observe unexpected behavior. Please pass your input's `attention_mask` to obtain reliable results.\n",
      "Setting `pad_token_id` to `eos_token_id`:None for open-end generation.\n"
     ]
    },
    {
     "name": "stdout",
     "output_type": "stream",
     "text": [
      "84 :\n",
      " \"Parsed_Parameters\": {\n",
      "    \"X_dimension\": 15.0,\n",
      "    \"Y_dimension\": 30.0,\n",
      "    \"Number_of_Users\": 60,\n",
      "    \"Number_of_Routers\": 4,\n",
      "    \"X_User_Distribution\": \"Uniform\",\n",
      "    \"Y_User_Distribution\": \"Uniform\",\n",
      "    \"Height\": 4.0,\n",
      "    \"K\": 0.005,\n",
      "    \"Alpha\": 3.0,\n",
      "    \"Transmit_Power\": 19,\n",
      "    \"User_Equipment_Height\": 1.0\n",
      "  }\n",
      "}\n",
      "55.52692627906799\n",
      ",\n"
     ]
    },
    {
     "data": {
      "application/vnd.jupyter.widget-view+json": {
       "model_id": "192203bf7dac4d139e73f0ef050f7dc0",
       "version_major": 2,
       "version_minor": 0
      },
      "text/plain": [
       "Batches:   0%|          | 0/1 [00:00<?, ?it/s]"
      ]
     },
     "metadata": {},
     "output_type": "display_data"
    },
    {
     "name": "stderr",
     "output_type": "stream",
     "text": [
      "The attention mask and the pad token id were not set. As a consequence, you may observe unexpected behavior. Please pass your input's `attention_mask` to obtain reliable results.\n",
      "Setting `pad_token_id` to `eos_token_id`:None for open-end generation.\n"
     ]
    },
    {
     "name": "stdout",
     "output_type": "stream",
     "text": [
      "85 :\n",
      "\n",
      "\n",
      "{\n",
      "  \"Parsed_Parameters\": {\n",
      "    \"X_dimension\": 50.0,\n",
      "    \"Y_dimension\": 40.0,\n",
      "    \"Number_of_Users\": 180,\n",
      "    \"Number_of_Routers\": 6,\n",
      "    \"X_User_Distribution\": \"Along One Corner\",\n",
      "    \"Y_User_Distribution\": \"Bi-Exponential\",\n",
      "    \"Height\": 4.0,\n",
      "    \"K\": 0.02,\n",
      "    \"Alpha\": 2.8,\n",
      "    \"Transmit_Power\": 20,\n",
      "    \"User_Equipment_Height\": 1.0\n",
      "  }\n",
      "}\n",
      "57.694215536117554\n",
      ",\n"
     ]
    },
    {
     "data": {
      "application/vnd.jupyter.widget-view+json": {
       "model_id": "d8a20c1a74e84f6694dec1357051ee62",
       "version_major": 2,
       "version_minor": 0
      },
      "text/plain": [
       "Batches:   0%|          | 0/1 [00:00<?, ?it/s]"
      ]
     },
     "metadata": {},
     "output_type": "display_data"
    },
    {
     "name": "stderr",
     "output_type": "stream",
     "text": [
      "The attention mask and the pad token id were not set. As a consequence, you may observe unexpected behavior. Please pass your input's `attention_mask` to obtain reliable results.\n",
      "Setting `pad_token_id` to `eos_token_id`:None for open-end generation.\n"
     ]
    },
    {
     "name": "stdout",
     "output_type": "stream",
     "text": [
      "86 :\n",
      "\n",
      "\n",
      "{\n",
      "  \"Parsed_Parameters\": {\n",
      "    \"X_dimension\": 45.0,\n",
      "    \"Y_dimension\": 35.0,\n",
      "    \"Number_of_Users\": 150,\n",
      "    \"Number_of_Routers\": 9,\n",
      "    \"X_User_Distribution\": \"Uniform\",\n",
      "    \"Y_User_Distribution\": \"Uniform\",\n",
      "    \"Height\": 3.0,\n",
      "    \"K\": 0.005,\n",
      "    \"Alpha\": 3.0,\n",
      "    \"Transmit_Power\": 15,\n",
      "    \"User_Equipment_Height\": 1.0\n",
      "  }\n",
      "}\n",
      "56.44229483604431\n",
      ",\n"
     ]
    },
    {
     "data": {
      "application/vnd.jupyter.widget-view+json": {
       "model_id": "1bf791dfad98474fbaf3f7301358e5b0",
       "version_major": 2,
       "version_minor": 0
      },
      "text/plain": [
       "Batches:   0%|          | 0/1 [00:00<?, ?it/s]"
      ]
     },
     "metadata": {},
     "output_type": "display_data"
    },
    {
     "name": "stderr",
     "output_type": "stream",
     "text": [
      "The attention mask and the pad token id were not set. As a consequence, you may observe unexpected behavior. Please pass your input's `attention_mask` to obtain reliable results.\n",
      "Setting `pad_token_id` to `eos_token_id`:None for open-end generation.\n"
     ]
    },
    {
     "name": "stdout",
     "output_type": "stream",
     "text": [
      "87 :\n",
      "\n",
      "\n",
      "{\n",
      "  \"Parsed_Parameters\": {\n",
      "    \"X_dimension\": 25.0,\n",
      "    \"Y_dimension\": 45.0,\n",
      "    \"Number_of_Users\": 100,\n",
      "    \"Number_of_Routers\": 7,\n",
      "    \"X_User_Distribution\": \"Bi-Exponential\",\n",
      "    \"Y_User_Distribution\": \"Bi-Exponential\",\n",
      "    \"Height\": 5.0,\n",
      "    \"K\": 0.01,\n",
      "    \"Alpha\": 3.5,\n",
      "    \"Transmit_Power\": 24,\n",
      "    \"User_Equipment_Height\": 1.5\n",
      "  }\n",
      "}\n",
      "73.81597304344177\n",
      ",\n"
     ]
    },
    {
     "data": {
      "application/vnd.jupyter.widget-view+json": {
       "model_id": "de3fded650184f2c9b2db94eafd717a7",
       "version_major": 2,
       "version_minor": 0
      },
      "text/plain": [
       "Batches:   0%|          | 0/1 [00:00<?, ?it/s]"
      ]
     },
     "metadata": {},
     "output_type": "display_data"
    },
    {
     "name": "stderr",
     "output_type": "stream",
     "text": [
      "The attention mask and the pad token id were not set. As a consequence, you may observe unexpected behavior. Please pass your input's `attention_mask` to obtain reliable results.\n",
      "Setting `pad_token_id` to `eos_token_id`:None for open-end generation.\n"
     ]
    },
    {
     "name": "stdout",
     "output_type": "stream",
     "text": [
      "88 :\n",
      "\n",
      "\n",
      "{\n",
      "  \"Parsed_Parameters\": {\n",
      "    \"X_dimension\": 20.0,\n",
      "    \"Y_dimension\": 40.0,\n",
      "    \"Number_of_Users\": 80,\n",
      "    \"Number_of_Routers\": 5,\n",
      "    \"X_User_Distribution\": \"Along the Edge\",\n",
      "    \"Y_User_Distribution\": \"Uniform\",\n",
      "    \"Height\": 5.0,\n",
      "    \"K\": 0.015,\n",
      "    \"Alpha\": 3.0,\n",
      "    \"Transmit_Power\": 19,\n",
      "    \"User_Equipment_Height\": 1.0\n",
      "  }\n",
      "}\n",
      "53.1825966835022\n",
      ",\n"
     ]
    },
    {
     "data": {
      "application/vnd.jupyter.widget-view+json": {
       "model_id": "f518829efebf4a29a7637bc29cc85d2d",
       "version_major": 2,
       "version_minor": 0
      },
      "text/plain": [
       "Batches:   0%|          | 0/1 [00:00<?, ?it/s]"
      ]
     },
     "metadata": {},
     "output_type": "display_data"
    },
    {
     "name": "stderr",
     "output_type": "stream",
     "text": [
      "The attention mask and the pad token id were not set. As a consequence, you may observe unexpected behavior. Please pass your input's `attention_mask` to obtain reliable results.\n",
      "Setting `pad_token_id` to `eos_token_id`:None for open-end generation.\n"
     ]
    },
    {
     "name": "stdout",
     "output_type": "stream",
     "text": [
      "89 :\n",
      "\n",
      "\n",
      "{\n",
      "  \"Parsed_Parameters\": {\n",
      "    \"X_dimension\": 35.0,\n",
      "    \"Y_dimension\": 30.0,\n",
      "    \"Number_of_Users\": 120,\n",
      "    \"Number_of_Routers\": 6,\n",
      "    \"X_User_Distribution\": \"Gaussian\",\n",
      "    \"Y_User_Distribution\": \"Gaussian\",\n",
      "    \"Height\": 3.0,\n",
      "    \"K\": 0.005,\n",
      "    \"Alpha\": 3.0,\n",
      "    \"Transmit_Power\": 23,\n",
      "    \"User_Equipment_Height\": 1.0\n",
      "  }\n",
      "}\n",
      "61.493011236190796\n",
      ",\n"
     ]
    },
    {
     "data": {
      "application/vnd.jupyter.widget-view+json": {
       "model_id": "a6eab77c2014409eb69f93a0b0a27df5",
       "version_major": 2,
       "version_minor": 0
      },
      "text/plain": [
       "Batches:   0%|          | 0/1 [00:00<?, ?it/s]"
      ]
     },
     "metadata": {},
     "output_type": "display_data"
    },
    {
     "name": "stderr",
     "output_type": "stream",
     "text": [
      "The attention mask and the pad token id were not set. As a consequence, you may observe unexpected behavior. Please pass your input's `attention_mask` to obtain reliable results.\n",
      "Setting `pad_token_id` to `eos_token_id`:None for open-end generation.\n"
     ]
    },
    {
     "name": "stdout",
     "output_type": "stream",
     "text": [
      "90 :\n",
      "\n",
      "\n",
      "{\n",
      "  \"Parsed_Parameters\": {\n",
      "    \"X_dimension\": 25.0,\n",
      "    \"Y_dimension\": 35.0,\n",
      "    \"Number_of_Users\": 90,\n",
      "    \"Number_of_Routers\": 4,\n",
      "    \"X_User_Distribution\": \"Exponential\",\n",
      "    \"Y_User_Distribution\": \"Exponential\",\n",
      "    \"Height\": 2.5,\n",
      "    \"K\": 0.015,\n",
      "    \"Alpha\": 3.0,\n",
      "    \"Transmit_Power\": 25,\n",
      "    \"User_Equipment_Height\": 1.0\n",
      "  }\n",
      "}\n",
      "54.124272108078\n",
      ",\n",
      "Class 3\n",
      "Type 0\n"
     ]
    },
    {
     "data": {
      "application/vnd.jupyter.widget-view+json": {
       "model_id": "9bc79774f8a346a68eb59b432936c76e",
       "version_major": 2,
       "version_minor": 0
      },
      "text/plain": [
       "Batches:   0%|          | 0/1 [00:00<?, ?it/s]"
      ]
     },
     "metadata": {},
     "output_type": "display_data"
    },
    {
     "name": "stderr",
     "output_type": "stream",
     "text": [
      "The attention mask and the pad token id were not set. As a consequence, you may observe unexpected behavior. Please pass your input's `attention_mask` to obtain reliable results.\n",
      "Setting `pad_token_id` to `eos_token_id`:None for open-end generation.\n"
     ]
    },
    {
     "name": "stdout",
     "output_type": "stream",
     "text": [
      "91 :\n",
      "\n",
      "{\n",
      "  \"Parsed_Parameters\": {\n",
      "    \"X_dimension\": 40.0,\n",
      "    \"Y_dimension\": 30.0,\n",
      "    \"Number_of_Users\": 120,\n",
      "    \"Number_of_Routers\": 5,\n",
      "    \"X_User_Distribution\": \"Gaussian\",\n",
      "    \"Y_User_Distribution\": \"Gaussian\",\n",
      "    \"Height\": 4.0,\n",
      "    \"K\": 0.01,\n",
      "    \"Alpha\": 2.5,\n",
      "    \"Transmit_Power\": 25,\n",
      "    \"User_Equipment_Height\": 1.0\n",
      "  }\n",
      "}\n",
      "64.42563128471375\n",
      ",\n"
     ]
    },
    {
     "data": {
      "application/vnd.jupyter.widget-view+json": {
       "model_id": "39adf72b25944d9a95b15cc9292a0899",
       "version_major": 2,
       "version_minor": 0
      },
      "text/plain": [
       "Batches:   0%|          | 0/1 [00:00<?, ?it/s]"
      ]
     },
     "metadata": {},
     "output_type": "display_data"
    },
    {
     "name": "stderr",
     "output_type": "stream",
     "text": [
      "The attention mask and the pad token id were not set. As a consequence, you may observe unexpected behavior. Please pass your input's `attention_mask` to obtain reliable results.\n",
      "Setting `pad_token_id` to `eos_token_id`:None for open-end generation.\n"
     ]
    },
    {
     "name": "stdout",
     "output_type": "stream",
     "text": [
      "92 :\n",
      "\n",
      "\n",
      "{\n",
      "  \"Parsed_Parameters\": {\n",
      "    \"X_dimension\": 30.0,\n",
      "    \"Y_dimension\": 20.0,\n",
      "    \"Number_of_Users\": 100,\n",
      "    \"Number_of_Routers\": 4,\n",
      "    \"X_User_Distribution\": \"Exponential\",\n",
      "    \"Y_User_Distribution\": \"Exponential\",\n",
      "    \"Height\": 3.0,\n",
      "    \"K\": 0.005,\n",
      "    \"Alpha\": 2.0,\n",
      "    \"Transmit_Power\": 15.0,\n",
      "    \"User_Equipment_Height\": 1.0\n",
      "  }\n",
      "}\n",
      "59.600634813308716\n",
      ",\n"
     ]
    },
    {
     "data": {
      "application/vnd.jupyter.widget-view+json": {
       "model_id": "e0e962438118405b9eb9cac5e03b0ebc",
       "version_major": 2,
       "version_minor": 0
      },
      "text/plain": [
       "Batches:   0%|          | 0/1 [00:00<?, ?it/s]"
      ]
     },
     "metadata": {},
     "output_type": "display_data"
    },
    {
     "name": "stderr",
     "output_type": "stream",
     "text": [
      "The attention mask and the pad token id were not set. As a consequence, you may observe unexpected behavior. Please pass your input's `attention_mask` to obtain reliable results.\n",
      "Setting `pad_token_id` to `eos_token_id`:None for open-end generation.\n"
     ]
    },
    {
     "name": "stdout",
     "output_type": "stream",
     "text": [
      "93 :\n",
      "\n",
      "\n",
      "{\n",
      "  \"Parsed_Parameters\": {\n",
      "    \"X_dimension\": 50.0,\n",
      "    \"Y_dimension\": 40.0,\n",
      "    \"Number_of_Users\": 180,\n",
      "    \"Number_of_Routers\": 6,\n",
      "    \"X_User_Distribution\": \"Uniform\",\n",
      "    \"Y_User_Distribution\": \"Uniform\",\n",
      "    \"Height\": 6.0,\n",
      "    \"K\": 0.03,\n",
      "    \"Alpha\": 3.5,\n",
      "    \"Transmit_Power\": 28,\n",
      "    \"User_Equipment_Height\": 1.0\n",
      "  }\n",
      "}\n",
      "52.09284424781799\n",
      ",\n"
     ]
    },
    {
     "data": {
      "application/vnd.jupyter.widget-view+json": {
       "model_id": "042618e457da4e3f9b478f19fe5f367c",
       "version_major": 2,
       "version_minor": 0
      },
      "text/plain": [
       "Batches:   0%|          | 0/1 [00:00<?, ?it/s]"
      ]
     },
     "metadata": {},
     "output_type": "display_data"
    },
    {
     "name": "stderr",
     "output_type": "stream",
     "text": [
      "The attention mask and the pad token id were not set. As a consequence, you may observe unexpected behavior. Please pass your input's `attention_mask` to obtain reliable results.\n",
      "Setting `pad_token_id` to `eos_token_id`:None for open-end generation.\n"
     ]
    },
    {
     "name": "stdout",
     "output_type": "stream",
     "text": [
      "94 :\n",
      "\n",
      "\n",
      "{\n",
      "  \"Parsed_Parameters\": {\n",
      "    \"X_dimension\": 20.0,\n",
      "    \"Y_dimension\": 15.0,\n",
      "    \"Number_of_Users\": 50,\n",
      "    \"Number_of_Routers\": 3,\n",
      "    \"X_User_Distribution\": \"Bi-Exponential\",\n",
      "    \"Y_User_Distribution\": \"Bi-Exponential\",\n",
      "    \"Height\": 4.0,\n",
      "    \"K\": 0.02,\n",
      "    \"Alpha\": 2.2,\n",
      "    \"Transmit_Power\": 12,\n",
      "    \"User_Equipment_Height\": 1.0\n",
      "  }\n",
      "}\n",
      "59.37074017524719\n",
      ",\n"
     ]
    },
    {
     "data": {
      "application/vnd.jupyter.widget-view+json": {
       "model_id": "8f7295755fb3439299ce7b81436bd3c5",
       "version_major": 2,
       "version_minor": 0
      },
      "text/plain": [
       "Batches:   0%|          | 0/1 [00:00<?, ?it/s]"
      ]
     },
     "metadata": {},
     "output_type": "display_data"
    },
    {
     "name": "stderr",
     "output_type": "stream",
     "text": [
      "The attention mask and the pad token id were not set. As a consequence, you may observe unexpected behavior. Please pass your input's `attention_mask` to obtain reliable results.\n",
      "Setting `pad_token_id` to `eos_token_id`:None for open-end generation.\n"
     ]
    },
    {
     "name": "stdout",
     "output_type": "stream",
     "text": [
      "95 :\n",
      "\n",
      "\n",
      "{\n",
      "  \"Parsed_Parameters\": {\n",
      "    \"X_dimension\": 45.0,\n",
      "    \"Y_dimension\": 35.0,\n",
      "    \"Number_of_Users\": 160,\n",
      "    \"Number_of_Routers\": 7,\n",
      "    \"X_User_Distribution\": \"Gaussian\",\n",
      "    \"Y_User_Distribution\": \"Gaussian\",\n",
      "    \"Height\": 5.0,\n",
      "    \"K\": 0.01,\n",
      "    \"Alpha\": 2.8,\n",
      "    \"Transmit_Power\": 22,\n",
      "    \"User_Equipment_Height\": 1.0\n",
      "  }\n",
      "}\n",
      "61.355605363845825\n",
      ",\n"
     ]
    },
    {
     "data": {
      "application/vnd.jupyter.widget-view+json": {
       "model_id": "40cf01771a0640adb6f3114f8323986a",
       "version_major": 2,
       "version_minor": 0
      },
      "text/plain": [
       "Batches:   0%|          | 0/1 [00:00<?, ?it/s]"
      ]
     },
     "metadata": {},
     "output_type": "display_data"
    },
    {
     "name": "stderr",
     "output_type": "stream",
     "text": [
      "The attention mask and the pad token id were not set. As a consequence, you may observe unexpected behavior. Please pass your input's `attention_mask` to obtain reliable results.\n",
      "Setting `pad_token_id` to `eos_token_id`:None for open-end generation.\n"
     ]
    },
    {
     "name": "stdout",
     "output_type": "stream",
     "text": [
      "96 :\n",
      "\n",
      "\n",
      "{\n",
      "  \"Parsed_Parameters\": {\n",
      "    \"X_dimension\": 60.0,\n",
      "    \"Y_dimension\": 50.0,\n",
      "    \"Number_of_Users\": 200,\n",
      "    \"Number_of_Routers\": 9,\n",
      "    \"X_User_Distribution\": \"Uniform\",\n",
      "    \"Y_User_Distribution\": \"Uniform\",\n",
      "    \"Height\": 6.0,\n",
      "    \"K\": 0.04,\n",
      "    \"Alpha\": 3.2,\n",
      "    \"Transmit_Power\": 30,\n",
      "    \"User_Equipment_Height\": 1.0\n",
      "  }\n",
      "}\n",
      "58.6962149143219\n",
      ",\n"
     ]
    },
    {
     "data": {
      "application/vnd.jupyter.widget-view+json": {
       "model_id": "607892a601f4488686ae7d18e36096a8",
       "version_major": 2,
       "version_minor": 0
      },
      "text/plain": [
       "Batches:   0%|          | 0/1 [00:00<?, ?it/s]"
      ]
     },
     "metadata": {},
     "output_type": "display_data"
    },
    {
     "name": "stderr",
     "output_type": "stream",
     "text": [
      "The attention mask and the pad token id were not set. As a consequence, you may observe unexpected behavior. Please pass your input's `attention_mask` to obtain reliable results.\n",
      "Setting `pad_token_id` to `eos_token_id`:None for open-end generation.\n"
     ]
    },
    {
     "name": "stdout",
     "output_type": "stream",
     "text": [
      "97 :\n",
      "\n",
      "\n",
      "{\n",
      "  \"Parsed_Parameters\": {\n",
      "    \"X_dimension\": 50.0,\n",
      "    \"Y_dimension\": 45.0,\n",
      "    \"Number_of_Users\": 200,\n",
      "    \"Number_of_Routers\": 10,\n",
      "    \"X_User_Distribution\": \"Bi-Exponential\",\n",
      "    \"Y_User_Distribution\": \"Bi-Exponential\",\n",
      "    \"Height\": 6.0,\n",
      "    \"K\": 0.03,\n",
      "    \"Alpha\": 3.0,\n",
      "    \"Transmit_Power\": 30,\n",
      "    \"User_Equipment_Height\": 1.0\n",
      "  }\n",
      "}\n",
      "60.32488751411438\n",
      ",\n"
     ]
    },
    {
     "data": {
      "application/vnd.jupyter.widget-view+json": {
       "model_id": "2ca139de8b2840db9f08f4633d3a77ce",
       "version_major": 2,
       "version_minor": 0
      },
      "text/plain": [
       "Batches:   0%|          | 0/1 [00:00<?, ?it/s]"
      ]
     },
     "metadata": {},
     "output_type": "display_data"
    },
    {
     "name": "stderr",
     "output_type": "stream",
     "text": [
      "The attention mask and the pad token id were not set. As a consequence, you may observe unexpected behavior. Please pass your input's `attention_mask` to obtain reliable results.\n",
      "Setting `pad_token_id` to `eos_token_id`:None for open-end generation.\n"
     ]
    },
    {
     "name": "stdout",
     "output_type": "stream",
     "text": [
      "98 :\n",
      "\n",
      "\n",
      "{\n",
      "  \"Parsed_Parameters\": {\n",
      "    \"X_dimension\": 25.0,\n",
      "    \"Y_dimension\": 20.0,\n",
      "    \"Number_of_Users\": 80,\n",
      "    \"Number_of_Routers\": 4,\n",
      "    \"X_User_Distribution\": \"Exponential\",\n",
      "    \"Y_User_Distribution\": \"Exponential\",\n",
      "    \"Height\": 4.0,\n",
      "    \"K\": 0.005,\n",
      "    \"Alpha\": 2.5,\n",
      "    \"Transmit_Power\": 18,\n",
      "    \"User_Equipment_Height\": 1.0\n",
      "  }\n",
      "}\n",
      "60.281466245651245\n",
      ",\n"
     ]
    },
    {
     "data": {
      "application/vnd.jupyter.widget-view+json": {
       "model_id": "50c8a4351efc4efb96e11326ad629cb2",
       "version_major": 2,
       "version_minor": 0
      },
      "text/plain": [
       "Batches:   0%|          | 0/1 [00:00<?, ?it/s]"
      ]
     },
     "metadata": {},
     "output_type": "display_data"
    },
    {
     "name": "stderr",
     "output_type": "stream",
     "text": [
      "The attention mask and the pad token id were not set. As a consequence, you may observe unexpected behavior. Please pass your input's `attention_mask` to obtain reliable results.\n",
      "Setting `pad_token_id` to `eos_token_id`:None for open-end generation.\n"
     ]
    },
    {
     "name": "stdout",
     "output_type": "stream",
     "text": [
      "99 :\n",
      "\n",
      "\n",
      "{\n",
      "  \"Parsed_Parameters\": {\n",
      "    \"X_dimension\": 40.0,\n",
      "    \"Y_dimension\": 30.0,\n",
      "    \"Number_of_Users\": 140,\n",
      "    \"Number_of_Routers\": 6,\n",
      "    \"X_User_Distribution\": \"Bi-Exponential\",\n",
      "    \"Y_User_Distribution\": \"Bi-Exponential\",\n",
      "    \"Height\": 5.0,\n",
      "    \"K\": 0.02,\n",
      "    \"Alpha\": 3.0,\n",
      "    \"Transmit_Power\": 25,\n",
      "    \"User_Equipment_Height\": 1.0\n",
      "  }\n",
      "}\n",
      "53.69630694389343\n",
      ",\n"
     ]
    },
    {
     "data": {
      "application/vnd.jupyter.widget-view+json": {
       "model_id": "b2a3be8899754b0386531edd8fbdacf6",
       "version_major": 2,
       "version_minor": 0
      },
      "text/plain": [
       "Batches:   0%|          | 0/1 [00:00<?, ?it/s]"
      ]
     },
     "metadata": {},
     "output_type": "display_data"
    },
    {
     "name": "stderr",
     "output_type": "stream",
     "text": [
      "The attention mask and the pad token id were not set. As a consequence, you may observe unexpected behavior. Please pass your input's `attention_mask` to obtain reliable results.\n",
      "Setting `pad_token_id` to `eos_token_id`:None for open-end generation.\n"
     ]
    },
    {
     "name": "stdout",
     "output_type": "stream",
     "text": [
      "100 :\n",
      "\n",
      "\n",
      "{\n",
      "  \"Parsed_Parameters\": {\n",
      "    \"X_dimension\": 35.0,\n",
      "    \"Y_dimension\": 25.0,\n",
      "    \"Number_of_Users\": 100,\n",
      "    \"Number_of_Routers\": 5,\n",
      "    \"X_User_Distribution\": \"Gaussian\",\n",
      "    \"Y_User_Distribution\": \"Gaussian\",\n",
      "    \"Height\": 4.0,\n",
      "    \"K\": 0.01,\n",
      "    \"Alpha\": 2.2,\n",
      "    \"Transmit_Power\": 20,\n",
      "    \"User_Equipment_Height\": 1.0\n",
      "  }\n",
      "}\n",
      "61.246992111206055\n",
      ",\n",
      "Type 1\n"
     ]
    },
    {
     "data": {
      "application/vnd.jupyter.widget-view+json": {
       "model_id": "b44c81a5cc964f2085846635c2fd23af",
       "version_major": 2,
       "version_minor": 0
      },
      "text/plain": [
       "Batches:   0%|          | 0/1 [00:00<?, ?it/s]"
      ]
     },
     "metadata": {},
     "output_type": "display_data"
    },
    {
     "name": "stderr",
     "output_type": "stream",
     "text": [
      "The attention mask and the pad token id were not set. As a consequence, you may observe unexpected behavior. Please pass your input's `attention_mask` to obtain reliable results.\n",
      "Setting `pad_token_id` to `eos_token_id`:None for open-end generation.\n"
     ]
    },
    {
     "name": "stdout",
     "output_type": "stream",
     "text": [
      "101 :\n",
      "\n",
      "\n",
      "{\n",
      "  \"Parsed_Parameters\": {\n",
      "    \"X_dimension\": 50.0,\n",
      "    \"Y_dimension\": 60.0,\n",
      "    \"Number_of_Users\": 150,\n",
      "    \"Number_of_Routers\": 6,\n",
      "    \"X_User_Distribution\": \"Uniform\",\n",
      "    \"Y_User_Distribution\": \"Uniform\",\n",
      "    \"Height\": 10.0,\n",
      "    \"K\": 0.03,\n",
      "    \"Alpha\": 3.2,\n",
      "    \"Transmit_Power\": 25.0,\n",
      "    \"User_Equipment_Height\": 1.0\n",
      "  }\n",
      "}\n",
      "58.532859802246094\n",
      ",\n"
     ]
    },
    {
     "data": {
      "application/vnd.jupyter.widget-view+json": {
       "model_id": "0f82bfaf39a744eea49f4f6f9ff881e4",
       "version_major": 2,
       "version_minor": 0
      },
      "text/plain": [
       "Batches:   0%|          | 0/1 [00:00<?, ?it/s]"
      ]
     },
     "metadata": {},
     "output_type": "display_data"
    },
    {
     "name": "stderr",
     "output_type": "stream",
     "text": [
      "The attention mask and the pad token id were not set. As a consequence, you may observe unexpected behavior. Please pass your input's `attention_mask` to obtain reliable results.\n",
      "Setting `pad_token_id` to `eos_token_id`:None for open-end generation.\n"
     ]
    },
    {
     "name": "stdout",
     "output_type": "stream",
     "text": [
      "102 :\n",
      "\n",
      "\n",
      "{\n",
      "  \"Parsed_Parameters\": {\n",
      "    \"X_dimension\": 30.0,\n",
      "    \"Y_dimension\": 40.0,\n",
      "    \"Number_of_Users\": 100,\n",
      "    \"Number_of_Routers\": 4,\n",
      "    \"X_User_Distribution\": \"Uniform\",\n",
      "    \"Y_User_Distribution\": \"Uniform\",\n",
      "    \"Height\": 4.0,\n",
      "    \"K\": 0.005,\n",
      "    \"Alpha\": 3.0,\n",
      "    \"Transmit_Power\": 19,\n",
      "    \"User_Equipment_Height\": 1.0\n",
      "  }\n",
      "}\n",
      "57.12118721008301\n",
      ",\n"
     ]
    },
    {
     "data": {
      "application/vnd.jupyter.widget-view+json": {
       "model_id": "5518c1caad2f47c4837468e624c7be70",
       "version_major": 2,
       "version_minor": 0
      },
      "text/plain": [
       "Batches:   0%|          | 0/1 [00:00<?, ?it/s]"
      ]
     },
     "metadata": {},
     "output_type": "display_data"
    },
    {
     "name": "stderr",
     "output_type": "stream",
     "text": [
      "The attention mask and the pad token id were not set. As a consequence, you may observe unexpected behavior. Please pass your input's `attention_mask` to obtain reliable results.\n",
      "Setting `pad_token_id` to `eos_token_id`:None for open-end generation.\n"
     ]
    },
    {
     "name": "stdout",
     "output_type": "stream",
     "text": [
      "103 :\n",
      "\n",
      "\n",
      "{\n",
      "  \"Parsed_Parameters\": {\n",
      "    \"X_dimension\": 20.0,\n",
      "    \"Y_dimension\": 25.0,\n",
      "    \"Number_of_Users\": 50,\n",
      "    \"Number_of_Routers\": 3,\n",
      "    \"X_User_Distribution\": \"Gaussian\",\n",
      "    \"Y_User_Distribution\": \"Gaussian\",\n",
      "    \"Height\": 3.0,\n",
      "    \"K\": 0.01,\n",
      "    \"Alpha\": 3.0,\n",
      "    \"Transmit_Power\": 19,\n",
      "    \"User_Equipment_Height\": 1.0\n",
      "  }\n",
      "}\n",
      "53.60815501213074\n",
      ",\n"
     ]
    },
    {
     "data": {
      "application/vnd.jupyter.widget-view+json": {
       "model_id": "66686ddfb89f43b187bd0cc4f238e104",
       "version_major": 2,
       "version_minor": 0
      },
      "text/plain": [
       "Batches:   0%|          | 0/1 [00:00<?, ?it/s]"
      ]
     },
     "metadata": {},
     "output_type": "display_data"
    },
    {
     "name": "stderr",
     "output_type": "stream",
     "text": [
      "The attention mask and the pad token id were not set. As a consequence, you may observe unexpected behavior. Please pass your input's `attention_mask` to obtain reliable results.\n",
      "Setting `pad_token_id` to `eos_token_id`:None for open-end generation.\n"
     ]
    },
    {
     "name": "stdout",
     "output_type": "stream",
     "text": [
      "104 :\n",
      "\n",
      "{\n",
      "  \"Parsed_Parameters\": {\n",
      "    \"X_dimension\": 45.0,\n",
      "    \"Y_dimension\": 55.0,\n",
      "    \"Number_of_Users\": 180,\n",
      "    \"Number_of_Routers\": 8,\n",
      "    \"X_User_Distribution\": \"Uniform\",\n",
      "    \"Y_User_Distribution\": \"Uniform\",\n",
      "    \"Height\": 4.0,\n",
      "    \"K\": 0.02,\n",
      "    \"Alpha\": 2.8,\n",
      "    \"Transmit_Power\": 19,\n",
      "    \"User_Equipment_Height\": 1.0\n",
      "  }\n",
      "}\n",
      "64.9980251789093\n",
      ",\n"
     ]
    },
    {
     "data": {
      "application/vnd.jupyter.widget-view+json": {
       "model_id": "5a207f9c2fa4458185ac7386e81d2fa8",
       "version_major": 2,
       "version_minor": 0
      },
      "text/plain": [
       "Batches:   0%|          | 0/1 [00:00<?, ?it/s]"
      ]
     },
     "metadata": {},
     "output_type": "display_data"
    },
    {
     "name": "stderr",
     "output_type": "stream",
     "text": [
      "The attention mask and the pad token id were not set. As a consequence, you may observe unexpected behavior. Please pass your input's `attention_mask` to obtain reliable results.\n",
      "Setting `pad_token_id` to `eos_token_id`:None for open-end generation.\n"
     ]
    },
    {
     "name": "stdout",
     "output_type": "stream",
     "text": [
      "105 :\n",
      "\n",
      "\n",
      "{\n",
      "  \"Parsed_Parameters\": {\n",
      "    \"X_dimension\": 40.0,\n",
      "    \"Y_dimension\": 50.0,\n",
      "    \"Number_of_Users\": 120,\n",
      "    \"Number_of_Routers\": 5,\n",
      "    \"X_User_Distribution\": \"Uniform\",\n",
      "    \"Y_User_Distribution\": \"Uniform\",\n",
      "    \"Height\": 3.0,\n",
      "    \"K\": 0.015,\n",
      "    \"Alpha\": 3.0,\n",
      "    \"Transmit_Power\": 19,\n",
      "    \"User_Equipment_Height\": 1.0\n",
      "  }\n",
      "}\n",
      "52.28569841384888\n",
      ",\n"
     ]
    },
    {
     "data": {
      "application/vnd.jupyter.widget-view+json": {
       "model_id": "7c61473248b5407aadf37baf1b199939",
       "version_major": 2,
       "version_minor": 0
      },
      "text/plain": [
       "Batches:   0%|          | 0/1 [00:00<?, ?it/s]"
      ]
     },
     "metadata": {},
     "output_type": "display_data"
    },
    {
     "name": "stderr",
     "output_type": "stream",
     "text": [
      "The attention mask and the pad token id were not set. As a consequence, you may observe unexpected behavior. Please pass your input's `attention_mask` to obtain reliable results.\n",
      "Setting `pad_token_id` to `eos_token_id`:None for open-end generation.\n"
     ]
    },
    {
     "name": "stdout",
     "output_type": "stream",
     "text": [
      "106 :\n",
      "\n",
      "\n",
      "{\n",
      "  \"Parsed_Parameters\": {\n",
      "    \"X_dimension\": 35.0,\n",
      "    \"Y_dimension\": 45.0,\n",
      "    \"Number_of_Users\": 160,\n",
      "    \"Number_of_Routers\": 7,\n",
      "    \"X_User_Distribution\": \"Exponential\",\n",
      "    \"Y_User_Distribution\": \"Uniform\",\n",
      "    \"Height\": 4.0,\n",
      "    \"K\": 0.03,\n",
      "    \"Alpha\": 3.5,\n",
      "    \"Transmit_Power\": 23,\n",
      "    \"User_Equipment_Height\": 1.0\n",
      "  }\n",
      "}\n",
      "60.64073657989502\n",
      ",\n"
     ]
    },
    {
     "data": {
      "application/vnd.jupyter.widget-view+json": {
       "model_id": "d44c60f0973047b4b5ca21edbb4c4570",
       "version_major": 2,
       "version_minor": 0
      },
      "text/plain": [
       "Batches:   0%|          | 0/1 [00:00<?, ?it/s]"
      ]
     },
     "metadata": {},
     "output_type": "display_data"
    },
    {
     "name": "stderr",
     "output_type": "stream",
     "text": [
      "The attention mask and the pad token id were not set. As a consequence, you may observe unexpected behavior. Please pass your input's `attention_mask` to obtain reliable results.\n",
      "Setting `pad_token_id` to `eos_token_id`:None for open-end generation.\n"
     ]
    },
    {
     "name": "stdout",
     "output_type": "stream",
     "text": [
      "107 :\n",
      "\n",
      "\n",
      "{\n",
      "  \"Parsed_Parameters\": {\n",
      "    \"X_dimension\": 25.0,\n",
      "    \"Y_dimension\": 35.0,\n",
      "    \"Number_of_Users\": 100,\n",
      "    \"Number_of_Routers\": 4,\n",
      "    \"X_User_Distribution\": \"Uniform\",\n",
      "    \"Y_User_Distribution\": \"Uniform\",\n",
      "    \"Height\": 2.8,\n",
      "    \"K\": 0.01,\n",
      "    \"Alpha\": 2.5,\n",
      "    \"Transmit_Power\": 20,\n",
      "    \"User_Equipment_Height\": 1.0\n",
      "  }\n",
      "}\n",
      "66.85006499290466\n",
      ",\n"
     ]
    },
    {
     "data": {
      "application/vnd.jupyter.widget-view+json": {
       "model_id": "b2e8fe1ca0764eef876fe6b9ca7e6b3c",
       "version_major": 2,
       "version_minor": 0
      },
      "text/plain": [
       "Batches:   0%|          | 0/1 [00:00<?, ?it/s]"
      ]
     },
     "metadata": {},
     "output_type": "display_data"
    },
    {
     "name": "stderr",
     "output_type": "stream",
     "text": [
      "The attention mask and the pad token id were not set. As a consequence, you may observe unexpected behavior. Please pass your input's `attention_mask` to obtain reliable results.\n",
      "Setting `pad_token_id` to `eos_token_id`:None for open-end generation.\n"
     ]
    },
    {
     "name": "stdout",
     "output_type": "stream",
     "text": [
      "108 :\n",
      "\n",
      "\n",
      "{\n",
      "  \"Parsed_Parameters\": {\n",
      "    \"X_dimension\": 30.0,\n",
      "    \"Y_dimension\": 40.0,\n",
      "    \"Number_of_Users\": 80,\n",
      "    \"Number_of_Routers\": 6,\n",
      "    \"X_User_Distribution\": \"Gaussian\",\n",
      "    \"Y_User_Distribution\": \"Gaussian\",\n",
      "    \"Height\": 5.0,\n",
      "    \"K\": 0.02,\n",
      "    \"Alpha\": 3.0,\n",
      "    \"Transmit_Power\": 19,\n",
      "    \"User_Equipment_Height\": 1.0\n",
      "  }\n",
      "}\n",
      "53.90170907974243\n",
      ",\n"
     ]
    },
    {
     "data": {
      "application/vnd.jupyter.widget-view+json": {
       "model_id": "2db8675904a547379fe68a548167cd54",
       "version_major": 2,
       "version_minor": 0
      },
      "text/plain": [
       "Batches:   0%|          | 0/1 [00:00<?, ?it/s]"
      ]
     },
     "metadata": {},
     "output_type": "display_data"
    },
    {
     "name": "stderr",
     "output_type": "stream",
     "text": [
      "The attention mask and the pad token id were not set. As a consequence, you may observe unexpected behavior. Please pass your input's `attention_mask` to obtain reliable results.\n",
      "Setting `pad_token_id` to `eos_token_id`:None for open-end generation.\n"
     ]
    },
    {
     "name": "stdout",
     "output_type": "stream",
     "text": [
      "109 :\n",
      "\n",
      "\n",
      "{\n",
      "  \"Parsed_Parameters\": {\n",
      "    \"X_dimension\": 50.0,\n",
      "    \"Y_dimension\": 60.0,\n",
      "    \"Number_of_Users\": 200,\n",
      "    \"Number_of_Routers\": 9,\n",
      "    \"X_User_Distribution\": \"Uniform\",\n",
      "    \"Y_User_Distribution\": \"Uniform\",\n",
      "    \"Height\": 4.0,\n",
      "    \"K\": 0.02,\n",
      "    \"Alpha\": 2.5,\n",
      "    \"Transmit_Power\": 20,\n",
      "    \"User_Equipment_Height\": 1.0\n",
      "  }\n",
      "}\n",
      "53.26530361175537\n",
      ",\n"
     ]
    },
    {
     "data": {
      "application/vnd.jupyter.widget-view+json": {
       "model_id": "b6cdc7b1e7f946d4805854111973182f",
       "version_major": 2,
       "version_minor": 0
      },
      "text/plain": [
       "Batches:   0%|          | 0/1 [00:00<?, ?it/s]"
      ]
     },
     "metadata": {},
     "output_type": "display_data"
    },
    {
     "name": "stderr",
     "output_type": "stream",
     "text": [
      "The attention mask and the pad token id were not set. As a consequence, you may observe unexpected behavior. Please pass your input's `attention_mask` to obtain reliable results.\n",
      "Setting `pad_token_id` to `eos_token_id`:None for open-end generation.\n"
     ]
    },
    {
     "name": "stdout",
     "output_type": "stream",
     "text": [
      "110 :\n",
      "\n",
      "\n",
      "{\n",
      "  \"Parsed_Parameters\": {\n",
      "    \"X_dimension\": 45.0,\n",
      "    \"Y_dimension\": 55.0,\n",
      "    \"Number_of_Users\": 170,\n",
      "    \"Number_of_Routers\": 7,\n",
      "    \"X_User_Distribution\": \"Exponential\",\n",
      "    \"Y_User_Distribution\": \"Exponential\",\n",
      "    \"Height\": 3.0,\n",
      "    \"K\": 0.015,\n",
      "    \"Alpha\": 3.0,\n",
      "    \"Transmit_Power\": 30.0,\n",
      "    \"User_Equipment_Height\": 1.0\n",
      "  }\n",
      "}\n",
      "54.19954299926758\n",
      ",\n",
      "Type 2\n"
     ]
    },
    {
     "data": {
      "application/vnd.jupyter.widget-view+json": {
       "model_id": "0b31eb3f8abf42c3b0b937b620a73f02",
       "version_major": 2,
       "version_minor": 0
      },
      "text/plain": [
       "Batches:   0%|          | 0/1 [00:00<?, ?it/s]"
      ]
     },
     "metadata": {},
     "output_type": "display_data"
    },
    {
     "name": "stderr",
     "output_type": "stream",
     "text": [
      "The attention mask and the pad token id were not set. As a consequence, you may observe unexpected behavior. Please pass your input's `attention_mask` to obtain reliable results.\n",
      "Setting `pad_token_id` to `eos_token_id`:None for open-end generation.\n"
     ]
    },
    {
     "name": "stdout",
     "output_type": "stream",
     "text": [
      "111 :\n",
      "\n",
      "\n",
      "{\n",
      "  \"Parsed_Parameters\": {\n",
      "    \"X_dimension\": 30.0,\n",
      "    \"Y_dimension\": 20.0,\n",
      "    \"Number_of_Users\": 120,\n",
      "    \"Number_of_Routers\": 5,\n",
      "    \"X_User_Distribution\": \"Uniform\",\n",
      "    \"Y_User_Distribution\": \"Uniform\",\n",
      "    \"Height\": 4.0,\n",
      "    \"K\": 0.03,\n",
      "    \"Alpha\": 2.5,\n",
      "    \"Transmit_Power\": 20,\n",
      "    \"User_Equipment_Height\": 1.0\n",
      "  }\n",
      "}\n",
      "54.63658094406128\n",
      ",\n"
     ]
    },
    {
     "data": {
      "application/vnd.jupyter.widget-view+json": {
       "model_id": "1a0528ec5cdb480c9dc80547af7956a6",
       "version_major": 2,
       "version_minor": 0
      },
      "text/plain": [
       "Batches:   0%|          | 0/1 [00:00<?, ?it/s]"
      ]
     },
     "metadata": {},
     "output_type": "display_data"
    },
    {
     "name": "stderr",
     "output_type": "stream",
     "text": [
      "The attention mask and the pad token id were not set. As a consequence, you may observe unexpected behavior. Please pass your input's `attention_mask` to obtain reliable results.\n",
      "Setting `pad_token_id` to `eos_token_id`:None for open-end generation.\n"
     ]
    },
    {
     "name": "stdout",
     "output_type": "stream",
     "text": [
      "112 :\n",
      "\n",
      "\n",
      "{\n",
      "  \"Parsed_Parameters\": {\n",
      "    \"X_dimension\": 50.0,\n",
      "    \"Y_dimension\": 30.0,\n",
      "    \"Number_of_Users\": 150,\n",
      "    \"Number_of_Routers\": 7,\n",
      "    \"X_User_Distribution\": \"Uniform\",\n",
      "    \"Y_User_Distribution\": \"Uniform\",\n",
      "    \"Height\": 5.0,\n",
      "    \"K\": 0.03,\n",
      "    \"Alpha\": 3.2,\n",
      "    \"Transmit_Power\": 20,\n",
      "    \"User_Equipment_Height\": 1.0\n",
      "  }\n",
      "}\n",
      "53.27856755256653\n",
      ",\n"
     ]
    },
    {
     "data": {
      "application/vnd.jupyter.widget-view+json": {
       "model_id": "0bdd660f90b04e8dad39c196ce4661ba",
       "version_major": 2,
       "version_minor": 0
      },
      "text/plain": [
       "Batches:   0%|          | 0/1 [00:00<?, ?it/s]"
      ]
     },
     "metadata": {},
     "output_type": "display_data"
    },
    {
     "name": "stderr",
     "output_type": "stream",
     "text": [
      "The attention mask and the pad token id were not set. As a consequence, you may observe unexpected behavior. Please pass your input's `attention_mask` to obtain reliable results.\n",
      "Setting `pad_token_id` to `eos_token_id`:None for open-end generation.\n"
     ]
    },
    {
     "name": "stdout",
     "output_type": "stream",
     "text": [
      "113 :\n",
      "\n",
      "\n",
      "{\n",
      "  \"Parsed_Parameters\": {\n",
      "    \"X_dimension\": 45.0,\n",
      "    \"Y_dimension\": 25.0,\n",
      "    \"Number_of_Users\": 180,\n",
      "    \"Number_of_Routers\": 6,\n",
      "    \"X_User_Distribution\": \"Exponential\",\n",
      "    \"Y_User_Distribution\": \"Exponential\",\n",
      "    \"Height\": 4.0,\n",
      "    \"K\": 0.01,\n",
      "    \"Alpha\": 2.8,\n",
      "    \"Transmit_Power\": 19,\n",
      "    \"User_Equipment_Height\": 1.0\n",
      "  }\n",
      "}\n",
      "53.61962151527405\n",
      ",\n"
     ]
    },
    {
     "data": {
      "application/vnd.jupyter.widget-view+json": {
       "model_id": "8012b71acb8641ceb2d6d2d0ead968e7",
       "version_major": 2,
       "version_minor": 0
      },
      "text/plain": [
       "Batches:   0%|          | 0/1 [00:00<?, ?it/s]"
      ]
     },
     "metadata": {},
     "output_type": "display_data"
    },
    {
     "name": "stderr",
     "output_type": "stream",
     "text": [
      "The attention mask and the pad token id were not set. As a consequence, you may observe unexpected behavior. Please pass your input's `attention_mask` to obtain reliable results.\n",
      "Setting `pad_token_id` to `eos_token_id`:None for open-end generation.\n"
     ]
    },
    {
     "name": "stdout",
     "output_type": "stream",
     "text": [
      "114 :\n",
      "\n",
      "\n",
      "{\n",
      "  \"Parsed_Parameters\": {\n",
      "    \"X_dimension\": 20.0,\n",
      "    \"Y_dimension\": 15.0,\n",
      "    \"Number_of_Users\": 50,\n",
      "    \"Number_of_Routers\": 3,\n",
      "    \"X_User_Distribution\": \"Bi-Exponential\",\n",
      "    \"Y_User_Distribution\": \"Bi-Exponential\",\n",
      "    \"Height\": 2.5,\n",
      "    \"K\": 0.01,\n",
      "    \"Alpha\": 3.5,\n",
      "    \"Transmit_Power\": 19,\n",
      "    \"User_Equipment_Height\": 1.0\n",
      "  }\n",
      "}\n",
      "57.902271032333374\n",
      ",\n"
     ]
    },
    {
     "data": {
      "application/vnd.jupyter.widget-view+json": {
       "model_id": "f0e66f2037a34673a69952e223b7100d",
       "version_major": 2,
       "version_minor": 0
      },
      "text/plain": [
       "Batches:   0%|          | 0/1 [00:00<?, ?it/s]"
      ]
     },
     "metadata": {},
     "output_type": "display_data"
    },
    {
     "name": "stderr",
     "output_type": "stream",
     "text": [
      "The attention mask and the pad token id were not set. As a consequence, you may observe unexpected behavior. Please pass your input's `attention_mask` to obtain reliable results.\n",
      "Setting `pad_token_id` to `eos_token_id`:None for open-end generation.\n"
     ]
    },
    {
     "name": "stdout",
     "output_type": "stream",
     "text": [
      "115 :\n",
      "\n",
      "\n",
      "{\n",
      "  \"Parsed_Parameters\": {\n",
      "    \"X_dimension\": 35.0,\n",
      "    \"Y_dimension\": 20.0,\n",
      "    \"Number_of_Users\": 80,\n",
      "    \"Number_of_Routers\": 4,\n",
      "    \"X_User_Distribution\": \"Exponential\",\n",
      "    \"Y_User_Distribution\": \"Uniform\",\n",
      "    \"Height\": 3.0,\n",
      "    \"K\": 0.005,\n",
      "    \"Alpha\": 3.0,\n",
      "    \"Transmit_Power\": 20,\n",
      "    \"User_Equipment_Height\": 1.0\n",
      "  }\n",
      "}\n",
      "67.81992936134338\n",
      ",\n"
     ]
    },
    {
     "data": {
      "application/vnd.jupyter.widget-view+json": {
       "model_id": "042d63eaba79424b86aa83085df244b4",
       "version_major": 2,
       "version_minor": 0
      },
      "text/plain": [
       "Batches:   0%|          | 0/1 [00:00<?, ?it/s]"
      ]
     },
     "metadata": {},
     "output_type": "display_data"
    },
    {
     "name": "stderr",
     "output_type": "stream",
     "text": [
      "The attention mask and the pad token id were not set. As a consequence, you may observe unexpected behavior. Please pass your input's `attention_mask` to obtain reliable results.\n",
      "Setting `pad_token_id` to `eos_token_id`:None for open-end generation.\n"
     ]
    },
    {
     "name": "stdout",
     "output_type": "stream",
     "text": [
      "116 :\n",
      "\n",
      "\n",
      "{\n",
      "  \"Parsed_Parameters\": {\n",
      "    \"X_dimension\": 55.0,\n",
      "    \"Y_dimension\": 30.0,\n",
      "    \"Number_of_Users\": 200,\n",
      "    \"Number_of_Routers\": 9,\n",
      "    \"X_User_Distribution\": \"Exponential\",\n",
      "    \"Y_User_Distribution\": \"Exponential\",\n",
      "    \"Height\": 3.0,\n",
      "    \"K\": 0.005,\n",
      "    \"Alpha\": 3.0,\n",
      "    \"Transmit_Power\": 19,\n",
      "    \"User_Equipment_Height\": 1.0\n",
      "  }\n",
      "}\n",
      "52.94191551208496\n",
      ",\n"
     ]
    },
    {
     "data": {
      "application/vnd.jupyter.widget-view+json": {
       "model_id": "385736622c89437e95a0c7c3b8dc03c7",
       "version_major": 2,
       "version_minor": 0
      },
      "text/plain": [
       "Batches:   0%|          | 0/1 [00:00<?, ?it/s]"
      ]
     },
     "metadata": {},
     "output_type": "display_data"
    },
    {
     "name": "stderr",
     "output_type": "stream",
     "text": [
      "The attention mask and the pad token id were not set. As a consequence, you may observe unexpected behavior. Please pass your input's `attention_mask` to obtain reliable results.\n",
      "Setting `pad_token_id` to `eos_token_id`:None for open-end generation.\n"
     ]
    },
    {
     "name": "stdout",
     "output_type": "stream",
     "text": [
      "117 :\n",
      "\n",
      "\n",
      "{\n",
      "  \"Parsed_Parameters\": {\n",
      "    \"X_dimension\": 40.0,\n",
      "    \"Y_dimension\": 20.0,\n",
      "    \"Number_of_Users\": 100,\n",
      "    \"Number_of_Routers\": 6,\n",
      "    \"X_User_Distribution\": \"Uniform\",\n",
      "    \"Y_User_Distribution\": \"Uniform\",\n",
      "    \"Height\": 3.0,\n",
      "    \"K\": 0.005,\n",
      "    \"Alpha\": 3.0,\n",
      "    \"Transmit_Power\": 25,\n",
      "    \"User_Equipment_Height\": 1.0\n",
      "  }\n",
      "}\n",
      "53.293612003326416\n",
      ",\n"
     ]
    },
    {
     "data": {
      "application/vnd.jupyter.widget-view+json": {
       "model_id": "9b8abaa9c3024a4da6b0282bf570c8b5",
       "version_major": 2,
       "version_minor": 0
      },
      "text/plain": [
       "Batches:   0%|          | 0/1 [00:00<?, ?it/s]"
      ]
     },
     "metadata": {},
     "output_type": "display_data"
    },
    {
     "name": "stderr",
     "output_type": "stream",
     "text": [
      "The attention mask and the pad token id were not set. As a consequence, you may observe unexpected behavior. Please pass your input's `attention_mask` to obtain reliable results.\n",
      "Setting `pad_token_id` to `eos_token_id`:None for open-end generation.\n"
     ]
    },
    {
     "name": "stdout",
     "output_type": "stream",
     "text": [
      "118 :\n",
      "\n",
      "\n",
      "{\n",
      "  \"Parsed_Parameters\": {\n",
      "    \"X_dimension\": 50.0,\n",
      "    \"Y_dimension\": 25.0,\n",
      "    \"Number_of_Users\": 160,\n",
      "    \"Number_of_Routers\": 7,\n",
      "    \"X_User_Distribution\": \"Uniform\",\n",
      "    \"Y_User_Distribution\": \"Uniform\",\n",
      "    \"Height\": 4.0,\n",
      "    \"K\": 0.02,\n",
      "    \"Alpha\": 3.0,\n",
      "    \"Transmit_Power\": 19,\n",
      "    \"User_Equipment_Height\": 1.0\n",
      "  }\n",
      "}\n",
      "57.10308504104614\n",
      ",\n"
     ]
    },
    {
     "data": {
      "application/vnd.jupyter.widget-view+json": {
       "model_id": "d3acdab8ef39473dabda85e862aa7151",
       "version_major": 2,
       "version_minor": 0
      },
      "text/plain": [
       "Batches:   0%|          | 0/1 [00:00<?, ?it/s]"
      ]
     },
     "metadata": {},
     "output_type": "display_data"
    },
    {
     "name": "stderr",
     "output_type": "stream",
     "text": [
      "The attention mask and the pad token id were not set. As a consequence, you may observe unexpected behavior. Please pass your input's `attention_mask` to obtain reliable results.\n",
      "Setting `pad_token_id` to `eos_token_id`:None for open-end generation.\n"
     ]
    },
    {
     "name": "stdout",
     "output_type": "stream",
     "text": [
      "119 :\n",
      "\n",
      "\n",
      "{\n",
      "  \"Parsed_Parameters\": {\n",
      "    \"X_dimension\": 30.0,\n",
      "    \"Y_dimension\": 15.0,\n",
      "    \"Number_of_Users\": 130,\n",
      "    \"Number_of_Routers\": 5,\n",
      "    \"X_User_Distribution\": \"Along the Edge\",\n",
      "    \"Y_User_Distribution\": \"Along the Edge\",\n",
      "    \"Height\": 5.0,\n",
      "    \"K\": 0.015,\n",
      "    \"Alpha\": 3.0,\n",
      "    \"Transmit_Power\": 20,\n",
      "    \"User_Equipment_Height\": 1.0\n",
      "  }\n",
      "}\n",
      "55.27813100814819\n",
      ",\n"
     ]
    },
    {
     "data": {
      "application/vnd.jupyter.widget-view+json": {
       "model_id": "7ee144f09d7a4be3b69f302cb2d039c0",
       "version_major": 2,
       "version_minor": 0
      },
      "text/plain": [
       "Batches:   0%|          | 0/1 [00:00<?, ?it/s]"
      ]
     },
     "metadata": {},
     "output_type": "display_data"
    },
    {
     "name": "stderr",
     "output_type": "stream",
     "text": [
      "The attention mask and the pad token id were not set. As a consequence, you may observe unexpected behavior. Please pass your input's `attention_mask` to obtain reliable results.\n",
      "Setting `pad_token_id` to `eos_token_id`:None for open-end generation.\n"
     ]
    },
    {
     "name": "stdout",
     "output_type": "stream",
     "text": [
      "120 :\n",
      "\n",
      "\n",
      "{\n",
      "  \"Parsed_Parameters\": {\n",
      "    \"X_dimension\": 45.0,\n",
      "    \"Y_dimension\": 20.0,\n",
      "    \"Number_of_Users\": 170,\n",
      "    \"Number_of_Routers\": 8,\n",
      "    \"X_User_Distribution\": \"Bi-Exponential\",\n",
      "    \"Y_User_Distribution\": \"Bi-Exponential\",\n",
      "    \"Height\": 3.0,\n",
      "    \"K\": 0.005,\n",
      "    \"Alpha\": 3.0,\n",
      "    \"Transmit_Power\": 19,\n",
      "    \"User_Equipment_Height\": 1.0\n",
      "  }\n",
      "}\n",
      "55.23259472846985\n",
      ",\n",
      "Class 4\n",
      "Type 0\n"
     ]
    },
    {
     "data": {
      "application/vnd.jupyter.widget-view+json": {
       "model_id": "4c5c64183d504d48a69e72dabce91a96",
       "version_major": 2,
       "version_minor": 0
      },
      "text/plain": [
       "Batches:   0%|          | 0/1 [00:00<?, ?it/s]"
      ]
     },
     "metadata": {},
     "output_type": "display_data"
    },
    {
     "name": "stderr",
     "output_type": "stream",
     "text": [
      "The attention mask and the pad token id were not set. As a consequence, you may observe unexpected behavior. Please pass your input's `attention_mask` to obtain reliable results.\n",
      "Setting `pad_token_id` to `eos_token_id`:None for open-end generation.\n"
     ]
    },
    {
     "name": "stdout",
     "output_type": "stream",
     "text": [
      "121 :\n",
      "\n",
      "\n",
      "{\n",
      "  \"Parsed_Parameters\": {\n",
      "    \"X_dimension\": 40.0,\n",
      "    \"Y_dimension\": 30.0,\n",
      "    \"Number_of_Users\": 120,\n",
      "    \"Number_of_Routers\": 5,\n",
      "    \"X_User_Distribution\": \"Uniform\",\n",
      "    \"Y_User_Distribution\": \"Uniform\",\n",
      "    \"Height\": 4.0,\n",
      "    \"K\": 0.02,\n",
      "    \"Alpha\": 2.5,\n",
      "    \"Transmit_Power\": 20,\n",
      "    \"User_Equipment_Height\": 1.0\n",
      "  }\n",
      "}\n",
      "58.07071137428284\n",
      ",\n"
     ]
    },
    {
     "data": {
      "application/vnd.jupyter.widget-view+json": {
       "model_id": "63a89c4108764f2f92a460973a12620a",
       "version_major": 2,
       "version_minor": 0
      },
      "text/plain": [
       "Batches:   0%|          | 0/1 [00:00<?, ?it/s]"
      ]
     },
     "metadata": {},
     "output_type": "display_data"
    },
    {
     "name": "stderr",
     "output_type": "stream",
     "text": [
      "The attention mask and the pad token id were not set. As a consequence, you may observe unexpected behavior. Please pass your input's `attention_mask` to obtain reliable results.\n",
      "Setting `pad_token_id` to `eos_token_id`:None for open-end generation.\n"
     ]
    },
    {
     "name": "stdout",
     "output_type": "stream",
     "text": [
      "122 :\n",
      "\n",
      "\n",
      "{\n",
      "  \"Parsed_Parameters\": {\n",
      "    \"X_dimension\": 30.0,\n",
      "    \"Y_dimension\": 20.0,\n",
      "    \"Number_of_Users\": 100,\n",
      "    \"Number_of_Routers\": 10,\n",
      "    \"X_User_Distribution\": \"Bi-Exponential\",\n",
      "    \"Y_User_Distribution\": \"Bi-Exponential\",\n",
      "    \"Height\": 3.0,\n",
      "    \"K\": 0.005,\n",
      "    \"Alpha\": 3.5,\n",
      "    \"Transmit_Power\": 15,\n",
      "    \"User_Equipment_Height\": 1.0\n",
      "  }\n",
      "}\n",
      "59.222283124923706\n",
      ",\n"
     ]
    },
    {
     "data": {
      "application/vnd.jupyter.widget-view+json": {
       "model_id": "37f60a0f22ab44a89389dfe3082f22d9",
       "version_major": 2,
       "version_minor": 0
      },
      "text/plain": [
       "Batches:   0%|          | 0/1 [00:00<?, ?it/s]"
      ]
     },
     "metadata": {},
     "output_type": "display_data"
    },
    {
     "name": "stderr",
     "output_type": "stream",
     "text": [
      "The attention mask and the pad token id were not set. As a consequence, you may observe unexpected behavior. Please pass your input's `attention_mask` to obtain reliable results.\n",
      "Setting `pad_token_id` to `eos_token_id`:None for open-end generation.\n"
     ]
    },
    {
     "name": "stdout",
     "output_type": "stream",
     "text": [
      "123 :\n",
      "\n",
      "\n",
      "{\n",
      "  \"Parsed_Parameters\": {\n",
      "    \"X_dimension\": 45.0,\n",
      "    \"Y_dimension\": 25.0,\n",
      "    \"Number_of_Users\": 180,\n",
      "    \"Number_of_Routers\": 6,\n",
      "    \"X_User_Distribution\": \"Gaussian\",\n",
      "    \"Y_User_Distribution\": \"Gaussian\",\n",
      "    \"Height\": 5.0,\n",
      "    \"K\": 0.03,\n",
      "    \"Alpha\": 2.2,\n",
      "    \"Transmit_Power\": 28,\n",
      "    \"User_Equipment_Height\": 1.0\n",
      "  }\n",
      "}\n",
      "55.46305251121521\n",
      ",\n"
     ]
    },
    {
     "data": {
      "application/vnd.jupyter.widget-view+json": {
       "model_id": "ed530f3004874decba56eb530e215fc5",
       "version_major": 2,
       "version_minor": 0
      },
      "text/plain": [
       "Batches:   0%|          | 0/1 [00:00<?, ?it/s]"
      ]
     },
     "metadata": {},
     "output_type": "display_data"
    },
    {
     "name": "stderr",
     "output_type": "stream",
     "text": [
      "The attention mask and the pad token id were not set. As a consequence, you may observe unexpected behavior. Please pass your input's `attention_mask` to obtain reliable results.\n",
      "Setting `pad_token_id` to `eos_token_id`:None for open-end generation.\n"
     ]
    },
    {
     "name": "stdout",
     "output_type": "stream",
     "text": [
      "124 :\n",
      "\n",
      "\n",
      "{\n",
      "  \"Parsed_Parameters\": {\n",
      "    \"X_dimension\": 20.0,\n",
      "    \"Y_dimension\": 15.0,\n",
      "    \"Number_of_Users\": 50,\n",
      "    \"Number_of_Routers\": 4,\n",
      "    \"X_User_Distribution\": \"Exponential\",\n",
      "    \"Y_User_Distribution\": \"Uniform\",\n",
      "    \"Height\": 3.0,\n",
      "    \"K\": 0.01,\n",
      "    \"Alpha\": 3.8,\n",
      "    \"Transmit_Power\": 12,\n",
      "    \"User_Equipment_Height\": 1.0\n",
      "  }\n",
      "}\n",
      "57.2052321434021\n",
      ",\n"
     ]
    },
    {
     "data": {
      "application/vnd.jupyter.widget-view+json": {
       "model_id": "968c7f005ce9433bb01f7bfd5d11fa49",
       "version_major": 2,
       "version_minor": 0
      },
      "text/plain": [
       "Batches:   0%|          | 0/1 [00:00<?, ?it/s]"
      ]
     },
     "metadata": {},
     "output_type": "display_data"
    },
    {
     "name": "stderr",
     "output_type": "stream",
     "text": [
      "The attention mask and the pad token id were not set. As a consequence, you may observe unexpected behavior. Please pass your input's `attention_mask` to obtain reliable results.\n",
      "Setting `pad_token_id` to `eos_token_id`:None for open-end generation.\n"
     ]
    },
    {
     "name": "stdout",
     "output_type": "stream",
     "text": [
      "125 :\n",
      "\n",
      "\n",
      "{\n",
      "  \"Parsed_Parameters\": {\n",
      "    \"X_dimension\": 50.0,\n",
      "    \"Y_dimension\": 40.0,\n",
      "    \"Number_of_Users\": 200,\n",
      "    \"Number_of_Routers\": 9,\n",
      "    \"X_User_Distribution\": \"Bi-Exponential\",\n",
      "    \"Y_User_Distribution\": \"Bi-Exponential\",\n",
      "    \"Height\": 6.0,\n",
      "    \"K\": 0.04,\n",
      "    \"Alpha\": 2.8,\n",
      "    \"Transmit_Power\": 25,\n",
      "    \"User_Equipment_Height\": 1.0\n",
      "  }\n",
      "}\n",
      "59.83650302886963\n",
      ",\n"
     ]
    },
    {
     "data": {
      "application/vnd.jupyter.widget-view+json": {
       "model_id": "b99c941e9a494fefa8c160b3531db1c0",
       "version_major": 2,
       "version_minor": 0
      },
      "text/plain": [
       "Batches:   0%|          | 0/1 [00:00<?, ?it/s]"
      ]
     },
     "metadata": {},
     "output_type": "display_data"
    },
    {
     "name": "stderr",
     "output_type": "stream",
     "text": [
      "The attention mask and the pad token id were not set. As a consequence, you may observe unexpected behavior. Please pass your input's `attention_mask` to obtain reliable results.\n",
      "Setting `pad_token_id` to `eos_token_id`:None for open-end generation.\n"
     ]
    },
    {
     "name": "stdout",
     "output_type": "stream",
     "text": [
      "126 :\n",
      "\n",
      "\n",
      "{\n",
      "  \"Parsed_Parameters\": {\n",
      "    \"X_dimension\": 55.0,\n",
      "    \"Y_dimension\": 30.0,\n",
      "    \"Number_of_Users\": 150,\n",
      "    \"Number_of_Routers\": 7,\n",
      "    \"X_User_Distribution\": \"Gaussian\",\n",
      "    \"Y_User_Distribution\": \"Exponential\",\n",
      "    \"Height\": 5.0,\n",
      "    \"K\": 0.02,\n",
      "    \"Alpha\": 3.2,\n",
      "    \"Transmit_Power\": 22,\n",
      "    \"User_Equipment_Height\": 1.0\n",
      "  }\n",
      "}\n",
      "58.9523401260376\n",
      ",\n"
     ]
    },
    {
     "data": {
      "application/vnd.jupyter.widget-view+json": {
       "model_id": "80e0d20341ca44d6aa2eba7c0116547e",
       "version_major": 2,
       "version_minor": 0
      },
      "text/plain": [
       "Batches:   0%|          | 0/1 [00:00<?, ?it/s]"
      ]
     },
     "metadata": {},
     "output_type": "display_data"
    },
    {
     "name": "stderr",
     "output_type": "stream",
     "text": [
      "The attention mask and the pad token id were not set. As a consequence, you may observe unexpected behavior. Please pass your input's `attention_mask` to obtain reliable results.\n",
      "Setting `pad_token_id` to `eos_token_id`:None for open-end generation.\n"
     ]
    },
    {
     "name": "stdout",
     "output_type": "stream",
     "text": [
      "127 :\n",
      "\n",
      "\n",
      "{\n",
      "  \"Parsed_Parameters\": {\n",
      "    \"X_dimension\": 35.0,\n",
      "    \"Y_dimension\": 25.0,\n",
      "    \"Number_of_Users\": 120,\n",
      "    \"Number_of_Routers\": 8,\n",
      "    \"X_User_Distribution\": \"Uniform\",\n",
      "    \"Y_User_Distribution\": \"Uniform\",\n",
      "    \"Height\": 4.0,\n",
      "    \"K\": 0.01,\n",
      "    \"Alpha\": 2.5,\n",
      "    \"Transmit_Power\": 18.0,\n",
      "    \"User_Equipment_Height\": 1.0\n",
      "  }\n",
      "}\n",
      "58.050172328948975\n",
      ",\n"
     ]
    },
    {
     "data": {
      "application/vnd.jupyter.widget-view+json": {
       "model_id": "f9d56f673dd74330b16e8712363ef356",
       "version_major": 2,
       "version_minor": 0
      },
      "text/plain": [
       "Batches:   0%|          | 0/1 [00:00<?, ?it/s]"
      ]
     },
     "metadata": {},
     "output_type": "display_data"
    },
    {
     "name": "stderr",
     "output_type": "stream",
     "text": [
      "The attention mask and the pad token id were not set. As a consequence, you may observe unexpected behavior. Please pass your input's `attention_mask` to obtain reliable results.\n",
      "Setting `pad_token_id` to `eos_token_id`:None for open-end generation.\n"
     ]
    },
    {
     "name": "stdout",
     "output_type": "stream",
     "text": [
      "128 :\n",
      " \"Parsed_Parameters\": {\n",
      "    \"X_dimension\": 25.0,\n",
      "    \"Y_dimension\": 20.0,\n",
      "    \"Number_of_Users\": 80,\n",
      "    \"Number_of_Routers\": 5,\n",
      "    \"X_User_Distribution\": \"Bi-Exponential\",\n",
      "    \"Y_User_Distribution\": \"Bi-Exponential\",\n",
      "    \"Height\": 3.0,\n",
      "    \"K\": 0.005,\n",
      "    \"Alpha\": 3.5,\n",
      "    \"Transmit_Power\": 20,\n",
      "    \"User_Equipment_Height\": 1.0\n",
      "  }\n",
      "}\n",
      "57.8584725856781\n",
      ",\n"
     ]
    },
    {
     "data": {
      "application/vnd.jupyter.widget-view+json": {
       "model_id": "5fb8d9910f694fc8b68f05ac16db3fca",
       "version_major": 2,
       "version_minor": 0
      },
      "text/plain": [
       "Batches:   0%|          | 0/1 [00:00<?, ?it/s]"
      ]
     },
     "metadata": {},
     "output_type": "display_data"
    },
    {
     "name": "stderr",
     "output_type": "stream",
     "text": [
      "The attention mask and the pad token id were not set. As a consequence, you may observe unexpected behavior. Please pass your input's `attention_mask` to obtain reliable results.\n",
      "Setting `pad_token_id` to `eos_token_id`:None for open-end generation.\n"
     ]
    },
    {
     "name": "stdout",
     "output_type": "stream",
     "text": [
      "129 :\n",
      "{\n",
      "  \"Parsed_Parameters\": {\n",
      "    \"X_dimension\": 40.0,\n",
      "    \"Y_dimension\": 30.0,\n",
      "    \"Number_of_Users\": 180,\n",
      "    \"Number_of_Routers\": 6,\n",
      "    \"X_User_Distribution\": \"Gaussian\",\n",
      "    \"Y_User_Distribution\": \"Gaussian\",\n",
      "    \"Height\": 5.0,\n",
      "    \"K\": 0.03,\n",
      "    \"Alpha\": 2.8,\n",
      "    \"Transmit_Power\": 25,\n",
      "    \"User_Equipment_Height\": 1.0\n",
      "  }\n",
      "}\n",
      "58.27644634246826\n",
      ",\n"
     ]
    },
    {
     "data": {
      "application/vnd.jupyter.widget-view+json": {
       "model_id": "d2018b79e6654c3cb2092ff3e2062d8a",
       "version_major": 2,
       "version_minor": 0
      },
      "text/plain": [
       "Batches:   0%|          | 0/1 [00:00<?, ?it/s]"
      ]
     },
     "metadata": {},
     "output_type": "display_data"
    },
    {
     "name": "stderr",
     "output_type": "stream",
     "text": [
      "The attention mask and the pad token id were not set. As a consequence, you may observe unexpected behavior. Please pass your input's `attention_mask` to obtain reliable results.\n",
      "Setting `pad_token_id` to `eos_token_id`:None for open-end generation.\n"
     ]
    },
    {
     "name": "stdout",
     "output_type": "stream",
     "text": [
      "130 :\n",
      "\n",
      "\n",
      "{\n",
      "  \"Parsed_Parameters\": {\n",
      "    \"X_dimension\": 30.0,\n",
      "    \"Y_dimension\": 25.0,\n",
      "    \"Number_of_Users\": 60,\n",
      "    \"Number_of_Routers\": 4,\n",
      "    \"X_User_Distribution\": \"Exponential\",\n",
      "    \"Y_User_Distribution\": \"Uniform\",\n",
      "    \"Height\": 4.0,\n",
      "    \"K\": 0.02,\n",
      "    \"Alpha\": 3.2,\n",
      "    \"Transmit_Power\": 15,\n",
      "    \"User_Equipment_Height\": 1.0\n",
      "  }\n",
      "}\n",
      "61.70909070968628\n",
      ",\n",
      "Type 1\n"
     ]
    },
    {
     "data": {
      "application/vnd.jupyter.widget-view+json": {
       "model_id": "530be37d23814f9b807998c40af0e076",
       "version_major": 2,
       "version_minor": 0
      },
      "text/plain": [
       "Batches:   0%|          | 0/1 [00:00<?, ?it/s]"
      ]
     },
     "metadata": {},
     "output_type": "display_data"
    },
    {
     "name": "stderr",
     "output_type": "stream",
     "text": [
      "The attention mask and the pad token id were not set. As a consequence, you may observe unexpected behavior. Please pass your input's `attention_mask` to obtain reliable results.\n",
      "Setting `pad_token_id` to `eos_token_id`:None for open-end generation.\n"
     ]
    },
    {
     "name": "stdout",
     "output_type": "stream",
     "text": [
      "131 :\n",
      "\n",
      "\n",
      "{\n",
      "  \"Parsed_Parameters\": {\n",
      "    \"X_dimension\": 20.0,\n",
      "    \"Y_dimension\": 50.0,\n",
      "    \"Number_of_Users\": 180,\n",
      "    \"Number_of_Routers\": 6,\n",
      "    \"X_User_Distribution\": \"Uniform\",\n",
      "    \"Y_User_Distribution\": \"Uniform\",\n",
      "    \"Height\": 4.0,\n",
      "    \"K\": 0.02,\n",
      "    \"Alpha\": 2.8,\n",
      "    \"Transmit_Power\": 19,\n",
      "    \"User_Equipment_Height\": 1.0\n",
      "  }\n",
      "}\n",
      "60.011977434158325\n",
      ",\n"
     ]
    },
    {
     "data": {
      "application/vnd.jupyter.widget-view+json": {
       "model_id": "c037e999a7354a83848741565b9b73b9",
       "version_major": 2,
       "version_minor": 0
      },
      "text/plain": [
       "Batches:   0%|          | 0/1 [00:00<?, ?it/s]"
      ]
     },
     "metadata": {},
     "output_type": "display_data"
    },
    {
     "name": "stderr",
     "output_type": "stream",
     "text": [
      "The attention mask and the pad token id were not set. As a consequence, you may observe unexpected behavior. Please pass your input's `attention_mask` to obtain reliable results.\n",
      "Setting `pad_token_id` to `eos_token_id`:None for open-end generation.\n"
     ]
    },
    {
     "name": "stdout",
     "output_type": "stream",
     "text": [
      "132 :\n",
      "\n",
      "\n",
      "{\n",
      "  \"Parsed_Parameters\": {\n",
      "    \"X_dimension\": 30.0,\n",
      "    \"Y_dimension\": 40.0,\n",
      "    \"Number_of_Users\": 100,\n",
      "    \"Number_of_Routers\": 5,\n",
      "    \"X_User_Distribution\": \"Uniform\",\n",
      "    \"Y_User_Distribution\": \"Uniform\",\n",
      "    \"Height\": 4.0,\n",
      "    \"K\": 0.005,\n",
      "    \"Alpha\": 3.0,\n",
      "    \"Transmit_Power\": 22,\n",
      "    \"User_Equipment_Height\": 1.0\n",
      "  }\n",
      "}\n",
      "64.72498369216919\n",
      ",\n"
     ]
    },
    {
     "data": {
      "application/vnd.jupyter.widget-view+json": {
       "model_id": "474246d5c19d485abd905ce9d56c4aba",
       "version_major": 2,
       "version_minor": 0
      },
      "text/plain": [
       "Batches:   0%|          | 0/1 [00:00<?, ?it/s]"
      ]
     },
     "metadata": {},
     "output_type": "display_data"
    },
    {
     "name": "stderr",
     "output_type": "stream",
     "text": [
      "The attention mask and the pad token id were not set. As a consequence, you may observe unexpected behavior. Please pass your input's `attention_mask` to obtain reliable results.\n",
      "Setting `pad_token_id` to `eos_token_id`:None for open-end generation.\n"
     ]
    },
    {
     "name": "stdout",
     "output_type": "stream",
     "text": [
      "133 :\n",
      "\n",
      "\n",
      "{\n",
      "  \"Parsed_Parameters\": {\n",
      "    \"X_dimension\": 45.0,\n",
      "    \"Y_dimension\": 60.0,\n",
      "    \"Number_of_Users\": 200,\n",
      "    \"Number_of_Routers\": 9,\n",
      "    \"X_User_Distribution\": \"Uniform\",\n",
      "    \"Y_User_Distribution\": \"Uniform\",\n",
      "    \"Height\": 4.0,\n",
      "    \"K\": 0.02,\n",
      "    \"Alpha\": 3.2,\n",
      "    \"Transmit_Power\": 19,\n",
      "    \"User_Equipment_Height\": 1.0\n",
      "  }\n",
      "}\n",
      "54.379539012908936\n",
      ",\n"
     ]
    },
    {
     "data": {
      "application/vnd.jupyter.widget-view+json": {
       "model_id": "cd3198bf6662410da70bebe7d8eb7720",
       "version_major": 2,
       "version_minor": 0
      },
      "text/plain": [
       "Batches:   0%|          | 0/1 [00:00<?, ?it/s]"
      ]
     },
     "metadata": {},
     "output_type": "display_data"
    },
    {
     "name": "stderr",
     "output_type": "stream",
     "text": [
      "The attention mask and the pad token id were not set. As a consequence, you may observe unexpected behavior. Please pass your input's `attention_mask` to obtain reliable results.\n",
      "Setting `pad_token_id` to `eos_token_id`:None for open-end generation.\n"
     ]
    },
    {
     "name": "stdout",
     "output_type": "stream",
     "text": [
      "134 :\n",
      "\n",
      "\n",
      "{\n",
      "  \"Parsed_Parameters\": {\n",
      "    \"X_dimension\": 15.0,\n",
      "    \"Y_dimension\": 25.0,\n",
      "    \"Number_of_Users\": 40,\n",
      "    \"Number_of_Routers\": 3,\n",
      "    \"X_User_Distribution\": \"Exponential\",\n",
      "    \"Y_User_Distribution\": \"Exponential\",\n",
      "    \"Height\": 4.0,\n",
      "    \"K\": 0.005,\n",
      "    \"Alpha\": 3.0,\n",
      "    \"Transmit_Power\": 20,\n",
      "    \"User_Equipment_Height\": 1.0\n",
      "  }\n",
      "}\n",
      "61.31554889678955\n",
      ",\n"
     ]
    },
    {
     "data": {
      "application/vnd.jupyter.widget-view+json": {
       "model_id": "11287f9b5fbc4d5f8f847a751b719e72",
       "version_major": 2,
       "version_minor": 0
      },
      "text/plain": [
       "Batches:   0%|          | 0/1 [00:00<?, ?it/s]"
      ]
     },
     "metadata": {},
     "output_type": "display_data"
    },
    {
     "name": "stderr",
     "output_type": "stream",
     "text": [
      "The attention mask and the pad token id were not set. As a consequence, you may observe unexpected behavior. Please pass your input's `attention_mask` to obtain reliable results.\n",
      "Setting `pad_token_id` to `eos_token_id`:None for open-end generation.\n"
     ]
    },
    {
     "name": "stdout",
     "output_type": "stream",
     "text": [
      "135 :\n",
      "\n",
      "\n",
      "{\n",
      "  \"Parsed_Parameters\": {\n",
      "    \"X_dimension\": 20.0,\n",
      "    \"Y_dimension\": 30.0,\n",
      "    \"Number_of_Users\": 80,\n",
      "    \"Number_of_Routers\": 6,\n",
      "    \"X_User_Distribution\": \"Gaussian\",\n",
      "    \"Y_User_Distribution\": \"Gaussian\",\n",
      "    \"Height\": 3.0,\n",
      "    \"K\": 0.015,\n",
      "    \"Alpha\": 3.0,\n",
      "    \"Transmit_Power\": 19,\n",
      "    \"User_Equipment_Height\": 1.0\n",
      "  }\n",
      "}\n",
      "53.223337173461914\n",
      ",\n"
     ]
    },
    {
     "data": {
      "application/vnd.jupyter.widget-view+json": {
       "model_id": "fe5044c9d3344e6da565eb3f36f1ced2",
       "version_major": 2,
       "version_minor": 0
      },
      "text/plain": [
       "Batches:   0%|          | 0/1 [00:00<?, ?it/s]"
      ]
     },
     "metadata": {},
     "output_type": "display_data"
    },
    {
     "name": "stderr",
     "output_type": "stream",
     "text": [
      "The attention mask and the pad token id were not set. As a consequence, you may observe unexpected behavior. Please pass your input's `attention_mask` to obtain reliable results.\n",
      "Setting `pad_token_id` to `eos_token_id`:None for open-end generation.\n"
     ]
    },
    {
     "name": "stdout",
     "output_type": "stream",
     "text": [
      "136 :\n",
      "\n",
      "\n",
      "{\n",
      "  \"Parsed_Parameters\": {\n",
      "    \"X_dimension\": 25.0,\n",
      "    \"Y_dimension\": 40.0,\n",
      "    \"Number_of_Users\": 150,\n",
      "    \"Number_of_Routers\": 8,\n",
      "    \"X_User_Distribution\": \"Uniform\",\n",
      "    \"Y_User_Distribution\": \"Uniform\",\n",
      "    \"Height\": 5.0,\n",
      "    \"K\": 0.005,\n",
      "    \"Alpha\": 3.0,\n",
      "    \"Transmit_Power\": 20,\n",
      "    \"User_Equipment_Height\": 1.0\n",
      "  }\n",
      "}\n",
      "66.8961889743805\n",
      ",\n"
     ]
    },
    {
     "data": {
      "application/vnd.jupyter.widget-view+json": {
       "model_id": "7f25d345fa064c41931773819a83fcb7",
       "version_major": 2,
       "version_minor": 0
      },
      "text/plain": [
       "Batches:   0%|          | 0/1 [00:00<?, ?it/s]"
      ]
     },
     "metadata": {},
     "output_type": "display_data"
    },
    {
     "name": "stderr",
     "output_type": "stream",
     "text": [
      "The attention mask and the pad token id were not set. As a consequence, you may observe unexpected behavior. Please pass your input's `attention_mask` to obtain reliable results.\n",
      "Setting `pad_token_id` to `eos_token_id`:None for open-end generation.\n"
     ]
    },
    {
     "name": "stdout",
     "output_type": "stream",
     "text": [
      "137 :\n",
      "\n",
      "\n",
      "{\n",
      "  \"Parsed_Parameters\": {\n",
      "    \"X_dimension\": 10.0,\n",
      "    \"Y_dimension\": 20.0,\n",
      "    \"Number_of_Users\": 50,\n",
      "    \"Number_of_Routers\": 4,\n",
      "    \"X_User_Distribution\": \"Uniform\",\n",
      "    \"Y_User_Distribution\": \"Uniform\",\n",
      "    \"Height\": 3.0,\n",
      "    \"K\": 0.01,\n",
      "    \"Alpha\": 2.5,\n",
      "    \"Transmit_Power\": 19,\n",
      "    \"User_Equipment_Height\": 1.0\n",
      "  }\n",
      "}\n",
      "54.1555917263031\n",
      ",\n"
     ]
    },
    {
     "data": {
      "application/vnd.jupyter.widget-view+json": {
       "model_id": "5cfc88a44af04c9db3cdeb0f28d26e66",
       "version_major": 2,
       "version_minor": 0
      },
      "text/plain": [
       "Batches:   0%|          | 0/1 [00:00<?, ?it/s]"
      ]
     },
     "metadata": {},
     "output_type": "display_data"
    },
    {
     "name": "stderr",
     "output_type": "stream",
     "text": [
      "The attention mask and the pad token id were not set. As a consequence, you may observe unexpected behavior. Please pass your input's `attention_mask` to obtain reliable results.\n",
      "Setting `pad_token_id` to `eos_token_id`:None for open-end generation.\n"
     ]
    },
    {
     "name": "stdout",
     "output_type": "stream",
     "text": [
      "138 :\n",
      "\n",
      "\n",
      "{\n",
      "  \"Parsed_Parameters\": {\n",
      "    \"X_dimension\": 40.0,\n",
      "    \"Y_dimension\": 50.0,\n",
      "    \"Number_of_Users\": 180,\n",
      "    \"Number_of_Routers\": 6,\n",
      "    \"X_User_Distribution\": \"Uniform\",\n",
      "    \"Y_User_Distribution\": \"Uniform\",\n",
      "    \"Height\": 5.0,\n",
      "    \"K\": 0.01,\n",
      "    \"Alpha\": 3.0,\n",
      "    \"Transmit_Power\": 25.0,\n",
      "    \"User_Equipment_Height\": 1.0\n",
      "  }\n",
      "}\n",
      "72.67896246910095\n",
      ",\n"
     ]
    },
    {
     "data": {
      "application/vnd.jupyter.widget-view+json": {
       "model_id": "06d0ae129bb74253b71dda5f0aa0c6d2",
       "version_major": 2,
       "version_minor": 0
      },
      "text/plain": [
       "Batches:   0%|          | 0/1 [00:00<?, ?it/s]"
      ]
     },
     "metadata": {},
     "output_type": "display_data"
    },
    {
     "name": "stderr",
     "output_type": "stream",
     "text": [
      "The attention mask and the pad token id were not set. As a consequence, you may observe unexpected behavior. Please pass your input's `attention_mask` to obtain reliable results.\n",
      "Setting `pad_token_id` to `eos_token_id`:None for open-end generation.\n"
     ]
    },
    {
     "name": "stdout",
     "output_type": "stream",
     "text": [
      "139 :\n",
      "\n",
      "\n",
      "{\n",
      "  \"Parsed_Parameters\": {\n",
      "    \"X_dimension\": 30.0,\n",
      "    \"Y_dimension\": 40.0,\n",
      "    \"Number_of_Users\": 120,\n",
      "    \"Number_of_Routers\": 7,\n",
      "    \"X_User_Distribution\": \"Bi-Exponential\",\n",
      "    \"Y_User_Distribution\": \"Bi-Exponential\",\n",
      "    \"Height\": 4.0,\n",
      "    \"K\": 15.0,\n",
      "    \"Alpha\": 0.005,\n",
      "    \"Transmit_Power\": 19,\n",
      "    \"User_Equipment_Height\": 1.0\n",
      "  }\n",
      "}\n",
      "55.971415519714355\n",
      ",\n"
     ]
    },
    {
     "data": {
      "application/vnd.jupyter.widget-view+json": {
       "model_id": "f050952cbeba4a6ba096c32946491964",
       "version_major": 2,
       "version_minor": 0
      },
      "text/plain": [
       "Batches:   0%|          | 0/1 [00:00<?, ?it/s]"
      ]
     },
     "metadata": {},
     "output_type": "display_data"
    },
    {
     "name": "stderr",
     "output_type": "stream",
     "text": [
      "The attention mask and the pad token id were not set. As a consequence, you may observe unexpected behavior. Please pass your input's `attention_mask` to obtain reliable results.\n",
      "Setting `pad_token_id` to `eos_token_id`:None for open-end generation.\n"
     ]
    },
    {
     "name": "stdout",
     "output_type": "stream",
     "text": [
      "140 :\n",
      "\n",
      "\n",
      "{\n",
      "  \"Parsed_Parameters\": {\n",
      "    \"X_dimension\": 20.0,\n",
      "    \"Y_dimension\": 30.0,\n",
      "    \"Number_of_Users\": 90,\n",
      "    \"Number_of_Routers\": 5,\n",
      "    \"X_User_Distribution\": \"Uniform\",\n",
      "    \"Y_User_Distribution\": \"Uniform\",\n",
      "    \"Height\": 4.0,\n",
      "    \"K\": 0.005,\n",
      "    \"Alpha\": 3.5,\n",
      "    \"Transmit_Power\": 19,\n",
      "    \"User_Equipment_Height\": 1.0\n",
      "  }\n",
      "}\n",
      "58.435434341430664\n",
      ",\n",
      "Type 2\n"
     ]
    },
    {
     "data": {
      "application/vnd.jupyter.widget-view+json": {
       "model_id": "689f459991e14e3aa1d6c1918d736e57",
       "version_major": 2,
       "version_minor": 0
      },
      "text/plain": [
       "Batches:   0%|          | 0/1 [00:00<?, ?it/s]"
      ]
     },
     "metadata": {},
     "output_type": "display_data"
    },
    {
     "name": "stderr",
     "output_type": "stream",
     "text": [
      "The attention mask and the pad token id were not set. As a consequence, you may observe unexpected behavior. Please pass your input's `attention_mask` to obtain reliable results.\n",
      "Setting `pad_token_id` to `eos_token_id`:None for open-end generation.\n"
     ]
    },
    {
     "name": "stdout",
     "output_type": "stream",
     "text": [
      "141 :\n",
      "\n",
      "{\n",
      "  \"Parsed_Parameters\": {\n",
      "    \"X_dimension\": 25.0,\n",
      "    \"Y_dimension\": 40.0,\n",
      "    \"Number_of_Users\": 140,\n",
      "    \"Number_of_Routers\": 8,\n",
      "    \"X_User_Distribution\": \"Uniform\",\n",
      "    \"Y_User_Distribution\": \"Uniform\",\n",
      "    \"Height\": 3.0,\n",
      "    \"K\": 0.005,\n",
      "    \"Alpha\": 3.0,\n",
      "    \"Transmit_Power\": 19,\n",
      "    \"User_Equipment_Height\": 1.0\n",
      "  }\n",
      "}\n",
      "63.63347268104553\n",
      ",\n"
     ]
    },
    {
     "data": {
      "application/vnd.jupyter.widget-view+json": {
       "model_id": "8e0d96f917d34c9aa53b370f8ab157af",
       "version_major": 2,
       "version_minor": 0
      },
      "text/plain": [
       "Batches:   0%|          | 0/1 [00:00<?, ?it/s]"
      ]
     },
     "metadata": {},
     "output_type": "display_data"
    },
    {
     "name": "stderr",
     "output_type": "stream",
     "text": [
      "The attention mask and the pad token id were not set. As a consequence, you may observe unexpected behavior. Please pass your input's `attention_mask` to obtain reliable results.\n",
      "Setting `pad_token_id` to `eos_token_id`:None for open-end generation.\n"
     ]
    },
    {
     "name": "stdout",
     "output_type": "stream",
     "text": [
      "142 :\n",
      "\n",
      "\n",
      "{\n",
      "  \"Parsed_Parameters\": {\n",
      "    \"X_dimension\": 30.0,\n",
      "    \"Y_dimension\": 50.0,\n",
      "    \"Number_of_Users\": 160,\n",
      "    \"Number_of_Routers\": 6,\n",
      "    \"X_User_Distribution\": \"Uniform\",\n",
      "    \"Y_User_Distribution\": \"Uniform\",\n",
      "    \"Height\": 3.0,\n",
      "    \"K\": 0.005,\n",
      "    \"Alpha\": 3.0,\n",
      "    \"Transmit_Power\": 24.0,\n",
      "    \"User_Equipment_Height\": 1.0\n",
      "  }\n",
      "}\n",
      "71.18693518638611\n",
      ",\n"
     ]
    },
    {
     "data": {
      "application/vnd.jupyter.widget-view+json": {
       "model_id": "449aa3480ed74ac49e90e8fb082d08dd",
       "version_major": 2,
       "version_minor": 0
      },
      "text/plain": [
       "Batches:   0%|          | 0/1 [00:00<?, ?it/s]"
      ]
     },
     "metadata": {},
     "output_type": "display_data"
    },
    {
     "name": "stderr",
     "output_type": "stream",
     "text": [
      "The attention mask and the pad token id were not set. As a consequence, you may observe unexpected behavior. Please pass your input's `attention_mask` to obtain reliable results.\n",
      "Setting `pad_token_id` to `eos_token_id`:None for open-end generation.\n"
     ]
    },
    {
     "name": "stdout",
     "output_type": "stream",
     "text": [
      "143 :\n",
      "\n",
      "\n",
      "{\n",
      "  \"Parsed_Parameters\": {\n",
      "    \"X_dimension\": 15.0,\n",
      "    \"Y_dimension\": 25.0,\n",
      "    \"Number_of_Users\": 50,\n",
      "    \"Number_of_Routers\": 4,\n",
      "    \"X_User_Distribution\": \"Gaussian\",\n",
      "    \"Y_User_Distribution\": \"Gaussian\",\n",
      "    \"Height\": 2.5,\n",
      "    \"K\": 0.01,\n",
      "    \"Alpha\": 3.0,\n",
      "    \"Transmit_Power\": 20,\n",
      "    \"User_Equipment_Height\": 1.0\n",
      "  }\n",
      "}\n",
      "72.60909724235535\n",
      ",\n"
     ]
    },
    {
     "data": {
      "application/vnd.jupyter.widget-view+json": {
       "model_id": "f9cfedd1b37a491589d706c20f9e6ca6",
       "version_major": 2,
       "version_minor": 0
      },
      "text/plain": [
       "Batches:   0%|          | 0/1 [00:00<?, ?it/s]"
      ]
     },
     "metadata": {},
     "output_type": "display_data"
    },
    {
     "name": "stderr",
     "output_type": "stream",
     "text": [
      "The attention mask and the pad token id were not set. As a consequence, you may observe unexpected behavior. Please pass your input's `attention_mask` to obtain reliable results.\n",
      "Setting `pad_token_id` to `eos_token_id`:None for open-end generation.\n"
     ]
    },
    {
     "name": "stdout",
     "output_type": "stream",
     "text": [
      "144 :\n",
      "\n",
      "\n",
      "{\n",
      "  \"Parsed_Parameters\": {\n",
      "    \"X_dimension\": 45.0,\n",
      "    \"Y_dimension\": 60.0,\n",
      "    \"Number_of_Users\": 200,\n",
      "    \"Number_of_Routers\": 9,\n",
      "    \"X_User_Distribution\": \"Uniform\",\n",
      "    \"Y_User_Distribution\": \"Uniform\",\n",
      "    \"Height\": 4.0,\n",
      "    \"K\": 0.02,\n",
      "    \"Alpha\": 2.8,\n",
      "    \"Transmit_Power\": 19,\n",
      "    \"User_Equipment_Height\": 1.0\n",
      "  }\n",
      "}\n",
      "64.78566813468933\n",
      ",\n"
     ]
    },
    {
     "data": {
      "application/vnd.jupyter.widget-view+json": {
       "model_id": "21cd26b3e77943fb96fbd46ce5ce967f",
       "version_major": 2,
       "version_minor": 0
      },
      "text/plain": [
       "Batches:   0%|          | 0/1 [00:00<?, ?it/s]"
      ]
     },
     "metadata": {},
     "output_type": "display_data"
    },
    {
     "name": "stderr",
     "output_type": "stream",
     "text": [
      "The attention mask and the pad token id were not set. As a consequence, you may observe unexpected behavior. Please pass your input's `attention_mask` to obtain reliable results.\n",
      "Setting `pad_token_id` to `eos_token_id`:None for open-end generation.\n"
     ]
    },
    {
     "name": "stdout",
     "output_type": "stream",
     "text": [
      "145 :\n",
      "\n",
      "\n",
      "{\n",
      "  \"Parsed_Parameters\": {\n",
      "    \"X_dimension\": 35.0,\n",
      "    \"Y_dimension\": 50.0,\n",
      "    \"Number_of_Users\": 150,\n",
      "    \"Number_of_Routers\": 7,\n",
      "    \"X_User_Distribution\": \"Uniform\",\n",
      "    \"Y_User_Distribution\": \"Uniform\",\n",
      "    \"Height\": 3.0,\n",
      "    \"K\": 0.005,\n",
      "    \"Alpha\": 3.0,\n",
      "    \"Transmit_Power\": 19,\n",
      "    \"User_Equipment_Height\": 1.0\n",
      "  }\n",
      "}\n",
      "71.82644867897034\n",
      ",\n"
     ]
    },
    {
     "data": {
      "application/vnd.jupyter.widget-view+json": {
       "model_id": "34db6955614e4deeadecc753ab7ea82e",
       "version_major": 2,
       "version_minor": 0
      },
      "text/plain": [
       "Batches:   0%|          | 0/1 [00:00<?, ?it/s]"
      ]
     },
     "metadata": {},
     "output_type": "display_data"
    },
    {
     "name": "stderr",
     "output_type": "stream",
     "text": [
      "The attention mask and the pad token id were not set. As a consequence, you may observe unexpected behavior. Please pass your input's `attention_mask` to obtain reliable results.\n",
      "Setting `pad_token_id` to `eos_token_id`:None for open-end generation.\n"
     ]
    },
    {
     "name": "stdout",
     "output_type": "stream",
     "text": [
      "146 :\n",
      "\n",
      "\n",
      "{\n",
      "  \"Parsed_Parameters\": {\n",
      "    \"X_dimension\": 20.0,\n",
      "    \"Y_dimension\": 30.0,\n",
      "    \"Number_of_Users\": 80,\n",
      "    \"Number_of_Routers\": 5,\n",
      "    \"X_User_Distribution\": \"Uniform\",\n",
      "    \"Y_User_Distribution\": \"Uniform\",\n",
      "    \"Height\": 3.0,\n",
      "    \"K\": 0.005,\n",
      "    \"Alpha\": 3.0,\n",
      "    \"Transmit_Power\": 19,\n",
      "    \"User_Equipment_Height\": 1.0\n",
      "  }\n",
      "}\n",
      "72.76122236251831\n",
      ",\n"
     ]
    },
    {
     "data": {
      "application/vnd.jupyter.widget-view+json": {
       "model_id": "2a0db66f3e914ae7851538f689fc9caa",
       "version_major": 2,
       "version_minor": 0
      },
      "text/plain": [
       "Batches:   0%|          | 0/1 [00:00<?, ?it/s]"
      ]
     },
     "metadata": {},
     "output_type": "display_data"
    },
    {
     "name": "stderr",
     "output_type": "stream",
     "text": [
      "The attention mask and the pad token id were not set. As a consequence, you may observe unexpected behavior. Please pass your input's `attention_mask` to obtain reliable results.\n",
      "Setting `pad_token_id` to `eos_token_id`:None for open-end generation.\n"
     ]
    },
    {
     "name": "stdout",
     "output_type": "stream",
     "text": [
      "147 :\n",
      "\n",
      "\n",
      "{\n",
      "  \"Parsed_Parameters\": {\n",
      "    \"X_dimension\": 20.0,\n",
      "    \"Y_dimension\": 10.0,\n",
      "    \"Number_of_Users\": 40,\n",
      "    \"Number_of_Routers\": 3,\n",
      "    \"X_User_Distribution\": \"Uniform\",\n",
      "    \"Y_User_Distribution\": \"Uniform\",\n",
      "    \"Height\": 3.0,\n",
      "    \"K\": 0.005,\n",
      "    \"Alpha\": 3.0,\n",
      "    \"Transmit_Power\": 19,\n",
      "    \"User_Equipment_Height\": 1.0\n",
      "  }\n",
      "}\n",
      "67.46965384483337\n",
      ",\n"
     ]
    },
    {
     "data": {
      "application/vnd.jupyter.widget-view+json": {
       "model_id": "69101643092a4d67b85b0638b74c9ff8",
       "version_major": 2,
       "version_minor": 0
      },
      "text/plain": [
       "Batches:   0%|          | 0/1 [00:00<?, ?it/s]"
      ]
     },
     "metadata": {},
     "output_type": "display_data"
    },
    {
     "name": "stderr",
     "output_type": "stream",
     "text": [
      "The attention mask and the pad token id were not set. As a consequence, you may observe unexpected behavior. Please pass your input's `attention_mask` to obtain reliable results.\n",
      "Setting `pad_token_id` to `eos_token_id`:None for open-end generation.\n"
     ]
    },
    {
     "name": "stdout",
     "output_type": "stream",
     "text": [
      "148 :\n",
      "\n",
      "\n",
      "{\n",
      "  \"Parsed_Parameters\": {\n",
      "    \"X_dimension\": 40.0,\n",
      "    \"Y_dimension\": 60.0,\n",
      "    \"Number_of_Users\": 180,\n",
      "    \"Number_of_Routers\": 8,\n",
      "    \"X_User_Distribution\": \"Uniform\",\n",
      "    \"Y_User_Distribution\": \"Uniform\",\n",
      "    \"Height\": 5.0,\n",
      "    \"K\": 0.01,\n",
      "    \"Alpha\": 3.0,\n",
      "    \"Transmit_Power\": 20,\n",
      "    \"User_Equipment_Height\": 1.5\n",
      "  }\n",
      "}\n",
      "64.65474343299866\n",
      ",\n"
     ]
    },
    {
     "data": {
      "application/vnd.jupyter.widget-view+json": {
       "model_id": "4cdcb47d5f9b4afea8d4b8fcd9c6b65b",
       "version_major": 2,
       "version_minor": 0
      },
      "text/plain": [
       "Batches:   0%|          | 0/1 [00:00<?, ?it/s]"
      ]
     },
     "metadata": {},
     "output_type": "display_data"
    },
    {
     "name": "stderr",
     "output_type": "stream",
     "text": [
      "The attention mask and the pad token id were not set. As a consequence, you may observe unexpected behavior. Please pass your input's `attention_mask` to obtain reliable results.\n",
      "Setting `pad_token_id` to `eos_token_id`:None for open-end generation.\n"
     ]
    },
    {
     "name": "stdout",
     "output_type": "stream",
     "text": [
      "149 :\n",
      "\n",
      "\n",
      "{\n",
      "  \"Parsed_Parameters\": {\n",
      "    \"X_dimension\": 25.0,\n",
      "    \"Y_dimension\": 40.0,\n",
      "    \"Number_of_Users\": 120,\n",
      "    \"Number_of_Routers\": 6,\n",
      "    \"X_User_Distribution\": \"Uniform\",\n",
      "    \"Y_User_Distribution\": \"Uniform\",\n",
      "    \"Height\": 2.8,\n",
      "    \"K\": 0.005,\n",
      "    \"Alpha\": 3.0,\n",
      "    \"Transmit_Power\": 20,\n",
      "    \"User_Equipment_Height\": 1.0\n",
      "  }\n",
      "}\n",
      "59.63488507270813\n",
      ",\n"
     ]
    },
    {
     "data": {
      "application/vnd.jupyter.widget-view+json": {
       "model_id": "808462c6025c4e3091208bbf5015eb89",
       "version_major": 2,
       "version_minor": 0
      },
      "text/plain": [
       "Batches:   0%|          | 0/1 [00:00<?, ?it/s]"
      ]
     },
     "metadata": {},
     "output_type": "display_data"
    },
    {
     "name": "stderr",
     "output_type": "stream",
     "text": [
      "The attention mask and the pad token id were not set. As a consequence, you may observe unexpected behavior. Please pass your input's `attention_mask` to obtain reliable results.\n",
      "Setting `pad_token_id` to `eos_token_id`:None for open-end generation.\n"
     ]
    },
    {
     "name": "stdout",
     "output_type": "stream",
     "text": [
      "150 :\n",
      "\n",
      "\n",
      "{\n",
      "  \"Parsed_Parameters\": {\n",
      "    \"X_dimension\": 20.0,\n",
      "    \"Y_dimension\": 30.0,\n",
      "    \"Number_of_Users\": 90,\n",
      "    \"Number_of_Routers\": 5,\n",
      "    \"X_User_Distribution\": \"Uniform\",\n",
      "    \"Y_User_Distribution\": \"Uniform\",\n",
      "    \"Height\": 3.0,\n",
      "    \"K\": 0.005,\n",
      "    \"Alpha\": 3.0,\n",
      "    \"Transmit_Power\": 19,\n",
      "    \"User_Equipment_Height\": 1.0\n",
      "  }\n",
      "}\n",
      "72.00553607940674\n",
      ",\n"
     ]
    }
   ],
   "source": [
    "count=0\n",
    "import time\n",
    "for cls in range(0,5):\n",
    "    print(\"Class\",cls)\n",
    "    for typ in range(3):\n",
    "        print(\"Type\",typ)\n",
    "        for ins in range(10):\n",
    "            count+=1\n",
    "            request=dataset_list[cls][str(typ)][ins][\"Original_Request\"]\n",
    "            \n",
    "            ret_doc=doc_embeddings.find_similar_chunks(request,top_k=10)\n",
    "            context=\"\"\n",
    "            for ret_cont in ret_doc:\n",
    "                context+=ret_cont['chunk_text']\n",
    "            context=context+defaults\n",
    "            \n",
    "            message=[system,\n",
    "                {\"role\":\"user\",\"content\":context+\"\\n User Request: \\n \" + request}]\n",
    "            input_ids = tokenizer.apply_chat_template(message, return_tensors=\"pt\",padding=True, truncation=True,).to(llama_model.device)\n",
    "\n",
    "            start=time.time()\n",
    "            \n",
    "            with torch.no_grad():\n",
    "                 output = llama_model.generate(input_ids, max_length=input_ids.shape[1]+500, num_return_sequences=1, temperature=0.1);\n",
    "            input_length = input_ids.shape[1] \n",
    "            clean_prompt=output[0][input_length+3:];\n",
    "            answer=tokenizer.decode(clean_prompt, skip_special_tokens=True);\n",
    "            print(count,\":\")\n",
    "            print(answer)\n",
    "            print(time.time()-start)\n",
    "            print(\",\")\n",
    "            \n",
    "            json_answers.append(answer)"
   ]
  },
  {
   "cell_type": "code",
   "execution_count": 89,
   "metadata": {
    "execution": {
     "iopub.execute_input": "2024-11-25T16:39:45.783839Z",
     "iopub.status.busy": "2024-11-25T16:39:45.783462Z",
     "iopub.status.idle": "2024-11-25T16:39:45.789010Z",
     "shell.execute_reply": "2024-11-25T16:39:45.788271Z",
     "shell.execute_reply.started": "2024-11-25T16:39:45.783808Z"
    },
    "trusted": true
   },
   "outputs": [],
   "source": [
    "with open(\"output_chunk.json\",\"w\") as file:\n",
    "    json.dump(json_answers, file, indent = 6)"
   ]
  },
  {
   "cell_type": "code",
   "execution_count": 87,
   "metadata": {
    "execution": {
     "iopub.execute_input": "2024-11-25T16:35:08.305268Z",
     "iopub.status.busy": "2024-11-25T16:35:08.304900Z",
     "iopub.status.idle": "2024-11-25T16:35:08.311395Z",
     "shell.execute_reply": "2024-11-25T16:35:08.310492Z",
     "shell.execute_reply.started": "2024-11-25T16:35:08.305239Z"
    },
    "trusted": true
   },
   "outputs": [
    {
     "data": {
      "text/plain": [
       "150"
      ]
     },
     "execution_count": 87,
     "metadata": {},
     "output_type": "execute_result"
    }
   ],
   "source": [
    "len(json_answers)"
   ]
  },
  {
   "cell_type": "code",
   "execution_count": null,
   "metadata": {
    "trusted": true
   },
   "outputs": [],
   "source": []
  }
 ],
 "metadata": {
  "kaggle": {
   "accelerator": "gpu",
   "dataSources": [
    {
     "datasetId": 6138097,
     "sourceId": 9976017,
     "sourceType": "datasetVersion"
    }
   ],
   "dockerImageVersionId": 30787,
   "isGpuEnabled": true,
   "isInternetEnabled": true,
   "language": "python",
   "sourceType": "notebook"
  },
  "kernelspec": {
   "display_name": "Python 3",
   "language": "python",
   "name": "python3"
  },
  "language_info": {
   "codemirror_mode": {
    "name": "ipython",
    "version": 3
   },
   "file_extension": ".py",
   "mimetype": "text/x-python",
   "name": "python",
   "nbconvert_exporter": "python",
   "pygments_lexer": "ipython3",
   "version": "3.10.14"
  }
 },
 "nbformat": 4,
 "nbformat_minor": 4
}
