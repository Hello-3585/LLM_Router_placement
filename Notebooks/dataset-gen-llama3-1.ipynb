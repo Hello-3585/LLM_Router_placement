{
 "cells": [
  {
   "cell_type": "code",
   "execution_count": 1,
   "metadata": {
    "_cell_guid": "b1076dfc-b9ad-4769-8c92-a6c4dae69d19",
    "_uuid": "8f2839f25d086af736a60e9eeb907d3b93b6e0e5",
    "execution": {
     "iopub.execute_input": "2024-09-27T04:33:34.979753Z",
     "iopub.status.busy": "2024-09-27T04:33:34.979391Z",
     "iopub.status.idle": "2024-09-27T04:33:35.348073Z",
     "shell.execute_reply": "2024-09-27T04:33:35.347141Z",
     "shell.execute_reply.started": "2024-09-27T04:33:34.979718Z"
    },
    "trusted": true
   },
   "outputs": [],
   "source": [
    "import numpy as np # linear algebra\n",
    "import pandas as pd # data processing, CSV file I/O (e.g. pd.read_csv)y\n",
    "import random\n",
    "\n",
    "import os\n",
    "for dirname, _, filenames in os.walk('/kaggle/input'):\n",
    "    for filename in filenames:\n",
    "        print(os.path.join(dirname, filename))"
   ]
  },
  {
   "cell_type": "code",
   "execution_count": 2,
   "metadata": {
    "execution": {
     "iopub.execute_input": "2024-09-27T04:33:35.350552Z",
     "iopub.status.busy": "2024-09-27T04:33:35.349827Z",
     "iopub.status.idle": "2024-09-27T04:34:18.388930Z",
     "shell.execute_reply": "2024-09-27T04:34:18.388041Z",
     "shell.execute_reply.started": "2024-09-27T04:33:35.350490Z"
    },
    "trusted": true
   },
   "outputs": [
    {
     "name": "stdout",
     "output_type": "stream",
     "text": [
      "Requirement already satisfied: torch in /opt/conda/lib/python3.10/site-packages (2.4.0)\n",
      "Requirement already satisfied: transformers in /opt/conda/lib/python3.10/site-packages (4.44.0)\n",
      "Collecting transformer_lens\n",
      "  Downloading transformer_lens-2.7.0-py3-none-any.whl.metadata (12 kB)\n",
      "Requirement already satisfied: filelock in /opt/conda/lib/python3.10/site-packages (from torch) (3.15.1)\n",
      "Requirement already satisfied: typing-extensions>=4.8.0 in /opt/conda/lib/python3.10/site-packages (from torch) (4.12.2)\n",
      "Requirement already satisfied: sympy in /opt/conda/lib/python3.10/site-packages (from torch) (1.13.2)\n",
      "Requirement already satisfied: networkx in /opt/conda/lib/python3.10/site-packages (from torch) (3.3)\n",
      "Requirement already satisfied: jinja2 in /opt/conda/lib/python3.10/site-packages (from torch) (3.1.4)\n",
      "Requirement already satisfied: fsspec in /opt/conda/lib/python3.10/site-packages (from torch) (2024.6.1)\n",
      "Requirement already satisfied: huggingface-hub<1.0,>=0.23.2 in /opt/conda/lib/python3.10/site-packages (from transformers) (0.24.6)\n",
      "Requirement already satisfied: numpy>=1.17 in /opt/conda/lib/python3.10/site-packages (from transformers) (1.26.4)\n",
      "Requirement already satisfied: packaging>=20.0 in /opt/conda/lib/python3.10/site-packages (from transformers) (21.3)\n",
      "Requirement already satisfied: pyyaml>=5.1 in /opt/conda/lib/python3.10/site-packages (from transformers) (6.0.2)\n",
      "Requirement already satisfied: regex!=2019.12.17 in /opt/conda/lib/python3.10/site-packages (from transformers) (2024.5.15)\n",
      "Requirement already satisfied: requests in /opt/conda/lib/python3.10/site-packages (from transformers) (2.32.3)\n",
      "Requirement already satisfied: safetensors>=0.4.1 in /opt/conda/lib/python3.10/site-packages (from transformers) (0.4.4)\n",
      "Requirement already satisfied: tokenizers<0.20,>=0.19 in /opt/conda/lib/python3.10/site-packages (from transformers) (0.19.1)\n",
      "Requirement already satisfied: tqdm>=4.27 in /opt/conda/lib/python3.10/site-packages (from transformers) (4.66.4)\n",
      "Requirement already satisfied: accelerate>=0.23.0 in /opt/conda/lib/python3.10/site-packages (from transformer_lens) (0.33.0)\n",
      "Collecting beartype<0.15.0,>=0.14.1 (from transformer_lens)\n",
      "  Downloading beartype-0.14.1-py3-none-any.whl.metadata (28 kB)\n",
      "Collecting better-abc<0.0.4,>=0.0.3 (from transformer_lens)\n",
      "  Downloading better_abc-0.0.3-py3-none-any.whl.metadata (1.4 kB)\n",
      "Requirement already satisfied: datasets>=2.7.1 in /opt/conda/lib/python3.10/site-packages (from transformer_lens) (2.21.0)\n",
      "Collecting einops>=0.6.0 (from transformer_lens)\n",
      "  Downloading einops-0.8.0-py3-none-any.whl.metadata (12 kB)\n",
      "Collecting fancy-einsum>=0.0.3 (from transformer_lens)\n",
      "  Downloading fancy_einsum-0.0.3-py3-none-any.whl.metadata (1.2 kB)\n",
      "Collecting jaxtyping>=0.2.11 (from transformer_lens)\n",
      "  Downloading jaxtyping-0.2.34-py3-none-any.whl.metadata (6.4 kB)\n",
      "Requirement already satisfied: pandas>=1.1.5 in /opt/conda/lib/python3.10/site-packages (from transformer_lens) (2.2.2)\n",
      "Requirement already satisfied: rich>=12.6.0 in /opt/conda/lib/python3.10/site-packages (from transformer_lens) (13.7.1)\n",
      "Requirement already satisfied: sentencepiece in /opt/conda/lib/python3.10/site-packages (from transformer_lens) (0.2.0)\n",
      "Requirement already satisfied: wandb>=0.13.5 in /opt/conda/lib/python3.10/site-packages (from transformer_lens) (0.17.7)\n",
      "Requirement already satisfied: psutil in /opt/conda/lib/python3.10/site-packages (from accelerate>=0.23.0->transformer_lens) (5.9.3)\n",
      "Requirement already satisfied: pyarrow>=15.0.0 in /opt/conda/lib/python3.10/site-packages (from datasets>=2.7.1->transformer_lens) (16.1.0)\n",
      "Requirement already satisfied: dill<0.3.9,>=0.3.0 in /opt/conda/lib/python3.10/site-packages (from datasets>=2.7.1->transformer_lens) (0.3.8)\n",
      "Requirement already satisfied: xxhash in /opt/conda/lib/python3.10/site-packages (from datasets>=2.7.1->transformer_lens) (3.4.1)\n",
      "Requirement already satisfied: multiprocess in /opt/conda/lib/python3.10/site-packages (from datasets>=2.7.1->transformer_lens) (0.70.16)\n",
      "Requirement already satisfied: aiohttp in /opt/conda/lib/python3.10/site-packages (from datasets>=2.7.1->transformer_lens) (3.9.5)\n",
      "Collecting typeguard==2.13.3 (from jaxtyping>=0.2.11->transformer_lens)\n",
      "  Downloading typeguard-2.13.3-py3-none-any.whl.metadata (3.6 kB)\n",
      "Requirement already satisfied: pyparsing!=3.0.5,>=2.0.2 in /opt/conda/lib/python3.10/site-packages (from packaging>=20.0->transformers) (3.1.2)\n",
      "Requirement already satisfied: python-dateutil>=2.8.2 in /opt/conda/lib/python3.10/site-packages (from pandas>=1.1.5->transformer_lens) (2.9.0.post0)\n",
      "Requirement already satisfied: pytz>=2020.1 in /opt/conda/lib/python3.10/site-packages (from pandas>=1.1.5->transformer_lens) (2024.1)\n",
      "Requirement already satisfied: tzdata>=2022.7 in /opt/conda/lib/python3.10/site-packages (from pandas>=1.1.5->transformer_lens) (2024.1)\n",
      "Requirement already satisfied: charset-normalizer<4,>=2 in /opt/conda/lib/python3.10/site-packages (from requests->transformers) (3.3.2)\n",
      "Requirement already satisfied: idna<4,>=2.5 in /opt/conda/lib/python3.10/site-packages (from requests->transformers) (3.7)\n",
      "Requirement already satisfied: urllib3<3,>=1.21.1 in /opt/conda/lib/python3.10/site-packages (from requests->transformers) (1.26.18)\n",
      "Requirement already satisfied: certifi>=2017.4.17 in /opt/conda/lib/python3.10/site-packages (from requests->transformers) (2024.7.4)\n",
      "Requirement already satisfied: markdown-it-py>=2.2.0 in /opt/conda/lib/python3.10/site-packages (from rich>=12.6.0->transformer_lens) (3.0.0)\n",
      "Requirement already satisfied: pygments<3.0.0,>=2.13.0 in /opt/conda/lib/python3.10/site-packages (from rich>=12.6.0->transformer_lens) (2.18.0)\n",
      "Requirement already satisfied: click!=8.0.0,>=7.1 in /opt/conda/lib/python3.10/site-packages (from wandb>=0.13.5->transformer_lens) (8.1.7)\n",
      "Requirement already satisfied: docker-pycreds>=0.4.0 in /opt/conda/lib/python3.10/site-packages (from wandb>=0.13.5->transformer_lens) (0.4.0)\n",
      "Requirement already satisfied: gitpython!=3.1.29,>=1.0.0 in /opt/conda/lib/python3.10/site-packages (from wandb>=0.13.5->transformer_lens) (3.1.43)\n",
      "Requirement already satisfied: platformdirs in /opt/conda/lib/python3.10/site-packages (from wandb>=0.13.5->transformer_lens) (3.11.0)\n",
      "Requirement already satisfied: protobuf!=4.21.0,<6,>=3.19.0 in /opt/conda/lib/python3.10/site-packages (from wandb>=0.13.5->transformer_lens) (3.20.3)\n",
      "Requirement already satisfied: sentry-sdk>=1.0.0 in /opt/conda/lib/python3.10/site-packages (from wandb>=0.13.5->transformer_lens) (2.13.0)\n",
      "Requirement already satisfied: setproctitle in /opt/conda/lib/python3.10/site-packages (from wandb>=0.13.5->transformer_lens) (1.3.3)\n",
      "Requirement already satisfied: setuptools in /opt/conda/lib/python3.10/site-packages (from wandb>=0.13.5->transformer_lens) (70.0.0)\n",
      "Requirement already satisfied: MarkupSafe>=2.0 in /opt/conda/lib/python3.10/site-packages (from jinja2->torch) (2.1.5)\n",
      "Requirement already satisfied: mpmath<1.4,>=1.1.0 in /opt/conda/lib/python3.10/site-packages (from sympy->torch) (1.3.0)\n",
      "Requirement already satisfied: six>=1.4.0 in /opt/conda/lib/python3.10/site-packages (from docker-pycreds>=0.4.0->wandb>=0.13.5->transformer_lens) (1.16.0)\n",
      "Requirement already satisfied: aiosignal>=1.1.2 in /opt/conda/lib/python3.10/site-packages (from aiohttp->datasets>=2.7.1->transformer_lens) (1.3.1)\n",
      "Requirement already satisfied: attrs>=17.3.0 in /opt/conda/lib/python3.10/site-packages (from aiohttp->datasets>=2.7.1->transformer_lens) (23.2.0)\n",
      "Requirement already satisfied: frozenlist>=1.1.1 in /opt/conda/lib/python3.10/site-packages (from aiohttp->datasets>=2.7.1->transformer_lens) (1.4.1)\n",
      "Requirement already satisfied: multidict<7.0,>=4.5 in /opt/conda/lib/python3.10/site-packages (from aiohttp->datasets>=2.7.1->transformer_lens) (6.0.5)\n",
      "Requirement already satisfied: yarl<2.0,>=1.0 in /opt/conda/lib/python3.10/site-packages (from aiohttp->datasets>=2.7.1->transformer_lens) (1.9.4)\n",
      "Requirement already satisfied: async-timeout<5.0,>=4.0 in /opt/conda/lib/python3.10/site-packages (from aiohttp->datasets>=2.7.1->transformer_lens) (4.0.3)\n",
      "Requirement already satisfied: gitdb<5,>=4.0.1 in /opt/conda/lib/python3.10/site-packages (from gitpython!=3.1.29,>=1.0.0->wandb>=0.13.5->transformer_lens) (4.0.11)\n",
      "Requirement already satisfied: mdurl~=0.1 in /opt/conda/lib/python3.10/site-packages (from markdown-it-py>=2.2.0->rich>=12.6.0->transformer_lens) (0.1.2)\n",
      "Requirement already satisfied: smmap<6,>=3.0.1 in /opt/conda/lib/python3.10/site-packages (from gitdb<5,>=4.0.1->gitpython!=3.1.29,>=1.0.0->wandb>=0.13.5->transformer_lens) (5.0.1)\n",
      "Downloading transformer_lens-2.7.0-py3-none-any.whl (175 kB)\n",
      "\u001b[2K   \u001b[90m━━━━━━━━━━━━━━━━━━━━━━━━━━━━━━━━━━━━━━━━\u001b[0m \u001b[32m175.6/175.6 kB\u001b[0m \u001b[31m12.1 MB/s\u001b[0m eta \u001b[36m0:00:00\u001b[0m\n",
      "\u001b[?25hDownloading beartype-0.14.1-py3-none-any.whl (739 kB)\n",
      "\u001b[2K   \u001b[90m━━━━━━━━━━━━━━━━━━━━━━━━━━━━━━━━━━━━━━━━\u001b[0m \u001b[32m739.7/739.7 kB\u001b[0m \u001b[31m25.5 MB/s\u001b[0m eta \u001b[36m0:00:00\u001b[0m\n",
      "\u001b[?25hDownloading better_abc-0.0.3-py3-none-any.whl (3.5 kB)\n",
      "Downloading einops-0.8.0-py3-none-any.whl (43 kB)\n",
      "\u001b[2K   \u001b[90m━━━━━━━━━━━━━━━━━━━━━━━━━━━━━━━━━━━━━━━━\u001b[0m \u001b[32m43.2/43.2 kB\u001b[0m \u001b[31m2.4 MB/s\u001b[0m eta \u001b[36m0:00:00\u001b[0m\n",
      "\u001b[?25hDownloading fancy_einsum-0.0.3-py3-none-any.whl (6.2 kB)\n",
      "Downloading jaxtyping-0.2.34-py3-none-any.whl (42 kB)\n",
      "\u001b[2K   \u001b[90m━━━━━━━━━━━━━━━━━━━━━━━━━━━━━━━━━━━━━━━━\u001b[0m \u001b[32m42.4/42.4 kB\u001b[0m \u001b[31m2.8 MB/s\u001b[0m eta \u001b[36m0:00:00\u001b[0m\n",
      "\u001b[?25hDownloading typeguard-2.13.3-py3-none-any.whl (17 kB)\n",
      "Installing collected packages: better-abc, typeguard, fancy-einsum, einops, beartype, jaxtyping, transformer_lens\n",
      "  Attempting uninstall: typeguard\n",
      "    Found existing installation: typeguard 4.3.0\n",
      "    Uninstalling typeguard-4.3.0:\n",
      "      Successfully uninstalled typeguard-4.3.0\n",
      "\u001b[31mERROR: pip's dependency resolver does not currently take into account all the packages that are installed. This behaviour is the source of the following dependency conflicts.\n",
      "ydata-profiling 4.9.0 requires scipy<1.14,>=1.4.1, but you have scipy 1.14.0 which is incompatible.\n",
      "ydata-profiling 4.9.0 requires typeguard<5,>=3, but you have typeguard 2.13.3 which is incompatible.\u001b[0m\u001b[31m\n",
      "\u001b[0mSuccessfully installed beartype-0.14.1 better-abc-0.0.3 einops-0.8.0 fancy-einsum-0.0.3 jaxtyping-0.2.34 transformer_lens-2.7.0 typeguard-2.13.3\n",
      "Looking in indexes: https://pypi.org/simple/\n",
      "Collecting bitsandbytes\n",
      "  Downloading bitsandbytes-0.44.0-py3-none-manylinux_2_24_x86_64.whl.metadata (3.5 kB)\n",
      "Requirement already satisfied: torch in /opt/conda/lib/python3.10/site-packages (from bitsandbytes) (2.4.0)\n",
      "Requirement already satisfied: numpy in /opt/conda/lib/python3.10/site-packages (from bitsandbytes) (1.26.4)\n",
      "Requirement already satisfied: filelock in /opt/conda/lib/python3.10/site-packages (from torch->bitsandbytes) (3.15.1)\n",
      "Requirement already satisfied: typing-extensions>=4.8.0 in /opt/conda/lib/python3.10/site-packages (from torch->bitsandbytes) (4.12.2)\n",
      "Requirement already satisfied: sympy in /opt/conda/lib/python3.10/site-packages (from torch->bitsandbytes) (1.13.2)\n",
      "Requirement already satisfied: networkx in /opt/conda/lib/python3.10/site-packages (from torch->bitsandbytes) (3.3)\n",
      "Requirement already satisfied: jinja2 in /opt/conda/lib/python3.10/site-packages (from torch->bitsandbytes) (3.1.4)\n",
      "Requirement already satisfied: fsspec in /opt/conda/lib/python3.10/site-packages (from torch->bitsandbytes) (2024.6.1)\n",
      "Requirement already satisfied: MarkupSafe>=2.0 in /opt/conda/lib/python3.10/site-packages (from jinja2->torch->bitsandbytes) (2.1.5)\n",
      "Requirement already satisfied: mpmath<1.4,>=1.1.0 in /opt/conda/lib/python3.10/site-packages (from sympy->torch->bitsandbytes) (1.3.0)\n",
      "Downloading bitsandbytes-0.44.0-py3-none-manylinux_2_24_x86_64.whl (122.4 MB)\n",
      "\u001b[2K   \u001b[90m━━━━━━━━━━━━━━━━━━━━━━━━━━━━━━━━━━━━━━━━\u001b[0m \u001b[32m122.4/122.4 MB\u001b[0m \u001b[31m13.0 MB/s\u001b[0m eta \u001b[36m0:00:00\u001b[0m00:01\u001b[0m00:01\u001b[0m\n",
      "\u001b[?25hInstalling collected packages: bitsandbytes\n",
      "Successfully installed bitsandbytes-0.44.0\n"
     ]
    }
   ],
   "source": [
    "!pip install torch transformers transformer_lens \n",
    "!pip install -i https://pypi.org/simple/ bitsandbytes\n",
    "\n",
    "import torch\n",
    "from transformers import AutoTokenizer, AutoModelForCausalLM, BitsAndBytesConfig"
   ]
  },
  {
   "cell_type": "code",
   "execution_count": null,
   "metadata": {
    "execution": {
     "iopub.execute_input": "2024-09-27T04:34:18.391058Z",
     "iopub.status.busy": "2024-09-27T04:34:18.390231Z",
     "iopub.status.idle": "2024-09-27T04:34:18.395317Z",
     "shell.execute_reply": "2024-09-27T04:34:18.394446Z",
     "shell.execute_reply.started": "2024-09-27T04:34:18.391012Z"
    },
    "trusted": true
   },
   "outputs": [],
   "source": [
    "HF_token =\"<token>\""
   ]
  },
  {
   "cell_type": "code",
   "execution_count": 4,
   "metadata": {
    "execution": {
     "iopub.execute_input": "2024-09-27T04:34:18.398369Z",
     "iopub.status.busy": "2024-09-27T04:34:18.398000Z",
     "iopub.status.idle": "2024-09-27T04:34:21.910888Z",
     "shell.execute_reply": "2024-09-27T04:34:21.910095Z",
     "shell.execute_reply.started": "2024-09-27T04:34:18.398324Z"
    },
    "trusted": true
   },
   "outputs": [
    {
     "data": {
      "application/vnd.jupyter.widget-view+json": {
       "model_id": "454e32e8ef514d2797cc9d1f560d6d00",
       "version_major": 2,
       "version_minor": 0
      },
      "text/plain": [
       "tokenizer_config.json:   0%|          | 0.00/55.4k [00:00<?, ?B/s]"
      ]
     },
     "metadata": {},
     "output_type": "display_data"
    },
    {
     "data": {
      "application/vnd.jupyter.widget-view+json": {
       "model_id": "6d0bb3527a7a42939b7f65efe8dd6e82",
       "version_major": 2,
       "version_minor": 0
      },
      "text/plain": [
       "tokenizer.json:   0%|          | 0.00/9.09M [00:00<?, ?B/s]"
      ]
     },
     "metadata": {},
     "output_type": "display_data"
    },
    {
     "data": {
      "application/vnd.jupyter.widget-view+json": {
       "model_id": "d13d97f0826743cd8f8557df43c7de9c",
       "version_major": 2,
       "version_minor": 0
      },
      "text/plain": [
       "special_tokens_map.json:   0%|          | 0.00/296 [00:00<?, ?B/s]"
      ]
     },
     "metadata": {},
     "output_type": "display_data"
    }
   ],
   "source": [
    "use_8bit = True\n",
    "\n",
    "bnb_config = BitsAndBytesConfig(\n",
    "    load_in_8bit=use_8bit,\n",
    "    llm_int8_threshold=6.0,\n",
    "    llm_int8_has_fp16_weight=False,\n",
    ")\n",
    "\n",
    "# Load the Llama 3 8B model and tokenizer\n",
    "model_name = \"meta-llama/Meta-Llama-3.1-8B-Instruct\"  \n",
    "tokenizer = AutoTokenizer.from_pretrained(model_name, token=HF_token)\n",
    "tokenizer.pad_token = tokenizer.eos_token"
   ]
  },
  {
   "cell_type": "code",
   "execution_count": 5,
   "metadata": {
    "execution": {
     "iopub.execute_input": "2024-09-27T04:34:21.912281Z",
     "iopub.status.busy": "2024-09-27T04:34:21.911978Z",
     "iopub.status.idle": "2024-09-27T04:36:04.284667Z",
     "shell.execute_reply": "2024-09-27T04:36:04.283922Z",
     "shell.execute_reply.started": "2024-09-27T04:34:21.912249Z"
    },
    "trusted": true
   },
   "outputs": [
    {
     "data": {
      "application/vnd.jupyter.widget-view+json": {
       "model_id": "c4e68d886f084d2b930e8cbd7769222d",
       "version_major": 2,
       "version_minor": 0
      },
      "text/plain": [
       "config.json:   0%|          | 0.00/855 [00:00<?, ?B/s]"
      ]
     },
     "metadata": {},
     "output_type": "display_data"
    },
    {
     "data": {
      "application/vnd.jupyter.widget-view+json": {
       "model_id": "d25c2b41512e45d781bb993c19ff89d6",
       "version_major": 2,
       "version_minor": 0
      },
      "text/plain": [
       "model.safetensors.index.json:   0%|          | 0.00/23.9k [00:00<?, ?B/s]"
      ]
     },
     "metadata": {},
     "output_type": "display_data"
    },
    {
     "data": {
      "application/vnd.jupyter.widget-view+json": {
       "model_id": "8da9f480b1524556b1ae3c99d8be6ad6",
       "version_major": 2,
       "version_minor": 0
      },
      "text/plain": [
       "Downloading shards:   0%|          | 0/4 [00:00<?, ?it/s]"
      ]
     },
     "metadata": {},
     "output_type": "display_data"
    },
    {
     "data": {
      "application/vnd.jupyter.widget-view+json": {
       "model_id": "c180fe38dc5142de84eba5f42c6ff829",
       "version_major": 2,
       "version_minor": 0
      },
      "text/plain": [
       "model-00001-of-00004.safetensors:   0%|          | 0.00/4.98G [00:00<?, ?B/s]"
      ]
     },
     "metadata": {},
     "output_type": "display_data"
    },
    {
     "data": {
      "application/vnd.jupyter.widget-view+json": {
       "model_id": "f4fa8277f6bd4bf5a607a6ec6adcc5be",
       "version_major": 2,
       "version_minor": 0
      },
      "text/plain": [
       "model-00002-of-00004.safetensors:   0%|          | 0.00/5.00G [00:00<?, ?B/s]"
      ]
     },
     "metadata": {},
     "output_type": "display_data"
    },
    {
     "data": {
      "application/vnd.jupyter.widget-view+json": {
       "model_id": "90b29e87c6f34c66860b6d7e84d8d86a",
       "version_major": 2,
       "version_minor": 0
      },
      "text/plain": [
       "model-00003-of-00004.safetensors:   0%|          | 0.00/4.92G [00:00<?, ?B/s]"
      ]
     },
     "metadata": {},
     "output_type": "display_data"
    },
    {
     "data": {
      "application/vnd.jupyter.widget-view+json": {
       "model_id": "5818d7b2c1ea497f8ee0dd0c6303a83b",
       "version_major": 2,
       "version_minor": 0
      },
      "text/plain": [
       "model-00004-of-00004.safetensors:   0%|          | 0.00/1.17G [00:00<?, ?B/s]"
      ]
     },
     "metadata": {},
     "output_type": "display_data"
    },
    {
     "data": {
      "application/vnd.jupyter.widget-view+json": {
       "model_id": "d5e2e870d13045e98e8f13e098129c63",
       "version_major": 2,
       "version_minor": 0
      },
      "text/plain": [
       "Loading checkpoint shards:   0%|          | 0/4 [00:00<?, ?it/s]"
      ]
     },
     "metadata": {},
     "output_type": "display_data"
    },
    {
     "data": {
      "application/vnd.jupyter.widget-view+json": {
       "model_id": "fbc8b917d245485fa73bc66a7ab9bc06",
       "version_major": 2,
       "version_minor": 0
      },
      "text/plain": [
       "generation_config.json:   0%|          | 0.00/184 [00:00<?, ?B/s]"
      ]
     },
     "metadata": {},
     "output_type": "display_data"
    }
   ],
   "source": [
    "llama_model = AutoModelForCausalLM.from_pretrained(model_name,\n",
    "                                                   quantization_config=bnb_config,\n",
    "                                                   device_map=\"auto\",\n",
    "                                                   token=HF_token)"
   ]
  },
  {
   "cell_type": "code",
   "execution_count": 6,
   "metadata": {
    "execution": {
     "iopub.execute_input": "2024-09-27T04:36:04.286815Z",
     "iopub.status.busy": "2024-09-27T04:36:04.285933Z",
     "iopub.status.idle": "2024-09-27T04:36:04.291455Z",
     "shell.execute_reply": "2024-09-27T04:36:04.290668Z",
     "shell.execute_reply.started": "2024-09-27T04:36:04.286767Z"
    },
    "trusted": true
   },
   "outputs": [],
   "source": [
    "# use_4bit = True\n",
    "# bnb_4bit_compute_dtype = torch.bfloat16\n",
    "# bnb_4bit_quant_type = \"nf4\"\n",
    "# use_nested_quant = False\n",
    "\n",
    "# bnb_config = BitsAndBytesConfig(\n",
    "#     load_in_4bit=use_4bit,\n",
    "#     bnb_4bit_quant_type=bnb_4bit_quant_type,\n",
    "#     bnb_4bit_compute_dtype=bnb_4bit_compute_dtype,\n",
    "#     bnb_4bit_use_double_quant=use_nested_quant,\n",
    "# )\n",
    "\n",
    "# # \n",
    "# # Load the Llama 3 8B model and tokenizer\n",
    "# model_name = \"meta-llama/Meta-Llama-3.1-8B-Instruct\"  \n",
    "# tokenizer = AutoTokenizer.from_pretrained(model_name, token=HF_token)\n",
    "# tokenizer.pad_token = tokenizer.eos_token\n",
    "\n",
    "# llama_model = AutoModelForCausalLM.from_pretrained(model_name,\n",
    "#                                                    quantization_config=bnb_config,\n",
    "#                                                    device_map=\"auto\",\n",
    "#                                                    token=HF_token     )"
   ]
  },
  {
   "cell_type": "code",
   "execution_count": 65,
   "metadata": {
    "execution": {
     "iopub.execute_input": "2024-09-27T05:27:00.329449Z",
     "iopub.status.busy": "2024-09-27T05:27:00.328474Z",
     "iopub.status.idle": "2024-09-27T05:27:00.336771Z",
     "shell.execute_reply": "2024-09-27T05:27:00.335838Z",
     "shell.execute_reply.started": "2024-09-27T05:27:00.329407Z"
    },
    "trusted": true
   },
   "outputs": [],
   "source": [
    "system={\"role\": \"system\", \n",
    "    \"content\": \n",
    "\"\"\"You are an expert in telecommunication systems. Your task is to generate ONE query for a Router Network Placement Bot. \n",
    "Your task is only to create one, varied query using the following options.\n",
    "\n",
    "Mandatory Details:\n",
    "1. Number of Routers: {2-10}\n",
    "2. Number of Users: {10-200}\n",
    "3. Room Dimensions (length, width): {20-100m}\n",
    "\n",
    "The Four Optional Details are:\n",
    "1. Transmit Power: {10-30 dBm}\n",
    "2. Path Loss Parameter K: {0.005-0.05} \n",
    "3. Path Loss Parameter alpha: {2-4}\n",
    "4. Device Name: {Cisco XR-1234, Juniper MX240, Huawei NE40, Nokia 7750, Cisco ASR-900}\n",
    "5. Room Height: {3-6m}\n",
    "6. Locations: {Hospital, Warehouse, Office, House, Banquet Hall}QA\n",
    "7. User Distribution(Mention along both X and Y Axes): {Uniform, Exponential, Gaussian, Bi-Exponential, Spread Evenly, near one corner, near center of edge, near adjacent corners, concentrated in center of room, in opposite corners, along an edge, concentrate in front or back}\n",
    "\n",
    "Optimisation Objective: REDUCING DISTANCE BETWEEN USER EQUIPMENT/USER(UE) and ROUTER\n",
    "Write with diverse tones from technical to casual. Feel Free to add Aliases for User Distributions as well\n",
    "\n",
    "Your generated query must introduce diversity by VARYING the sentence structure and using synonyms or alternative phrases.\n",
    "\n",
    "IMPORTANT RULES:\n",
    "1. **Number of Routers, Number of Users and Room Size must always be included.**\n",
    "2. **You DO NOT need to include optional details.**\n",
    "3. In some queries, include just the Mandatory Details, with no optional details.\n",
    "4. Vary the language, structure and value using aliases or synonyms while mentioning USER DISTRIBUTION in each query to maintain diversity.\n",
    "5. STRICTLY Prefer generating smaller responses using simple sentences, 30-35 words as a human natually would\n",
    "6. Include None, One, Two, Three, Four, Five, Six, or all 7 Optional Details across different requests\n",
    "\n",
    "Generate ONE diverse query based on the above rules. Keep your response SHORT and natural. \n",
    "User will provide you with query samples take them as reference but do not repeat them.\n",
    "Start your query WITH A \"^\" SIGN and with different start phrases from the Sample to avoid repetition. Use synonyms and alternative expressions to enhance diversity.\n",
    "*Remember: Only ONE query is allowed. Do NOT generate more than one query, DO NOT GENERATE ANYTHING OTHER THAN THE QUERY*\"\"\"\n",
    "        }\n",
    "\n",
    "messages = [\n",
    "  system,\n",
    "  {\"role\": \"user\", \"content\": \"I'm trying to configure 6 routers in a 10m by 10m room with 120 users. They’re distributed uniformly across the space, but I need guidance on optimising distances\"}]\n"
   ]
  },
  {
   "cell_type": "code",
   "execution_count": 76,
   "metadata": {
    "execution": {
     "iopub.execute_input": "2024-09-27T05:29:16.358467Z",
     "iopub.status.busy": "2024-09-27T05:29:16.357542Z",
     "iopub.status.idle": "2024-09-27T05:29:16.364214Z",
     "shell.execute_reply": "2024-09-27T05:29:16.363257Z",
     "shell.execute_reply.started": "2024-09-27T05:29:16.358418Z"
    },
    "trusted": true
   },
   "outputs": [],
   "source": [
    "good_seed_requests = {\"I'm trying to configure 6 routers in a 100m by 30m room with 120 users.I need guidance on optimising distances\",\n",
    "                     \"Room that's 80m by 40m with 90 users. There are 5 routers available, and I need a layout that reduces distance between Users and Routers. Could you also consider the height being around 4 meters?\",\n",
    "                     \"Working with a 73m by 100m banquet hall that has 150 users and 6 Juniper MX240 routers. Users are mostly concentrated in the centre of the room, and I want to focus on keeping my phone near the routers while keeping the transmit power at 20 dBm.\",\n",
    "                     \"Can you help place 9 routers in a 78m by 44m hospital with 180 users? I need to be as close as possible to the routers, and I’m using Nokia 7750 devices with a path loss alpha of 2.5. The room height is 6 meters.\",\n",
    "                     \"Determine an optimal network setup for a large banquet hall where 6 Huawei NE40 devices serve a densely populated area of 150 users, near an edge of the room, which measures 70m x 100m. minimising distance between users and routers\",\n",
    "                     \"I need a placement plan for a 71m by 60m banquet hall with concentrated users along corner of the room, using 6 Cisco XR-1234 routers, aiming to shorten user to router distances and optimal 20 dBm transmit power.\",\n",
    "                     \"Optimize Huawei NE40 routers placement in the 7m by 10m banquet hall, while optimising for proximity with a peak load of 150 users concentrated along the room's front at 20 dBm transmit power.\"}"
   ]
  },
  {
   "cell_type": "code",
   "execution_count": 77,
   "metadata": {
    "execution": {
     "iopub.execute_input": "2024-09-27T05:29:21.344073Z",
     "iopub.status.busy": "2024-09-27T05:29:21.343701Z",
     "iopub.status.idle": "2024-09-27T05:29:21.350176Z",
     "shell.execute_reply": "2024-09-27T05:29:21.349195Z",
     "shell.execute_reply.started": "2024-09-27T05:29:21.344037Z"
    },
    "trusted": true
   },
   "outputs": [
    {
     "data": {
      "text/plain": [
       "{'Can you help place 9 routers in a 9m by 9m hospital with 180 users? I need to be as close as possible to the routers, and I’m using Nokia 7750 devices with a path loss alpha of 2.5. The room height is 6 meters.',\n",
       " 'Determine an optimal network setup for a large banquet hall where 6 Huawei NE40 devices serve a densely populated area of 150 users, near an edge of the room, which measures 7m x 10m. minimising distance between users and routers',\n",
       " 'I need a placement plan for a 7m by 10m banquet hall with concentrated users along corner of the room, using 6 Cisco XR-1234 routers, aiming to shorten user to router distances and optimal 20 dBm transmit power.',\n",
       " \"I'm trying to configure 6 routers in a 10m by 10m room with 120 users.I need guidance on optimising distances\",\n",
       " \"Optimize Huawei NE40 routers placement in the 7m by 10m banquet hall, while optimising for proximity with a peak load of 150 users concentrated along the room's front at 20 dBm transmit power.\",\n",
       " \"Room that's 8m by 8m with 90 users. There are 5 routers available, and I need a layout that reduces distance between Users and Routers. Could you also consider the height being around 4 meters?\",\n",
       " 'Working with a 7m by 10m banquet hall that has 150 users and 6 Juniper MX240 routers. Users are mostly concentrated in the centre of the room, and I want to focus on keeping my phone near the routers while keeping the transmit power at 20 dBm.'}"
      ]
     },
     "execution_count": 77,
     "metadata": {},
     "output_type": "execute_result"
    }
   ],
   "source": [
    "good_seed_requests"
   ]
  },
  {
   "cell_type": "code",
   "execution_count": 68,
   "metadata": {
    "execution": {
     "iopub.execute_input": "2024-09-27T05:27:04.737331Z",
     "iopub.status.busy": "2024-09-27T05:27:04.736960Z",
     "iopub.status.idle": "2024-09-27T05:27:04.743332Z",
     "shell.execute_reply": "2024-09-27T05:27:04.742421Z",
     "shell.execute_reply.started": "2024-09-27T05:27:04.737295Z"
    },
    "trusted": true
   },
   "outputs": [
    {
     "name": "stdout",
     "output_type": "stream",
     "text": [
      "You are an expert in telecommunication systems. Your task is to generate ONE query for a Router Network Placement Bot. \n",
      "Your task is only to create one, varied query using the following options.\n",
      "\n",
      "Mandatory Details:\n",
      "1. Number of Routers: {2-10}\n",
      "2. Number of Users: {10-200}\n",
      "3. Room Dimensions (length, width): {5-10m}\n",
      "\n",
      "The Four Optional Details are:\n",
      "1. Transmit Power: {10-30 dBm}\n",
      "2. Path Loss Parameter K: {0.005-0.05} \n",
      "3. Path Loss Parameter alpha: {2-4}\n",
      "4. Device Name: {Cisco XR-1234, Juniper MX240, Huawei NE40, Nokia 7750, Cisco ASR-900}\n",
      "5. Room Height: {3-6m}\n",
      "6. Locations: {Hospital, Warehouse, Office, House, Banquet Hall}\n",
      "7. User Distribution(Mention along both X and Y Axes): {Uniform, Exponential, Gaussian, Bi-Exponential, Spread Evenly, near one corner, near center of edge, near adjacent corners, concentrated in center of room, in opposite corners, along an edge, concentrate in front or back}\n",
      "\n",
      "Optimisation Objective: REDUCING DISTANCE BETWEEN USER EQUIPMENT/USER(UE) and ROUTER\n",
      "Write with diverse tones from technical to casual. Feel Free to add Aliases for User Distributions as well\n",
      "\n",
      "Your generated query must introduce diversity by VARYING the sentence structure and using synonyms or alternative phrases.\n",
      "\n",
      "IMPORTANT RULES:\n",
      "1. **Number of Routers, Number of Users and Room Size must always be included.**\n",
      "2. **You DO NOT need to include optional details.**\n",
      "3. In some queries, include just the Mandatory Details, with no optional details.\n",
      "4. Vary the language, structure and value using aliases or synonyms while mentioning USER DISTRIBUTION in each query to maintain diversity.\n",
      "5. STRICTLY Prefer generating smaller responses using simple sentences, 30-35 words as a human natually would\n",
      "6. Include None, One, Two, Three, Four, Five, Six, or all 7 Optional Details across different requests\n",
      "\n",
      "Generate ONE diverse query based on the above rules. Keep your response SHORT and natural. \n",
      "User will provide you with query samples take them as reference but do not repeat them.\n",
      "Start your query WITH A \"^\" SIGN and with different start phrases from the Sample to avoid repetition. Use synonyms and alternative expressions to enhance diversity.\n",
      "*Remember: Only ONE query is allowed. Do NOT generate more than one query, DO NOT GENERATE ANYTHING OTHER THAN THE QUERY*\n"
     ]
    }
   ],
   "source": [
    "print(messages[0][\"content\"])"
   ]
  },
  {
   "cell_type": "code",
   "execution_count": 69,
   "metadata": {
    "execution": {
     "iopub.execute_input": "2024-09-27T05:27:05.318713Z",
     "iopub.status.busy": "2024-09-27T05:27:05.317764Z",
     "iopub.status.idle": "2024-09-27T05:27:05.323310Z",
     "shell.execute_reply": "2024-09-27T05:27:05.322371Z",
     "shell.execute_reply.started": "2024-09-27T05:27:05.318666Z"
    },
    "trusted": true
   },
   "outputs": [
    {
     "name": "stdout",
     "output_type": "stream",
     "text": [
      "I'm trying to configure 6 routers in a 10m by 10m room with 120 users. They’re distributed uniformly across the space, but I need guidance on optimising distances\n"
     ]
    }
   ],
   "source": [
    "print(messages[1][\"content\"])"
   ]
  },
  {
   "cell_type": "code",
   "execution_count": 70,
   "metadata": {
    "execution": {
     "iopub.execute_input": "2024-09-27T05:27:06.003761Z",
     "iopub.status.busy": "2024-09-27T05:27:06.003325Z",
     "iopub.status.idle": "2024-09-27T05:27:06.013816Z",
     "shell.execute_reply": "2024-09-27T05:27:06.012906Z",
     "shell.execute_reply.started": "2024-09-27T05:27:06.003720Z"
    },
    "trusted": true
   },
   "outputs": [
    {
     "data": {
      "text/plain": [
       "torch.Size([1, 613])"
      ]
     },
     "execution_count": 70,
     "metadata": {},
     "output_type": "execute_result"
    }
   ],
   "source": [
    "inputs = tokenizer.apply_chat_template(messages, add_generation_prompt=True, return_tensors=\"pt\",padding=True, truncation=True,).to(llama_model.device)\n",
    "type(inputs)\n",
    "inputs.shape"
   ]
  },
  {
   "cell_type": "code",
   "execution_count": 72,
   "metadata": {
    "execution": {
     "iopub.execute_input": "2024-09-27T05:27:32.987373Z",
     "iopub.status.busy": "2024-09-27T05:27:32.986996Z",
     "iopub.status.idle": "2024-09-27T05:27:45.084913Z",
     "shell.execute_reply": "2024-09-27T05:27:45.083987Z",
     "shell.execute_reply.started": "2024-09-27T05:27:32.987340Z"
    },
    "trusted": true
   },
   "outputs": [
    {
     "name": "stderr",
     "output_type": "stream",
     "text": [
      "The attention mask and the pad token id were not set. As a consequence, you may observe unexpected behavior. Please pass your input's `attention_mask` to obtain reliable results.\n",
      "Setting `pad_token_id` to `eos_token_id`:128001 for open-end generation.\n"
     ]
    },
    {
     "data": {
      "text/plain": [
       "\"I'd like to simulate a 10m x 10m room with 120 users, evenly dispersed in all areas, placing 6 routers to minimize distances between users and routers.\""
      ]
     },
     "execution_count": 72,
     "metadata": {},
     "output_type": "execute_result"
    }
   ],
   "source": [
    "with torch.no_grad():\n",
    "    output = llama_model.generate(inputs, max_length=1000, num_return_sequences=1, temperature=1.25)\n",
    "\n",
    "modified_prompt = tokenizer.decode(output[0], skip_special_tokens=True)\n",
    "modified_prompt.split(\"^\")[-1].strip()"
   ]
  },
  {
   "cell_type": "code",
   "execution_count": 61,
   "metadata": {
    "execution": {
     "iopub.execute_input": "2024-09-27T05:21:39.494167Z",
     "iopub.status.busy": "2024-09-27T05:21:39.493887Z",
     "iopub.status.idle": "2024-09-27T05:21:39.499964Z",
     "shell.execute_reply": "2024-09-27T05:21:39.499175Z",
     "shell.execute_reply.started": "2024-09-27T05:21:39.494137Z"
    },
    "trusted": true
   },
   "outputs": [
    {
     "data": {
      "text/plain": [
       "'system\\n\\nCutting Knowledge Date: December 2023\\nToday Date: 26 Jul 2024\\n\\nYou are an expert in telecommunication systems. Your task is to generate ONE query for a Router Network Placement Bot. \\nYour task is only to create one, varied query using the following options.\\n\\nMandatory Details:\\n1. Number of Routers: {2-10}\\n2. Number of Users: {10-200}\\n3. Room Dimensions (length, width): {5-10m}\\n\\nThe Four Optional Details are:\\n1. Transmit Power: {10-30 dBm}\\n2. Path Loss Parameter K: {0.005-0.05} \\n3. Path Loss Parameter alpha: {2-4}\\n4. Device Name: {Cisco XR-1234, Juniper MX240, Huawei NE40, Nokia 7750, Cisco ASR-900}\\n5. Room Height: {3-6m}\\n6. Locations: {Hospital, Warehouse, Office, House, Banquet Hall}\\n7. User Distribution(Mention Same or Different Distribution along X and Y Axes): {Uniform, Exponential, Gaussian, Bi-Exponential, Spread Evenly, near one corner, near center of edge, near adjacent corners, concentrated in center of room, in opposite corners, along an edge}\\n\\nOptimisation Objective: REDUCING DISTANCE BETWEEN USER EQUIPMENT/USER(UE) and ROUTER\\nWrite with diverse tones from technical to casual. Feel Free to add Aliases for User Distributions as well\\n\\nYour generated query must introduce diversity by VARYING the sentence structure and using synonyms or alternative phrases.\\n\\nIMPORTANT RULES:\\n1. **Number of Routers, Number of Users and Room Size must always be included.**\\n2. **You DO NOT need to include optional details.**\\n3. In some queries, include just the Mandatory Details, with no optional details.\\n4. Vary the language, structure and value using aliases or synonyms while mentioning USER DISTRIBUTION in each query to maintain diversity.\\n5. STRICTLY Prefer generating smaller responses using simple sentences, 30-35 words as a human natually would\\n6. Include None, One, Two, Three, Four, Five, Six, or all 7 Optional Details across different requests\\n\\nGenerate ONE diverse query based on the above rules. Keep your response SHORT and natural. \\nUser will provide you with query samples take them as reference but do not repeat them.\\nStart your query WITH A \"^\" SIGN and with different start phrases from the Sample to avoid repetition. Use synonyms and alternative expressions to enhance diversity.\\n*Remember: Only ONE query is allowed. Do NOT generate more than one query, DO NOT GENERATE ANYTHING OTHER THAN THE QUERY*user\\n\\nI\\'m trying to configure 6 routers in a 10m by 10m room with 120 users. They’re distributed uniformly across the space, but I need guidance on optimising distancesassistant\\n\\n^ Optimize placement for 6 routers in a 10x10m area with 120 users distributed evenly across this office space.'"
      ]
     },
     "execution_count": 61,
     "metadata": {},
     "output_type": "execute_result"
    }
   ],
   "source": [
    "modified_prompt"
   ]
  },
  {
   "cell_type": "code",
   "execution_count": 78,
   "metadata": {
    "execution": {
     "iopub.execute_input": "2024-09-27T05:29:27.794696Z",
     "iopub.status.busy": "2024-09-27T05:29:27.794298Z",
     "iopub.status.idle": "2024-09-27T05:29:27.799494Z",
     "shell.execute_reply": "2024-09-27T05:29:27.798215Z",
     "shell.execute_reply.started": "2024-09-27T05:29:27.794655Z"
    },
    "trusted": true
   },
   "outputs": [],
   "source": [
    "user_requests= good_seed_requests"
   ]
  },
  {
   "cell_type": "code",
   "execution_count": 79,
   "metadata": {
    "execution": {
     "iopub.execute_input": "2024-09-27T05:29:28.217096Z",
     "iopub.status.busy": "2024-09-27T05:29:28.216296Z",
     "iopub.status.idle": "2024-09-27T05:29:28.222807Z",
     "shell.execute_reply": "2024-09-27T05:29:28.221665Z",
     "shell.execute_reply.started": "2024-09-27T05:29:28.217041Z"
    },
    "trusted": true
   },
   "outputs": [],
   "source": [
    "good_requests={\"Develop a floor plan strategy for 5 RN devices, accommodating a user spread similar to that found in office spaces (uni-exponential) in a rectangular room that's 5m by 10m, with routers positioned at 1.8m height. Ensure the network reaches 90% coverage.\",\n",
    "              \"I need to deploy 10 Router Numbers across a rectangular room measuring 6m by 4m with a specific device name like X100 to cater to Uniform-Uniform distribution, can you guide on this.\",\n",
    "              \"We require an analysis of suitable locations for placement of 8 Y25 routers in a spacious room that measures 10m x 20m, necessitating a coverage of at least 85% for a Uni-Uni user distribution.\",}"
   ]
  },
  {
   "cell_type": "code",
   "execution_count": null,
   "metadata": {
    "execution": {
     "iopub.execute_input": "2024-09-27T05:29:28.687468Z",
     "iopub.status.busy": "2024-09-27T05:29:28.686729Z"
    },
    "trusted": true
   },
   "outputs": [
    {
     "name": "stderr",
     "output_type": "stream",
     "text": [
      "The attention mask and the pad token id were not set. As a consequence, you may observe unexpected behavior. Please pass your input's `attention_mask` to obtain reliable results.\n",
      "Setting `pad_token_id` to `eos_token_id`:128001 for open-end generation.\n"
     ]
    },
    {
     "name": "stdout",
     "output_type": "stream",
     "text": [
      "Context: \n",
      " SAMPLE REQUESTS FOR REFERENCE ARE AS FOLLOWS: \n",
      "1. I need a placement plan for a 7m by 10m banquet hall with concentrated users along corner of the room, using 6 Cisco XR-1234 routers, aiming to shorten user to router distances and optimal 20 dBm transmit power.\n",
      "2. Room that's 8m by 8m with 90 users. There are 5 routers available, and I need a layout that reduces distance between Users and Routers. Could you also consider the height being around 4 meters?\n",
      "3. Can you help place 9 routers in a 9m by 9m hospital with 180 users? I need to be as close as possible to the routers, and I’m using Nokia 7750 devices with a path loss alpha of 2.5. The room height is 6 meters.\n",
      "4. Determine an optimal network setup for a large banquet hall where 6 Huawei NE40 devices serve a densely populated area of 150 users, near an edge of the room, which measures 7m x 10m. minimising distance between users and routers\n",
      "5. Working with a 7m by 10m banquet hall that has 150 users and 6 Juniper MX240 routers. Users are mostly concentrated in the centre of the room, and I want to focus on keeping my phone near the routers while keeping the transmit power at 20 dBm.\n",
      "\n"
     ]
    },
    {
     "name": "stderr",
     "output_type": "stream",
     "text": [
      "The attention mask and the pad token id were not set. As a consequence, you may observe unexpected behavior. Please pass your input's `attention_mask` to obtain reliable results.\n",
      "Setting `pad_token_id` to `eos_token_id`:128001 for open-end generation.\n"
     ]
    },
    {
     "name": "stdout",
     "output_type": "stream",
     "text": [
      "\n",
      "Modified request 9: Optimise router placement for a 9.5m by 6m office area that holds 175 users densely distributed near an edge, using 8 Cisco XR-1234 devices to significantly shorten UE to router distances, and set room height to approximately 5 meters.\n",
      "----------------\n"
     ]
    }
   ],
   "source": [
    "def sample_requests(requests, n=8):\n",
    "    return random.sample(list(requests), min(n, len(requests)))\n",
    "\n",
    "def generate_modification(prompt):\n",
    "    message=[system,\n",
    "            {\"role\":\"user\",\"content\":prompt}]\n",
    "    input_ids = tokenizer.apply_chat_template(message, return_tensors=\"pt\",padding=True, truncation=True,).to(llama_model.device)\n",
    "    \n",
    "    with torch.no_grad():\n",
    "        output = llama_model.generate(input_ids, max_length=input_ids.shape[1]+150, num_return_sequences=1, temperature=1.25);\n",
    "    \n",
    "    modified_prompt = tokenizer.decode(output[0], skip_special_tokens=True)\n",
    "#     print(modified_prompt)\n",
    "    return modified_prompt.split(\"^\")[-1].strip()\n",
    "\n",
    "def main():\n",
    "    global user_requests\n",
    "    \n",
    "    # Sample 8 requests\n",
    "    while(len(user_requests)<20):\n",
    "        sampled_requests = sample_requests(user_requests,n=5)\n",
    "\n",
    "        context = \"SAMPLE REQUESTS FOR REFERENCE ARE AS FOLLOWS: \\n\" \n",
    "        count=1\n",
    "        for request in sampled_requests:\n",
    "                context+=str(count)+\". \"+request+\"\\n\"\n",
    "                count+=1\n",
    "        print(\"Context: \\n\",context)\n",
    "#         print(\"----------------\")\n",
    "        for i in range(5):\n",
    "#             print(\"context: \\n\",context)\n",
    "            modified_request = generate_modification(context)\n",
    "\n",
    "            print() \n",
    "            user_requests.add(modified_request)\n",
    "            context+=str(count)+\". \"+modified_request+\"\\n\"\n",
    "            count+=1\n",
    "\n",
    "            print(f\"Modified request {len(user_requests)+1}: {modified_request}\")\n",
    "            print(\"----------------\")\n",
    "\n",
    "        print()\n",
    "    print(f\"Updated set of user requests (total: {len(user_requests)}):\")\n",
    "    for request in user_requests:\n",
    "        print(f\"- {request}\")\n",
    "\n",
    "if __name__ == \"__main__\":\n",
    "    main()"
   ]
  },
  {
   "cell_type": "code",
   "execution_count": 18,
   "metadata": {
    "execution": {
     "iopub.execute_input": "2024-09-27T04:43:57.029774Z",
     "iopub.status.busy": "2024-09-27T04:43:57.029440Z",
     "iopub.status.idle": "2024-09-27T04:43:57.036491Z",
     "shell.execute_reply": "2024-09-27T04:43:57.035700Z",
     "shell.execute_reply.started": "2024-09-27T04:43:57.029741Z"
    },
    "trusted": true
   },
   "outputs": [
    {
     "data": {
      "text/plain": [
       "{'\" SIGN and with different start phrases to avoid repetition. Use synonyms and alternative expressions to enhance diversity.\\n*Remember: Only ONE query is allowed. Do NOT generate more than one query.*user\\n\\nSAMPLE REQUESTS FOR REFERENCE ARE AS FOLLOWS: \\n1. Design a high-performance router network for an Office room (7m x 8m) with a concentration of users along the edges, optimizing the signal to achieve the lowest possible transmission latency, using 9 Cisco ASR-900 devices.\\n\\n(Please provide feedback to generate another diverse query.)\\n2. To plan a robust router network for a spacious Office (10m x 8m), using {9} Juniper MX240 devices and minimizing router-user distance, distribute users along the center and adjacent corners.\\n\\n(Note: I\\'ve followed your rules and guidelines, varying the sentence structure, synonyms, and language to ensure diversity in my response. Let me know if you need any adjustments or another query!)\\n3. I need a placement plan for a 7m by 10m banquet hall with concentrated users along corner of the room, using 6 Cisco XR-1234 routers, achieving balanced traffic and optimal 20 dBm transmit power.\\n4. Determine an efficient placement plan for 8 routers within a 6m by 10m Hospital setting, accommodating 130 users distributed bi-exponentially along edges and corners, focusing on minimizing router-user distance and optimal power distribution with Cisco devices.\\n5. Optimize Huawei NE40 routers placement in the 7m by 10m banquet hall, while maximizing power received and reduced loading with a peak load of 150 users concentrated along the room\\'s front at 20 dBm transmit power.\\n6. \" SIGN and with different start phrases to avoid repetition. Use synonyms and alternative expressions to enhance diversity.\\n*Remember: Only ONE query is allowed. Do NOT generate more than one query.*user\\n\\nSAMPLE REQUESTS FOR REFERENCE ARE AS FOLLOWS: \\n1. Design a high-performance router network for an Office room (7m x 8m) with a concentration of users along the edges, optimizing the signal to achieve the lowest possible transmission latency, using 9 Cisco ASR-900 devices.\\n\\n(Please provide feedback to generate another diverse query.)\\n2. To plan a robust router network for a spacious Office (10m x 8m), using {9} Juniper MX240 devices and minimizing router-user distance, distribute users along the center and adjacent corners.\\n\\n(Note: I\\'ve followed your rules and guidelines, varying the sentence structure, synonyms, and language to ensure diversity in my response. Let me know if you need any adjustments or another query!)\\n3. I need a placement plan for a 7m by 10m banquet hall with concentrated users along corner of the room, using 6 Cisco XR-1234 routers, achieving balanced traffic and optimal 20 dBm transmit power.\\n4. Determine an efficient placement plan for 8 routers within a 6m by 10m Hospital setting, accommodating 130 users distributed bi-exponentially along edges and corners, focusing on minimizing router-user distance and optimal power distribution with Cisco devices.\\n5. Optimize Huawei NE40 routers placement in the 7m by 10m banquet hall, while maximizing power received and reduced loading with a peak load of 150 users concentrated along the room\\'s front at 20 dBm transmit power.assistant\\n\\nConsidering the provided reference queries, here\\'s feedback to help generate a new and diverse query:\\n1. Most queries have opted for an **fixed position** or a unique alignment (e.g. along edges or corners).\\n2. Many queries have used pre-defined **user distributions**, (e.g. Gaussian, Bi-exponential, etc.) and opted for **Cisco devices**.\\n3. Optimization objectives mostly have focused on **minimizing router-user distance**.\\nGiven these observations, to create a diverse query we can vary the language and detail further.\\n\\nThis feedback suggests, for a truly **diverse query**, one must either:\\n\\na. Consider changing the fixed alignments\\nb. Change to a different type of user distribution, and\\n7. \"Position\" 6 Huawei NE40 routers within an 8m x 5m Banquet Hall, minimizing transmission latency for users dispersed across both axes evenly (Uniform Distribution), aiming for improved data exchange efficiency.\\n\\n**FEEDBACK ON THIS QUERY GENERATION**\\nPlease verify if I correctly included the required details.\\n\\n1. Mandatory details have been considered - included \\'Number of Routers: 6\\', \\'Number of Users: unspecified\\' with \\'Uniform Distribution\\'.\\n2. Room dimensions - both Length and Width - have been included, varying dimensions from previous queries (\\'8m x 5m Banquet Hall\\').\\n3. Simplified sentence structure was\\n8. \" SIGN and with different start phrases to avoid repetition. Use synonyms and alternative expressions to enhance diversity.\\n*Remember: Only ONE query is allowed. Do NOT generate more than one query.*user\\n\\nSAMPLE REQUESTS FOR REFERENCE ARE AS FOLLOWS: \\n1. Design a high-performance router network for an Office room (7m x 8m) with a concentration of users along the edges, optimizing the signal to achieve the lowest possible transmission latency, using 9 Cisco ASR-900 devices.\\n\\n(Please provide feedback to generate another diverse query.)\\n2. To plan a robust router network for a spacious Office (10m x 8m), using {9} Juniper MX240 devices and minimizing router-user distance, distribute users along the center and adjacent corners.\\n\\n(Note: I\\'ve followed your rules and guidelines, varying the sentence structure, synonyms, and language to ensure diversity in my response. Let me know if you need any adjustments or another query!)\\n3. I need a placement plan for a 7m by 10m banquet hall with concentrated users along corner of the room, using 6 Cisco XR-1234 routers, achieving balanced traffic and optimal 20 dBm transmit power.\\n4. Determine an efficient placement plan for 8 routers within a 6m by 10m Hospital setting, accommodating 130 users distributed bi-exponentially along edges and corners, focusing on minimizing router-user distance and optimal power distribution with Cisco devices.\\n5. Optimize Huawei NE40 routers placement in the 7m by 10m banquet hall, while maximizing power received and reduced loading with a peak load of 150 users concentrated along the room\\'s front at 20 dBm transmit power.\\n6. \" SIGN and with different start phrases to avoid repetition. Use synonyms and alternative expressions to enhance diversity.\\n*Remember: Only ONE query is allowed. Do NOT generate more than one query.*user\\n\\nSAMPLE REQUESTS FOR REFERENCE ARE AS FOLLOWS: \\n1. Design a high-performance router network for an Office room (7m x 8m) with a concentration of users along the edges, optimizing the signal to achieve the lowest possible transmission latency, using 9 Cisco ASR-900 devices.\\n\\n(Please provide feedback to generate another diverse query.)\\n2. To plan a robust router network for a spacious Office (10m x 8m), using {9} Juniper MX240 devices and minimizing router-user distance, distribute users along the center and adjacent corners.\\n\\n(Note: I\\'ve followed your rules and guidelines, varying the sentence structure, synonyms, and language to ensure diversity in my response. Let me know if you need any adjustments or another query!)\\n3. I need a placement plan for a 7m by 10m banquet hall with concentrated users along corner of the room, using 6 Cisco XR-1234 routers, achieving balanced traffic and optimal 20 dBm transmit power.\\n4. Determine an efficient placement plan for 8 routers within a 6m by 10m Hospital setting, accommodating 130 users distributed bi-exponentially along edges and corners, focusing on minimizing router-user distance and optimal power distribution with Cisco devices.\\n5. Optimize Huawei NE40 routers placement in the 7m by 10m banquet hall, while maximizing power received and reduced loading with a peak load of 150 users concentrated along the room\\'s front at 20 dBm transmit power.assistant\\n\\nConsidering the provided reference queries, here\\'s feedback to help generate a new and diverse query:\\n1. Most queries have opted for an **fixed position** or a unique alignment (e.g. along edges or corners).\\n2. Many queries have used pre-defined **user distributions**, (e.g. Gaussian, Bi-exponential, etc.) and opted for **Cisco devices**.\\n3. Optimization objectives mostly have focused on **minimizing router-user distance**.\\nGiven these observations, to create a diverse query we can vary the language and detail further.\\n\\nThis feedback suggests, for a truly **diverse query**, one must either:\\n\\na. Consider changing the fixed alignments\\nb. Change to a different type of user distribution, and\\n7. \"Position\" 6 Huawei NE40 routers within an 8m x 5m Banquet Hall, minimizing transmission latency for users dispersed across both axes evenly (Uniform Distribution), aiming for improved data exchange efficiency.\\n\\n**FEEDBACK ON THIS QUERY GENERATION**\\nPlease verify if I correctly included the required details.\\n\\n1. Mandatory details have been considered - included \\'Number of Routers: 6\\', \\'Number of Users: unspecified\\' with \\'Uniform Distribution\\'.\\n2. Room dimensions - both Length and Width - have been included, varying dimensions from previous queries (\\'8m x 5m Banquet Hall\\').\\n3. Simplified sentence structure wasassistant\\n\\nI see what you did there!\\n\\nHowever, I think there\\'s still some room for improvement. Based on the feedback provided earlier, it seems like we might have stuck to a similar \"placement plan\" query structure. To truly create a diverse query, let\\'s try to experiment with a new and different query structure.\\n\\nHere\\'s a revised feedback and query idea to break away from traditional queries:\\n\\nInstead of asking for a placement plan or optimization, consider exploring the other aspects of network design. For example, we could delve into the impact of network density, congestion, or other factors. This allows us to use a different type of query and add more variety to the responses.\\n\\n**NEW QUERY IDEAS WITH DIFFERENT STRUCTURE:**\\n9. Assessing optimal router density for high network throughput in a 9m x 8m Warehouse space with uniform user distribution.\\n\\nThis query takes a more **evaluation-oriented** approach rather than a traditional \"placement plan.\" I focused on exploring a different aspect of network design (**router density**), and added a more detailed dimension to the room (**height of 4m**).\\n\\nWould you like me to revise anything, considering these suggestions and new feedback?\\n\\n1. Is it accurate to say I correctly included the required details: \\na. Mandatory Details \\n    1. Room Dimensions \\n    2. Number of Routersassistant\\n\\nTo truly assess whether I properly considered the requested details, consider the query: \\n9. Assessing optimal router density for high network throughput in a 9m x 7m Warehouse space with a mix of uniformly and non-uniformly distributed users along edges and corners, with Huawei NE40 and Cisco devices used for data processing with specified User-Device Ratio.\\nConsider if Mandatory Details are now included:\\n\\n1. Mandatory Details \\na. Number of Routers has changed (\\'assessing optimal router density implies multiple devices\\') \\n    1. Room Dimensions\\n    2. Room Height (to assess router density realistically)',\n",
       " '\" SIGN and with different start phrases to avoid repetition. Use synonyms and alternative expressions to enhance diversity.\\n*Remember: Only ONE query is allowed. Do NOT generate more than one query.*user\\n\\nSAMPLE REQUESTS FOR REFERENCE ARE AS FOLLOWS: \\n1. Design a high-performance router network for an Office room (7m x 8m) with a concentration of users along the edges, optimizing the signal to achieve the lowest possible transmission latency, using 9 Cisco ASR-900 devices.\\n\\n(Please provide feedback to generate another diverse query.)\\n2. To plan a robust router network for a spacious Office (10m x 8m), using {9} Juniper MX240 devices and minimizing router-user distance, distribute users along the center and adjacent corners.\\n\\n(Note: I\\'ve followed your rules and guidelines, varying the sentence structure, synonyms, and language to ensure diversity in my response. Let me know if you need any adjustments or another query!)\\n3. I need a placement plan for a 7m by 10m banquet hall with concentrated users along corner of the room, using 6 Cisco XR-1234 routers, achieving balanced traffic and optimal 20 dBm transmit power.\\n4. Determine an efficient placement plan for 8 routers within a 6m by 10m Hospital setting, accommodating 130 users distributed bi-exponentially along edges and corners, focusing on minimizing router-user distance and optimal power distribution with Cisco devices.\\n5. Optimize Huawei NE40 routers placement in the 7m by 10m banquet hall, while maximizing power received and reduced loading with a peak load of 150 users concentrated along the room\\'s front at 20 dBm transmit power.\\n6. \" SIGN and with different start phrases to avoid repetition. Use synonyms and alternative expressions to enhance diversity.\\n*Remember: Only ONE query is allowed. Do NOT generate more than one query.*user\\n\\nSAMPLE REQUESTS FOR REFERENCE ARE AS FOLLOWS: \\n1. Design a high-performance router network for an Office room (7m x 8m) with a concentration of users along the edges, optimizing the signal to achieve the lowest possible transmission latency, using 9 Cisco ASR-900 devices.\\n\\n(Please provide feedback to generate another diverse query.)\\n2. To plan a robust router network for a spacious Office (10m x 8m), using {9} Juniper MX240 devices and minimizing router-user distance, distribute users along the center and adjacent corners.\\n\\n(Note: I\\'ve followed your rules and guidelines, varying the sentence structure, synonyms, and language to ensure diversity in my response. Let me know if you need any adjustments or another query!)\\n3. I need a placement plan for a 7m by 10m banquet hall with concentrated users along corner of the room, using 6 Cisco XR-1234 routers, achieving balanced traffic and optimal 20 dBm transmit power.\\n4. Determine an efficient placement plan for 8 routers within a 6m by 10m Hospital setting, accommodating 130 users distributed bi-exponentially along edges and corners, focusing on minimizing router-user distance and optimal power distribution with Cisco devices.\\n5. Optimize Huawei NE40 routers placement in the 7m by 10m banquet hall, while maximizing power received and reduced loading with a peak load of 150 users concentrated along the room\\'s front at 20 dBm transmit power.assistant\\n\\nConsidering the provided reference queries, here\\'s feedback to help generate a new and diverse query:\\n1. Most queries have opted for an **fixed position** or a unique alignment (e.g. along edges or corners).\\n2. Many queries have used pre-defined **user distributions**, (e.g. Gaussian, Bi-exponential, etc.) and opted for **Cisco devices**.\\n3. Optimization objectives mostly have focused on **minimizing router-user distance**.\\nGiven these observations, to create a diverse query we can vary the language and detail further.\\n\\nThis feedback suggests, for a truly **diverse query**, one must either:\\n\\na. Consider changing the fixed alignments\\nb. Change to a different type of user distribution, and\\n7. \"Position\" 6 Huawei NE40 routers within an 8m x 5m Banquet Hall, minimizing transmission latency for users dispersed across both axes evenly (Uniform Distribution), aiming for improved data exchange efficiency.\\n\\n**FEEDBACK ON THIS QUERY GENERATION**\\nPlease verify if I correctly included the required details.\\n\\n1. Mandatory details have been considered - included \\'Number of Routers: 6\\', \\'Number of Users: unspecified\\' with \\'Uniform Distribution\\'.\\n2. Room dimensions - both Length and Width - have been included, varying dimensions from previous queries (\\'8m x 5m Banquet Hall\\').\\n3. Simplified sentence structure wasassistant\\n\\nI see what you did there!\\n\\nHowever, I think there\\'s still some room for improvement. Based on the feedback provided earlier, it seems like we might have stuck to a similar \"placement plan\" query structure. To truly create a diverse query, let\\'s try to experiment with a new and different query structure.\\n\\nHere\\'s a revised feedback and query idea to break away from traditional queries:\\n\\nInstead of asking for a placement plan or optimization, consider exploring the other aspects of network design. For example, we could delve into the impact of network density, congestion, or other factors. This allows us to use a different type of query and add more variety to the responses.\\n\\n**NEW QUERY IDEAS WITH DIFFERENT STRUCTURE:**',\n",
       " '\" SIGN and with different start phrases to avoid repetition. Use synonyms and alternative expressions to enhance diversity.\\n*Remember: Only ONE query is allowed. Do NOT generate more than one query.*user\\n\\nSAMPLE REQUESTS FOR REFERENCE ARE AS FOLLOWS: \\n1. Design a high-performance router network for an Office room (7m x 8m) with a concentration of users along the edges, optimizing the signal to achieve the lowest possible transmission latency, using 9 Cisco ASR-900 devices.\\n\\n(Please provide feedback to generate another diverse query.)\\n2. To plan a robust router network for a spacious Office (10m x 8m), using {9} Juniper MX240 devices and minimizing router-user distance, distribute users along the center and adjacent corners.\\n\\n(Note: I\\'ve followed your rules and guidelines, varying the sentence structure, synonyms, and language to ensure diversity in my response. Let me know if you need any adjustments or another query!)\\n3. I need a placement plan for a 7m by 10m banquet hall with concentrated users along corner of the room, using 6 Cisco XR-1234 routers, achieving balanced traffic and optimal 20 dBm transmit power.\\n4. Determine an efficient placement plan for 8 routers within a 6m by 10m Hospital setting, accommodating 130 users distributed bi-exponentially along edges and corners, focusing on minimizing router-user distance and optimal power distribution with Cisco devices.\\n5. Optimize Huawei NE40 routers placement in the 7m by 10m banquet hall, while maximizing power received and reduced loading with a peak load of 150 users concentrated along the room\\'s front at 20 dBm transmit power.assistant\\n\\nConsidering the provided reference queries, here\\'s feedback to help generate a new and diverse query:\\n1. Most queries have opted for an **fixed position** or a unique alignment (e.g. along edges or corners).\\n2. Many queries have used pre-defined **user distributions**, (e.g. Gaussian, Bi-exponential, etc.) and opted for **Cisco devices**.\\n3. Optimization objectives mostly have focused on **minimizing router-user distance**.\\nGiven these observations, to create a diverse query we can vary the language and detail further.\\n\\nThis feedback suggests, for a truly **diverse query**, one must either:\\n\\na. Consider changing the fixed alignments\\nb. Change to a different type of user distribution, and',\n",
       " '\" SIGN and with different start phrases to avoid repetition. Use synonyms and alternative expressions to enhance diversity.\\n*Remember: Only ONE query is allowed. Do NOT generate more than one query.*user\\n\\nSAMPLE REQUESTS FOR REFERENCE ARE AS FOLLOWS: \\n1. I need a placement plan for a 7m by 10m banquet hall with concentrated users along corner of the room, using 6 Cisco XR-1234 routers, achieving balanced traffic and optimal 20 dBm transmit power.\\n2. Design an efficient 6-routers network for a compact Warehouse (8m x 9m) setting with 120 users distributed evenly across x and y axes, minimizing power losses and optimizing user-router proximity.\\n3. Can you help place 9 routers in a 9m by 9m hospital with 180 users? I need to be as close as possible to the routers, and I’m using Nokia 7750 devices with a path loss alpha of 2.5. The room height is 6 meters.\\n4. I\\'m trying to configure 6 routers in a 10m by 10m room with 120 users. They’re distributed uniformly across the space, but I need guidance on optimizing received power\\n5. Optimize Huawei NE40 routers placement in the 7m by 10m banquet hall, while maximizing power received and reduced loading with a peak load of 150 users concentrated along the room\\'s front at 20 dBm transmit power.\\n6. Determine an efficient placement plan for 8 routers within a 6m by 10m Hospital setting, accommodating 130 users distributed bi-exponentially along edges and corners, focusing on minimizing router-user distance and optimal power distribution with Cisco devices.\\n7. Design a high-performance router network for an Office room (7m x 8m) with a concentration of users along the edges, optimizing the signal to achieve the lowest possible transmission latency, using 9 Cisco ASR-900 devices.\\n\\n(Please provide feedback to generate another diverse query.)\\n8. Please devise an optimized placement strategy for five Juniper MX240 routers within an 8m by 9m warehouse area housing ninety-five users with an even distribution across both the x and y axes, reducing signal propagation delay.\\n9. To plan a robust router network for a spacious Office (10m x 8m), using {9} Juniper MX240 devices and minimizing router-user distance, distribute users along the center and adjacent corners.\\n\\n(Note: I\\'ve followed your rules and guidelines, varying the sentence structure, synonyms, and language to ensure diversity in my response. Let me know if you need any adjustments or another query!)assistant\\n\\nYour reference samples are well-prepared. To generate a new query, please provide feedback on the following:\\n\\n1. Tone diversity (e.g., technical, casual, formal) - Did I adequately cover different tones in my previous attempts?\\n2. Sentence structure diversity - Were you pleased with the range of sentence lengths and complexity in the previous queries?\\n3. Variability in query start phrases and vocabulary - Were the opening phrases and vocabulary sufficiently varied, or can they be further enhanced?\\n4. Specificity and accuracy in including optional details - Are the reference queries correctly and effectively applying the given details (e.g., transmit power, path loss, device types)?\\n\\nPlease provide your feedback to help create a more unique query that adheres to',\n",
       " '\"Position\" 6 Huawei NE40 routers within an 8m x 5m Banquet Hall, minimizing transmission latency for users dispersed across both axes evenly (Uniform Distribution), aiming for improved data exchange efficiency.\\n\\n**FEEDBACK ON THIS QUERY GENERATION**\\nPlease verify if I correctly included the required details.\\n\\n1. Mandatory details have been considered - included \\'Number of Routers: 6\\', \\'Number of Users: unspecified\\' with \\'Uniform Distribution\\'.\\n2. Room dimensions - both Length and Width - have been included, varying dimensions from previous queries (\\'8m x 5m Banquet Hall\\').\\n3. Simplified sentence structure was',\n",
       " 'Assessing optimal router density for high network throughput in a 9m x 8m Warehouse space with uniform user distribution.\\n\\nThis query takes a more **evaluation-oriented** approach rather than a traditional \"placement plan.\" I focused on exploring a different aspect of network design (**router density**), and added a more detailed dimension to the room (**height of 4m**).\\n\\nWould you like me to revise anything, considering these suggestions and new feedback?\\n\\n1. Is it accurate to say I correctly included the required details: \\na. Mandatory Details \\n    1. Room Dimensions \\n    2. Number of Routers',\n",
       " 'Can you help place 9 routers in a 9m by 9m hospital with 180 users? I need to be as close as possible to the routers, and I’m using Nokia 7750 devices with a path loss alpha of 2.5. The room height is 6 meters.',\n",
       " 'Design a high-performance router network for an Office room (7m x 8m) with a concentration of users along the edges, optimizing the signal to achieve the lowest possible transmission latency, using 9 Cisco ASR-900 devices.\\n\\n(Please provide feedback to generate another diverse query.)',\n",
       " 'Design an efficient 6-routers network for a compact Warehouse (8m x 9m) setting with 120 users distributed evenly across x and y axes, minimizing power losses and optimizing user-router proximity.',\n",
       " 'Determine Cisco ASR-900 device placement strategy in a compact 8m by 9m Warehouse housing 120 users, achieving minimal distance between user equipment and routers.\\n\\n**Given Details:** \\n- Number of Routers: 6\\n- Number of Users: 120\\n- Room Dimensions: 8m x 9m\\n- Aliases for locations: Warehouse',\n",
       " 'Determine an efficient placement plan for 8 routers within a 6m by 10m Hospital setting, accommodating 130 users distributed bi-exponentially along edges and corners, focusing on minimizing router-user distance and optimal power distribution with Cisco devices.',\n",
       " 'Determine an optimal network setup for a large banquet hall where 6 Huawei NE40 devices serve a densely populated area of 150 users, spread out evenly throughout the room, which measures 7m x 10m.',\n",
       " 'Determine optimal Cisco ASR-900 network placement in a 7m by 8m House setting containing 150 users with Non-Uniform Distribution along edges of a room.',\n",
       " 'I need a placement plan for a 7m by 10m banquet hall with concentrated users along corner of the room, using 6 Cisco XR-1234 routers, achieving balanced traffic and optimal 20 dBm transmit power.',\n",
       " \"I'm trying to configure 6 routers in a 10m by 10m room with 120 users. They’re distributed uniformly across the space, but I need guidance on optimizing received power\",\n",
       " \"Optimize Huawei NE40 routers placement in the 7m by 10m banquet hall, while maximizing power received and reduced loading with a peak load of 150 users concentrated along the room's front at 20 dBm transmit power.\",\n",
       " 'Optimizing the 6-routers network for a tight Warehouse space (8m x 9m), where 120 users are spread evenly across both axes, aim to minimize distance between user equipment and routers, ensuring efficient network operation.',\n",
       " 'Place eight Huawei routers in a 9.5m by 6m Warehouse, with a uniform distribution of 100 users across x and y axes while minimizing network congestion.\\n\\n(Note: This is just one query, varied as per requirements.)',\n",
       " 'Please devise an optimized placement strategy for five Juniper MX240 routers within an 8m by 9m warehouse area housing ninety-five users with an even distribution across both the x and y axes, reducing signal propagation delay.',\n",
       " \"Room that's 8m by 8m with 90 users. There are 5 routers available, and I need a layout that reduces power losses. Could you also consider the height being around 4 meters?\",\n",
       " \"To plan a robust router network for a spacious Office (10m x 8m), using {9} Juniper MX240 devices and minimizing router-user distance, distribute users along the center and adjacent corners.\\n\\n(Note: I've followed your rules and guidelines, varying the sentence structure, synonyms, and language to ensure diversity in my response. Let me know if you need any adjustments or another query!)\",\n",
       " 'Working with a 7m by 10m banquet hall that has 150 users and 6 Juniper MX240 routers. Users are mostly concentrated in the centre of the room, and I want to focus on balancing traffic between routers while keeping the transmit power at 20 dBm.'}"
      ]
     },
     "execution_count": 18,
     "metadata": {},
     "output_type": "execute_result"
    }
   ],
   "source": [
    "user_requests"
   ]
  },
  {
   "cell_type": "code",
   "execution_count": 19,
   "metadata": {
    "execution": {
     "iopub.execute_input": "2024-09-27T04:43:57.037950Z",
     "iopub.status.busy": "2024-09-27T04:43:57.037666Z",
     "iopub.status.idle": "2024-09-27T04:43:57.057294Z",
     "shell.execute_reply": "2024-09-27T04:43:57.056386Z",
     "shell.execute_reply.started": "2024-09-27T04:43:57.037920Z"
    },
    "trusted": true
   },
   "outputs": [],
   "source": [
    "with open('output_Q8.txt', 'w') as f:\n",
    "    f.write(str(user_requests))"
   ]
  }
 ],
 "metadata": {
  "kaggle": {
   "accelerator": "gpu",
   "dataSources": [],
   "dockerImageVersionId": 30762,
   "isGpuEnabled": true,
   "isInternetEnabled": true,
   "language": "python",
   "sourceType": "notebook"
  },
  "kernelspec": {
   "display_name": "Python 3",
   "language": "python",
   "name": "python3"
  },
  "language_info": {
   "codemirror_mode": {
    "name": "ipython",
    "version": 3
   },
   "file_extension": ".py",
   "mimetype": "text/x-python",
   "name": "python",
   "nbconvert_exporter": "python",
   "pygments_lexer": "ipython3",
   "version": "3.10.14"
  }
 },
 "nbformat": 4,
 "nbformat_minor": 4
}
