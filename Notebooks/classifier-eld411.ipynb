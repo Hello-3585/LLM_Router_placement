{
 "cells": [
  {
   "cell_type": "code",
   "execution_count": 1,
   "metadata": {
    "_cell_guid": "b1076dfc-b9ad-4769-8c92-a6c4dae69d19",
    "_uuid": "8f2839f25d086af736a60e9eeb907d3b93b6e0e5",
    "execution": {
     "iopub.execute_input": "2024-10-22T12:31:24.248882Z",
     "iopub.status.busy": "2024-10-22T12:31:24.248510Z",
     "iopub.status.idle": "2024-10-22T12:31:24.617394Z",
     "shell.execute_reply": "2024-10-22T12:31:24.616414Z",
     "shell.execute_reply.started": "2024-10-22T12:31:24.248846Z"
    },
    "trusted": true
   },
   "outputs": [
    {
     "name": "stdout",
     "output_type": "stream",
     "text": [
      "/kaggle/input/distance-opt-km-json/Distance_OPT_KM.json\n"
     ]
    }
   ],
   "source": [
    "import numpy as np # linear algebra\n",
    "import pandas as pd # data processing, CSV file I/O (e.g. pd.read_csv)y\n",
    "import random\n",
    "import json\n",
    "import os\n",
    "for dirname, _, filenames in os.walk('/kaggle/input'):\n",
    "    for filename in filenames:\n",
    "        print(os.path.join(dirname, filename))"
   ]
  },
  {
   "cell_type": "code",
   "execution_count": 2,
   "metadata": {
    "execution": {
     "iopub.execute_input": "2024-10-22T12:31:24.619350Z",
     "iopub.status.busy": "2024-10-22T12:31:24.618933Z",
     "iopub.status.idle": "2024-10-22T12:32:00.433299Z",
     "shell.execute_reply": "2024-10-22T12:32:00.432495Z",
     "shell.execute_reply.started": "2024-10-22T12:31:24.619317Z"
    },
    "trusted": true
   },
   "outputs": [
    {
     "name": "stdout",
     "output_type": "stream",
     "text": [
      "Requirement already satisfied: torch in /opt/conda/lib/python3.10/site-packages (2.4.0)\n",
      "Requirement already satisfied: transformers in /opt/conda/lib/python3.10/site-packages (4.45.1)\n",
      "Collecting transformer_lens\n",
      "  Downloading transformer_lens-2.8.0-py3-none-any.whl.metadata (12 kB)\n",
      "Requirement already satisfied: filelock in /opt/conda/lib/python3.10/site-packages (from torch) (3.15.1)\n",
      "Requirement already satisfied: typing-extensions>=4.8.0 in /opt/conda/lib/python3.10/site-packages (from torch) (4.12.2)\n",
      "Requirement already satisfied: sympy in /opt/conda/lib/python3.10/site-packages (from torch) (1.13.3)\n",
      "Requirement already satisfied: networkx in /opt/conda/lib/python3.10/site-packages (from torch) (3.3)\n",
      "Requirement already satisfied: jinja2 in /opt/conda/lib/python3.10/site-packages (from torch) (3.1.4)\n",
      "Requirement already satisfied: fsspec in /opt/conda/lib/python3.10/site-packages (from torch) (2024.6.1)\n",
      "Requirement already satisfied: huggingface-hub<1.0,>=0.23.2 in /opt/conda/lib/python3.10/site-packages (from transformers) (0.25.1)\n",
      "Requirement already satisfied: numpy>=1.17 in /opt/conda/lib/python3.10/site-packages (from transformers) (1.26.4)\n",
      "Requirement already satisfied: packaging>=20.0 in /opt/conda/lib/python3.10/site-packages (from transformers) (21.3)\n",
      "Requirement already satisfied: pyyaml>=5.1 in /opt/conda/lib/python3.10/site-packages (from transformers) (6.0.2)\n",
      "Requirement already satisfied: regex!=2019.12.17 in /opt/conda/lib/python3.10/site-packages (from transformers) (2024.5.15)\n",
      "Requirement already satisfied: requests in /opt/conda/lib/python3.10/site-packages (from transformers) (2.32.3)\n",
      "Requirement already satisfied: safetensors>=0.4.1 in /opt/conda/lib/python3.10/site-packages (from transformers) (0.4.5)\n",
      "Requirement already satisfied: tokenizers<0.21,>=0.20 in /opt/conda/lib/python3.10/site-packages (from transformers) (0.20.0)\n",
      "Requirement already satisfied: tqdm>=4.27 in /opt/conda/lib/python3.10/site-packages (from transformers) (4.66.4)\n",
      "Requirement already satisfied: accelerate>=0.23.0 in /opt/conda/lib/python3.10/site-packages (from transformer_lens) (0.34.2)\n",
      "Collecting beartype<0.15.0,>=0.14.1 (from transformer_lens)\n",
      "  Downloading beartype-0.14.1-py3-none-any.whl.metadata (28 kB)\n",
      "Collecting better-abc<0.0.4,>=0.0.3 (from transformer_lens)\n",
      "  Downloading better_abc-0.0.3-py3-none-any.whl.metadata (1.4 kB)\n",
      "Requirement already satisfied: datasets>=2.7.1 in /opt/conda/lib/python3.10/site-packages (from transformer_lens) (3.0.1)\n",
      "Collecting einops>=0.6.0 (from transformer_lens)\n",
      "  Downloading einops-0.8.0-py3-none-any.whl.metadata (12 kB)\n",
      "Collecting fancy-einsum>=0.0.3 (from transformer_lens)\n",
      "  Downloading fancy_einsum-0.0.3-py3-none-any.whl.metadata (1.2 kB)\n",
      "Collecting jaxtyping>=0.2.11 (from transformer_lens)\n",
      "  Downloading jaxtyping-0.2.34-py3-none-any.whl.metadata (6.4 kB)\n",
      "Requirement already satisfied: pandas>=1.1.5 in /opt/conda/lib/python3.10/site-packages (from transformer_lens) (2.2.2)\n",
      "Requirement already satisfied: rich>=12.6.0 in /opt/conda/lib/python3.10/site-packages (from transformer_lens) (13.7.1)\n",
      "Requirement already satisfied: sentencepiece in /opt/conda/lib/python3.10/site-packages (from transformer_lens) (0.2.0)\n",
      "Requirement already satisfied: wandb>=0.13.5 in /opt/conda/lib/python3.10/site-packages (from transformer_lens) (0.18.3)\n",
      "Requirement already satisfied: psutil in /opt/conda/lib/python3.10/site-packages (from accelerate>=0.23.0->transformer_lens) (5.9.3)\n",
      "Requirement already satisfied: pyarrow>=15.0.0 in /opt/conda/lib/python3.10/site-packages (from datasets>=2.7.1->transformer_lens) (16.1.0)\n",
      "Requirement already satisfied: dill<0.3.9,>=0.3.0 in /opt/conda/lib/python3.10/site-packages (from datasets>=2.7.1->transformer_lens) (0.3.8)\n",
      "Requirement already satisfied: xxhash in /opt/conda/lib/python3.10/site-packages (from datasets>=2.7.1->transformer_lens) (3.4.1)\n",
      "Requirement already satisfied: multiprocess in /opt/conda/lib/python3.10/site-packages (from datasets>=2.7.1->transformer_lens) (0.70.16)\n",
      "Requirement already satisfied: aiohttp in /opt/conda/lib/python3.10/site-packages (from datasets>=2.7.1->transformer_lens) (3.9.5)\n",
      "Collecting typeguard==2.13.3 (from jaxtyping>=0.2.11->transformer_lens)\n",
      "  Downloading typeguard-2.13.3-py3-none-any.whl.metadata (3.6 kB)\n",
      "Requirement already satisfied: pyparsing!=3.0.5,>=2.0.2 in /opt/conda/lib/python3.10/site-packages (from packaging>=20.0->transformers) (3.1.2)\n",
      "Requirement already satisfied: python-dateutil>=2.8.2 in /opt/conda/lib/python3.10/site-packages (from pandas>=1.1.5->transformer_lens) (2.9.0.post0)\n",
      "Requirement already satisfied: pytz>=2020.1 in /opt/conda/lib/python3.10/site-packages (from pandas>=1.1.5->transformer_lens) (2024.1)\n",
      "Requirement already satisfied: tzdata>=2022.7 in /opt/conda/lib/python3.10/site-packages (from pandas>=1.1.5->transformer_lens) (2024.1)\n",
      "Requirement already satisfied: charset-normalizer<4,>=2 in /opt/conda/lib/python3.10/site-packages (from requests->transformers) (3.3.2)\n",
      "Requirement already satisfied: idna<4,>=2.5 in /opt/conda/lib/python3.10/site-packages (from requests->transformers) (3.7)\n",
      "Requirement already satisfied: urllib3<3,>=1.21.1 in /opt/conda/lib/python3.10/site-packages (from requests->transformers) (1.26.18)\n",
      "Requirement already satisfied: certifi>=2017.4.17 in /opt/conda/lib/python3.10/site-packages (from requests->transformers) (2024.8.30)\n",
      "Requirement already satisfied: markdown-it-py>=2.2.0 in /opt/conda/lib/python3.10/site-packages (from rich>=12.6.0->transformer_lens) (3.0.0)\n",
      "Requirement already satisfied: pygments<3.0.0,>=2.13.0 in /opt/conda/lib/python3.10/site-packages (from rich>=12.6.0->transformer_lens) (2.18.0)\n",
      "Requirement already satisfied: click!=8.0.0,>=7.1 in /opt/conda/lib/python3.10/site-packages (from wandb>=0.13.5->transformer_lens) (8.1.7)\n",
      "Requirement already satisfied: docker-pycreds>=0.4.0 in /opt/conda/lib/python3.10/site-packages (from wandb>=0.13.5->transformer_lens) (0.4.0)\n",
      "Requirement already satisfied: gitpython!=3.1.29,>=1.0.0 in /opt/conda/lib/python3.10/site-packages (from wandb>=0.13.5->transformer_lens) (3.1.43)\n",
      "Requirement already satisfied: platformdirs in /opt/conda/lib/python3.10/site-packages (from wandb>=0.13.5->transformer_lens) (3.11.0)\n",
      "Requirement already satisfied: protobuf!=4.21.0,!=5.28.0,<6,>=3.19.0 in /opt/conda/lib/python3.10/site-packages (from wandb>=0.13.5->transformer_lens) (3.20.3)\n",
      "Requirement already satisfied: sentry-sdk>=1.0.0 in /opt/conda/lib/python3.10/site-packages (from wandb>=0.13.5->transformer_lens) (2.15.0)\n",
      "Requirement already satisfied: setproctitle in /opt/conda/lib/python3.10/site-packages (from wandb>=0.13.5->transformer_lens) (1.3.3)\n",
      "Requirement already satisfied: setuptools in /opt/conda/lib/python3.10/site-packages (from wandb>=0.13.5->transformer_lens) (70.0.0)\n",
      "Requirement already satisfied: MarkupSafe>=2.0 in /opt/conda/lib/python3.10/site-packages (from jinja2->torch) (2.1.5)\n",
      "Requirement already satisfied: mpmath<1.4,>=1.1.0 in /opt/conda/lib/python3.10/site-packages (from sympy->torch) (1.3.0)\n",
      "Requirement already satisfied: six>=1.4.0 in /opt/conda/lib/python3.10/site-packages (from docker-pycreds>=0.4.0->wandb>=0.13.5->transformer_lens) (1.16.0)\n",
      "Requirement already satisfied: aiosignal>=1.1.2 in /opt/conda/lib/python3.10/site-packages (from aiohttp->datasets>=2.7.1->transformer_lens) (1.3.1)\n",
      "Requirement already satisfied: attrs>=17.3.0 in /opt/conda/lib/python3.10/site-packages (from aiohttp->datasets>=2.7.1->transformer_lens) (23.2.0)\n",
      "Requirement already satisfied: frozenlist>=1.1.1 in /opt/conda/lib/python3.10/site-packages (from aiohttp->datasets>=2.7.1->transformer_lens) (1.4.1)\n",
      "Requirement already satisfied: multidict<7.0,>=4.5 in /opt/conda/lib/python3.10/site-packages (from aiohttp->datasets>=2.7.1->transformer_lens) (6.0.5)\n",
      "Requirement already satisfied: yarl<2.0,>=1.0 in /opt/conda/lib/python3.10/site-packages (from aiohttp->datasets>=2.7.1->transformer_lens) (1.9.4)\n",
      "Requirement already satisfied: async-timeout<5.0,>=4.0 in /opt/conda/lib/python3.10/site-packages (from aiohttp->datasets>=2.7.1->transformer_lens) (4.0.3)\n",
      "Requirement already satisfied: gitdb<5,>=4.0.1 in /opt/conda/lib/python3.10/site-packages (from gitpython!=3.1.29,>=1.0.0->wandb>=0.13.5->transformer_lens) (4.0.11)\n",
      "Requirement already satisfied: mdurl~=0.1 in /opt/conda/lib/python3.10/site-packages (from markdown-it-py>=2.2.0->rich>=12.6.0->transformer_lens) (0.1.2)\n",
      "Requirement already satisfied: smmap<6,>=3.0.1 in /opt/conda/lib/python3.10/site-packages (from gitdb<5,>=4.0.1->gitpython!=3.1.29,>=1.0.0->wandb>=0.13.5->transformer_lens) (5.0.1)\n",
      "Downloading transformer_lens-2.8.0-py3-none-any.whl (175 kB)\n",
      "\u001b[2K   \u001b[90m━━━━━━━━━━━━━━━━━━━━━━━━━━━━━━━━━━━━━━━━\u001b[0m \u001b[32m175.9/175.9 kB\u001b[0m \u001b[31m7.3 MB/s\u001b[0m eta \u001b[36m0:00:00\u001b[0m\n",
      "\u001b[?25hDownloading beartype-0.14.1-py3-none-any.whl (739 kB)\n",
      "\u001b[2K   \u001b[90m━━━━━━━━━━━━━━━━━━━━━━━━━━━━━━━━━━━━━━━━\u001b[0m \u001b[32m739.7/739.7 kB\u001b[0m \u001b[31m22.6 MB/s\u001b[0m eta \u001b[36m0:00:00\u001b[0m\n",
      "\u001b[?25hDownloading better_abc-0.0.3-py3-none-any.whl (3.5 kB)\n",
      "Downloading einops-0.8.0-py3-none-any.whl (43 kB)\n",
      "\u001b[2K   \u001b[90m━━━━━━━━━━━━━━━━━━━━━━━━━━━━━━━━━━━━━━━━\u001b[0m \u001b[32m43.2/43.2 kB\u001b[0m \u001b[31m2.8 MB/s\u001b[0m eta \u001b[36m0:00:00\u001b[0m\n",
      "\u001b[?25hDownloading fancy_einsum-0.0.3-py3-none-any.whl (6.2 kB)\n",
      "Downloading jaxtyping-0.2.34-py3-none-any.whl (42 kB)\n",
      "\u001b[2K   \u001b[90m━━━━━━━━━━━━━━━━━━━━━━━━━━━━━━━━━━━━━━━━\u001b[0m \u001b[32m42.4/42.4 kB\u001b[0m \u001b[31m2.7 MB/s\u001b[0m eta \u001b[36m0:00:00\u001b[0m\n",
      "\u001b[?25hDownloading typeguard-2.13.3-py3-none-any.whl (17 kB)\n",
      "Installing collected packages: better-abc, typeguard, fancy-einsum, einops, beartype, jaxtyping, transformer_lens\n",
      "  Attempting uninstall: typeguard\n",
      "    Found existing installation: typeguard 4.3.0\n",
      "    Uninstalling typeguard-4.3.0:\n",
      "      Successfully uninstalled typeguard-4.3.0\n",
      "\u001b[31mERROR: pip's dependency resolver does not currently take into account all the packages that are installed. This behaviour is the source of the following dependency conflicts.\n",
      "ydata-profiling 4.10.0 requires scipy<1.14,>=1.4.1, but you have scipy 1.14.1 which is incompatible.\n",
      "ydata-profiling 4.10.0 requires typeguard<5,>=3, but you have typeguard 2.13.3 which is incompatible.\u001b[0m\u001b[31m\n",
      "\u001b[0mSuccessfully installed beartype-0.14.1 better-abc-0.0.3 einops-0.8.0 fancy-einsum-0.0.3 jaxtyping-0.2.34 transformer_lens-2.8.0 typeguard-2.13.3\n",
      "Looking in indexes: https://pypi.org/simple/\n",
      "Collecting bitsandbytes\n",
      "  Downloading bitsandbytes-0.44.1-py3-none-manylinux_2_24_x86_64.whl.metadata (3.5 kB)\n",
      "Requirement already satisfied: torch in /opt/conda/lib/python3.10/site-packages (from bitsandbytes) (2.4.0)\n",
      "Requirement already satisfied: numpy in /opt/conda/lib/python3.10/site-packages (from bitsandbytes) (1.26.4)\n",
      "Requirement already satisfied: filelock in /opt/conda/lib/python3.10/site-packages (from torch->bitsandbytes) (3.15.1)\n",
      "Requirement already satisfied: typing-extensions>=4.8.0 in /opt/conda/lib/python3.10/site-packages (from torch->bitsandbytes) (4.12.2)\n",
      "Requirement already satisfied: sympy in /opt/conda/lib/python3.10/site-packages (from torch->bitsandbytes) (1.13.3)\n",
      "Requirement already satisfied: networkx in /opt/conda/lib/python3.10/site-packages (from torch->bitsandbytes) (3.3)\n",
      "Requirement already satisfied: jinja2 in /opt/conda/lib/python3.10/site-packages (from torch->bitsandbytes) (3.1.4)\n",
      "Requirement already satisfied: fsspec in /opt/conda/lib/python3.10/site-packages (from torch->bitsandbytes) (2024.6.1)\n",
      "Requirement already satisfied: MarkupSafe>=2.0 in /opt/conda/lib/python3.10/site-packages (from jinja2->torch->bitsandbytes) (2.1.5)\n",
      "Requirement already satisfied: mpmath<1.4,>=1.1.0 in /opt/conda/lib/python3.10/site-packages (from sympy->torch->bitsandbytes) (1.3.0)\n",
      "Downloading bitsandbytes-0.44.1-py3-none-manylinux_2_24_x86_64.whl (122.4 MB)\n",
      "\u001b[2K   \u001b[90m━━━━━━━━━━━━━━━━━━━━━━━━━━━━━━━━━━━━━━━━\u001b[0m \u001b[32m122.4/122.4 MB\u001b[0m \u001b[31m13.4 MB/s\u001b[0m eta \u001b[36m0:00:00\u001b[0m00:01\u001b[0m00:01\u001b[0m\n",
      "\u001b[?25hInstalling collected packages: bitsandbytes\n",
      "Successfully installed bitsandbytes-0.44.1\n"
     ]
    }
   ],
   "source": [
    "!pip install torch transformers transformer_lens \n",
    "!pip install -i https://pypi.org/simple/ bitsandbytes\n",
    "\n",
    "import torch\n",
    "from transformers import AutoTokenizer, AutoModelForCausalLM, BitsAndBytesConfig"
   ]
  },
  {
   "cell_type": "code",
   "execution_count": null,
   "metadata": {
    "execution": {
     "iopub.execute_input": "2024-10-22T12:32:00.435105Z",
     "iopub.status.busy": "2024-10-22T12:32:00.434706Z",
     "iopub.status.idle": "2024-10-22T12:32:00.439083Z",
     "shell.execute_reply": "2024-10-22T12:32:00.438093Z",
     "shell.execute_reply.started": "2024-10-22T12:32:00.435074Z"
    },
    "trusted": true
   },
   "outputs": [],
   "source": [
    "HF_token =\"<token>\""
   ]
  },
  {
   "cell_type": "code",
   "execution_count": 4,
   "metadata": {
    "execution": {
     "iopub.execute_input": "2024-10-22T12:32:00.441578Z",
     "iopub.status.busy": "2024-10-22T12:32:00.441291Z",
     "iopub.status.idle": "2024-10-22T12:32:02.685834Z",
     "shell.execute_reply": "2024-10-22T12:32:02.684788Z",
     "shell.execute_reply.started": "2024-10-22T12:32:00.441547Z"
    },
    "trusted": true
   },
   "outputs": [
    {
     "data": {
      "application/vnd.jupyter.widget-view+json": {
       "model_id": "0159b8831f004faf88c5dc7ec2a79272",
       "version_major": 2,
       "version_minor": 0
      },
      "text/plain": [
       "tokenizer_config.json:   0%|          | 0.00/55.4k [00:00<?, ?B/s]"
      ]
     },
     "metadata": {},
     "output_type": "display_data"
    },
    {
     "data": {
      "application/vnd.jupyter.widget-view+json": {
       "model_id": "c5eead6cf33c4b438c2c9ccfba721834",
       "version_major": 2,
       "version_minor": 0
      },
      "text/plain": [
       "tokenizer.json:   0%|          | 0.00/9.09M [00:00<?, ?B/s]"
      ]
     },
     "metadata": {},
     "output_type": "display_data"
    },
    {
     "data": {
      "application/vnd.jupyter.widget-view+json": {
       "model_id": "41017357757c4ed69ae59c744275dbf9",
       "version_major": 2,
       "version_minor": 0
      },
      "text/plain": [
       "special_tokens_map.json:   0%|          | 0.00/296 [00:00<?, ?B/s]"
      ]
     },
     "metadata": {},
     "output_type": "display_data"
    }
   ],
   "source": [
    "use_8bit = True\n",
    "\n",
    "bnb_config = BitsAndBytesConfig(\n",
    "    load_in_8bit=use_8bit,\n",
    "    llm_int8_threshold=6.0,\n",
    "    llm_int8_has_fp16_weight=False,\n",
    ")\n",
    "\n",
    "# Load the Llama 3 8B model and tokenizer\n",
    "model_name = \"meta-llama/Meta-Llama-3.1-8B-Instruct\"  \n",
    "tokenizer = AutoTokenizer.from_pretrained(model_name, token=HF_token)\n",
    "tokenizer.pad_token = tokenizer.eos_token"
   ]
  },
  {
   "cell_type": "code",
   "execution_count": 5,
   "metadata": {
    "execution": {
     "iopub.execute_input": "2024-10-22T12:32:02.687223Z",
     "iopub.status.busy": "2024-10-22T12:32:02.686912Z",
     "iopub.status.idle": "2024-10-22T12:34:21.103059Z",
     "shell.execute_reply": "2024-10-22T12:34:21.102294Z",
     "shell.execute_reply.started": "2024-10-22T12:32:02.687185Z"
    },
    "trusted": true
   },
   "outputs": [
    {
     "data": {
      "application/vnd.jupyter.widget-view+json": {
       "model_id": "2f4ebeb56a6f46c3883f962daa7f5a92",
       "version_major": 2,
       "version_minor": 0
      },
      "text/plain": [
       "config.json:   0%|          | 0.00/855 [00:00<?, ?B/s]"
      ]
     },
     "metadata": {},
     "output_type": "display_data"
    },
    {
     "data": {
      "application/vnd.jupyter.widget-view+json": {
       "model_id": "8ecbf72ccaf744baa7caff4adbb89731",
       "version_major": 2,
       "version_minor": 0
      },
      "text/plain": [
       "model.safetensors.index.json:   0%|          | 0.00/23.9k [00:00<?, ?B/s]"
      ]
     },
     "metadata": {},
     "output_type": "display_data"
    },
    {
     "data": {
      "application/vnd.jupyter.widget-view+json": {
       "model_id": "eeb7c7313d8d49d990727b5e864f0cc2",
       "version_major": 2,
       "version_minor": 0
      },
      "text/plain": [
       "Downloading shards:   0%|          | 0/4 [00:00<?, ?it/s]"
      ]
     },
     "metadata": {},
     "output_type": "display_data"
    },
    {
     "data": {
      "application/vnd.jupyter.widget-view+json": {
       "model_id": "88b763ad4eab47a0ad4d095e8c5b30f4",
       "version_major": 2,
       "version_minor": 0
      },
      "text/plain": [
       "model-00001-of-00004.safetensors:   0%|          | 0.00/4.98G [00:00<?, ?B/s]"
      ]
     },
     "metadata": {},
     "output_type": "display_data"
    },
    {
     "data": {
      "application/vnd.jupyter.widget-view+json": {
       "model_id": "c03980e73b8d4ca2870e4801afbcae46",
       "version_major": 2,
       "version_minor": 0
      },
      "text/plain": [
       "model-00002-of-00004.safetensors:   0%|          | 0.00/5.00G [00:00<?, ?B/s]"
      ]
     },
     "metadata": {},
     "output_type": "display_data"
    },
    {
     "data": {
      "application/vnd.jupyter.widget-view+json": {
       "model_id": "c76f574cfac341db8ce9209a0026ce11",
       "version_major": 2,
       "version_minor": 0
      },
      "text/plain": [
       "model-00003-of-00004.safetensors:   0%|          | 0.00/4.92G [00:00<?, ?B/s]"
      ]
     },
     "metadata": {},
     "output_type": "display_data"
    },
    {
     "data": {
      "application/vnd.jupyter.widget-view+json": {
       "model_id": "cb41fdf3d8eb40ceaf009f846fc641d7",
       "version_major": 2,
       "version_minor": 0
      },
      "text/plain": [
       "model-00004-of-00004.safetensors:   0%|          | 0.00/1.17G [00:00<?, ?B/s]"
      ]
     },
     "metadata": {},
     "output_type": "display_data"
    },
    {
     "data": {
      "application/vnd.jupyter.widget-view+json": {
       "model_id": "67350a63b200429caa3ea5acbf550ff6",
       "version_major": 2,
       "version_minor": 0
      },
      "text/plain": [
       "Loading checkpoint shards:   0%|          | 0/4 [00:00<?, ?it/s]"
      ]
     },
     "metadata": {},
     "output_type": "display_data"
    },
    {
     "data": {
      "application/vnd.jupyter.widget-view+json": {
       "model_id": "6920ff91a4fc48efa94fd43f92e77e5c",
       "version_major": 2,
       "version_minor": 0
      },
      "text/plain": [
       "generation_config.json:   0%|          | 0.00/184 [00:00<?, ?B/s]"
      ]
     },
     "metadata": {},
     "output_type": "display_data"
    }
   ],
   "source": [
    "llama_model = AutoModelForCausalLM.from_pretrained(model_name,\n",
    "                                                   quantization_config=bnb_config,\n",
    "                                                   device_map=\"auto\",\n",
    "                                                   token=HF_token)"
   ]
  },
  {
   "cell_type": "code",
   "execution_count": 6,
   "metadata": {
    "execution": {
     "iopub.execute_input": "2024-10-22T12:34:21.104570Z",
     "iopub.status.busy": "2024-10-22T12:34:21.104130Z",
     "iopub.status.idle": "2024-10-22T12:34:21.109484Z",
     "shell.execute_reply": "2024-10-22T12:34:21.108608Z",
     "shell.execute_reply.started": "2024-10-22T12:34:21.104530Z"
    },
    "trusted": true
   },
   "outputs": [],
   "source": [
    "system={\"role\": \"system\", \n",
    "    \"content\": \n",
    "\"\"\"You are an expert in telecommunication systems. Your task is to classify the user request to one of the five optimization classes.\n",
    "\n",
    "Class names and Objectives are as follows:\n",
    "1. KM (K-Means): Distance Reduction\n",
    "2. WKHM (Weighted K-Harmonic Means): Balancing Load and Power Loss Optimization\n",
    "3. CKM (Constrained K-Means): Load Balancing \n",
    "4. KC (K-Centers): Maximize Minimum RSRP[Received Signal Reference Power]\n",
    "5. KHM (K-Harmonic Means): Power Loss Optimization\n",
    "\n",
    "IMPORTANT RULES:\n",
    "1. Provide reasoning for your choice of class.\n",
    "2. For the final answer provide the class name within <> example <KM>, <WKHM>.\n",
    "3. Start your Response with a \"^\" symbol.\n",
    "\"\"\"\n",
    "}\n"
   ]
  },
  {
   "cell_type": "code",
   "execution_count": 7,
   "metadata": {
    "execution": {
     "iopub.execute_input": "2024-10-22T12:34:21.110981Z",
     "iopub.status.busy": "2024-10-22T12:34:21.110650Z",
     "iopub.status.idle": "2024-10-22T12:34:21.125908Z",
     "shell.execute_reply": "2024-10-22T12:34:21.125097Z",
     "shell.execute_reply.started": "2024-10-22T12:34:21.110950Z"
    },
    "trusted": true
   },
   "outputs": [],
   "source": [
    "with open(\"/kaggle/input/distance-opt-km-json/Distance_OPT_KM.json\") as f:\n",
    "    Distance_OPT=json.load(f)"
   ]
  },
  {
   "cell_type": "code",
   "execution_count": null,
   "metadata": {
    "execution": {
     "iopub.execute_input": "2024-10-22T12:36:40.415581Z",
     "iopub.status.busy": "2024-10-22T12:36:40.415162Z"
    },
    "trusted": true
   },
   "outputs": [
    {
     "name": "stderr",
     "output_type": "stream",
     "text": [
      "The attention mask and the pad token id were not set. As a consequence, you may observe unexpected behavior. Please pass your input's `attention_mask` to obtain reliable results.\n",
      "Setting `pad_token_id` to `eos_token_id`:None for open-end generation.\n",
      "The attention mask and the pad token id were not set. As a consequence, you may observe unexpected behavior. Please pass your input's `attention_mask` to obtain reliable results.\n",
      "Setting `pad_token_id` to `eos_token_id`:None for open-end generation.\n"
     ]
    },
    {
     "name": "stdout",
     "output_type": "stream",
     "text": [
      "To determine the optimization class for this problem, let's break it down into its essential components.\n",
      "\n",
      "1. The goal here is to minimize the distance between users and routers (distance reduction), which aligns with the objective of Class 1: <KM>.\n",
      "2. We also consider optimizing user distribution across the banquet hall following specific patterns. However, this seems more of an input factor rather than an objective in itself.\n",
      "3. The path loss, distribution of the users and their respective locations suggest a direct influence from both the location of users (150) and the routers (8) and how they would have an effect on power coverage but the overall problem stated can be simplified as reducing the minimum distance.\n",
      "\n",
      "Given the above considerations, I would classify this problem as belonging to Class 1: <KM>.\n"
     ]
    },
    {
     "name": "stderr",
     "output_type": "stream",
     "text": [
      "The attention mask and the pad token id were not set. As a consequence, you may observe unexpected behavior. Please pass your input's `attention_mask` to obtain reliable results.\n",
      "Setting `pad_token_id` to `eos_token_id`:None for open-end generation.\n"
     ]
    },
    {
     "name": "stdout",
     "output_type": "stream",
     "text": [
      "Given the requirements, let's break down the problem. The task is to position 4 Huawei NE40 routers to minimize the distance to 80 uniformly spread users along the X-axis and bi-exponentially spread along the Y-axis in a 40m x 15m office with a height of 3m.\n",
      "\n",
      "To classify this request into one of the optimization classes, we must consider the objective of the task.\n",
      "\n",
      "1. The task involves minimizing the distance to users, which aligns with the 'Distance Reduction' objective of the KM (K-Means) class.\n",
      "2. The presence of bi-exponential distribution along the Y-axis and different user distributions might require a more complex model to capture these characteristics.\n",
      "\n",
      "However, given that the primary objective of minimizing distance to users is in line with the KM class, it can be argued that this request is best categorized under the 'KM' class.\n",
      "\n",
      "< KM >\n"
     ]
    },
    {
     "name": "stderr",
     "output_type": "stream",
     "text": [
      "The attention mask and the pad token id were not set. As a consequence, you may observe unexpected behavior. Please pass your input's `attention_mask` to obtain reliable results.\n",
      "Setting `pad_token_id` to `eos_token_id`:None for open-end generation.\n"
     ]
    },
    {
     "name": "stdout",
     "output_type": "stream",
     "text": [
      "Considering the requirements you've provided, the objective of minimizing the distance between users and routers, along with exponential user distribution in a 2D space, makes this a classic case of K-Means clustering. The aim here is to partition the warehouse space into 5 regions with the router as the centroid. \n",
      "\n",
      "This optimization class aims to minimize the distance, or more precisely the Euclidean distance between each user node to its nearest router node. Considering this optimization goal of minimizing distance is the best fit for KM class\n",
      "\n",
      "So, I recommend this use case to be categorized as <KM>.\n"
     ]
    },
    {
     "name": "stderr",
     "output_type": "stream",
     "text": [
      "The attention mask and the pad token id were not set. As a consequence, you may observe unexpected behavior. Please pass your input's `attention_mask` to obtain reliable results.\n",
      "Setting `pad_token_id` to `eos_token_id`:None for open-end generation.\n"
     ]
    },
    {
     "name": "stdout",
     "output_type": "stream",
     "text": [
      "To classify the user request and provide a solution, let's analyze the problem statement.\n",
      "\n",
      "Given parameters:\n",
      "\n",
      "- House dimensions: 30m x 10m\n",
      "- Height: 4m\n",
      "- Number of users: 50, uniformly spread along both axes\n",
      "- Routers: 3 Cisco ASR-900 routers with 22 dBm transmit power\n",
      "- Path loss parameters: K = 0.02, alpha = 2.2\n",
      "\n",
      "The objective is to optimize the distance between the users and the routers. Considering the given requirements, the most suitable optimization class is <KM> (K-Means). The reasoning is as follows:\n",
      "\n",
      "1. Distance Reduction: Since the primary goal is to optimize the distance between the users and the routers, the distance reduction objective of K-Means is suitable for this scenario.\n",
      "\n",
      "2. Number of Clusters: We have 3 routers, which will be considered as clusters in the K-Means algorithm. \n",
      "\n",
      "3. Features: Each user's location can be considered as a feature vector, which includes the user's x and y coordinates.\n",
      "\n",
      "However, given the number of users (50), it would be wise to use a more robust optimization algorithm in combination with the standard K-Means algorithm that allows for a better balancing of the load such as using <WKHM>(Weighted K-Harmonic Means). With <WKHM> algorithm, both the distance and load balancing (of the distance from routers, in a sense) can be optimized with appropriate adjustments of weights as we want to maintain optimal load and not over-accumulate users and power loss optimization for an optimal power usage in telecommunication systems that is a goal of power loss optimization in the given problem as stated.\n"
     ]
    },
    {
     "name": "stderr",
     "output_type": "stream",
     "text": [
      "The attention mask and the pad token id were not set. As a consequence, you may observe unexpected behavior. Please pass your input's `attention_mask` to obtain reliable results.\n",
      "Setting `pad_token_id` to `eos_token_id`:None for open-end generation.\n"
     ]
    },
    {
     "name": "stdout",
     "output_type": "stream",
     "text": [
      "Based on your description, it seems you want to optimize the distance between users and routers to minimize the path loss and maximize the connection quality. The problem requires a multi-objective optimization algorithm to balance the load and power loss among the routers. However, the fact that users are distributed in a bi-exponential manner along the X-axis and a Gaussian manner along the Y-axis does not indicate the primary optimization goal as much as the goal of \"Distance Reduction.\" Thus, the class to choose is the \"Distance Reduction\" goal-oriented <KM>. However, in the future and further studies, this problem will probably fit into the WKHM class, considering a combination of both goals (load, power loss),\n"
     ]
    },
    {
     "name": "stderr",
     "output_type": "stream",
     "text": [
      "The attention mask and the pad token id were not set. As a consequence, you may observe unexpected behavior. Please pass your input's `attention_mask` to obtain reliable results.\n",
      "Setting `pad_token_id` to `eos_token_id`:None for open-end generation.\n"
     ]
    },
    {
     "name": "stdout",
     "output_type": "stream",
     "text": [
      "Based on the provided information, the goal is to minimize the distance between users and routers, which aligns with the 'Distance Reduction' objective of the KM (K-Means) class.\n",
      "\n",
      "The use of K-means clustering is suitable when the distribution of users and routers is known, and the main objective is to minimize the total distance or variance among the clusters. In this case, the office layout is given (55m x 25m with a 4m height), and we have 29 dBm transmit power, path loss parameters, and a uniform distribution of users. This setup matches well with the KM (K-Means) optimization, which involves the selection of optimal locations for routers to minimize distances.\n",
      "\n",
      "So, the suggested classification of this user request would be <KM>.\n"
     ]
    },
    {
     "name": "stderr",
     "output_type": "stream",
     "text": [
      "The attention mask and the pad token id were not set. As a consequence, you may observe unexpected behavior. Please pass your input's `attention_mask` to obtain reliable results.\n",
      "Setting `pad_token_id` to `eos_token_id`:None for open-end generation.\n"
     ]
    },
    {
     "name": "stdout",
     "output_type": "stream",
     "text": [
      "Based on the user's requirement, we are dealing with minimizing distance between 40 users, which aligns with the goal of the KM (K-Means) optimization class. This class focuses on 'Distance Reduction' as its main objective.\n",
      "\n",
      "Here's the reasoning behind the choice:\n",
      "\n",
      "1. '40 users' and'minimize distance between them': These keywords imply a clustering problem, where users need to be grouped to minimize the distance among them. KM (K-Means) is a popular clustering algorithm that does exactly that.\n",
      "\n",
      "2. 'Spread exponentially along the X-axis and uniformly along the Y-axis': This additional detail about user distribution doesn't affect the choice of the optimization class, as KM (K-Means) can handle different types of data distributions.\n",
      "\n",
      "3. '2 Huawei NE40 routers and path loss parameters K = 0.005 and alpha = 2': These details are related to wireless networking and path loss modeling, which are not directly related to the choice of the optimization class. However, this information could be used to further refine the wireless network design once the user positions are determined.\n",
      "\n",
      "Therefore, the most suitable optimization class for this problem is: <KM>\n"
     ]
    },
    {
     "name": "stderr",
     "output_type": "stream",
     "text": [
      "The attention mask and the pad token id were not set. As a consequence, you may observe unexpected behavior. Please pass your input's `attention_mask` to obtain reliable results.\n",
      "Setting `pad_token_id` to `eos_token_id`:None for open-end generation.\n"
     ]
    },
    {
     "name": "stdout",
     "output_type": "stream",
     "text": [
      "The problem here is mainly concerned with optimizing the placement of Nokia 7750 routers such that the distance from these routers to the users in the warehouse is minimized. Given the warehouse dimensions, user distribution, and specific path loss parameters, we can utilize an optimization class that aims to reduce distance or minimize cost functions related to connectivity.\n",
      "\n",
      "WKHM (Weighted K-Harmonic Means) is more generally applicable to balancing the load among base stations (in this case, routers) and could address this problem of optimizing router placement. Considering the additional constraints, I'll reason and select the appropriate class for optimization: <WKHM>. \n",
      "\n",
      "Note that a weighted harmonic mean can be a flexible method in scenarios like this and could provide meaningful insights into placement that meets the need of the given scenario.\n"
     ]
    },
    {
     "name": "stderr",
     "output_type": "stream",
     "text": [
      "The attention mask and the pad token id were not set. As a consequence, you may observe unexpected behavior. Please pass your input's `attention_mask` to obtain reliable results.\n",
      "Setting `pad_token_id` to `eos_token_id`:None for open-end generation.\n"
     ]
    },
    {
     "name": "stdout",
     "output_type": "stream",
     "text": [
      "Based on the provided information, it seems like your main goal is to minimize the distance between users and Cisco ASR-900 routers. Given this, we can relate the task to minimizing the distance in a clustering problem. Therefore, we need to use an optimization class that would optimize this parameter.\n",
      "\n",
      "Considering the task,  we can eliminate the following classes based on their primary objectives:\n",
      "- WKHM and KHM are related to power loss and load balancing and are not suitable for our case.\n",
      "- KC is designed to maximize minimum RSRP which is not the case in this scenario.\n",
      "- CKM primarily targets load balancing rather than optimizing distance.\n",
      "\n",
      "The K-Means clustering algorithm appears to be suitable for minimizing the distance between 90 users and 5 Cisco ASR-900 routers. By partitioning the users and routers into 5 clusters, K-Means should help in reducing the total distance between them.\n",
      "\n",
      "< KM >\n"
     ]
    },
    {
     "name": "stderr",
     "output_type": "stream",
     "text": [
      "The attention mask and the pad token id were not set. As a consequence, you may observe unexpected behavior. Please pass your input's `attention_mask` to obtain reliable results.\n",
      "Setting `pad_token_id` to `eos_token_id`:None for open-end generation.\n"
     ]
    },
    {
     "name": "stdout",
     "output_type": "stream",
     "text": [
      "The user request involves distributing 6 routers in a banquet hall to minimize the distance to 120 uniformly spread and exponentially distributed users. To meet this requirement, we need to focus on 'Distance Reduction' as the primary objective.\n",
      "\n",
      "The objective does not involve Load Balancing, Balancing Load and Power Loss Optimization, maximizing Received Signal Reference Power, or power loss optimization. \n",
      "\n",
      "Based on the objective to'minimize the distance between users and routers', I would classify the user request to the class <KM> (K-Means). The 'Distance Reduction' focus fits with K-Means optimization strategy, where we aim to reduce the distance between centroids and data points, here we aim to reduce distance between routers and users.\n"
     ]
    },
    {
     "name": "stderr",
     "output_type": "stream",
     "text": [
      "The attention mask and the pad token id were not set. As a consequence, you may observe unexpected behavior. Please pass your input's `attention_mask` to obtain reliable results.\n",
      "Setting `pad_token_id` to `eos_token_id`:None for open-end generation.\n"
     ]
    },
    {
     "name": "stdout",
     "output_type": "stream",
     "text": [
      "Considering your problem, it seems like you're trying to optimize the placement of routers to cover the house and reduce the distance between users and the nearest router, thus reducing the overall distance. \n",
      "\n",
      "Given the Gaussian distribution of users along the X-axis and uniform distribution along the Y-axis, it indicates a need to handle variable loads and distances of users which may indicate need for load balancing across routers.\n",
      "\n",
      "So, the most suitable optimization class here seems to be'<WKHM> ', as this approach optimizes balancing load across clusters and power loss which also indirectly supports distance reduction as it minimizes loss during transmission.\n",
      "\n",
      "Thus, <WKHM>.\n"
     ]
    },
    {
     "name": "stderr",
     "output_type": "stream",
     "text": [
      "The attention mask and the pad token id were not set. As a consequence, you may observe unexpected behavior. Please pass your input's `attention_mask` to obtain reliable results.\n",
      "Setting `pad_token_id` to `eos_token_id`:None for open-end generation.\n"
     ]
    },
    {
     "name": "stdout",
     "output_type": "stream",
     "text": [
      "Given the office dimensions of 45m x 20m and a height of 5m, we want to minimize the distance between 100 users and 6 Juniper MX240 routers. The objective here is Distance Reduction, specifically minimizing the average or maximum distance between users and routers. This is most suitable for <KM> (K-Means) optimization class. \n",
      "\n",
      "In the K-Means algorithm, the goal is to partition the data points into K clusters by minimizing the sum of squared distances between each data point and its assigned centroid. In this scenario, the centroids can represent the locations of the routers, and the data points represent the user locations. The algorithm will iteratively find the optimal locations of the routers to minimize the average distance between the users and the routers. This aligns with the primary objective of reducing distance in a multi-user, multi-router environment like the given office setup. \n",
      "\n",
      "Therefore, the chosen optimization class is <KM>.\n"
     ]
    },
    {
     "name": "stderr",
     "output_type": "stream",
     "text": [
      "The attention mask and the pad token id were not set. As a consequence, you may observe unexpected behavior. Please pass your input's `attention_mask` to obtain reliable results.\n",
      "Setting `pad_token_id` to `eos_token_id`:None for open-end generation.\n"
     ]
    },
    {
     "name": "stdout",
     "output_type": "stream",
     "text": [
      "Based on your description, it seems that the primary objective is to minimize the distance between the users and the routers to ensure optimal wireless coverage. The uniform distribution of users along the X-axis and bi-exponential distribution along the Y-axis indicates that the signal strength may need to be optimized based on the user density in the warehouse.\n",
      "\n",
      "Considering these factors, the objective aligns most closely with minimizing distance, which is characteristic of the <KM> (K-Means) class.\n",
      "\n",
      "Final Answer: <KM>\n"
     ]
    },
    {
     "name": "stderr",
     "output_type": "stream",
     "text": [
      "The attention mask and the pad token id were not set. As a consequence, you may observe unexpected behavior. Please pass your input's `attention_mask` to obtain reliable results.\n",
      "Setting `pad_token_id` to `eos_token_id`:None for open-end generation.\n"
     ]
    },
    {
     "name": "stdout",
     "output_type": "stream",
     "text": [
      "Based on your description of minimizing the distance between users and routers in a 2D space (60m x 30m), the primary goal is to minimize the average distance between routers and users. This situation aligns closely with the concept of Distance Reduction.\n",
      "\n",
      "Therefore, I recommend that your optimization problem falls under the class:\n",
      "<KM> (K-Means: Distance Reduction)\n",
      "\n",
      "K-Means will effectively cluster the routers close to high concentrations of users and minimize the average distance by iteratively adjusting the position of routers until a certain stopping criterion is met.\n",
      "\n",
      "Keep in mind that this algorithm may not work optimally with highly constrained problem environments or situations where users are very far apart (as the distance metric can be unreliable).\n"
     ]
    },
    {
     "name": "stderr",
     "output_type": "stream",
     "text": [
      "The attention mask and the pad token id were not set. As a consequence, you may observe unexpected behavior. Please pass your input's `attention_mask` to obtain reliable results.\n",
      "Setting `pad_token_id` to `eos_token_id`:None for open-end generation.\n"
     ]
    },
    {
     "name": "stdout",
     "output_type": "stream",
     "text": [
      "Based on your request, you want to optimize the placement of Cisco XR-1234 routers to minimize the average distance between users and the routers, which can be referred to as distance reduction. \n",
      "\n",
      "Considering this objective and the context, I would classify your user request as belonging to the  KM (K-Means) optimization class, which primarily focuses on distance reduction. \n",
      "\n",
      "So the final answer is: <KM>.\n"
     ]
    },
    {
     "name": "stderr",
     "output_type": "stream",
     "text": [
      "The attention mask and the pad token id were not set. As a consequence, you may observe unexpected behavior. Please pass your input's `attention_mask` to obtain reliable results.\n",
      "Setting `pad_token_id` to `eos_token_id`:None for open-end generation.\n"
     ]
    },
    {
     "name": "stdout",
     "output_type": "stream",
     "text": [
      "Based on the information provided, it seems like you're trying to optimize the placement of Huawei NE40 routers to minimize the distance between each user and the nearest router in the 55m x 25m office with a 5m height.\n",
      "\n",
      "Considering the specifics, such as the path loss parameters and the bi-exponential user distribution along the X-axis and exponential along the Y-axis, it would be suitable to apply the K-Means algorithm to optimize the router placement. The objective here is to minimize the distance, which aligns perfectly with the \"Distance Reduction\" objective of the K-Means algorithm (Class KM).\n",
      "\n",
      "<KM>\n"
     ]
    },
    {
     "name": "stderr",
     "output_type": "stream",
     "text": [
      "The attention mask and the pad token id were not set. As a consequence, you may observe unexpected behavior. Please pass your input's `attention_mask` to obtain reliable results.\n",
      "Setting `pad_token_id` to `eos_token_id`:None for open-end generation.\n"
     ]
    },
    {
     "name": "stdout",
     "output_type": "stream",
     "text": [
      "This problem seems to involve minimizing the distance between users and routers (also known as base stations), which is a classic problem in cellular network optimization.\n",
      "\n",
      "Since we want to minimize the distance, this problem falls under the category of optimizing for Distance Reduction. \n",
      "\n",
      "Therefore, the most suitable class for this problem is <KM>.\n"
     ]
    },
    {
     "name": "stderr",
     "output_type": "stream",
     "text": [
      "The attention mask and the pad token id were not set. As a consequence, you may observe unexpected behavior. Please pass your input's `attention_mask` to obtain reliable results.\n",
      "Setting `pad_token_id` to `eos_token_id`:None for open-end generation.\n"
     ]
    },
    {
     "name": "stdout",
     "output_type": "stream",
     "text": [
      "The user request involves optimizing the distance between 50 users in a given room and considering path loss parameters. This suggests that minimizing the distance or power loss is a key consideration. \n",
      "\n",
      "The mention of Gaussian distribution along both axes for the users further implies a need to balance the distance and optimize the placement of routers and users to minimize interference and maximize coverage.\n",
      "\n",
      "The presence of 3 Nokia 7750 routers with a specified transmit power of 22 dBm, which we can convert to Watts as approximately 199.526 milliwatts, further indicates that power loss and balancing load between the routers should be considered.\n",
      "\n",
      "Considering these factors, the optimization goal seems to focus on load balancing and power loss optimization. \n",
      "\n",
      "Hence, the appropriate class is <WKHM>. The Weighted K-Harmonic Means algorithm takes into account load and power loss while considering an optimal placement strategy that maximizes efficiency, which seems to align with the scenario described.\n"
     ]
    }
   ],
   "source": [
    "for i in range(3):\n",
    "    for j in range(40):\n",
    "        request=Distance_OP T[str(i)][j]\n",
    "        message=[system,\n",
    "            {\"role\":\"user\",\"content\":request}]\n",
    "        input_ids = tokenizer.apply_chat_template(message, return_tensors=\"pt\",padding=True, truncation=True,).to(llama_model.device)\n",
    "    \n",
    "        with torch.no_grad():\n",
    "            output = llama_model.generate(input_ids, max_length=input_ids.shape[1]+500, num_return_sequences=1, temperature=1.25);\n",
    "    \n",
    "        modified_prompt = tokenizer.decode(output[0], skip_special_tokens=True)\n",
    "        print(modified_prompt.split(\"^\")[-1].strip())\n",
    "        "
   ]
  },
  {
   "cell_type": "code",
   "execution_count": null,
   "metadata": {
    "trusted": true
   },
   "outputs": [],
   "source": []
  }
 ],
 "metadata": {
  "kaggle": {
   "accelerator": "nvidiaTeslaT4",
   "dataSources": [
    {
     "datasetId": 5925863,
     "sourceId": 9692562,
     "sourceType": "datasetVersion"
    }
   ],
   "dockerImageVersionId": 30787,
   "isGpuEnabled": true,
   "isInternetEnabled": true,
   "language": "python",
   "sourceType": "notebook"
  },
  "kernelspec": {
   "display_name": "Python 3",
   "language": "python",
   "name": "python3"
  },
  "language_info": {
   "codemirror_mode": {
    "name": "ipython",
    "version": 3
   },
   "file_extension": ".py",
   "mimetype": "text/x-python",
   "name": "python",
   "nbconvert_exporter": "python",
   "pygments_lexer": "ipython3",
   "version": "3.10.14"
  }
 },
 "nbformat": 4,
 "nbformat_minor": 4
}
